{
 "cells": [
  {
   "cell_type": "markdown",
   "source": "## Importing Data and Libraries",
   "metadata": {
    "tags": [],
    "is_collapsed": false,
    "cell_id": "00001-0418e4c4-1ea2-43be-a3ee-f6cce7b74c54",
    "deepnote_cell_type": "text-cell-h2"
   }
  },
  {
   "cell_type": "code",
   "metadata": {
    "tags": [],
    "cell_id": "00000-45275e5f-6709-4998-b966-48a56e3736af",
    "deepnote_to_be_reexecuted": false,
    "source_hash": "6d35b73d",
    "execution_start": 1627680807964,
    "execution_millis": 1263,
    "deepnote_cell_type": "code"
   },
   "source": "import numpy as np\nimport pandas as pd\nimport seaborn as sns\nimport plotly.express as px\nimport matplotlib.pyplot as plt\n\n\nfrom pandas import DataFrame, Series\nfrom scipy import stats\n\nsns.set_style(style='darkgrid')\n%matplotlib inline\n\n## Importing libraries.\n## Setting seaborn theme.",
   "execution_count": 1,
   "outputs": []
  },
  {
   "cell_type": "code",
   "metadata": {
    "tags": [],
    "cell_id": "00001-427db178-f037-4966-9844-1743f5fcb7f6",
    "deepnote_to_be_reexecuted": false,
    "source_hash": "1b1e4ab6",
    "execution_start": 1627680809239,
    "execution_millis": 3047,
    "is_output_hidden": false,
    "deepnote_cell_type": "code"
   },
   "source": "spec_cols = [9,10,11,12,15,16,18]\n\n## Specify desired columns.\n\nufc_fights = pd.read_excel('ufc_fights.xlsx',usecols = spec_cols).dropna(axis = 'index',how = 'any')\n\n## Reading spreadsheet containing list of all fights.\n\nufc_fights = ufc_fights[ufc_fights.method != 'Draw']\nufc_fights = ufc_fights[ufc_fights.f1result != 'NC']\n\n## Removing rows for fights ending in draw/no contest.\n\nufc_fights",
   "execution_count": 2,
   "outputs": [
    {
     "output_type": "execute_result",
     "execution_count": 2,
     "data": {
      "application/vnd.deepnote.dataframe.v2+json": {
       "row_count": 3503,
       "column_count": 7,
       "columns": [
        {
         "name": "f1name",
         "dtype": "object",
         "stats": {
          "unique_count": 971,
          "nan_count": 0,
          "categories": [
           {
            "name": "Georges St. Pierre",
            "count": 19
           },
           {
            "name": "Matt Hughes",
            "count": 18
           },
           {
            "name": "969 others",
            "count": 3466
           }
          ]
         }
        },
        {
         "name": "f2name",
         "dtype": "object",
         "stats": {
          "unique_count": 1403,
          "nan_count": 0,
          "categories": [
           {
            "name": "Tito Ortiz",
            "count": 11
           },
           {
            "name": "Sam Stout",
            "count": 11
           },
           {
            "name": "1401 others",
            "count": 3481
           }
          ]
         }
        },
        {
         "name": "f1result",
         "dtype": "object",
         "stats": {
          "unique_count": 1,
          "nan_count": 0,
          "categories": [
           {
            "name": "win",
            "count": 3503
           }
          ]
         }
        },
        {
         "name": "f2result",
         "dtype": "object",
         "stats": {
          "unique_count": 1,
          "nan_count": 0,
          "categories": [
           {
            "name": "loss",
            "count": 3503
           }
          ]
         }
        },
        {
         "name": "method",
         "dtype": "object",
         "stats": {
          "unique_count": 6,
          "nan_count": 0,
          "categories": [
           {
            "name": "Decision",
            "count": 1466
           },
           {
            "name": "TKO",
            "count": 777
           },
           {
            "name": "4 others",
            "count": 1260
           }
          ]
         }
        },
        {
         "name": "method_d",
         "dtype": "object",
         "stats": {
          "unique_count": 156,
          "nan_count": 0,
          "categories": [
           {
            "name": "Unanimous",
            "count": 1140
           },
           {
            "name": "Punches",
            "count": 699
           },
           {
            "name": "154 others",
            "count": 1664
           }
          ]
         }
        },
        {
         "name": "round",
         "dtype": "int64",
         "stats": {
          "unique_count": 5,
          "nan_count": 0,
          "min": "1",
          "max": "5",
          "histogram": [
           {
            "bin_start": 1,
            "bin_end": 1.4,
            "count": 1202
           },
           {
            "bin_start": 1.4,
            "bin_end": 1.8,
            "count": 0
           },
           {
            "bin_start": 1.8,
            "bin_end": 2.2,
            "count": 568
           },
           {
            "bin_start": 2.2,
            "bin_end": 2.6,
            "count": 0
           },
           {
            "bin_start": 2.6,
            "bin_end": 3,
            "count": 0
           },
           {
            "bin_start": 3,
            "bin_end": 3.4000000000000004,
            "count": 1618
           },
           {
            "bin_start": 3.4000000000000004,
            "bin_end": 3.8000000000000003,
            "count": 0
           },
           {
            "bin_start": 3.8000000000000003,
            "bin_end": 4.2,
            "count": 21
           },
           {
            "bin_start": 4.2,
            "bin_end": 4.6,
            "count": 0
           },
           {
            "bin_start": 4.6,
            "bin_end": 5,
            "count": 94
           }
          ]
         }
        },
        {
         "name": "_deepnote_index_column",
         "dtype": "int64"
        }
       ],
       "rows_top": [
        {
         "f1name": "Royce Gracie",
         "f2name": "Gerard Gordeau",
         "f1result": "win",
         "f2result": "loss",
         "method": "Submission",
         "method_d": "Rear-Naked Choke",
         "round": 1,
         "_deepnote_index_column": 0
        },
        {
         "f1name": "Jason DeLucia",
         "f2name": "Trent Jenkins",
         "f1result": "win",
         "f2result": "loss",
         "method": "Submission",
         "method_d": "Rear-Naked Choke",
         "round": 1,
         "_deepnote_index_column": 1
        },
        {
         "f1name": "Royce Gracie",
         "f2name": "Ken Shamrock",
         "f1result": "win",
         "f2result": "loss",
         "method": "Submission",
         "method_d": "Rear-Naked Choke",
         "round": 1,
         "_deepnote_index_column": 2
        },
        {
         "f1name": "Gerard Gordeau",
         "f2name": "Kevin Rosier",
         "f1result": "win",
         "f2result": "loss",
         "method": "TKO",
         "method_d": "Corner Stoppage",
         "round": 1,
         "_deepnote_index_column": 3
        },
        {
         "f1name": "Ken Shamrock",
         "f2name": "Patrick Smith",
         "f1result": "win",
         "f2result": "loss",
         "method": "Submission",
         "method_d": "Heel Hook",
         "round": 1,
         "_deepnote_index_column": 4
        },
        {
         "f1name": "Royce Gracie",
         "f2name": "Art Jimmerson",
         "f1result": "win",
         "f2result": "loss",
         "method": "Submission",
         "method_d": "Smother Choke",
         "round": 1,
         "_deepnote_index_column": 5
        },
        {
         "f1name": "Kevin Rosier",
         "f2name": "Zane Frazier",
         "f1result": "win",
         "f2result": "loss",
         "method": "TKO",
         "method_d": "Punches",
         "round": 1,
         "_deepnote_index_column": 6
        },
        {
         "f1name": "Gerard Gordeau",
         "f2name": "Teila Tuli",
         "f1result": "win",
         "f2result": "loss",
         "method": "TKO",
         "method_d": "Head Kick",
         "round": 1,
         "_deepnote_index_column": 7
        },
        {
         "f1name": "Royce Gracie",
         "f2name": "Patrick Smith",
         "f1result": "win",
         "f2result": "loss",
         "method": "Submission",
         "method_d": "Punches",
         "round": 1,
         "_deepnote_index_column": 8
        },
        {
         "f1name": "Royce Gracie",
         "f2name": "Remco Pardoel",
         "f1result": "win",
         "f2result": "loss",
         "method": "Submission",
         "method_d": "Lapel Choke",
         "round": 1,
         "_deepnote_index_column": 9
        },
        {
         "f1name": "Patrick Smith",
         "f2name": "Johnny Rhodes",
         "f1result": "win",
         "f2result": "loss",
         "method": "Submission",
         "method_d": "Guillotine Choke",
         "round": 1,
         "_deepnote_index_column": 10
        },
        {
         "f1name": "Royce Gracie",
         "f2name": "Jason DeLucia",
         "f1result": "win",
         "f2result": "loss",
         "method": "Submission",
         "method_d": "Armlock",
         "round": 1,
         "_deepnote_index_column": 11
        },
        {
         "f1name": "Remco Pardoel",
         "f2name": "Orlando Wiet",
         "f1result": "win",
         "f2result": "loss",
         "method": "KO",
         "method_d": "Elbows",
         "round": 1,
         "_deepnote_index_column": 12
        },
        {
         "f1name": "Johnny Rhodes",
         "f2name": "Fred Ettish",
         "f1result": "win",
         "f2result": "loss",
         "method": "Submission",
         "method_d": "Rear-Naked Choke",
         "round": 1,
         "_deepnote_index_column": 13
        },
        {
         "f1name": "Patrick Smith",
         "f2name": "Scott Morris",
         "f1result": "win",
         "f2result": "loss",
         "method": "KO",
         "method_d": "Elbows",
         "round": 1,
         "_deepnote_index_column": 14
        },
        {
         "f1name": "Royce Gracie",
         "f2name": "Minoki Ichihara",
         "f1result": "win",
         "f2result": "loss",
         "method": "Submission",
         "method_d": "Lapel Choke",
         "round": 1,
         "_deepnote_index_column": 15
        },
        {
         "f1name": "Jason DeLucia",
         "f2name": "Scott Baker",
         "f1result": "win",
         "f2result": "loss",
         "method": "Submission",
         "method_d": "Punches",
         "round": 1,
         "_deepnote_index_column": 16
        },
        {
         "f1name": "Remco Pardoel",
         "f2name": "Alberto Cerra Leon",
         "f1result": "win",
         "f2result": "loss",
         "method": "Submission",
         "method_d": "Armlock",
         "round": 1,
         "_deepnote_index_column": 17
        },
        {
         "f1name": "Orlando Wiet",
         "f2name": "Robert Lucarelli",
         "f1result": "win",
         "f2result": "loss",
         "method": "TKO",
         "method_d": "Knees",
         "round": 1,
         "_deepnote_index_column": 18
        },
        {
         "f1name": "Frank Hamaker",
         "f2name": "Thaddeus Luster",
         "f1result": "win",
         "f2result": "loss",
         "method": "TKO",
         "method_d": "Corner Stoppage",
         "round": 1,
         "_deepnote_index_column": 19
        },
        {
         "f1name": "Johnny Rhodes",
         "f2name": "David Levicki",
         "f1result": "win",
         "f2result": "loss",
         "method": "Submission",
         "method_d": "Punches",
         "round": 1,
         "_deepnote_index_column": 20
        },
        {
         "f1name": "Patrick Smith",
         "f2name": "Ray Wizard",
         "f1result": "win",
         "f2result": "loss",
         "method": "Submission",
         "method_d": "Guillotine Choke",
         "round": 1,
         "_deepnote_index_column": 21
        },
        {
         "f1name": "Scott Morris",
         "f2name": "Sean Daugherty",
         "f1result": "win",
         "f2result": "loss",
         "method": "Submission",
         "method_d": "Guillotine Choke",
         "round": 1,
         "_deepnote_index_column": 22
        },
        {
         "f1name": "Steve Jennum",
         "f2name": "Harold Howard",
         "f1result": "win",
         "f2result": "loss",
         "method": "Submission",
         "method_d": "Punches",
         "round": 1,
         "_deepnote_index_column": 23
        },
        {
         "f1name": "Ken Shamrock",
         "f2name": "Felix Mitchell",
         "f1result": "win",
         "f2result": "loss",
         "method": "Submission",
         "method_d": "Rear-Naked Choke",
         "round": 1,
         "_deepnote_index_column": 24
        },
        {
         "f1name": "Royce Gracie",
         "f2name": "Kimo Leopoldo",
         "f1result": "win",
         "f2result": "loss",
         "method": "Submission",
         "method_d": "Armlock",
         "round": 1,
         "_deepnote_index_column": 25
        },
        {
         "f1name": "Harold Howard",
         "f2name": "Roland Payne",
         "f1result": "win",
         "f2result": "loss",
         "method": "KO",
         "method_d": "Punch",
         "round": 1,
         "_deepnote_index_column": 26
        },
        {
         "f1name": "Ken Shamrock",
         "f2name": "Christophe Leninger",
         "f1result": "win",
         "f2result": "loss",
         "method": "Submission",
         "method_d": "Punches",
         "round": 1,
         "_deepnote_index_column": 27
        },
        {
         "f1name": "Keith Hackney",
         "f2name": "Emmanuel Yarborough",
         "f1result": "win",
         "f2result": "loss",
         "method": "TKO",
         "method_d": "Punches",
         "round": 1,
         "_deepnote_index_column": 28
        },
        {
         "f1name": "Royce Gracie",
         "f2name": "Dan Severn",
         "f1result": "win",
         "f2result": "loss",
         "method": "Submission",
         "method_d": "Triangle Choke",
         "round": 1,
         "_deepnote_index_column": 29
        },
        {
         "f1name": "Guy Mezger",
         "f2name": "Jason Fairn",
         "f1result": "win",
         "f2result": "loss",
         "method": "TKO",
         "method_d": "Corner Stoppage",
         "round": 1,
         "_deepnote_index_column": 30
        },
        {
         "f1name": "Dan Severn",
         "f2name": "Marcus Bossett",
         "f1result": "win",
         "f2result": "loss",
         "method": "Submission",
         "method_d": "Rear Naked Choke",
         "round": 1,
         "_deepnote_index_column": 31
        },
        {
         "f1name": "Royce Gracie",
         "f2name": "Keith Hackney",
         "f1result": "win",
         "f2result": "loss",
         "method": "Submission",
         "method_d": "Armlock",
         "round": 1,
         "_deepnote_index_column": 32
        },
        {
         "f1name": "Dan Severn",
         "f2name": "Anthony Macias",
         "f1result": "win",
         "f2result": "loss",
         "method": "Submission",
         "method_d": "Rear Naked Choke",
         "round": 1,
         "_deepnote_index_column": 33
        },
        {
         "f1name": "Steve Jennum",
         "f2name": "Melton Bowen",
         "f1result": "win",
         "f2result": "loss",
         "method": "Submission",
         "method_d": "Armlock",
         "round": 1,
         "_deepnote_index_column": 34
        },
        {
         "f1name": "Keith Hackney",
         "f2name": "Joe Son",
         "f1result": "win",
         "f2result": "loss",
         "method": "Submission",
         "method_d": "Choke",
         "round": 1,
         "_deepnote_index_column": 35
        },
        {
         "f1name": "Royce Gracie",
         "f2name": "Ron van Clief",
         "f1result": "win",
         "f2result": "loss",
         "method": "Submission",
         "method_d": "Rear Naked Choke",
         "round": 1,
         "_deepnote_index_column": 36
        },
        {
         "f1name": "Joe Charles",
         "f2name": "Kevin Rosier",
         "f1result": "win",
         "f2result": "loss",
         "method": "Submission",
         "method_d": "Armbar",
         "round": 1,
         "_deepnote_index_column": 38
        },
        {
         "f1name": "Dan Severn",
         "f2name": "Dave Beneteau",
         "f1result": "win",
         "f2result": "loss",
         "method": "Submission",
         "method_d": "Keylock",
         "round": 1,
         "_deepnote_index_column": 39
        },
        {
         "f1name": "Dan Severn",
         "f2name": "Oleg Taktarov",
         "f1result": "win",
         "f2result": "loss",
         "method": "TKO",
         "method_d": "Cut",
         "round": 1,
         "_deepnote_index_column": 41
        },
        {
         "f1name": "Dave Beneteau",
         "f2name": "Todd Medina",
         "f1result": "win",
         "f2result": "loss",
         "method": "TKO",
         "method_d": "Punches",
         "round": 1,
         "_deepnote_index_column": 42
        },
        {
         "f1name": "Dan Severn",
         "f2name": "Joe Charles",
         "f1result": "win",
         "f2result": "loss",
         "method": "Submission",
         "method_d": "Rear-Naked Choke",
         "round": 1,
         "_deepnote_index_column": 43
        },
        {
         "f1name": "Oleg Taktarov",
         "f2name": "Ernie Verdicia",
         "f1result": "win",
         "f2result": "loss",
         "method": "Submission",
         "method_d": "Choke",
         "round": 1,
         "_deepnote_index_column": 44
        },
        {
         "f1name": "Todd Medina",
         "f2name": "Larry Cureton",
         "f1result": "win",
         "f2result": "loss",
         "method": "TKO",
         "method_d": "Punches",
         "round": 1,
         "_deepnote_index_column": 45
        },
        {
         "f1name": "Jon Hess",
         "f2name": "Andy Anderson",
         "f1result": "win",
         "f2result": "loss",
         "method": "TKO",
         "method_d": "Punches",
         "round": 1,
         "_deepnote_index_column": 46
        },
        {
         "f1name": "Guy Mezger",
         "f2name": "John Dowdy",
         "f1result": "win",
         "f2result": "loss",
         "method": "TKO",
         "method_d": "Punches",
         "round": 1,
         "_deepnote_index_column": 47
        },
        {
         "f1name": "Dave Beneteau",
         "f2name": "Asbel Cancio",
         "f1result": "win",
         "f2result": "loss",
         "method": "TKO",
         "method_d": "Punches",
         "round": 1,
         "_deepnote_index_column": 48
        },
        {
         "f1name": "Oleg Taktarov",
         "f2name": "David Abbott",
         "f1result": "win",
         "f2result": "loss",
         "method": "Submission",
         "method_d": "Rear-Naked Choke",
         "round": 1,
         "_deepnote_index_column": 49
        },
        {
         "f1name": "Ken Shamrock",
         "f2name": "Dan Severn",
         "f1result": "win",
         "f2result": "loss",
         "method": "Submission",
         "method_d": "Guillotine Choke",
         "round": 1,
         "_deepnote_index_column": 50
        },
        {
         "f1name": "Oleg Taktarov",
         "f2name": "Anthony Macias",
         "f1result": "win",
         "f2result": "loss",
         "method": "Submission",
         "method_d": "Guillotine Choke",
         "round": 1,
         "_deepnote_index_column": 51
        },
        {
         "f1name": "David Abbott",
         "f2name": "Paul Varelans",
         "f1result": "win",
         "f2result": "loss",
         "method": "TKO",
         "method_d": "Punches",
         "round": 1,
         "_deepnote_index_column": 52
        },
        {
         "f1name": "Oleg Taktarov",
         "f2name": "Dave Beneteau",
         "f1result": "win",
         "f2result": "loss",
         "method": "Submission",
         "method_d": "Front Choke",
         "round": 1,
         "_deepnote_index_column": 53
        },
        {
         "f1name": "Patrick Smith",
         "f2name": "Rudyard Moncayo",
         "f1result": "win",
         "f2result": "loss",
         "method": "Submission",
         "method_d": "Rear-Naked Choke",
         "round": 1,
         "_deepnote_index_column": 54
        },
        {
         "f1name": "Paul Varelans",
         "f2name": "Cal Worsham",
         "f1result": "win",
         "f2result": "loss",
         "method": "KO",
         "method_d": "Elbow",
         "round": 1,
         "_deepnote_index_column": 55
        },
        {
         "f1name": "David Abbott",
         "f2name": "John Matua",
         "f1result": "win",
         "f2result": "loss",
         "method": "KO",
         "method_d": "Punch",
         "round": 1,
         "_deepnote_index_column": 56
        },
        {
         "f1name": "Anthony Macias",
         "f2name": "He-Man Ali Gipson",
         "f1result": "win",
         "f2result": "loss",
         "method": "Submission",
         "method_d": "Punches",
         "round": 1,
         "_deepnote_index_column": 57
        },
        {
         "f1name": "Joel Sutton",
         "f2name": "Jack McLaughlin",
         "f1result": "win",
         "f2result": "loss",
         "method": "Submission",
         "method_d": "Punches",
         "round": 1,
         "_deepnote_index_column": 58
        },
        {
         "f1name": "Marco Ruas",
         "f2name": "Paul Varelans",
         "f1result": "win",
         "f2result": "loss",
         "method": "TKO",
         "method_d": "Strikes",
         "round": 1,
         "_deepnote_index_column": 59
        },
        {
         "f1name": "Marco Ruas",
         "f2name": "Remco Pardoel",
         "f1result": "win",
         "f2result": "loss",
         "method": "Submission",
         "method_d": "Position",
         "round": 1,
         "_deepnote_index_column": 61
        },
        {
         "f1name": "Paul Varelans",
         "f2name": "Mark Hall",
         "f1result": "win",
         "f2result": "loss",
         "method": "Submission",
         "method_d": "Keylock",
         "round": 1,
         "_deepnote_index_column": 62
        },
        {
         "f1name": "Marco Ruas",
         "f2name": "Larry Cureton",
         "f1result": "win",
         "f2result": "loss",
         "method": "Submission",
         "method_d": "Heel Hook",
         "round": 1,
         "_deepnote_index_column": 63
        },
        {
         "f1name": "Remco Pardoel",
         "f2name": "Ryan Parker",
         "f1result": "win",
         "f2result": "loss",
         "method": "Submission",
         "method_d": "Lapel Choke",
         "round": 1,
         "_deepnote_index_column": 64
        },
        {
         "f1name": "Mark Hall",
         "f2name": "Harold Howard",
         "f1result": "win",
         "f2result": "loss",
         "method": "Submission",
         "method_d": "Strikes",
         "round": 1,
         "_deepnote_index_column": 65
        },
        {
         "f1name": "Paul Varelans",
         "f2name": "Gerry Harris",
         "f1result": "win",
         "f2result": "loss",
         "method": "Submission",
         "method_d": "Elbows",
         "round": 1,
         "_deepnote_index_column": 66
        },
        {
         "f1name": "Scott Bessac",
         "f2name": "David Hood",
         "f1result": "win",
         "f2result": "loss",
         "method": "Submission",
         "method_d": "Guillotine Choke",
         "round": 1,
         "_deepnote_index_column": 67
        },
        {
         "f1name": "Onassis Parungao",
         "f2name": "Francesco Maturi",
         "f1result": "win",
         "f2result": "loss",
         "method": "Submission",
         "method_d": "Strikes",
         "round": 1,
         "_deepnote_index_column": 68
        },
        {
         "f1name": "Joel Sutton",
         "f2name": "Geza Kalman",
         "f1result": "win",
         "f2result": "loss",
         "method": "TKO",
         "method_d": "Cut",
         "round": 1,
         "_deepnote_index_column": 69
        },
        {
         "f1name": "Don Frye",
         "f2name": "Gary Goodridge",
         "f1result": "win",
         "f2result": "loss",
         "method": "Submission",
         "method_d": "Position",
         "round": 1,
         "_deepnote_index_column": 70
        },
        {
         "f1name": "Ken Shamrock",
         "f2name": "Kimo Leopoldo",
         "f1result": "win",
         "f2result": "loss",
         "method": "Submission",
         "method_d": "Kneebar",
         "round": 1,
         "_deepnote_index_column": 71
        },
        {
         "f1name": "Gary Goodridge",
         "f2name": "Jerry Bohlander",
         "f1result": "win",
         "f2result": "loss",
         "method": "TKO",
         "method_d": "Punches",
         "round": 1,
         "_deepnote_index_column": 72
        },
        {
         "f1name": "Don Frye",
         "f2name": "Sam Adkins",
         "f1result": "win",
         "f2result": "loss",
         "method": "TKO",
         "method_d": "Doctor Stoppage",
         "round": 1,
         "_deepnote_index_column": 73
        }
       ],
       "rows_bottom": [
        {
         "f1name": "Karolina Kowalkiewicz",
         "f2name": "Randa Markos",
         "f1result": "win",
         "f2result": "loss",
         "method": "Decision",
         "method_d": "Unanimous",
         "round": 3,
         "_deepnote_index_column": 3496
        },
        {
         "f1name": "Charles Oliveira",
         "f2name": "Myles Jury",
         "f1result": "win",
         "f2result": "loss",
         "method": "Submission",
         "method_d": "Guillotine Choke",
         "round": 1,
         "_deepnote_index_column": 3497
        },
        {
         "f1name": "Nate Marquardt",
         "f2name": "C.B. Dollaway",
         "f1result": "win",
         "f2result": "loss",
         "method": "KO",
         "method_d": "Punch",
         "round": 2,
         "_deepnote_index_column": 3498
        },
        {
         "f1name": "Valentina Shevchenko",
         "f2name": "Sarah Kaufman",
         "f1result": "win",
         "f2result": "loss",
         "method": "Decision",
         "method_d": "Split",
         "round": 3,
         "_deepnote_index_column": 3499
        },
        {
         "f1name": "Tamdan McCrory",
         "f2name": "Josh Samman",
         "f1result": "win",
         "f2result": "loss",
         "method": "Submission",
         "method_d": "Triangle Choke",
         "round": 3,
         "_deepnote_index_column": 3500
        },
        {
         "f1name": "Nik Lentz",
         "f2name": "Danny Castillo",
         "f1result": "win",
         "f2result": "loss",
         "method": "Decision",
         "method_d": "Split",
         "round": 3,
         "_deepnote_index_column": 3501
        },
        {
         "f1name": "Kamaru Usman",
         "f2name": "Leon Edwards",
         "f1result": "win",
         "f2result": "loss",
         "method": "Decision",
         "method_d": "Unanimous",
         "round": 3,
         "_deepnote_index_column": 3503
        },
        {
         "f1name": "Vicente Luque",
         "f2name": "Hayder Hassan",
         "f1result": "win",
         "f2result": "loss",
         "method": "Technical",
         "method_d": "Submission (Anaconda Choke",
         "round": 1,
         "_deepnote_index_column": 3504
        },
        {
         "f1name": "Francis Ngannou",
         "f2name": "Luis Henrique Barbosa de Oliveira",
         "f1result": "win",
         "f2result": "loss",
         "method": "KO",
         "method_d": "Punch",
         "round": 2,
         "_deepnote_index_column": 3505
        },
        {
         "f1name": "Robbie Lawler",
         "f2name": "Carlos Condit",
         "f1result": "win",
         "f2result": "loss",
         "method": "Decision",
         "method_d": "Split",
         "round": 5,
         "_deepnote_index_column": 3506
        },
        {
         "f1name": "Stipe Miocic",
         "f2name": "Andrei Arlovski",
         "f1result": "win",
         "f2result": "loss",
         "method": "TKO",
         "method_d": "Punches",
         "round": 1,
         "_deepnote_index_column": 3507
        },
        {
         "f1name": "Albert Tumenov",
         "f2name": "Lorenz Larkin",
         "f1result": "win",
         "f2result": "loss",
         "method": "Decision",
         "method_d": "Split",
         "round": 3,
         "_deepnote_index_column": 3508
        },
        {
         "f1name": "Brian Ortega",
         "f2name": "Diego Brandao",
         "f1result": "win",
         "f2result": "loss",
         "method": "Submission",
         "method_d": "Triangle Choke",
         "round": 3,
         "_deepnote_index_column": 3509
        },
        {
         "f1name": "Abel Trujillo",
         "f2name": "Tony Sims",
         "f1result": "win",
         "f2result": "loss",
         "method": "Submission",
         "method_d": "Guillotine Choke",
         "round": 1,
         "_deepnote_index_column": 3510
        },
        {
         "f1name": "Michael McDonald",
         "f2name": "Masanori Kanehara",
         "f1result": "win",
         "f2result": "loss",
         "method": "Submission",
         "method_d": "Rear-Naked Choke",
         "round": 2,
         "_deepnote_index_column": 3511
        },
        {
         "f1name": "Alex Morono",
         "f2name": "Kyle Noke",
         "f1result": "win",
         "f2result": "loss",
         "method": "Decision",
         "method_d": "Split",
         "round": 3,
         "_deepnote_index_column": 3512
        },
        {
         "f1name": "Justine Kish",
         "f2name": "Nina Ansaroff",
         "f1result": "win",
         "f2result": "loss",
         "method": "Decision",
         "method_d": "Unanimous",
         "round": 3,
         "_deepnote_index_column": 3513
        },
        {
         "f1name": "Drew Dober",
         "f2name": "Scott Holtzman",
         "f1result": "win",
         "f2result": "loss",
         "method": "Decision",
         "method_d": "Unanimous",
         "round": 3,
         "_deepnote_index_column": 3514
        },
        {
         "f1name": "Dustin Poirier",
         "f2name": "Joseph Duffy",
         "f1result": "win",
         "f2result": "loss",
         "method": "Decision",
         "method_d": "Unanimous",
         "round": 3,
         "_deepnote_index_column": 3515
        },
        {
         "f1name": "Michinori Tanaka",
         "f2name": "Joe Soto",
         "f1result": "win",
         "f2result": "loss",
         "method": "Decision",
         "method_d": "Split",
         "round": 3,
         "_deepnote_index_column": 3516
        },
        {
         "f1name": "Sheldon Westcott",
         "f2name": "Edgar Garcia",
         "f1result": "win",
         "f2result": "loss",
         "method": "TKO",
         "method_d": "Punches",
         "round": 1,
         "_deepnote_index_column": 3517
        },
        {
         "f1name": "Dominick Cruz",
         "f2name": "T.J. Dillashaw",
         "f1result": "win",
         "f2result": "loss",
         "method": "Decision",
         "method_d": "Split",
         "round": 5,
         "_deepnote_index_column": 3518
        },
        {
         "f1name": "Eddie Alvarez",
         "f2name": "Anthony Pettis",
         "f1result": "win",
         "f2result": "loss",
         "method": "Decision",
         "method_d": "Split",
         "round": 3,
         "_deepnote_index_column": 3519
        },
        {
         "f1name": "Travis Browne",
         "f2name": "Matt Mitrione",
         "f1result": "win",
         "f2result": "loss",
         "method": "TKO",
         "method_d": "Punches",
         "round": 3,
         "_deepnote_index_column": 3520
        },
        {
         "f1name": "Francisco Trinaldo",
         "f2name": "Ross Pearson",
         "f1result": "win",
         "f2result": "loss",
         "method": "Decision",
         "method_d": "Unanimous",
         "round": 3,
         "_deepnote_index_column": 3521
        },
        {
         "f1name": "Patrick Cote",
         "f2name": "Ben Saunders",
         "f1result": "win",
         "f2result": "loss",
         "method": "TKO",
         "method_d": "Punches",
         "round": 2,
         "_deepnote_index_column": 3522
        },
        {
         "f1name": "Ed Herman",
         "f2name": "Tim Boetsch",
         "f1result": "win",
         "f2result": "loss",
         "method": "KO",
         "method_d": "Knee",
         "round": 2,
         "_deepnote_index_column": 3523
        },
        {
         "f1name": "Chris Wade",
         "f2name": "Mehdi Baghdad",
         "f1result": "win",
         "f2result": "loss",
         "method": "Submission",
         "method_d": "Rear-Naked Choke",
         "round": 1,
         "_deepnote_index_column": 3524
        },
        {
         "f1name": "Luke Sanders",
         "f2name": "Maximo Blanco",
         "f1result": "win",
         "f2result": "loss",
         "method": "Submission",
         "method_d": "Rear-Naked Choke",
         "round": 1,
         "_deepnote_index_column": 3525
        },
        {
         "f1name": "Paul Felder",
         "f2name": "Daron Cruickshank",
         "f1result": "win",
         "f2result": "loss",
         "method": "Submission",
         "method_d": "Rear-Naked Choke",
         "round": 3,
         "_deepnote_index_column": 3526
        },
        {
         "f1name": "Ilir Latifi",
         "f2name": "Sean O'Connell",
         "f1result": "win",
         "f2result": "loss",
         "method": "TKO",
         "method_d": "Punches",
         "round": 1,
         "_deepnote_index_column": 3527
        },
        {
         "f1name": "Charles Rosa",
         "f2name": "Kyle Bochniak",
         "f1result": "win",
         "f2result": "loss",
         "method": "Decision",
         "method_d": "Unanimous",
         "round": 3,
         "_deepnote_index_column": 3528
        },
        {
         "f1name": "Rob Font",
         "f2name": "Joey Gomez",
         "f1result": "win",
         "f2result": "loss",
         "method": "TKO",
         "method_d": "Punches",
         "round": 2,
         "_deepnote_index_column": 3529
        },
        {
         "f1name": "Francimar Barroso",
         "f2name": "Elvis Mutapcic",
         "f1result": "win",
         "f2result": "loss",
         "method": "Decision",
         "method_d": "Unanimous",
         "round": 3,
         "_deepnote_index_column": 3530
        },
        {
         "f1name": "Anthony Johnson",
         "f2name": "Ryan Bader",
         "f1result": "win",
         "f2result": "loss",
         "method": "KO",
         "method_d": "Punches",
         "round": 1,
         "_deepnote_index_column": 3531
        },
        {
         "f1name": "Ben Rothwell",
         "f2name": "Josh Barnett",
         "f1result": "win",
         "f2result": "loss",
         "method": "Submission",
         "method_d": "Guillotine Choke",
         "round": 2,
         "_deepnote_index_column": 3532
        },
        {
         "f1name": "Jimmie Rivera",
         "f2name": "Iuri Alcantara",
         "f1result": "win",
         "f2result": "loss",
         "method": "Decision",
         "method_d": "Unanimous",
         "round": 3,
         "_deepnote_index_column": 3533
        },
        {
         "f1name": "Bryan Barberena",
         "f2name": "Sage Northcutt",
         "f1result": "win",
         "f2result": "loss",
         "method": "Submission",
         "method_d": "Arm-Triangle Choke",
         "round": 2,
         "_deepnote_index_column": 3534
        },
        {
         "f1name": "Tarec Saffiedine",
         "f2name": "Jake Ellenberger",
         "f1result": "win",
         "f2result": "loss",
         "method": "Decision",
         "method_d": "Unanimous",
         "round": 3,
         "_deepnote_index_column": 3535
        },
        {
         "f1name": "Carlos Diego Ferreira",
         "f2name": "Olivier Aubin-Mercier",
         "f1result": "win",
         "f2result": "loss",
         "method": "Decision",
         "method_d": "Unanimous",
         "round": 3,
         "_deepnote_index_column": 3536
        },
        {
         "f1name": "Rafael Natal",
         "f2name": "Kevin Casey",
         "f1result": "win",
         "f2result": "loss",
         "method": "TKO",
         "method_d": "Punches",
         "round": 3,
         "_deepnote_index_column": 3537
        },
        {
         "f1name": "Wilson Reis",
         "f2name": "Dustin Ortiz",
         "f1result": "win",
         "f2result": "loss",
         "method": "Decision",
         "method_d": "Unanimous",
         "round": 3,
         "_deepnote_index_column": 3538
        },
        {
         "f1name": "Alexander Yakovlev",
         "f2name": "George Sullivan",
         "f1result": "win",
         "f2result": "loss",
         "method": "KO",
         "method_d": "Punch",
         "round": 1,
         "_deepnote_index_column": 3539
        },
        {
         "f1name": "Alex Caceres",
         "f2name": "Masio Fullen",
         "f1result": "win",
         "f2result": "loss",
         "method": "Decision",
         "method_d": "Unanimous",
         "round": 3,
         "_deepnote_index_column": 3540
        },
        {
         "f1name": "Randy Brown",
         "f2name": "Matt Dwyer",
         "f1result": "win",
         "f2result": "loss",
         "method": "Decision",
         "method_d": "Unanimous",
         "round": 3,
         "_deepnote_index_column": 3541
        },
        {
         "f1name": "Tony Martin",
         "f2name": "Felipe Olivieri",
         "f1result": "win",
         "f2result": "loss",
         "method": "Technical",
         "method_d": "Submission (Rear-Naked Choke",
         "round": 3,
         "_deepnote_index_column": 3543
        },
        {
         "f1name": "Stephen Thompson",
         "f2name": "Johny Hendricks",
         "f1result": "win",
         "f2result": "loss",
         "method": "TKO",
         "method_d": "Punches",
         "round": 1,
         "_deepnote_index_column": 3544
        },
        {
         "f1name": "Roy Nelson",
         "f2name": "Jared Rosholt",
         "f1result": "win",
         "f2result": "loss",
         "method": "Decision",
         "method_d": "Unanimous",
         "round": 3,
         "_deepnote_index_column": 3545
        },
        {
         "f1name": "Ovince St. Preux",
         "f2name": "Rafael Cavalcante",
         "f1result": "win",
         "f2result": "loss",
         "method": "Decision",
         "method_d": "Unanimous",
         "round": 3,
         "_deepnote_index_column": 3546
        },
        {
         "f1name": "Joseph Benavidez",
         "f2name": "Zach Makovsky",
         "f1result": "win",
         "f2result": "loss",
         "method": "Decision",
         "method_d": "Unanimous",
         "round": 3,
         "_deepnote_index_column": 3547
        },
        {
         "f1name": "Misha Cirkunov",
         "f2name": "Alex Nicholson",
         "f1result": "win",
         "f2result": "loss",
         "method": "Submission",
         "method_d": "Neck Crank",
         "round": 2,
         "_deepnote_index_column": 3548
        },
        {
         "f1name": "Mike Pyle",
         "f2name": "Sean Spencer",
         "f1result": "win",
         "f2result": "loss",
         "method": "TKO",
         "method_d": "Elbows and Knees",
         "round": 3,
         "_deepnote_index_column": 3549
        },
        {
         "f1name": "Joshua Burkman",
         "f2name": "K.J. Noons",
         "f1result": "win",
         "f2result": "loss",
         "method": "Decision",
         "method_d": "Unanimous",
         "round": 3,
         "_deepnote_index_column": 3550
        },
        {
         "f1name": "Derrick Lewis",
         "f2name": "Damian Grabowski",
         "f1result": "win",
         "f2result": "loss",
         "method": "TKO",
         "method_d": "Punches",
         "round": 1,
         "_deepnote_index_column": 3551
        },
        {
         "f1name": "Justin Scoggins",
         "f2name": "Ray Borg",
         "f1result": "win",
         "f2result": "loss",
         "method": "Decision",
         "method_d": "Unanimous",
         "round": 3,
         "_deepnote_index_column": 3552
        },
        {
         "f1name": "Diego Rivas",
         "f2name": "Noad Lahat",
         "f1result": "win",
         "f2result": "loss",
         "method": "KO",
         "method_d": "Flying Knee",
         "round": 2,
         "_deepnote_index_column": 3553
        },
        {
         "f1name": "Mickey Gall",
         "f2name": "Mike Jackson",
         "f1result": "win",
         "f2result": "loss",
         "method": "Submission",
         "method_d": "Rear-Naked Choke",
         "round": 1,
         "_deepnote_index_column": 3554
        },
        {
         "f1name": "Alex White",
         "f2name": "Artem Lobov",
         "f1result": "win",
         "f2result": "loss",
         "method": "Decision",
         "method_d": "Unanimous",
         "round": 3,
         "_deepnote_index_column": 3555
        },
        {
         "f1name": "Donald Cerrone",
         "f2name": "Alex Oliveira",
         "f1result": "win",
         "f2result": "loss",
         "method": "Submission",
         "method_d": "Triangle Choke",
         "round": 1,
         "_deepnote_index_column": 3556
        },
        {
         "f1name": "Derek Brunson",
         "f2name": "Roan Carneiro",
         "f1result": "win",
         "f2result": "loss",
         "method": "KO",
         "method_d": "Punches",
         "round": 1,
         "_deepnote_index_column": 3557
        },
        {
         "f1name": "Cody Garbrandt",
         "f2name": "Augusto Mendes",
         "f1result": "win",
         "f2result": "loss",
         "method": "KO",
         "method_d": "Punches",
         "round": 1,
         "_deepnote_index_column": 3558
        },
        {
         "f1name": "Dennis Bermudez",
         "f2name": "Tatsuya Kawajiri",
         "f1result": "win",
         "f2result": "loss",
         "method": "Decision",
         "method_d": "Unanimous",
         "round": 3,
         "_deepnote_index_column": 3559
        },
        {
         "f1name": "Chris Camozzi",
         "f2name": "Joe Riggs",
         "f1result": "win",
         "f2result": "loss",
         "method": "TKO",
         "method_d": "Knees",
         "round": 1,
         "_deepnote_index_column": 3560
        },
        {
         "f1name": "James Krause",
         "f2name": "Shane Campbell",
         "f1result": "win",
         "f2result": "loss",
         "method": "Decision",
         "method_d": "Unanimous",
         "round": 3,
         "_deepnote_index_column": 3561
        },
        {
         "f1name": "Sean Strickland",
         "f2name": "Alex Garcia",
         "f1result": "win",
         "f2result": "loss",
         "method": "TKO",
         "method_d": "Punches",
         "round": 3,
         "_deepnote_index_column": 3562
        },
        {
         "f1name": "Oluwale Bamgbose",
         "f2name": "Daniel Sarafian",
         "f1result": "win",
         "f2result": "loss",
         "method": "KO",
         "method_d": "Head Kick and Punches",
         "round": 1,
         "_deepnote_index_column": 3563
        },
        {
         "f1name": "Anthony Smith",
         "f2name": "Leonardo Guimaraes",
         "f1result": "win",
         "f2result": "loss",
         "method": "Decision",
         "method_d": "Unanimous",
         "round": 3,
         "_deepnote_index_column": 3564
        },
        {
         "f1name": "Nathan Coy",
         "f2name": "Jonavin Webb",
         "f1result": "win",
         "f2result": "loss",
         "method": "Decision",
         "method_d": "Unanimous",
         "round": 3,
         "_deepnote_index_column": 3565
        },
        {
         "f1name": "Ashlee Evans-Smith",
         "f2name": "Marion Reneau",
         "f1result": "win",
         "f2result": "loss",
         "method": "Decision",
         "method_d": "Split",
         "round": 3,
         "_deepnote_index_column": 3566
        },
        {
         "f1name": "Lauren Murphy",
         "f2name": "Kelly Faszholz",
         "f1result": "win",
         "f2result": "loss",
         "method": "TKO",
         "method_d": "Elbows and Punches",
         "round": 3,
         "_deepnote_index_column": 3567
        },
        {
         "f1name": "Shamil Abdurakhimov",
         "f2name": "Anthony Hamilton",
         "f1result": "win",
         "f2result": "loss",
         "method": "Decision",
         "method_d": "Unanimous",
         "round": 3,
         "_deepnote_index_column": 3568
        }
       ]
      },
      "text/plain": "                   f1name              f2name f1result f2result      method  \\\n0            Royce Gracie      Gerard Gordeau      win     loss  Submission   \n1           Jason DeLucia       Trent Jenkins      win     loss  Submission   \n2            Royce Gracie        Ken Shamrock      win     loss  Submission   \n3          Gerard Gordeau        Kevin Rosier      win     loss         TKO   \n4            Ken Shamrock       Patrick Smith      win     loss  Submission   \n...                   ...                 ...      ...      ...         ...   \n3564        Anthony Smith  Leonardo Guimaraes      win     loss    Decision   \n3565           Nathan Coy        Jonavin Webb      win     loss    Decision   \n3566   Ashlee Evans-Smith       Marion Reneau      win     loss    Decision   \n3567        Lauren Murphy      Kelly Faszholz      win     loss         TKO   \n3568  Shamil Abdurakhimov    Anthony Hamilton      win     loss    Decision   \n\n                method_d  round  \n0       Rear-Naked Choke      1  \n1       Rear-Naked Choke      1  \n2       Rear-Naked Choke      1  \n3        Corner Stoppage      1  \n4              Heel Hook      1  \n...                  ...    ...  \n3564           Unanimous      3  \n3565           Unanimous      3  \n3566               Split      3  \n3567  Elbows and Punches      3  \n3568           Unanimous      3  \n\n[3503 rows x 7 columns]",
      "text/html": "<div>\n<style scoped>\n    .dataframe tbody tr th:only-of-type {\n        vertical-align: middle;\n    }\n\n    .dataframe tbody tr th {\n        vertical-align: top;\n    }\n\n    .dataframe thead th {\n        text-align: right;\n    }\n</style>\n<table border=\"1\" class=\"dataframe\">\n  <thead>\n    <tr style=\"text-align: right;\">\n      <th></th>\n      <th>f1name</th>\n      <th>f2name</th>\n      <th>f1result</th>\n      <th>f2result</th>\n      <th>method</th>\n      <th>method_d</th>\n      <th>round</th>\n    </tr>\n  </thead>\n  <tbody>\n    <tr>\n      <th>0</th>\n      <td>Royce Gracie</td>\n      <td>Gerard Gordeau</td>\n      <td>win</td>\n      <td>loss</td>\n      <td>Submission</td>\n      <td>Rear-Naked Choke</td>\n      <td>1</td>\n    </tr>\n    <tr>\n      <th>1</th>\n      <td>Jason DeLucia</td>\n      <td>Trent Jenkins</td>\n      <td>win</td>\n      <td>loss</td>\n      <td>Submission</td>\n      <td>Rear-Naked Choke</td>\n      <td>1</td>\n    </tr>\n    <tr>\n      <th>2</th>\n      <td>Royce Gracie</td>\n      <td>Ken Shamrock</td>\n      <td>win</td>\n      <td>loss</td>\n      <td>Submission</td>\n      <td>Rear-Naked Choke</td>\n      <td>1</td>\n    </tr>\n    <tr>\n      <th>3</th>\n      <td>Gerard Gordeau</td>\n      <td>Kevin Rosier</td>\n      <td>win</td>\n      <td>loss</td>\n      <td>TKO</td>\n      <td>Corner Stoppage</td>\n      <td>1</td>\n    </tr>\n    <tr>\n      <th>4</th>\n      <td>Ken Shamrock</td>\n      <td>Patrick Smith</td>\n      <td>win</td>\n      <td>loss</td>\n      <td>Submission</td>\n      <td>Heel Hook</td>\n      <td>1</td>\n    </tr>\n    <tr>\n      <th>...</th>\n      <td>...</td>\n      <td>...</td>\n      <td>...</td>\n      <td>...</td>\n      <td>...</td>\n      <td>...</td>\n      <td>...</td>\n    </tr>\n    <tr>\n      <th>3564</th>\n      <td>Anthony Smith</td>\n      <td>Leonardo Guimaraes</td>\n      <td>win</td>\n      <td>loss</td>\n      <td>Decision</td>\n      <td>Unanimous</td>\n      <td>3</td>\n    </tr>\n    <tr>\n      <th>3565</th>\n      <td>Nathan Coy</td>\n      <td>Jonavin Webb</td>\n      <td>win</td>\n      <td>loss</td>\n      <td>Decision</td>\n      <td>Unanimous</td>\n      <td>3</td>\n    </tr>\n    <tr>\n      <th>3566</th>\n      <td>Ashlee Evans-Smith</td>\n      <td>Marion Reneau</td>\n      <td>win</td>\n      <td>loss</td>\n      <td>Decision</td>\n      <td>Split</td>\n      <td>3</td>\n    </tr>\n    <tr>\n      <th>3567</th>\n      <td>Lauren Murphy</td>\n      <td>Kelly Faszholz</td>\n      <td>win</td>\n      <td>loss</td>\n      <td>TKO</td>\n      <td>Elbows and Punches</td>\n      <td>3</td>\n    </tr>\n    <tr>\n      <th>3568</th>\n      <td>Shamil Abdurakhimov</td>\n      <td>Anthony Hamilton</td>\n      <td>win</td>\n      <td>loss</td>\n      <td>Decision</td>\n      <td>Unanimous</td>\n      <td>3</td>\n    </tr>\n  </tbody>\n</table>\n<p>3503 rows × 7 columns</p>\n</div>"
     },
     "metadata": {}
    }
   ]
  },
  {
   "cell_type": "code",
   "metadata": {
    "tags": [],
    "cell_id": "00002-2e4890b6-fbf6-4c03-9e28-92dd0aa48636",
    "deepnote_to_be_reexecuted": false,
    "source_hash": "1590aae3",
    "execution_start": 1627680812291,
    "execution_millis": 756,
    "is_output_hidden": false,
    "deepnote_cell_type": "code"
   },
   "source": " spec_cols2 = [2,5]\n\nufc_fighters = pd.read_excel('ufc_fighters.xlsx',usecols = spec_cols2).dropna()\n\n## Importing list of all fighters' stats.\n\nufc_fighters",
   "execution_count": 3,
   "outputs": [
    {
     "output_type": "execute_result",
     "execution_count": 3,
     "data": {
      "application/vnd.deepnote.dataframe.v2+json": {
       "row_count": 1472,
       "column_count": 2,
       "columns": [
        {
         "name": "name",
         "dtype": "object",
         "stats": {
          "unique_count": 1472,
          "nan_count": 0,
          "categories": [
           {
            "name": "Conor McGregor",
            "count": 1
           },
           {
            "name": "Jon Jones",
            "count": 1
           },
           {
            "name": "1470 others",
            "count": 1470
           }
          ]
         }
        },
        {
         "name": "height",
         "dtype": "float64",
         "stats": {
          "unique_count": 24,
          "nan_count": 0,
          "min": "61.0",
          "max": "84.0",
          "histogram": [
           {
            "bin_start": 61,
            "bin_end": 63.3,
            "count": 28
           },
           {
            "bin_start": 63.3,
            "bin_end": 65.6,
            "count": 62
           },
           {
            "bin_start": 65.6,
            "bin_end": 67.9,
            "count": 157
           },
           {
            "bin_start": 67.9,
            "bin_end": 70.2,
            "count": 451
           },
           {
            "bin_start": 70.2,
            "bin_end": 72.5,
            "count": 356
           },
           {
            "bin_start": 72.5,
            "bin_end": 74.8,
            "count": 251
           },
           {
            "bin_start": 74.8,
            "bin_end": 77.1,
            "count": 142
           },
           {
            "bin_start": 77.1,
            "bin_end": 79.4,
            "count": 14
           },
           {
            "bin_start": 79.4,
            "bin_end": 81.7,
            "count": 8
           },
           {
            "bin_start": 81.7,
            "bin_end": 84,
            "count": 3
           }
          ]
         }
        },
        {
         "name": "_deepnote_index_column",
         "dtype": "int64"
        }
       ],
       "rows_top": [
        {
         "name": "Conor McGregor",
         "height": 68,
         "_deepnote_index_column": 0
        },
        {
         "name": "Jon Jones",
         "height": 76,
         "_deepnote_index_column": 1
        },
        {
         "name": "Holly Holm",
         "height": 68,
         "_deepnote_index_column": 2
        },
        {
         "name": "Dominick Cruz",
         "height": 68,
         "_deepnote_index_column": 3
        },
        {
         "name": "Demetrious Johnson",
         "height": 63,
         "_deepnote_index_column": 4
        },
        {
         "name": "Ronda Rousey",
         "height": 66,
         "_deepnote_index_column": 5
        },
        {
         "name": "Fabricio Werdum",
         "height": 76,
         "_deepnote_index_column": 6
        },
        {
         "name": "Robbie Lawler",
         "height": 71,
         "_deepnote_index_column": 7
        },
        {
         "name": "Jose Aldo",
         "height": 67,
         "_deepnote_index_column": 8
        },
        {
         "name": "Chad Mendes",
         "height": 66,
         "_deepnote_index_column": 9
        },
        {
         "name": "Dustin Poirier",
         "height": 69,
         "_deepnote_index_column": 10
        },
        {
         "name": "Marcus Brimage",
         "height": 64,
         "_deepnote_index_column": 11
        },
        {
         "name": "Diego Brandao",
         "height": 67,
         "_deepnote_index_column": 12
        },
        {
         "name": "Max Holloway",
         "height": 71,
         "_deepnote_index_column": 13
        },
        {
         "name": "Joseph Duffy",
         "height": 70,
         "_deepnote_index_column": 14
        },
        {
         "name": "Kevin Randleman",
         "height": 70,
         "_deepnote_index_column": 15
        },
        {
         "name": "Vitor Belfort",
         "height": 72,
         "_deepnote_index_column": 16
        },
        {
         "name": "Rashad Evans",
         "height": 71,
         "_deepnote_index_column": 17
        },
        {
         "name": "Ryan Bader",
         "height": 74,
         "_deepnote_index_column": 18
        },
        {
         "name": "Michael Bisping",
         "height": 74,
         "_deepnote_index_column": 19
        },
        {
         "name": "Alexander Gustafsson",
         "height": 76,
         "_deepnote_index_column": 20
        },
        {
         "name": "Vladimir Matyushenko",
         "height": 73,
         "_deepnote_index_column": 21
        },
        {
         "name": "Lyoto Machida",
         "height": 73,
         "_deepnote_index_column": 22
        },
        {
         "name": "Quinton Jackson",
         "height": 73,
         "_deepnote_index_column": 23
        },
        {
         "name": "Brandon Vera",
         "height": 74,
         "_deepnote_index_column": 24
        },
        {
         "name": "Mauricio Rua",
         "height": 73,
         "_deepnote_index_column": 25
        },
        {
         "name": "Stephan Bonnar",
         "height": 75,
         "_deepnote_index_column": 26
        },
        {
         "name": "Mark Kerr",
         "height": 75,
         "_deepnote_index_column": 27
        },
        {
         "name": "James Toney",
         "height": 70,
         "_deepnote_index_column": 28
        },
        {
         "name": "Randy Couture",
         "height": 73,
         "_deepnote_index_column": 29
        },
        {
         "name": "Marion Reneau",
         "height": 66,
         "_deepnote_index_column": 30
        },
        {
         "name": "Anthony Pettis",
         "height": 69,
         "_deepnote_index_column": 31
        },
        {
         "name": "Miesha Tate",
         "height": 66,
         "_deepnote_index_column": 32
        },
        {
         "name": "Donald Cerrone",
         "height": 71,
         "_deepnote_index_column": 33
        },
        {
         "name": "Raquel Pennington",
         "height": 67,
         "_deepnote_index_column": 34
        },
        {
         "name": "Alex Oliveira",
         "height": 71,
         "_deepnote_index_column": 35
        },
        {
         "name": "Urijah Faber",
         "height": 66,
         "_deepnote_index_column": 36
        },
        {
         "name": "Scott Jorgensen",
         "height": 65,
         "_deepnote_index_column": 37
        },
        {
         "name": "Ian McCall",
         "height": 65,
         "_deepnote_index_column": 38
        },
        {
         "name": "Chris Weidman",
         "height": 74,
         "_deepnote_index_column": 39
        },
        {
         "name": "Paul Bradley",
         "height": 69,
         "_deepnote_index_column": 40
        },
        {
         "name": "Tim Boetsch",
         "height": 71,
         "_deepnote_index_column": 41
        },
        {
         "name": "Ronaldo Souza",
         "height": 72,
         "_deepnote_index_column": 42
        },
        {
         "name": "Junior dos Santos",
         "height": 76,
         "_deepnote_index_column": 43
        },
        {
         "name": "Jesse Taylor",
         "height": 73,
         "_deepnote_index_column": 44
        },
        {
         "name": "Stephen Thompson",
         "height": 72,
         "_deepnote_index_column": 45
        },
        {
         "name": "Keith Jardine",
         "height": 74,
         "_deepnote_index_column": 46
        },
        {
         "name": "Dan Henderson",
         "height": 73,
         "_deepnote_index_column": 47
        },
        {
         "name": "Kevin Ferguson",
         "height": 74,
         "_deepnote_index_column": 48
        },
        {
         "name": "Ken Shamrock",
         "height": 73,
         "_deepnote_index_column": 49
        },
        {
         "name": "Anthony Johnson",
         "height": 74,
         "_deepnote_index_column": 50
        },
        {
         "name": "Antonio Rodrigo Nogueira",
         "height": 75,
         "_deepnote_index_column": 51
        },
        {
         "name": "Joe Doerksen",
         "height": 72,
         "_deepnote_index_column": 52
        },
        {
         "name": "Carlos Condit",
         "height": 73,
         "_deepnote_index_column": 53
        },
        {
         "name": "Tim Hague",
         "height": 76,
         "_deepnote_index_column": 54
        },
        {
         "name": "Houston Alexander",
         "height": 72,
         "_deepnote_index_column": 55
        },
        {
         "name": "Jared Cannonier",
         "height": 75,
         "_deepnote_index_column": 56
        },
        {
         "name": "Shamil Abdurakhimov",
         "height": 75,
         "_deepnote_index_column": 57
        },
        {
         "name": "Jeremy Horn",
         "height": 73,
         "_deepnote_index_column": 58
        },
        {
         "name": "Ilir Latifi",
         "height": 68,
         "_deepnote_index_column": 59
        },
        {
         "name": "Alexey Oleinik",
         "height": 73,
         "_deepnote_index_column": 60
        },
        {
         "name": "Darrill Schoonover",
         "height": 74,
         "_deepnote_index_column": 61
        },
        {
         "name": "Jason Lambert",
         "height": 70,
         "_deepnote_index_column": 62
        },
        {
         "name": "Jeff Monson",
         "height": 69,
         "_deepnote_index_column": 63
        },
        {
         "name": "Mike Kyle",
         "height": 75,
         "_deepnote_index_column": 64
        },
        {
         "name": "Joey Beltran",
         "height": 73,
         "_deepnote_index_column": 65
        },
        {
         "name": "Wes Combs",
         "height": 74,
         "_deepnote_index_column": 66
        },
        {
         "name": "Kyle Kingsbury",
         "height": 76,
         "_deepnote_index_column": 67
        },
        {
         "name": "Justin Levens",
         "height": 70,
         "_deepnote_index_column": 68
        },
        {
         "name": "Benson Henderson",
         "height": 69,
         "_deepnote_index_column": 69
        },
        {
         "name": "Kamal Shalorus",
         "height": 68,
         "_deepnote_index_column": 70
        },
        {
         "name": "Anthony Hamilton",
         "height": 77,
         "_deepnote_index_column": 71
        },
        {
         "name": "Clay Guida",
         "height": 67,
         "_deepnote_index_column": 72
        },
        {
         "name": "Jason High",
         "height": 69,
         "_deepnote_index_column": 73
        },
        {
         "name": "Khabib Nurmagomedov",
         "height": 70,
         "_deepnote_index_column": 74
        },
        {
         "name": "Jeremy Stephens",
         "height": 69,
         "_deepnote_index_column": 75
        },
        {
         "name": "Anthony Njokuani",
         "height": 72,
         "_deepnote_index_column": 76
        },
        {
         "name": "Robert Emerson",
         "height": 70,
         "_deepnote_index_column": 77
        },
        {
         "name": "Henry Cejudo",
         "height": 64,
         "_deepnote_index_column": 78
        },
        {
         "name": "John Dodson",
         "height": 63,
         "_deepnote_index_column": 79
        },
        {
         "name": "Chris Cariaso",
         "height": 63,
         "_deepnote_index_column": 80
        },
        {
         "name": "Ali Bagautinov",
         "height": 64,
         "_deepnote_index_column": 81
        },
        {
         "name": "Norifumi Yamamoto",
         "height": 64,
         "_deepnote_index_column": 82
        },
        {
         "name": "Damacio Page",
         "height": 66,
         "_deepnote_index_column": 83
        },
        {
         "name": "Brad Pickett",
         "height": 66,
         "_deepnote_index_column": 84
        },
        {
         "name": "Cat Zingano",
         "height": 66,
         "_deepnote_index_column": 85
        },
        {
         "name": "Alexis Davis",
         "height": 65,
         "_deepnote_index_column": 86
        },
        {
         "name": "Liz Carmouche",
         "height": 66,
         "_deepnote_index_column": 87
        },
        {
         "name": "Roy Nelson",
         "height": 72,
         "_deepnote_index_column": 88
        },
        {
         "name": "Alistair Overeem",
         "height": 77,
         "_deepnote_index_column": 89
        },
        {
         "name": "Gabriel Gonzaga",
         "height": 74,
         "_deepnote_index_column": 90
        },
        {
         "name": "Andrei Arlovski",
         "height": 76,
         "_deepnote_index_column": 91
        },
        {
         "name": "Travis Browne",
         "height": 79,
         "_deepnote_index_column": 92
        },
        {
         "name": "James Zikic",
         "height": 74,
         "_deepnote_index_column": 93
        },
        {
         "name": "Mark Hunt",
         "height": 70,
         "_deepnote_index_column": 94
        },
        {
         "name": "John Olav Einemo",
         "height": 78,
         "_deepnote_index_column": 95
        },
        {
         "name": "Kristof Midoux",
         "height": 73,
         "_deepnote_index_column": 96
        },
        {
         "name": "Antonio Silva",
         "height": 76,
         "_deepnote_index_column": 97
        },
        {
         "name": "Ebenezer Fontes Braga",
         "height": 72,
         "_deepnote_index_column": 98
        },
        {
         "name": "Valerie Letourneau",
         "height": 67,
         "_deepnote_index_column": 99
        },
        {
         "name": "Rosi Sexton",
         "height": 63,
         "_deepnote_index_column": 100
        },
        {
         "name": "Juliana Lima",
         "height": 65,
         "_deepnote_index_column": 101
        },
        {
         "name": "Claudia Gadelha",
         "height": 63,
         "_deepnote_index_column": 102
        },
        {
         "name": "Carla Esparza",
         "height": 61,
         "_deepnote_index_column": 103
        },
        {
         "name": "Johny Hendricks",
         "height": 69,
         "_deepnote_index_column": 104
        },
        {
         "name": "Jake Ellenberger",
         "height": 69,
         "_deepnote_index_column": 105
        },
        {
         "name": "Matt Brown",
         "height": 72,
         "_deepnote_index_column": 106
        },
        {
         "name": "Jessica Aguilar",
         "height": 64,
         "_deepnote_index_column": 107
        },
        {
         "name": "Renato Sobral",
         "height": 72,
         "_deepnote_index_column": 108
        },
        {
         "name": "Lorenz Larkin",
         "height": 71,
         "_deepnote_index_column": 109
        },
        {
         "name": "Rory MacDonald",
         "height": 71,
         "_deepnote_index_column": 110
        },
        {
         "name": "Adlan Amagov",
         "height": 71,
         "_deepnote_index_column": 111
        },
        {
         "name": "Bobby Voelker",
         "height": 72,
         "_deepnote_index_column": 112
        },
        {
         "name": "Jason Miller",
         "height": 72,
         "_deepnote_index_column": 113
        },
        {
         "name": "Josh Koscheck",
         "height": 70,
         "_deepnote_index_column": 114
        },
        {
         "name": "Scott Smith",
         "height": 72,
         "_deepnote_index_column": 115
        },
        {
         "name": "Matt Lindland",
         "height": 72,
         "_deepnote_index_column": 116
        },
        {
         "name": "Frank Trigg",
         "height": 68,
         "_deepnote_index_column": 117
        },
        {
         "name": "Falaniko Vitale",
         "height": 70,
         "_deepnote_index_column": 118
        },
        {
         "name": "Pete Spratt",
         "height": 69,
         "_deepnote_index_column": 119
        },
        {
         "name": "Chris Lytle",
         "height": 71,
         "_deepnote_index_column": 120
        },
        {
         "name": "Steve Berger",
         "height": 70,
         "_deepnote_index_column": 121
        },
        {
         "name": "Chris Leben",
         "height": 71,
         "_deepnote_index_column": 122
        },
        {
         "name": "Dean Lister",
         "height": 73,
         "_deepnote_index_column": 123
        },
        {
         "name": "Danillo Villefort",
         "height": 73,
         "_deepnote_index_column": 124
        },
        {
         "name": "Ronald Jhun",
         "height": 71,
         "_deepnote_index_column": 125
        },
        {
         "name": "Phil Baroni",
         "height": 69,
         "_deepnote_index_column": 126
        },
        {
         "name": "David Loiseau",
         "height": 72,
         "_deepnote_index_column": 127
        },
        {
         "name": "Jorge Santiago",
         "height": 73,
         "_deepnote_index_column": 128
        },
        {
         "name": "Tim Credeur",
         "height": 75,
         "_deepnote_index_column": 129
        },
        {
         "name": "David Terrell",
         "height": 72,
         "_deepnote_index_column": 130
        },
        {
         "name": "Julie Kedzie",
         "height": 65,
         "_deepnote_index_column": 131
        },
        {
         "name": "Seth Petruzelli",
         "height": 72,
         "_deepnote_index_column": 132
        },
        {
         "name": "Todd Medina",
         "height": 70,
         "_deepnote_index_column": 133
        },
        {
         "name": "Jorge Rivera",
         "height": 73,
         "_deepnote_index_column": 134
        },
        {
         "name": "Steven Ray",
         "height": 70,
         "_deepnote_index_column": 135
        },
        {
         "name": "Mairbek Taisumov",
         "height": 69,
         "_deepnote_index_column": 136
        },
        {
         "name": "Chan Sung Jung",
         "height": 69,
         "_deepnote_index_column": 137
        },
        {
         "name": "Ricardo Lamas",
         "height": 68,
         "_deepnote_index_column": 138
        },
        {
         "name": "Kenny Florian",
         "height": 70,
         "_deepnote_index_column": 139
        },
        {
         "name": "Frankie Edgar",
         "height": 66,
         "_deepnote_index_column": 140
        },
        {
         "name": "Manny Gamburyan",
         "height": 65,
         "_deepnote_index_column": 141
        },
        {
         "name": "Mark Hominick",
         "height": 68,
         "_deepnote_index_column": 142
        },
        {
         "name": "Phil Harris",
         "height": 65,
         "_deepnote_index_column": 143
        },
        {
         "name": "Michihiro Omigawa",
         "height": 66,
         "_deepnote_index_column": 144
        },
        {
         "name": "Cody McKenzie",
         "height": 72,
         "_deepnote_index_column": 145
        },
        {
         "name": "Darren Elkins",
         "height": 70,
         "_deepnote_index_column": 146
        },
        {
         "name": "Nik Lentz",
         "height": 68,
         "_deepnote_index_column": 147
        },
        {
         "name": "Javier Vazquez",
         "height": 67,
         "_deepnote_index_column": 148
        },
        {
         "name": "Erik Koch",
         "height": 70,
         "_deepnote_index_column": 149
        },
        {
         "name": "Steven Siler",
         "height": 71,
         "_deepnote_index_column": 150
        },
        {
         "name": "Pablo Garza",
         "height": 73,
         "_deepnote_index_column": 151
        },
        {
         "name": "Yancy Medeiros",
         "height": 70,
         "_deepnote_index_column": 152
        },
        {
         "name": "Jason Young",
         "height": 69,
         "_deepnote_index_column": 153
        },
        {
         "name": "Danny Castillo",
         "height": 69,
         "_deepnote_index_column": 154
        },
        {
         "name": "Josh Grispi",
         "height": 71,
         "_deepnote_index_column": 155
        },
        {
         "name": "Paul Felder",
         "height": 70,
         "_deepnote_index_column": 156
        },
        {
         "name": "Kyle Noke",
         "height": 73,
         "_deepnote_index_column": 157
        },
        {
         "name": "Tatsuya Kawajiri",
         "height": 67,
         "_deepnote_index_column": 158
        },
        {
         "name": "Hacran Dias",
         "height": 68,
         "_deepnote_index_column": 159
        },
        {
         "name": "Charles Rosa",
         "height": 70,
         "_deepnote_index_column": 160
        },
        {
         "name": "Ross Pearson",
         "height": 68,
         "_deepnote_index_column": 161
        },
        {
         "name": "Daron Cruickshank",
         "height": 68,
         "_deepnote_index_column": 162
        },
        {
         "name": "Diego Nunes",
         "height": 66,
         "_deepnote_index_column": 163
        },
        {
         "name": "Matt Wiman",
         "height": 70,
         "_deepnote_index_column": 164
        },
        {
         "name": "Paul Kelly",
         "height": 69,
         "_deepnote_index_column": 165
        },
        {
         "name": "Gray Maynard",
         "height": 68,
         "_deepnote_index_column": 166
        },
        {
         "name": "B.J. Penn",
         "height": 69,
         "_deepnote_index_column": 167
        },
        {
         "name": "Artem Lobov",
         "height": 69,
         "_deepnote_index_column": 168
        },
        {
         "name": "Tom Niinimaki",
         "height": 69,
         "_deepnote_index_column": 169
        },
        {
         "name": "Jimmie Rivera",
         "height": 64,
         "_deepnote_index_column": 170
        },
        {
         "name": "Cody Garbrandt",
         "height": 67,
         "_deepnote_index_column": 171
        },
        {
         "name": "Maximo Blanco",
         "height": 68,
         "_deepnote_index_column": 172
        },
        {
         "name": "Jumabieke Tuerxun",
         "height": 66,
         "_deepnote_index_column": 173
        },
        {
         "name": "Jim Hettes",
         "height": 69,
         "_deepnote_index_column": 174
        },
        {
         "name": "Stephen Bass",
         "height": 69,
         "_deepnote_index_column": 175
        },
        {
         "name": "Rose Namajunas",
         "height": 65,
         "_deepnote_index_column": 176
        },
        {
         "name": "Joanne Calderwood",
         "height": 66,
         "_deepnote_index_column": 177
        },
        {
         "name": "Paige VanZant",
         "height": 64,
         "_deepnote_index_column": 178
        },
        {
         "name": "Daniel Pineda",
         "height": 67,
         "_deepnote_index_column": 179
        },
        {
         "name": "Augusto Mendes",
         "height": 66,
         "_deepnote_index_column": 180
        },
        {
         "name": "Dennis Bermudez",
         "height": 66,
         "_deepnote_index_column": 181
        },
        {
         "name": "Iuri Alcantara",
         "height": 69,
         "_deepnote_index_column": 182
        },
        {
         "name": "Levan Makashvili",
         "height": 68,
         "_deepnote_index_column": 183
        },
        {
         "name": "Joey Gambino",
         "height": 67,
         "_deepnote_index_column": 184
        },
        {
         "name": "Brian Ortega",
         "height": 69,
         "_deepnote_index_column": 185
        },
        {
         "name": "Chas Skelly",
         "height": 71,
         "_deepnote_index_column": 186
        },
        {
         "name": "Andre Fili",
         "height": 70,
         "_deepnote_index_column": 187
        },
        {
         "name": "Clay Collard",
         "height": 71,
         "_deepnote_index_column": 188
        },
        {
         "name": "Justin Lawrence",
         "height": 68,
         "_deepnote_index_column": 189
        },
        {
         "name": "Charles Oliveira",
         "height": 71,
         "_deepnote_index_column": 190
        },
        {
         "name": "Pat Schilling",
         "height": 68,
         "_deepnote_index_column": 191
        },
        {
         "name": "Leonard Garcia",
         "height": 69,
         "_deepnote_index_column": 192
        },
        {
         "name": "Will Chope",
         "height": 76,
         "_deepnote_index_column": 193
        },
        {
         "name": "Cole Miller",
         "height": 73,
         "_deepnote_index_column": 194
        },
        {
         "name": "Norman Parke",
         "height": 71,
         "_deepnote_index_column": 195
        },
        {
         "name": "Jake Lindsey",
         "height": 71,
         "_deepnote_index_column": 196
        },
        {
         "name": "Paul Daley",
         "height": 69,
         "_deepnote_index_column": 197
        },
        {
         "name": "Ivan Jorge",
         "height": 70,
         "_deepnote_index_column": 198
        },
        {
         "name": "Abel Trujillo",
         "height": 68,
         "_deepnote_index_column": 199
        },
        {
         "name": "Tony Sims",
         "height": 71,
         "_deepnote_index_column": 200
        },
        {
         "name": "Leigh Remedios",
         "height": 67,
         "_deepnote_index_column": 201
        },
        {
         "name": "Curt Warburton",
         "height": 72,
         "_deepnote_index_column": 202
        },
        {
         "name": "Maciej Jewtuszko",
         "height": 72,
         "_deepnote_index_column": 203
        },
        {
         "name": "Joe Riggs",
         "height": 72,
         "_deepnote_index_column": 204
        },
        {
         "name": "Tito Ortiz",
         "height": 74,
         "_deepnote_index_column": 205
        },
        {
         "name": "Georges St. Pierre",
         "height": 70,
         "_deepnote_index_column": 206
        },
        {
         "name": "David Mitchell",
         "height": 72,
         "_deepnote_index_column": 207
        },
        {
         "name": "Neil Seery",
         "height": 66,
         "_deepnote_index_column": 208
        },
        {
         "name": "Patrick Holohan",
         "height": 69,
         "_deepnote_index_column": 209
        },
        {
         "name": "Chuck Liddell",
         "height": 74,
         "_deepnote_index_column": 210
        },
        {
         "name": "Ron Waterman",
         "height": 74,
         "_deepnote_index_column": 211
        },
        {
         "name": "Mike Whitehead",
         "height": 73,
         "_deepnote_index_column": 212
        },
        {
         "name": "Kazuhiro Nakamura",
         "height": 71,
         "_deepnote_index_column": 213
        },
        {
         "name": "Mirko Filipovic",
         "height": 74,
         "_deepnote_index_column": 214
        },
        {
         "name": "Pedro Rizzo",
         "height": 73,
         "_deepnote_index_column": 215
        },
        {
         "name": "Maurice Smith",
         "height": 74,
         "_deepnote_index_column": 216
        },
        {
         "name": "Josh Barnett",
         "height": 75,
         "_deepnote_index_column": 217
        },
        {
         "name": "Mario Neto",
         "height": 72,
         "_deepnote_index_column": 218
        },
        {
         "name": "Pete Williams",
         "height": 75,
         "_deepnote_index_column": 219
        },
        {
         "name": "Dan Bobish",
         "height": 73,
         "_deepnote_index_column": 220
        },
        {
         "name": "Patrick Cummins",
         "height": 74,
         "_deepnote_index_column": 221
        },
        {
         "name": "Soa Palelei",
         "height": 76,
         "_deepnote_index_column": 222
        },
        {
         "name": "James Vick",
         "height": 75,
         "_deepnote_index_column": 223
        },
        {
         "name": "Phil Davis",
         "height": 74,
         "_deepnote_index_column": 224
        },
        {
         "name": "Glaico Franca",
         "height": 72,
         "_deepnote_index_column": 225
        },
        {
         "name": "Marvin Eastman",
         "height": 69,
         "_deepnote_index_column": 226
        },
        {
         "name": "Antonio Mendes",
         "height": 75,
         "_deepnote_index_column": 227
        },
        {
         "name": "Ovince St. Preux",
         "height": 75,
         "_deepnote_index_column": 228
        },
        {
         "name": "Marcio Cruz",
         "height": 76,
         "_deepnote_index_column": 229
        },
        {
         "name": "Fabio Maldonado",
         "height": 73,
         "_deepnote_index_column": 230
        },
        {
         "name": "Rameau Thierry Sokoudjou",
         "height": 70,
         "_deepnote_index_column": 231
        },
        {
         "name": "Ricco Rodriguez",
         "height": 76,
         "_deepnote_index_column": 232
        },
        {
         "name": "Ed Herman",
         "height": 74,
         "_deepnote_index_column": 233
        },
        {
         "name": "Bryan Barberena",
         "height": 72,
         "_deepnote_index_column": 234
        },
        {
         "name": "Antonio Rogerio Nogueira",
         "height": 74,
         "_deepnote_index_column": 235
        },
        {
         "name": "Matt Horwich",
         "height": 71,
         "_deepnote_index_column": 236
        },
        {
         "name": "Chad Griggs",
         "height": 75,
         "_deepnote_index_column": 237
        },
        {
         "name": "Sage Northcutt",
         "height": 72,
         "_deepnote_index_column": 238
        },
        {
         "name": "Masio Fullen",
         "height": 70,
         "_deepnote_index_column": 239
        },
        {
         "name": "Alex Caceres",
         "height": 69,
         "_deepnote_index_column": 240
        },
        {
         "name": "Alexander Yakovlev",
         "height": 73,
         "_deepnote_index_column": 241
        },
        {
         "name": "Kevin Casey",
         "height": 71,
         "_deepnote_index_column": 242
        },
        {
         "name": "Olivier Aubin-Mercier",
         "height": 69,
         "_deepnote_index_column": 243
        },
        {
         "name": "Rafael Natal",
         "height": 72,
         "_deepnote_index_column": 244
        },
        {
         "name": "Myles Jury",
         "height": 71,
         "_deepnote_index_column": 245
        },
        {
         "name": "Matt Serra",
         "height": 66,
         "_deepnote_index_column": 246
        },
        {
         "name": "Anderson Silva",
         "height": 74,
         "_deepnote_index_column": 247
        },
        {
         "name": "Yoel Romero",
         "height": 70,
         "_deepnote_index_column": 248
        },
        {
         "name": "Luke Sanders",
         "height": 67,
         "_deepnote_index_column": 249
        }
       ],
       "rows_bottom": [
        {
         "name": "Carlos Eduardo Rocha",
         "height": 70,
         "_deepnote_index_column": 1238
        },
        {
         "name": "Konstantin Erokhin",
         "height": 71,
         "_deepnote_index_column": 1239
        },
        {
         "name": "David Levicki",
         "height": 77,
         "_deepnote_index_column": 1240
        },
        {
         "name": "Wilson Gouveia",
         "height": 74,
         "_deepnote_index_column": 1241
        },
        {
         "name": "Solomon Hutcherson",
         "height": 71,
         "_deepnote_index_column": 1242
        },
        {
         "name": "Jerry Bohlander",
         "height": 71,
         "_deepnote_index_column": 1243
        },
        {
         "name": "Tyrone Roberts",
         "height": 69,
         "_deepnote_index_column": 1244
        },
        {
         "name": "Sean Daugherty",
         "height": 70,
         "_deepnote_index_column": 1246
        },
        {
         "name": "Houston Dorr",
         "height": 72,
         "_deepnote_index_column": 1247
        },
        {
         "name": "Marcus Bossett",
         "height": 73,
         "_deepnote_index_column": 1248
        },
        {
         "name": "Joe Charles",
         "height": 73,
         "_deepnote_index_column": 1249
        },
        {
         "name": "Zane Frazier",
         "height": 78,
         "_deepnote_index_column": 1250
        },
        {
         "name": "Aaron Rosa",
         "height": 75,
         "_deepnote_index_column": 1251
        },
        {
         "name": "Matt Hamill",
         "height": 74,
         "_deepnote_index_column": 1252
        },
        {
         "name": "Stanislav Nedkov",
         "height": 71,
         "_deepnote_index_column": 1253
        },
        {
         "name": "Dustin Jacoby",
         "height": 76,
         "_deepnote_index_column": 1254
        },
        {
         "name": "Carlos Diego Ferreira",
         "height": 68,
         "_deepnote_index_column": 1255
        },
        {
         "name": "Jake Rosholt",
         "height": 73,
         "_deepnote_index_column": 1256
        },
        {
         "name": "John Salter",
         "height": 73,
         "_deepnote_index_column": 1257
        },
        {
         "name": "Nolan Ticman",
         "height": 66,
         "_deepnote_index_column": 1258
        },
        {
         "name": "Bubba McDaniel",
         "height": 75,
         "_deepnote_index_column": 1260
        },
        {
         "name": "Chase Gormley",
         "height": 75,
         "_deepnote_index_column": 1261
        },
        {
         "name": "Edgar Garcia",
         "height": 70,
         "_deepnote_index_column": 1262
        },
        {
         "name": "Bristol Marunde",
         "height": 73,
         "_deepnote_index_column": 1263
        },
        {
         "name": "Rob MacDonald",
         "height": 75,
         "_deepnote_index_column": 1264
        },
        {
         "name": "Daiju Takase",
         "height": 72,
         "_deepnote_index_column": 1265
        },
        {
         "name": "Kris Rotharmel",
         "height": 72,
         "_deepnote_index_column": 1266
        },
        {
         "name": "Satoshi Honma",
         "height": 72,
         "_deepnote_index_column": 1267
        },
        {
         "name": "Jack McLaughlin",
         "height": 70,
         "_deepnote_index_column": 1268
        },
        {
         "name": "Tony Petarra",
         "height": 71,
         "_deepnote_index_column": 1269
        },
        {
         "name": "John Lewis",
         "height": 72,
         "_deepnote_index_column": 1270
        },
        {
         "name": "Joel Sutton",
         "height": 70,
         "_deepnote_index_column": 1271
        },
        {
         "name": "Josh Stuart",
         "height": 69,
         "_deepnote_index_column": 1272
        },
        {
         "name": "Mike Russow",
         "height": 73,
         "_deepnote_index_column": 1273
        },
        {
         "name": "Wallid Ismail",
         "height": 67,
         "_deepnote_index_column": 1275
        },
        {
         "name": "Vinc Pichel",
         "height": 70,
         "_deepnote_index_column": 1276
        },
        {
         "name": "Ryan Hall",
         "height": 70,
         "_deepnote_index_column": 1277
        },
        {
         "name": "Johnny Rees",
         "height": 72,
         "_deepnote_index_column": 1278
        },
        {
         "name": "Mike Stumpf",
         "height": 70,
         "_deepnote_index_column": 1279
        },
        {
         "name": "Keith Berish",
         "height": 72,
         "_deepnote_index_column": 1280
        },
        {
         "name": "Jake Collier",
         "height": 75,
         "_deepnote_index_column": 1281
        },
        {
         "name": "Joe Veres",
         "height": 66,
         "_deepnote_index_column": 1282
        },
        {
         "name": "Igor Araujo",
         "height": 73,
         "_deepnote_index_column": 1283
        },
        {
         "name": "Michinori Tanaka",
         "height": 65,
         "_deepnote_index_column": 1284
        },
        {
         "name": "Aaron Riley",
         "height": 69,
         "_deepnote_index_column": 1285
        },
        {
         "name": "Joao Roque",
         "height": 66,
         "_deepnote_index_column": 1286
        },
        {
         "name": "Joey Gilbert",
         "height": 65,
         "_deepnote_index_column": 1287
        },
        {
         "name": "Shane Primm",
         "height": 76,
         "_deepnote_index_column": 1288
        },
        {
         "name": "Romie Aram",
         "height": 70,
         "_deepnote_index_column": 1289
        },
        {
         "name": "Joseph Sandoval",
         "height": 66,
         "_deepnote_index_column": 1290
        },
        {
         "name": "Joey Gomez",
         "height": 68,
         "_deepnote_index_column": 1291
        },
        {
         "name": "Yaotzin Meza",
         "height": 69,
         "_deepnote_index_column": 1292
        },
        {
         "name": "Jordan Radev",
         "height": 67,
         "_deepnote_index_column": 1293
        },
        {
         "name": "Teemu Packalen",
         "height": 73,
         "_deepnote_index_column": 1294
        },
        {
         "name": "Ron Faircloth",
         "height": 69,
         "_deepnote_index_column": 1295
        },
        {
         "name": "Brendan Loughnane",
         "height": 70,
         "_deepnote_index_column": 1296
        },
        {
         "name": "Jessica Rakoczy",
         "height": 67,
         "_deepnote_index_column": 1297
        },
        {
         "name": "Kalib Starnes",
         "height": 75,
         "_deepnote_index_column": 1298
        },
        {
         "name": "Garett Whiteley",
         "height": 72,
         "_deepnote_index_column": 1299
        },
        {
         "name": "T.J. Waldburger",
         "height": 71,
         "_deepnote_index_column": 1300
        },
        {
         "name": "Josh Shockley",
         "height": 73,
         "_deepnote_index_column": 1301
        },
        {
         "name": "Henry Martinez",
         "height": 67,
         "_deepnote_index_column": 1302
        },
        {
         "name": "Aaron Brink",
         "height": 75,
         "_deepnote_index_column": 1303
        },
        {
         "name": "Niklas Backstrom",
         "height": 72,
         "_deepnote_index_column": 1304
        },
        {
         "name": "Cale Yarbrough",
         "height": 74,
         "_deepnote_index_column": 1305
        },
        {
         "name": "Michael Patt",
         "height": 72,
         "_deepnote_index_column": 1306
        },
        {
         "name": "Sean Alvarez",
         "height": 72,
         "_deepnote_index_column": 1307
        },
        {
         "name": "Assuerio Silva",
         "height": 73,
         "_deepnote_index_column": 1308
        },
        {
         "name": "Mark Hughes",
         "height": 68,
         "_deepnote_index_column": 1309
        },
        {
         "name": "Gideon Ray",
         "height": 70,
         "_deepnote_index_column": 1310
        },
        {
         "name": "Jan Blachowicz",
         "height": 74,
         "_deepnote_index_column": 1311
        },
        {
         "name": "Mats Nilsson",
         "height": 73,
         "_deepnote_index_column": 1312
        },
        {
         "name": "Luke Cummo",
         "height": 72,
         "_deepnote_index_column": 1314
        },
        {
         "name": "Justin James",
         "height": 70,
         "_deepnote_index_column": 1315
        },
        {
         "name": "Jeremy Larsen",
         "height": 70,
         "_deepnote_index_column": 1317
        },
        {
         "name": "War Machine",
         "height": 71,
         "_deepnote_index_column": 1318
        },
        {
         "name": "James Giboo",
         "height": 71,
         "_deepnote_index_column": 1319
        },
        {
         "name": "Kelly Dullanty",
         "height": 68,
         "_deepnote_index_column": 1320
        },
        {
         "name": "Cristiano Marcello",
         "height": 70,
         "_deepnote_index_column": 1322
        },
        {
         "name": "Magomed Mustafaev",
         "height": 69,
         "_deepnote_index_column": 1323
        },
        {
         "name": "Jason Gilliam",
         "height": 72,
         "_deepnote_index_column": 1324
        },
        {
         "name": "Joe Vedepo",
         "height": 72,
         "_deepnote_index_column": 1326
        },
        {
         "name": "Crafton Wallace",
         "height": 72,
         "_deepnote_index_column": 1327
        },
        {
         "name": "Tom Murphy",
         "height": 74,
         "_deepnote_index_column": 1328
        },
        {
         "name": "Yusuke Kasuya",
         "height": 67,
         "_deepnote_index_column": 1329
        },
        {
         "name": "Tiki Ghosn",
         "height": 70,
         "_deepnote_index_column": 1330
        },
        {
         "name": "Brad Gumm",
         "height": 71,
         "_deepnote_index_column": 1331
        },
        {
         "name": "Andre Roberts",
         "height": 74,
         "_deepnote_index_column": 1332
        },
        {
         "name": "Greg Soto",
         "height": 71,
         "_deepnote_index_column": 1334
        },
        {
         "name": "Ross Pointon",
         "height": 68,
         "_deepnote_index_column": 1335
        },
        {
         "name": "Jason Tan",
         "height": 70,
         "_deepnote_index_column": 1338
        },
        {
         "name": "Tom Breese",
         "height": 75,
         "_deepnote_index_column": 1339
        },
        {
         "name": "David Hood",
         "height": 72,
         "_deepnote_index_column": 1340
        },
        {
         "name": "Bobby Southworth",
         "height": 73,
         "_deepnote_index_column": 1341
        },
        {
         "name": "Luiz Jorge Dutra Jr.",
         "height": 71,
         "_deepnote_index_column": 1342
        },
        {
         "name": "Jules Bruchez",
         "height": 72,
         "_deepnote_index_column": 1344
        },
        {
         "name": "Jason Reinhardt",
         "height": 66,
         "_deepnote_index_column": 1345
        },
        {
         "name": "Jesse Sanders",
         "height": 73,
         "_deepnote_index_column": 1346
        },
        {
         "name": "Justin Martin",
         "height": 72,
         "_deepnote_index_column": 1347
        },
        {
         "name": "Kit Cope",
         "height": 72,
         "_deepnote_index_column": 1348
        },
        {
         "name": "Byron Bloodworth",
         "height": 69,
         "_deepnote_index_column": 1349
        },
        {
         "name": "Albert Cheng",
         "height": 71,
         "_deepnote_index_column": 1350
        },
        {
         "name": "Jianping Yang",
         "height": 68,
         "_deepnote_index_column": 1351
        },
        {
         "name": "Mostapha Al-Turk",
         "height": 74,
         "_deepnote_index_column": 1352
        },
        {
         "name": "Nate Schroeder",
         "height": 73,
         "_deepnote_index_column": 1353
        },
        {
         "name": "Matt Dwyer",
         "height": 76,
         "_deepnote_index_column": 1354
        },
        {
         "name": "Colin Robinson",
         "height": 76,
         "_deepnote_index_column": 1355
        },
        {
         "name": "Hans Stringer",
         "height": 74,
         "_deepnote_index_column": 1356
        },
        {
         "name": "Jocelyn Jones-Lybarger",
         "height": 67,
         "_deepnote_index_column": 1357
        },
        {
         "name": "Timothy Johnson",
         "height": 75,
         "_deepnote_index_column": 1358
        },
        {
         "name": "Yuri Villefort",
         "height": 71,
         "_deepnote_index_column": 1359
        },
        {
         "name": "Jason Thacker",
         "height": 72,
         "_deepnote_index_column": 1360
        },
        {
         "name": "Tom Blackledge",
         "height": 72,
         "_deepnote_index_column": 1361
        },
        {
         "name": "Rolles Gracie",
         "height": 76,
         "_deepnote_index_column": 1362
        },
        {
         "name": "Kailin Curran",
         "height": 63,
         "_deepnote_index_column": 1363
        },
        {
         "name": "Sultan Aliev",
         "height": 72,
         "_deepnote_index_column": 1364
        },
        {
         "name": "John Kolosci",
         "height": 71,
         "_deepnote_index_column": 1365
        },
        {
         "name": "Thiago de Oliveira Perpetuo",
         "height": 70,
         "_deepnote_index_column": 1366
        },
        {
         "name": "Izabela Badurek",
         "height": 64,
         "_deepnote_index_column": 1367
        },
        {
         "name": "Bartosz Fabinski",
         "height": 72,
         "_deepnote_index_column": 1368
        },
        {
         "name": "Kelly Faszholz",
         "height": 68,
         "_deepnote_index_column": 1369
        },
        {
         "name": "Viktor Pesta",
         "height": 75,
         "_deepnote_index_column": 1370
        },
        {
         "name": "Anthony Christodoulou",
         "height": 69,
         "_deepnote_index_column": 1371
        },
        {
         "name": "Nikita Krylov",
         "height": 75,
         "_deepnote_index_column": 1372
        },
        {
         "name": "Darrell Gholar",
         "height": 68,
         "_deepnote_index_column": 1373
        },
        {
         "name": "Tedd Williams",
         "height": 72,
         "_deepnote_index_column": 1374
        },
        {
         "name": "Larissa Pacheco",
         "height": 68,
         "_deepnote_index_column": 1375
        },
        {
         "name": "Daniel Kelly",
         "height": 72,
         "_deepnote_index_column": 1376
        },
        {
         "name": "Scott Askham",
         "height": 75,
         "_deepnote_index_column": 1377
        },
        {
         "name": "Rex Holman",
         "height": 75,
         "_deepnote_index_column": 1378
        },
        {
         "name": "Andrew Holbrook",
         "height": 71,
         "_deepnote_index_column": 1379
        },
        {
         "name": "Joe Merritt",
         "height": 72,
         "_deepnote_index_column": 1380
        },
        {
         "name": "Wagner Prado",
         "height": 73,
         "_deepnote_index_column": 1381
        },
        {
         "name": "Nate Loughran",
         "height": 74,
         "_deepnote_index_column": 1382
        },
        {
         "name": "Joey Roberts",
         "height": 74,
         "_deepnote_index_column": 1384
        },
        {
         "name": "Matt Andersen",
         "height": 74,
         "_deepnote_index_column": 1386
        },
        {
         "name": "Dieuseul Berto",
         "height": 69,
         "_deepnote_index_column": 1387
        },
        {
         "name": "Ansar Chalangov",
         "height": 69,
         "_deepnote_index_column": 1388
        },
        {
         "name": "Ivan Serati",
         "height": 73,
         "_deepnote_index_column": 1389
        },
        {
         "name": "Cory Walmsley",
         "height": 72,
         "_deepnote_index_column": 1390
        },
        {
         "name": "Andre Gusmao",
         "height": 74,
         "_deepnote_index_column": 1391
        },
        {
         "name": "Icho Larenas",
         "height": 73,
         "_deepnote_index_column": 1392
        },
        {
         "name": "Joe Pardo",
         "height": 73,
         "_deepnote_index_column": 1393
        },
        {
         "name": "Felix Mitchell",
         "height": 71,
         "_deepnote_index_column": 1394
        },
        {
         "name": "Tony Halme",
         "height": 76,
         "_deepnote_index_column": 1395
        },
        {
         "name": "Steve Judson",
         "height": 73,
         "_deepnote_index_column": 1396
        },
        {
         "name": "Chris Spang",
         "height": 74,
         "_deepnote_index_column": 1398
        },
        {
         "name": "Mike King",
         "height": 75,
         "_deepnote_index_column": 1399
        },
        {
         "name": "Todd Butler",
         "height": 73,
         "_deepnote_index_column": 1400
        },
        {
         "name": "Harry Moskowitz",
         "height": 77,
         "_deepnote_index_column": 1402
        },
        {
         "name": "Harold Howard",
         "height": 74,
         "_deepnote_index_column": 1403
        },
        {
         "name": "Jim Mullen",
         "height": 73,
         "_deepnote_index_column": 1404
        },
        {
         "name": "Sam Fulton",
         "height": 74,
         "_deepnote_index_column": 1405
        },
        {
         "name": "Melton Bowen",
         "height": 72,
         "_deepnote_index_column": 1406
        },
        {
         "name": "Bob Gilstrap",
         "height": 75,
         "_deepnote_index_column": 1407
        },
        {
         "name": "Keith Mielke",
         "height": 69,
         "_deepnote_index_column": 1408
        },
        {
         "name": "Justin Eilers",
         "height": 73,
         "_deepnote_index_column": 1409
        },
        {
         "name": "Jeff Newton",
         "height": 74,
         "_deepnote_index_column": 1410
        },
        {
         "name": "Koji Kitao",
         "height": 79,
         "_deepnote_index_column": 1411
        },
        {
         "name": "Yuri Vaulin",
         "height": 76,
         "_deepnote_index_column": 1412
        },
        {
         "name": "Misha Cirkunov",
         "height": 75,
         "_deepnote_index_column": 1414
        },
        {
         "name": "Nick Sanzo",
         "height": 69,
         "_deepnote_index_column": 1415
        },
        {
         "name": "Rainy Martinez",
         "height": 72,
         "_deepnote_index_column": 1416
        },
        {
         "name": "Dwayne Cason",
         "height": 70,
         "_deepnote_index_column": 1417
        },
        {
         "name": "Krzysztof Jotko",
         "height": 73,
         "_deepnote_index_column": 1418
        },
        {
         "name": "Zhikui Yao",
         "height": 67,
         "_deepnote_index_column": 1419
        },
        {
         "name": "Eliot Marshall",
         "height": 75,
         "_deepnote_index_column": 1420
        },
        {
         "name": "Jon Madsen",
         "height": 72,
         "_deepnote_index_column": 1421
        },
        {
         "name": "Lowell Anderson",
         "height": 66,
         "_deepnote_index_column": 1422
        },
        {
         "name": "Reginaldo Vieira",
         "height": 66,
         "_deepnote_index_column": 1423
        },
        {
         "name": "Jason Saggo",
         "height": 71,
         "_deepnote_index_column": 1424
        },
        {
         "name": "Joaquim Silva",
         "height": 68,
         "_deepnote_index_column": 1427
        },
        {
         "name": "Darren Till",
         "height": 72,
         "_deepnote_index_column": 1428
        },
        {
         "name": "Steven Lynch",
         "height": 70,
         "_deepnote_index_column": 1429
        },
        {
         "name": "Arnold Allen",
         "height": 69,
         "_deepnote_index_column": 1432
        },
        {
         "name": "Damian Stasiak",
         "height": 68,
         "_deepnote_index_column": 1433
        },
        {
         "name": "Danny Abbadi",
         "height": 71,
         "_deepnote_index_column": 1434
        },
        {
         "name": "Alan Omer",
         "height": 69,
         "_deepnote_index_column": 1435
        },
        {
         "name": "Aleksandra Albu",
         "height": 62,
         "_deepnote_index_column": 1439
        },
        {
         "name": "Sean Gannon",
         "height": 75,
         "_deepnote_index_column": 1440
        },
        {
         "name": "Freddy Serrano",
         "height": 62,
         "_deepnote_index_column": 1441
        },
        {
         "name": "Troy Mandaloniz",
         "height": 69,
         "_deepnote_index_column": 1442
        },
        {
         "name": "Dave Galera",
         "height": 71,
         "_deepnote_index_column": 1444
        },
        {
         "name": "Mike Jackson",
         "height": 74,
         "_deepnote_index_column": 1445
        },
        {
         "name": "Matheus Nicolau Pereira",
         "height": 66,
         "_deepnote_index_column": 1446
        },
        {
         "name": "Alex Nicholson",
         "height": 76,
         "_deepnote_index_column": 1447
        },
        {
         "name": "Leonardo Morales",
         "height": 71,
         "_deepnote_index_column": 1449
        },
        {
         "name": "Anying Wang",
         "height": 72,
         "_deepnote_index_column": 1450
        },
        {
         "name": "Randy Brown",
         "height": 74,
         "_deepnote_index_column": 1451
        },
        {
         "name": "Alvaro Herrera",
         "height": 72,
         "_deepnote_index_column": 1453
        },
        {
         "name": "Chris Indich",
         "height": 70,
         "_deepnote_index_column": 1454
        },
        {
         "name": "Alex Torres",
         "height": 70,
         "_deepnote_index_column": 1455
        },
        {
         "name": "Lance Benoist",
         "height": 71,
         "_deepnote_index_column": 1456
        },
        {
         "name": "Daniel Omielanczuk",
         "height": 72,
         "_deepnote_index_column": 1457
        },
        {
         "name": "Luis Henrique Barbosa de Oliveira",
         "height": 75,
         "_deepnote_index_column": 1458
        },
        {
         "name": "Matt Arroyo",
         "height": 72,
         "_deepnote_index_column": 1459
        },
        {
         "name": "Christophe Leninger",
         "height": 72,
         "_deepnote_index_column": 1460
        },
        {
         "name": "Kyle Bochniak",
         "height": 69,
         "_deepnote_index_column": 1461
        },
        {
         "name": "Chris Sanford",
         "height": 71,
         "_deepnote_index_column": 1463
        },
        {
         "name": "Derek Brunson",
         "height": 73,
         "_deepnote_index_column": 1464
        },
        {
         "name": "Francis Ngannou",
         "height": 76,
         "_deepnote_index_column": 1466
        },
        {
         "name": "Brendan O'Reilly",
         "height": 68,
         "_deepnote_index_column": 1467
        },
        {
         "name": "Justine Kish",
         "height": 65,
         "_deepnote_index_column": 1468
        },
        {
         "name": "Jason Knight",
         "height": 71,
         "_deepnote_index_column": 1469
        },
        {
         "name": "Efrain Escudero",
         "height": 69,
         "_deepnote_index_column": 1470
        },
        {
         "name": "Ericka Almeida",
         "height": 66,
         "_deepnote_index_column": 1471
        },
        {
         "name": "Enrique Barzola",
         "height": 67,
         "_deepnote_index_column": 1472
        },
        {
         "name": "Bruno Rodrigues",
         "height": 66,
         "_deepnote_index_column": 1473
        },
        {
         "name": "Vernon Ramos",
         "height": 69,
         "_deepnote_index_column": 1474
        },
        {
         "name": "Horacio Gutierrez",
         "height": 70,
         "_deepnote_index_column": 1475
        },
        {
         "name": "Chris de la Rocha",
         "height": 75,
         "_deepnote_index_column": 1476
        },
        {
         "name": "Kyoji Horiguchi",
         "height": 65,
         "_deepnote_index_column": 1477
        },
        {
         "name": "Rocky Lee",
         "height": 69,
         "_deepnote_index_column": 1478
        },
        {
         "name": "Royston Wee",
         "height": 67,
         "_deepnote_index_column": 1479
        },
        {
         "name": "Tateki Matsuda",
         "height": 67,
         "_deepnote_index_column": 1480
        },
        {
         "name": "Humberto Brown Morrison",
         "height": 69,
         "_deepnote_index_column": 1481
        },
        {
         "name": "Matt Hobar",
         "height": 70,
         "_deepnote_index_column": 1482
        },
        {
         "name": "Ian Entwistle",
         "height": 68,
         "_deepnote_index_column": 1483
        },
        {
         "name": "Philip De Fries",
         "height": 76,
         "_deepnote_index_column": 1484
        },
        {
         "name": "Ryo Chonan",
         "height": 69,
         "_deepnote_index_column": 1485
        },
        {
         "name": "Ken Stone",
         "height": 68,
         "_deepnote_index_column": 1486
        },
        {
         "name": "Dale Hartt",
         "height": 70,
         "_deepnote_index_column": 1487
        },
        {
         "name": "Clay Harvison",
         "height": 73,
         "_deepnote_index_column": 1488
        },
        {
         "name": "Marcus Jones",
         "height": 78,
         "_deepnote_index_column": 1489
        },
        {
         "name": "Scott Adams",
         "height": 72,
         "_deepnote_index_column": 1490
        },
        {
         "name": "Paul Creighton",
         "height": 66,
         "_deepnote_index_column": 1492
        },
        {
         "name": "Townsend Saunders",
         "height": 65,
         "_deepnote_index_column": 1494
        },
        {
         "name": "Courtney Turner",
         "height": 74,
         "_deepnote_index_column": 1495
        },
        {
         "name": "Steven Graham",
         "height": 73,
         "_deepnote_index_column": 1496
        },
        {
         "name": "Alex Hunter",
         "height": 69,
         "_deepnote_index_column": 1497
        },
        {
         "name": "John Campetella",
         "height": 69,
         "_deepnote_index_column": 1502
        },
        {
         "name": "Reza Nasri",
         "height": 71,
         "_deepnote_index_column": 1503
        },
        {
         "name": "Scott Fiedler",
         "height": 76,
         "_deepnote_index_column": 1504
        },
        {
         "name": "Julian Sanchez",
         "height": 75,
         "_deepnote_index_column": 1507
        },
        {
         "name": "Mark Schultz",
         "height": 70,
         "_deepnote_index_column": 1508
        },
        {
         "name": "Rafael Carino",
         "height": 80,
         "_deepnote_index_column": 1509
        },
        {
         "name": "Larry Cureton",
         "height": 74,
         "_deepnote_index_column": 1510
        },
        {
         "name": "Thomas Ramirez",
         "height": 73,
         "_deepnote_index_column": 1511
        },
        {
         "name": "Francesco Maturi",
         "height": 75,
         "_deepnote_index_column": 1513
        },
        {
         "name": "Roland Payne",
         "height": 69,
         "_deepnote_index_column": 1514
        },
        {
         "name": "Alberto Cerra Leon",
         "height": 68,
         "_deepnote_index_column": 1515
        },
        {
         "name": "Ernie Verdicia",
         "height": 70,
         "_deepnote_index_column": 1516
        },
        {
         "name": "Andy Anderson",
         "height": 69,
         "_deepnote_index_column": 1518
        },
        {
         "name": "Eldo Dias Xavier",
         "height": 71,
         "_deepnote_index_column": 1519
        },
        {
         "name": "Robert Lucarelli",
         "height": 74,
         "_deepnote_index_column": 1520
        },
        {
         "name": "Thaddeus Luster",
         "height": 75,
         "_deepnote_index_column": 1521
        },
        {
         "name": "Frank Hamaker",
         "height": 74,
         "_deepnote_index_column": 1522
        },
        {
         "name": "Ryan Parker",
         "height": 75,
         "_deepnote_index_column": 1523
        },
        {
         "name": "Marcus Davis",
         "height": 68,
         "_deepnote_index_column": 1524
        },
        {
         "name": "John Alessio",
         "height": 70,
         "_deepnote_index_column": 1525
        }
       ]
      },
      "text/plain": "                    name  height\n0         Conor McGregor    68.0\n1              Jon Jones    76.0\n2             Holly Holm    68.0\n3          Dominick Cruz    68.0\n4     Demetrious Johnson    63.0\n...                  ...     ...\n1521     Thaddeus Luster    75.0\n1522       Frank Hamaker    74.0\n1523         Ryan Parker    75.0\n1524        Marcus Davis    68.0\n1525        John Alessio    70.0\n\n[1472 rows x 2 columns]",
      "text/html": "<div>\n<style scoped>\n    .dataframe tbody tr th:only-of-type {\n        vertical-align: middle;\n    }\n\n    .dataframe tbody tr th {\n        vertical-align: top;\n    }\n\n    .dataframe thead th {\n        text-align: right;\n    }\n</style>\n<table border=\"1\" class=\"dataframe\">\n  <thead>\n    <tr style=\"text-align: right;\">\n      <th></th>\n      <th>name</th>\n      <th>height</th>\n    </tr>\n  </thead>\n  <tbody>\n    <tr>\n      <th>0</th>\n      <td>Conor McGregor</td>\n      <td>68.0</td>\n    </tr>\n    <tr>\n      <th>1</th>\n      <td>Jon Jones</td>\n      <td>76.0</td>\n    </tr>\n    <tr>\n      <th>2</th>\n      <td>Holly Holm</td>\n      <td>68.0</td>\n    </tr>\n    <tr>\n      <th>3</th>\n      <td>Dominick Cruz</td>\n      <td>68.0</td>\n    </tr>\n    <tr>\n      <th>4</th>\n      <td>Demetrious Johnson</td>\n      <td>63.0</td>\n    </tr>\n    <tr>\n      <th>...</th>\n      <td>...</td>\n      <td>...</td>\n    </tr>\n    <tr>\n      <th>1521</th>\n      <td>Thaddeus Luster</td>\n      <td>75.0</td>\n    </tr>\n    <tr>\n      <th>1522</th>\n      <td>Frank Hamaker</td>\n      <td>74.0</td>\n    </tr>\n    <tr>\n      <th>1523</th>\n      <td>Ryan Parker</td>\n      <td>75.0</td>\n    </tr>\n    <tr>\n      <th>1524</th>\n      <td>Marcus Davis</td>\n      <td>68.0</td>\n    </tr>\n    <tr>\n      <th>1525</th>\n      <td>John Alessio</td>\n      <td>70.0</td>\n    </tr>\n  </tbody>\n</table>\n<p>1472 rows × 2 columns</p>\n</div>"
     },
     "metadata": {}
    }
   ]
  },
  {
   "cell_type": "markdown",
   "source": "## Merging Data",
   "metadata": {
    "tags": [],
    "is_collapsed": false,
    "cell_id": "00004-1a181ff4-2db0-48da-bef5-bff48e9b16e3",
    "deepnote_cell_type": "text-cell-h2"
   }
  },
  {
   "cell_type": "code",
   "metadata": {
    "tags": [],
    "cell_id": "00006-f883d631-71d4-4d9d-bc93-ef7c83758708",
    "deepnote_to_be_reexecuted": false,
    "source_hash": "8ad3e567",
    "execution_start": 1627680813053,
    "execution_millis": 1755,
    "deepnote_cell_type": "code"
   },
   "source": "merged_fights = pd.merge(ufc_fights,ufc_fighters,left_on = 'f1name',right_on = 'name',how = 'left').drop('name',axis = 1).rename(columns = {'height':'height_win'})\n\n## Merging on name for the winners, naming column height_win.\n\nmerged_fights = pd.merge(merged_fights,ufc_fighters,left_on = 'f2name',right_on = 'name',how = 'left').drop('name',axis = 1).rename(columns = {'height':'height_loss'}).dropna(axis = 0)\n\n## Same merge on name column but for losers, naming column height_loss.\n## Keeping original index by using (how = 'left') parameter.\n## Drop null.\n\nmerged_fights.to_excel(\"ufc_fights_merged.xlsx\")\n\n## Saving merged DataFrame as .xlsx.\n\ndisplay(merged_fights,merged_fights.describe())",
   "execution_count": 4,
   "outputs": [
    {
     "data": {
      "application/vnd.deepnote.dataframe.v2+json": {
       "row_count": 3433,
       "column_count": 9,
       "columns": [
        {
         "name": "f1name",
         "dtype": "object",
         "stats": {
          "unique_count": 943,
          "nan_count": 0,
          "categories": [
           {
            "name": "Georges St. Pierre",
            "count": 19
           },
           {
            "name": "Matt Hughes",
            "count": 18
           },
           {
            "name": "941 others",
            "count": 3396
           }
          ]
         }
        },
        {
         "name": "f2name",
         "dtype": "object",
         "stats": {
          "unique_count": 1354,
          "nan_count": 0,
          "categories": [
           {
            "name": "Tito Ortiz",
            "count": 11
           },
           {
            "name": "Sam Stout",
            "count": 11
           },
           {
            "name": "1352 others",
            "count": 3411
           }
          ]
         }
        },
        {
         "name": "f1result",
         "dtype": "object",
         "stats": {
          "unique_count": 1,
          "nan_count": 0,
          "categories": [
           {
            "name": "win",
            "count": 3433
           }
          ]
         }
        },
        {
         "name": "f2result",
         "dtype": "object",
         "stats": {
          "unique_count": 1,
          "nan_count": 0,
          "categories": [
           {
            "name": "loss",
            "count": 3433
           }
          ]
         }
        },
        {
         "name": "method",
         "dtype": "object",
         "stats": {
          "unique_count": 6,
          "nan_count": 0,
          "categories": [
           {
            "name": "Decision",
            "count": 1449
           },
           {
            "name": "TKO",
            "count": 754
           },
           {
            "name": "4 others",
            "count": 1230
           }
          ]
         }
        },
        {
         "name": "method_d",
         "dtype": "object",
         "stats": {
          "unique_count": 153,
          "nan_count": 0,
          "categories": [
           {
            "name": "Unanimous",
            "count": 1127
           },
           {
            "name": "Punches",
            "count": 683
           },
           {
            "name": "151 others",
            "count": 1623
           }
          ]
         }
        },
        {
         "name": "round",
         "dtype": "int64",
         "stats": {
          "unique_count": 5,
          "nan_count": 0,
          "min": "1",
          "max": "5",
          "histogram": [
           {
            "bin_start": 1,
            "bin_end": 1.4,
            "count": 1155
           },
           {
            "bin_start": 1.4,
            "bin_end": 1.8,
            "count": 0
           },
           {
            "bin_start": 1.8,
            "bin_end": 2.2,
            "count": 560
           },
           {
            "bin_start": 2.2,
            "bin_end": 2.6,
            "count": 0
           },
           {
            "bin_start": 2.6,
            "bin_end": 3,
            "count": 0
           },
           {
            "bin_start": 3,
            "bin_end": 3.4000000000000004,
            "count": 1603
           },
           {
            "bin_start": 3.4000000000000004,
            "bin_end": 3.8000000000000003,
            "count": 0
           },
           {
            "bin_start": 3.8000000000000003,
            "bin_end": 4.2,
            "count": 21
           },
           {
            "bin_start": 4.2,
            "bin_end": 4.6,
            "count": 0
           },
           {
            "bin_start": 4.6,
            "bin_end": 5,
            "count": 94
           }
          ]
         }
        },
        {
         "name": "height_win",
         "dtype": "float64",
         "stats": {
          "unique_count": 23,
          "nan_count": 0,
          "min": "61.0",
          "max": "84.0",
          "histogram": [
           {
            "bin_start": 61,
            "bin_end": 63.3,
            "count": 53
           },
           {
            "bin_start": 63.3,
            "bin_end": 65.6,
            "count": 110
           },
           {
            "bin_start": 65.6,
            "bin_end": 67.9,
            "count": 365
           },
           {
            "bin_start": 67.9,
            "bin_end": 70.2,
            "count": 1004
           },
           {
            "bin_start": 70.2,
            "bin_end": 72.5,
            "count": 784
           },
           {
            "bin_start": 72.5,
            "bin_end": 74.8,
            "count": 730
           },
           {
            "bin_start": 74.8,
            "bin_end": 77.1,
            "count": 335
           },
           {
            "bin_start": 77.1,
            "bin_end": 79.4,
            "count": 25
           },
           {
            "bin_start": 79.4,
            "bin_end": 81.7,
            "count": 14
           },
           {
            "bin_start": 81.7,
            "bin_end": 84,
            "count": 13
           }
          ]
         }
        },
        {
         "name": "height_loss",
         "dtype": "float64",
         "stats": {
          "unique_count": 24,
          "nan_count": 0,
          "min": "61.0",
          "max": "84.0",
          "histogram": [
           {
            "bin_start": 61,
            "bin_end": 63.3,
            "count": 41
           },
           {
            "bin_start": 63.3,
            "bin_end": 65.6,
            "count": 116
           },
           {
            "bin_start": 65.6,
            "bin_end": 67.9,
            "count": 358
           },
           {
            "bin_start": 67.9,
            "bin_end": 70.2,
            "count": 1088
           },
           {
            "bin_start": 70.2,
            "bin_end": 72.5,
            "count": 790
           },
           {
            "bin_start": 72.5,
            "bin_end": 74.8,
            "count": 660
           },
           {
            "bin_start": 74.8,
            "bin_end": 77.1,
            "count": 324
           },
           {
            "bin_start": 77.1,
            "bin_end": 79.4,
            "count": 32
           },
           {
            "bin_start": 79.4,
            "bin_end": 81.7,
            "count": 15
           },
           {
            "bin_start": 81.7,
            "bin_end": 84,
            "count": 9
           }
          ]
         }
        },
        {
         "name": "_deepnote_index_column",
         "dtype": "int64"
        }
       ],
       "rows_top": [
        {
         "f1name": "Royce Gracie",
         "f2name": "Gerard Gordeau",
         "f1result": "win",
         "f2result": "loss",
         "method": "Submission",
         "method_d": "Rear-Naked Choke",
         "round": 1,
         "height_win": 72,
         "height_loss": 77,
         "_deepnote_index_column": 0
        },
        {
         "f1name": "Jason DeLucia",
         "f2name": "Trent Jenkins",
         "f1result": "win",
         "f2result": "loss",
         "method": "Submission",
         "method_d": "Rear-Naked Choke",
         "round": 1,
         "height_win": 71,
         "height_loss": 74,
         "_deepnote_index_column": 1
        },
        {
         "f1name": "Royce Gracie",
         "f2name": "Ken Shamrock",
         "f1result": "win",
         "f2result": "loss",
         "method": "Submission",
         "method_d": "Rear-Naked Choke",
         "round": 1,
         "height_win": 72,
         "height_loss": 73,
         "_deepnote_index_column": 2
        },
        {
         "f1name": "Gerard Gordeau",
         "f2name": "Kevin Rosier",
         "f1result": "win",
         "f2result": "loss",
         "method": "TKO",
         "method_d": "Corner Stoppage",
         "round": 1,
         "height_win": 77,
         "height_loss": 76,
         "_deepnote_index_column": 3
        },
        {
         "f1name": "Ken Shamrock",
         "f2name": "Patrick Smith",
         "f1result": "win",
         "f2result": "loss",
         "method": "Submission",
         "method_d": "Heel Hook",
         "round": 1,
         "height_win": 73,
         "height_loss": 74,
         "_deepnote_index_column": 4
        },
        {
         "f1name": "Royce Gracie",
         "f2name": "Art Jimmerson",
         "f1result": "win",
         "f2result": "loss",
         "method": "Submission",
         "method_d": "Smother Choke",
         "round": 1,
         "height_win": 72,
         "height_loss": 73,
         "_deepnote_index_column": 5
        },
        {
         "f1name": "Kevin Rosier",
         "f2name": "Zane Frazier",
         "f1result": "win",
         "f2result": "loss",
         "method": "TKO",
         "method_d": "Punches",
         "round": 1,
         "height_win": 76,
         "height_loss": 78,
         "_deepnote_index_column": 6
        },
        {
         "f1name": "Gerard Gordeau",
         "f2name": "Teila Tuli",
         "f1result": "win",
         "f2result": "loss",
         "method": "TKO",
         "method_d": "Head Kick",
         "round": 1,
         "height_win": 77,
         "height_loss": 74,
         "_deepnote_index_column": 7
        },
        {
         "f1name": "Royce Gracie",
         "f2name": "Patrick Smith",
         "f1result": "win",
         "f2result": "loss",
         "method": "Submission",
         "method_d": "Punches",
         "round": 1,
         "height_win": 72,
         "height_loss": 74,
         "_deepnote_index_column": 8
        },
        {
         "f1name": "Royce Gracie",
         "f2name": "Remco Pardoel",
         "f1result": "win",
         "f2result": "loss",
         "method": "Submission",
         "method_d": "Lapel Choke",
         "round": 1,
         "height_win": 72,
         "height_loss": 74,
         "_deepnote_index_column": 9
        },
        {
         "f1name": "Patrick Smith",
         "f2name": "Johnny Rhodes",
         "f1result": "win",
         "f2result": "loss",
         "method": "Submission",
         "method_d": "Guillotine Choke",
         "round": 1,
         "height_win": 74,
         "height_loss": 72,
         "_deepnote_index_column": 10
        },
        {
         "f1name": "Royce Gracie",
         "f2name": "Jason DeLucia",
         "f1result": "win",
         "f2result": "loss",
         "method": "Submission",
         "method_d": "Armlock",
         "round": 1,
         "height_win": 72,
         "height_loss": 71,
         "_deepnote_index_column": 11
        },
        {
         "f1name": "Remco Pardoel",
         "f2name": "Orlando Wiet",
         "f1result": "win",
         "f2result": "loss",
         "method": "KO",
         "method_d": "Elbows",
         "round": 1,
         "height_win": 74,
         "height_loss": 70,
         "_deepnote_index_column": 12
        },
        {
         "f1name": "Johnny Rhodes",
         "f2name": "Fred Ettish",
         "f1result": "win",
         "f2result": "loss",
         "method": "Submission",
         "method_d": "Rear-Naked Choke",
         "round": 1,
         "height_win": 72,
         "height_loss": 72,
         "_deepnote_index_column": 13
        },
        {
         "f1name": "Patrick Smith",
         "f2name": "Scott Morris",
         "f1result": "win",
         "f2result": "loss",
         "method": "KO",
         "method_d": "Elbows",
         "round": 1,
         "height_win": 74,
         "height_loss": 72,
         "_deepnote_index_column": 14
        },
        {
         "f1name": "Royce Gracie",
         "f2name": "Minoki Ichihara",
         "f1result": "win",
         "f2result": "loss",
         "method": "Submission",
         "method_d": "Lapel Choke",
         "round": 1,
         "height_win": 72,
         "height_loss": 67,
         "_deepnote_index_column": 15
        },
        {
         "f1name": "Jason DeLucia",
         "f2name": "Scott Baker",
         "f1result": "win",
         "f2result": "loss",
         "method": "Submission",
         "method_d": "Punches",
         "round": 1,
         "height_win": 71,
         "height_loss": 72,
         "_deepnote_index_column": 16
        },
        {
         "f1name": "Remco Pardoel",
         "f2name": "Alberto Cerra Leon",
         "f1result": "win",
         "f2result": "loss",
         "method": "Submission",
         "method_d": "Armlock",
         "round": 1,
         "height_win": 74,
         "height_loss": 68,
         "_deepnote_index_column": 17
        },
        {
         "f1name": "Orlando Wiet",
         "f2name": "Robert Lucarelli",
         "f1result": "win",
         "f2result": "loss",
         "method": "TKO",
         "method_d": "Knees",
         "round": 1,
         "height_win": 70,
         "height_loss": 74,
         "_deepnote_index_column": 18
        },
        {
         "f1name": "Frank Hamaker",
         "f2name": "Thaddeus Luster",
         "f1result": "win",
         "f2result": "loss",
         "method": "TKO",
         "method_d": "Corner Stoppage",
         "round": 1,
         "height_win": 74,
         "height_loss": 75,
         "_deepnote_index_column": 19
        },
        {
         "f1name": "Johnny Rhodes",
         "f2name": "David Levicki",
         "f1result": "win",
         "f2result": "loss",
         "method": "Submission",
         "method_d": "Punches",
         "round": 1,
         "height_win": 72,
         "height_loss": 77,
         "_deepnote_index_column": 20
        },
        {
         "f1name": "Scott Morris",
         "f2name": "Sean Daugherty",
         "f1result": "win",
         "f2result": "loss",
         "method": "Submission",
         "method_d": "Guillotine Choke",
         "round": 1,
         "height_win": 72,
         "height_loss": 70,
         "_deepnote_index_column": 22
        },
        {
         "f1name": "Steve Jennum",
         "f2name": "Harold Howard",
         "f1result": "win",
         "f2result": "loss",
         "method": "Submission",
         "method_d": "Punches",
         "round": 1,
         "height_win": 70,
         "height_loss": 74,
         "_deepnote_index_column": 23
        },
        {
         "f1name": "Ken Shamrock",
         "f2name": "Felix Mitchell",
         "f1result": "win",
         "f2result": "loss",
         "method": "Submission",
         "method_d": "Rear-Naked Choke",
         "round": 1,
         "height_win": 73,
         "height_loss": 71,
         "_deepnote_index_column": 24
        },
        {
         "f1name": "Royce Gracie",
         "f2name": "Kimo Leopoldo",
         "f1result": "win",
         "f2result": "loss",
         "method": "Submission",
         "method_d": "Armlock",
         "round": 1,
         "height_win": 72,
         "height_loss": 75,
         "_deepnote_index_column": 25
        },
        {
         "f1name": "Harold Howard",
         "f2name": "Roland Payne",
         "f1result": "win",
         "f2result": "loss",
         "method": "KO",
         "method_d": "Punch",
         "round": 1,
         "height_win": 74,
         "height_loss": 69,
         "_deepnote_index_column": 26
        },
        {
         "f1name": "Ken Shamrock",
         "f2name": "Christophe Leninger",
         "f1result": "win",
         "f2result": "loss",
         "method": "Submission",
         "method_d": "Punches",
         "round": 1,
         "height_win": 73,
         "height_loss": 72,
         "_deepnote_index_column": 27
        },
        {
         "f1name": "Keith Hackney",
         "f2name": "Emmanuel Yarborough",
         "f1result": "win",
         "f2result": "loss",
         "method": "TKO",
         "method_d": "Punches",
         "round": 1,
         "height_win": 71,
         "height_loss": 80,
         "_deepnote_index_column": 28
        },
        {
         "f1name": "Royce Gracie",
         "f2name": "Dan Severn",
         "f1result": "win",
         "f2result": "loss",
         "method": "Submission",
         "method_d": "Triangle Choke",
         "round": 1,
         "height_win": 72,
         "height_loss": 74,
         "_deepnote_index_column": 29
        },
        {
         "f1name": "Guy Mezger",
         "f2name": "Jason Fairn",
         "f1result": "win",
         "f2result": "loss",
         "method": "TKO",
         "method_d": "Corner Stoppage",
         "round": 1,
         "height_win": 73,
         "height_loss": 73,
         "_deepnote_index_column": 30
        },
        {
         "f1name": "Dan Severn",
         "f2name": "Marcus Bossett",
         "f1result": "win",
         "f2result": "loss",
         "method": "Submission",
         "method_d": "Rear Naked Choke",
         "round": 1,
         "height_win": 74,
         "height_loss": 73,
         "_deepnote_index_column": 31
        },
        {
         "f1name": "Royce Gracie",
         "f2name": "Keith Hackney",
         "f1result": "win",
         "f2result": "loss",
         "method": "Submission",
         "method_d": "Armlock",
         "round": 1,
         "height_win": 72,
         "height_loss": 71,
         "_deepnote_index_column": 32
        },
        {
         "f1name": "Dan Severn",
         "f2name": "Anthony Macias",
         "f1result": "win",
         "f2result": "loss",
         "method": "Submission",
         "method_d": "Rear Naked Choke",
         "round": 1,
         "height_win": 74,
         "height_loss": 70,
         "_deepnote_index_column": 33
        },
        {
         "f1name": "Steve Jennum",
         "f2name": "Melton Bowen",
         "f1result": "win",
         "f2result": "loss",
         "method": "Submission",
         "method_d": "Armlock",
         "round": 1,
         "height_win": 70,
         "height_loss": 72,
         "_deepnote_index_column": 34
        },
        {
         "f1name": "Keith Hackney",
         "f2name": "Joe Son",
         "f1result": "win",
         "f2result": "loss",
         "method": "Submission",
         "method_d": "Choke",
         "round": 1,
         "height_win": 71,
         "height_loss": 64,
         "_deepnote_index_column": 35
        },
        {
         "f1name": "Royce Gracie",
         "f2name": "Ron van Clief",
         "f1result": "win",
         "f2result": "loss",
         "method": "Submission",
         "method_d": "Rear Naked Choke",
         "round": 1,
         "height_win": 72,
         "height_loss": 70,
         "_deepnote_index_column": 36
        },
        {
         "f1name": "Joe Charles",
         "f2name": "Kevin Rosier",
         "f1result": "win",
         "f2result": "loss",
         "method": "Submission",
         "method_d": "Armbar",
         "round": 1,
         "height_win": 73,
         "height_loss": 76,
         "_deepnote_index_column": 37
        },
        {
         "f1name": "Dan Severn",
         "f2name": "Dave Beneteau",
         "f1result": "win",
         "f2result": "loss",
         "method": "Submission",
         "method_d": "Keylock",
         "round": 1,
         "height_win": 74,
         "height_loss": 74,
         "_deepnote_index_column": 38
        },
        {
         "f1name": "Dan Severn",
         "f2name": "Oleg Taktarov",
         "f1result": "win",
         "f2result": "loss",
         "method": "TKO",
         "method_d": "Cut",
         "round": 1,
         "height_win": 74,
         "height_loss": 72,
         "_deepnote_index_column": 39
        },
        {
         "f1name": "Dave Beneteau",
         "f2name": "Todd Medina",
         "f1result": "win",
         "f2result": "loss",
         "method": "TKO",
         "method_d": "Punches",
         "round": 1,
         "height_win": 74,
         "height_loss": 70,
         "_deepnote_index_column": 40
        },
        {
         "f1name": "Dan Severn",
         "f2name": "Joe Charles",
         "f1result": "win",
         "f2result": "loss",
         "method": "Submission",
         "method_d": "Rear-Naked Choke",
         "round": 1,
         "height_win": 74,
         "height_loss": 73,
         "_deepnote_index_column": 41
        },
        {
         "f1name": "Oleg Taktarov",
         "f2name": "Ernie Verdicia",
         "f1result": "win",
         "f2result": "loss",
         "method": "Submission",
         "method_d": "Choke",
         "round": 1,
         "height_win": 72,
         "height_loss": 70,
         "_deepnote_index_column": 42
        },
        {
         "f1name": "Todd Medina",
         "f2name": "Larry Cureton",
         "f1result": "win",
         "f2result": "loss",
         "method": "TKO",
         "method_d": "Punches",
         "round": 1,
         "height_win": 70,
         "height_loss": 74,
         "_deepnote_index_column": 43
        },
        {
         "f1name": "Jon Hess",
         "f2name": "Andy Anderson",
         "f1result": "win",
         "f2result": "loss",
         "method": "TKO",
         "method_d": "Punches",
         "round": 1,
         "height_win": 79,
         "height_loss": 69,
         "_deepnote_index_column": 44
        },
        {
         "f1name": "Oleg Taktarov",
         "f2name": "David Abbott",
         "f1result": "win",
         "f2result": "loss",
         "method": "Submission",
         "method_d": "Rear-Naked Choke",
         "round": 1,
         "height_win": 72,
         "height_loss": 72,
         "_deepnote_index_column": 47
        },
        {
         "f1name": "Ken Shamrock",
         "f2name": "Dan Severn",
         "f1result": "win",
         "f2result": "loss",
         "method": "Submission",
         "method_d": "Guillotine Choke",
         "round": 1,
         "height_win": 73,
         "height_loss": 74,
         "_deepnote_index_column": 48
        },
        {
         "f1name": "Oleg Taktarov",
         "f2name": "Anthony Macias",
         "f1result": "win",
         "f2result": "loss",
         "method": "Submission",
         "method_d": "Guillotine Choke",
         "round": 1,
         "height_win": 72,
         "height_loss": 70,
         "_deepnote_index_column": 49
        },
        {
         "f1name": "David Abbott",
         "f2name": "Paul Varelans",
         "f1result": "win",
         "f2result": "loss",
         "method": "TKO",
         "method_d": "Punches",
         "round": 1,
         "height_win": 72,
         "height_loss": 80,
         "_deepnote_index_column": 50
        },
        {
         "f1name": "Oleg Taktarov",
         "f2name": "Dave Beneteau",
         "f1result": "win",
         "f2result": "loss",
         "method": "Submission",
         "method_d": "Front Choke",
         "round": 1,
         "height_win": 72,
         "height_loss": 74,
         "_deepnote_index_column": 51
        },
        {
         "f1name": "Patrick Smith",
         "f2name": "Rudyard Moncayo",
         "f1result": "win",
         "f2result": "loss",
         "method": "Submission",
         "method_d": "Rear-Naked Choke",
         "round": 1,
         "height_win": 74,
         "height_loss": 70,
         "_deepnote_index_column": 52
        },
        {
         "f1name": "Paul Varelans",
         "f2name": "Cal Worsham",
         "f1result": "win",
         "f2result": "loss",
         "method": "KO",
         "method_d": "Elbow",
         "round": 1,
         "height_win": 80,
         "height_loss": 70,
         "_deepnote_index_column": 53
        },
        {
         "f1name": "David Abbott",
         "f2name": "John Matua",
         "f1result": "win",
         "f2result": "loss",
         "method": "KO",
         "method_d": "Punch",
         "round": 1,
         "height_win": 72,
         "height_loss": 74,
         "_deepnote_index_column": 54
        },
        {
         "f1name": "Joel Sutton",
         "f2name": "Jack McLaughlin",
         "f1result": "win",
         "f2result": "loss",
         "method": "Submission",
         "method_d": "Punches",
         "round": 1,
         "height_win": 70,
         "height_loss": 70,
         "_deepnote_index_column": 56
        },
        {
         "f1name": "Marco Ruas",
         "f2name": "Paul Varelans",
         "f1result": "win",
         "f2result": "loss",
         "method": "TKO",
         "method_d": "Strikes",
         "round": 1,
         "height_win": 73,
         "height_loss": 80,
         "_deepnote_index_column": 57
        },
        {
         "f1name": "Marco Ruas",
         "f2name": "Remco Pardoel",
         "f1result": "win",
         "f2result": "loss",
         "method": "Submission",
         "method_d": "Position",
         "round": 1,
         "height_win": 73,
         "height_loss": 74,
         "_deepnote_index_column": 58
        }
       ],
       "rows_bottom": [
        {
         "f1name": "Brian Ortega",
         "f2name": "Diego Brandao",
         "f1result": "win",
         "f2result": "loss",
         "method": "Submission",
         "method_d": "Triangle Choke",
         "round": 3,
         "height_win": 69,
         "height_loss": 67,
         "_deepnote_index_column": 3444
        },
        {
         "f1name": "Abel Trujillo",
         "f2name": "Tony Sims",
         "f1result": "win",
         "f2result": "loss",
         "method": "Submission",
         "method_d": "Guillotine Choke",
         "round": 1,
         "height_win": 68,
         "height_loss": 71,
         "_deepnote_index_column": 3445
        },
        {
         "f1name": "Michael McDonald",
         "f2name": "Masanori Kanehara",
         "f1result": "win",
         "f2result": "loss",
         "method": "Submission",
         "method_d": "Rear-Naked Choke",
         "round": 2,
         "height_win": 68,
         "height_loss": 67,
         "_deepnote_index_column": 3446
        },
        {
         "f1name": "Alex Morono",
         "f2name": "Kyle Noke",
         "f1result": "win",
         "f2result": "loss",
         "method": "Decision",
         "method_d": "Split",
         "round": 3,
         "height_win": 71,
         "height_loss": 73,
         "_deepnote_index_column": 3447
        },
        {
         "f1name": "Justine Kish",
         "f2name": "Nina Ansaroff",
         "f1result": "win",
         "f2result": "loss",
         "method": "Decision",
         "method_d": "Unanimous",
         "round": 3,
         "height_win": 65,
         "height_loss": 65,
         "_deepnote_index_column": 3448
        },
        {
         "f1name": "Drew Dober",
         "f2name": "Scott Holtzman",
         "f1result": "win",
         "f2result": "loss",
         "method": "Decision",
         "method_d": "Unanimous",
         "round": 3,
         "height_win": 68,
         "height_loss": 69,
         "_deepnote_index_column": 3449
        },
        {
         "f1name": "Dustin Poirier",
         "f2name": "Joseph Duffy",
         "f1result": "win",
         "f2result": "loss",
         "method": "Decision",
         "method_d": "Unanimous",
         "round": 3,
         "height_win": 69,
         "height_loss": 70,
         "_deepnote_index_column": 3450
        },
        {
         "f1name": "Michinori Tanaka",
         "f2name": "Joe Soto",
         "f1result": "win",
         "f2result": "loss",
         "method": "Decision",
         "method_d": "Split",
         "round": 3,
         "height_win": 65,
         "height_loss": 66,
         "_deepnote_index_column": 3451
        },
        {
         "f1name": "Sheldon Westcott",
         "f2name": "Edgar Garcia",
         "f1result": "win",
         "f2result": "loss",
         "method": "TKO",
         "method_d": "Punches",
         "round": 1,
         "height_win": 73,
         "height_loss": 70,
         "_deepnote_index_column": 3452
        },
        {
         "f1name": "Dominick Cruz",
         "f2name": "T.J. Dillashaw",
         "f1result": "win",
         "f2result": "loss",
         "method": "Decision",
         "method_d": "Split",
         "round": 5,
         "height_win": 68,
         "height_loss": 66,
         "_deepnote_index_column": 3453
        },
        {
         "f1name": "Eddie Alvarez",
         "f2name": "Anthony Pettis",
         "f1result": "win",
         "f2result": "loss",
         "method": "Decision",
         "method_d": "Split",
         "round": 3,
         "height_win": 70,
         "height_loss": 69,
         "_deepnote_index_column": 3454
        },
        {
         "f1name": "Travis Browne",
         "f2name": "Matt Mitrione",
         "f1result": "win",
         "f2result": "loss",
         "method": "TKO",
         "method_d": "Punches",
         "round": 3,
         "height_win": 79,
         "height_loss": 75,
         "_deepnote_index_column": 3455
        },
        {
         "f1name": "Francisco Trinaldo",
         "f2name": "Ross Pearson",
         "f1result": "win",
         "f2result": "loss",
         "method": "Decision",
         "method_d": "Unanimous",
         "round": 3,
         "height_win": 68,
         "height_loss": 68,
         "_deepnote_index_column": 3456
        },
        {
         "f1name": "Patrick Cote",
         "f2name": "Ben Saunders",
         "f1result": "win",
         "f2result": "loss",
         "method": "TKO",
         "method_d": "Punches",
         "round": 2,
         "height_win": 71,
         "height_loss": 75,
         "_deepnote_index_column": 3457
        },
        {
         "f1name": "Ed Herman",
         "f2name": "Tim Boetsch",
         "f1result": "win",
         "f2result": "loss",
         "method": "KO",
         "method_d": "Knee",
         "round": 2,
         "height_win": 74,
         "height_loss": 71,
         "_deepnote_index_column": 3458
        },
        {
         "f1name": "Chris Wade",
         "f2name": "Mehdi Baghdad",
         "f1result": "win",
         "f2result": "loss",
         "method": "Submission",
         "method_d": "Rear-Naked Choke",
         "round": 1,
         "height_win": 69,
         "height_loss": 73,
         "_deepnote_index_column": 3459
        },
        {
         "f1name": "Luke Sanders",
         "f2name": "Maximo Blanco",
         "f1result": "win",
         "f2result": "loss",
         "method": "Submission",
         "method_d": "Rear-Naked Choke",
         "round": 1,
         "height_win": 67,
         "height_loss": 68,
         "_deepnote_index_column": 3460
        },
        {
         "f1name": "Paul Felder",
         "f2name": "Daron Cruickshank",
         "f1result": "win",
         "f2result": "loss",
         "method": "Submission",
         "method_d": "Rear-Naked Choke",
         "round": 3,
         "height_win": 70,
         "height_loss": 68,
         "_deepnote_index_column": 3461
        },
        {
         "f1name": "Ilir Latifi",
         "f2name": "Sean O'Connell",
         "f1result": "win",
         "f2result": "loss",
         "method": "TKO",
         "method_d": "Punches",
         "round": 1,
         "height_win": 68,
         "height_loss": 73,
         "_deepnote_index_column": 3462
        },
        {
         "f1name": "Charles Rosa",
         "f2name": "Kyle Bochniak",
         "f1result": "win",
         "f2result": "loss",
         "method": "Decision",
         "method_d": "Unanimous",
         "round": 3,
         "height_win": 70,
         "height_loss": 69,
         "_deepnote_index_column": 3463
        },
        {
         "f1name": "Rob Font",
         "f2name": "Joey Gomez",
         "f1result": "win",
         "f2result": "loss",
         "method": "TKO",
         "method_d": "Punches",
         "round": 2,
         "height_win": 68,
         "height_loss": 68,
         "_deepnote_index_column": 3464
        },
        {
         "f1name": "Francimar Barroso",
         "f2name": "Elvis Mutapcic",
         "f1result": "win",
         "f2result": "loss",
         "method": "Decision",
         "method_d": "Unanimous",
         "round": 3,
         "height_win": 73,
         "height_loss": 72,
         "_deepnote_index_column": 3465
        },
        {
         "f1name": "Anthony Johnson",
         "f2name": "Ryan Bader",
         "f1result": "win",
         "f2result": "loss",
         "method": "KO",
         "method_d": "Punches",
         "round": 1,
         "height_win": 74,
         "height_loss": 74,
         "_deepnote_index_column": 3466
        },
        {
         "f1name": "Ben Rothwell",
         "f2name": "Josh Barnett",
         "f1result": "win",
         "f2result": "loss",
         "method": "Submission",
         "method_d": "Guillotine Choke",
         "round": 2,
         "height_win": 76,
         "height_loss": 75,
         "_deepnote_index_column": 3467
        },
        {
         "f1name": "Jimmie Rivera",
         "f2name": "Iuri Alcantara",
         "f1result": "win",
         "f2result": "loss",
         "method": "Decision",
         "method_d": "Unanimous",
         "round": 3,
         "height_win": 64,
         "height_loss": 69,
         "_deepnote_index_column": 3468
        },
        {
         "f1name": "Bryan Barberena",
         "f2name": "Sage Northcutt",
         "f1result": "win",
         "f2result": "loss",
         "method": "Submission",
         "method_d": "Arm-Triangle Choke",
         "round": 2,
         "height_win": 72,
         "height_loss": 72,
         "_deepnote_index_column": 3469
        },
        {
         "f1name": "Tarec Saffiedine",
         "f2name": "Jake Ellenberger",
         "f1result": "win",
         "f2result": "loss",
         "method": "Decision",
         "method_d": "Unanimous",
         "round": 3,
         "height_win": 69,
         "height_loss": 69,
         "_deepnote_index_column": 3470
        },
        {
         "f1name": "Carlos Diego Ferreira",
         "f2name": "Olivier Aubin-Mercier",
         "f1result": "win",
         "f2result": "loss",
         "method": "Decision",
         "method_d": "Unanimous",
         "round": 3,
         "height_win": 68,
         "height_loss": 69,
         "_deepnote_index_column": 3471
        },
        {
         "f1name": "Rafael Natal",
         "f2name": "Kevin Casey",
         "f1result": "win",
         "f2result": "loss",
         "method": "TKO",
         "method_d": "Punches",
         "round": 3,
         "height_win": 72,
         "height_loss": 71,
         "_deepnote_index_column": 3472
        },
        {
         "f1name": "Wilson Reis",
         "f2name": "Dustin Ortiz",
         "f1result": "win",
         "f2result": "loss",
         "method": "Decision",
         "method_d": "Unanimous",
         "round": 3,
         "height_win": 64,
         "height_loss": 65,
         "_deepnote_index_column": 3473
        },
        {
         "f1name": "Alexander Yakovlev",
         "f2name": "George Sullivan",
         "f1result": "win",
         "f2result": "loss",
         "method": "KO",
         "method_d": "Punch",
         "round": 1,
         "height_win": 73,
         "height_loss": 72,
         "_deepnote_index_column": 3474
        },
        {
         "f1name": "Alex Caceres",
         "f2name": "Masio Fullen",
         "f1result": "win",
         "f2result": "loss",
         "method": "Decision",
         "method_d": "Unanimous",
         "round": 3,
         "height_win": 69,
         "height_loss": 70,
         "_deepnote_index_column": 3475
        },
        {
         "f1name": "Randy Brown",
         "f2name": "Matt Dwyer",
         "f1result": "win",
         "f2result": "loss",
         "method": "Decision",
         "method_d": "Unanimous",
         "round": 3,
         "height_win": 74,
         "height_loss": 76,
         "_deepnote_index_column": 3476
        },
        {
         "f1name": "Stephen Thompson",
         "f2name": "Johny Hendricks",
         "f1result": "win",
         "f2result": "loss",
         "method": "TKO",
         "method_d": "Punches",
         "round": 1,
         "height_win": 72,
         "height_loss": 69,
         "_deepnote_index_column": 3478
        },
        {
         "f1name": "Roy Nelson",
         "f2name": "Jared Rosholt",
         "f1result": "win",
         "f2result": "loss",
         "method": "Decision",
         "method_d": "Unanimous",
         "round": 3,
         "height_win": 72,
         "height_loss": 74,
         "_deepnote_index_column": 3479
        },
        {
         "f1name": "Ovince St. Preux",
         "f2name": "Rafael Cavalcante",
         "f1result": "win",
         "f2result": "loss",
         "method": "Decision",
         "method_d": "Unanimous",
         "round": 3,
         "height_win": 75,
         "height_loss": 72,
         "_deepnote_index_column": 3480
        },
        {
         "f1name": "Joseph Benavidez",
         "f2name": "Zach Makovsky",
         "f1result": "win",
         "f2result": "loss",
         "method": "Decision",
         "method_d": "Unanimous",
         "round": 3,
         "height_win": 64,
         "height_loss": 64,
         "_deepnote_index_column": 3481
        },
        {
         "f1name": "Misha Cirkunov",
         "f2name": "Alex Nicholson",
         "f1result": "win",
         "f2result": "loss",
         "method": "Submission",
         "method_d": "Neck Crank",
         "round": 2,
         "height_win": 75,
         "height_loss": 76,
         "_deepnote_index_column": 3482
        },
        {
         "f1name": "Mike Pyle",
         "f2name": "Sean Spencer",
         "f1result": "win",
         "f2result": "loss",
         "method": "TKO",
         "method_d": "Elbows and Knees",
         "round": 3,
         "height_win": 73,
         "height_loss": 70,
         "_deepnote_index_column": 3483
        },
        {
         "f1name": "Joshua Burkman",
         "f2name": "K.J. Noons",
         "f1result": "win",
         "f2result": "loss",
         "method": "Decision",
         "method_d": "Unanimous",
         "round": 3,
         "height_win": 70,
         "height_loss": 71,
         "_deepnote_index_column": 3484
        },
        {
         "f1name": "Derrick Lewis",
         "f2name": "Damian Grabowski",
         "f1result": "win",
         "f2result": "loss",
         "method": "TKO",
         "method_d": "Punches",
         "round": 1,
         "height_win": 75,
         "height_loss": 73,
         "_deepnote_index_column": 3485
        },
        {
         "f1name": "Justin Scoggins",
         "f2name": "Ray Borg",
         "f1result": "win",
         "f2result": "loss",
         "method": "Decision",
         "method_d": "Unanimous",
         "round": 3,
         "height_win": 67,
         "height_loss": 64,
         "_deepnote_index_column": 3486
        },
        {
         "f1name": "Alex White",
         "f2name": "Artem Lobov",
         "f1result": "win",
         "f2result": "loss",
         "method": "Decision",
         "method_d": "Unanimous",
         "round": 3,
         "height_win": 72,
         "height_loss": 69,
         "_deepnote_index_column": 3489
        },
        {
         "f1name": "Donald Cerrone",
         "f2name": "Alex Oliveira",
         "f1result": "win",
         "f2result": "loss",
         "method": "Submission",
         "method_d": "Triangle Choke",
         "round": 1,
         "height_win": 71,
         "height_loss": 71,
         "_deepnote_index_column": 3490
        },
        {
         "f1name": "Derek Brunson",
         "f2name": "Roan Carneiro",
         "f1result": "win",
         "f2result": "loss",
         "method": "KO",
         "method_d": "Punches",
         "round": 1,
         "height_win": 73,
         "height_loss": 71,
         "_deepnote_index_column": 3491
        },
        {
         "f1name": "Cody Garbrandt",
         "f2name": "Augusto Mendes",
         "f1result": "win",
         "f2result": "loss",
         "method": "KO",
         "method_d": "Punches",
         "round": 1,
         "height_win": 67,
         "height_loss": 66,
         "_deepnote_index_column": 3492
        },
        {
         "f1name": "Dennis Bermudez",
         "f2name": "Tatsuya Kawajiri",
         "f1result": "win",
         "f2result": "loss",
         "method": "Decision",
         "method_d": "Unanimous",
         "round": 3,
         "height_win": 66,
         "height_loss": 67,
         "_deepnote_index_column": 3493
        },
        {
         "f1name": "Chris Camozzi",
         "f2name": "Joe Riggs",
         "f1result": "win",
         "f2result": "loss",
         "method": "TKO",
         "method_d": "Knees",
         "round": 1,
         "height_win": 75,
         "height_loss": 72,
         "_deepnote_index_column": 3494
        },
        {
         "f1name": "James Krause",
         "f2name": "Shane Campbell",
         "f1result": "win",
         "f2result": "loss",
         "method": "Decision",
         "method_d": "Unanimous",
         "round": 3,
         "height_win": 74,
         "height_loss": 72,
         "_deepnote_index_column": 3495
        },
        {
         "f1name": "Sean Strickland",
         "f2name": "Alex Garcia",
         "f1result": "win",
         "f2result": "loss",
         "method": "TKO",
         "method_d": "Punches",
         "round": 3,
         "height_win": 73,
         "height_loss": 69,
         "_deepnote_index_column": 3496
        },
        {
         "f1name": "Oluwale Bamgbose",
         "f2name": "Daniel Sarafian",
         "f1result": "win",
         "f2result": "loss",
         "method": "KO",
         "method_d": "Head Kick and Punches",
         "round": 1,
         "height_win": 71,
         "height_loss": 69,
         "_deepnote_index_column": 3497
        },
        {
         "f1name": "Anthony Smith",
         "f2name": "Leonardo Guimaraes",
         "f1result": "win",
         "f2result": "loss",
         "method": "Decision",
         "method_d": "Unanimous",
         "round": 3,
         "height_win": 76,
         "height_loss": 72,
         "_deepnote_index_column": 3498
        },
        {
         "f1name": "Nathan Coy",
         "f2name": "Jonavin Webb",
         "f1result": "win",
         "f2result": "loss",
         "method": "Decision",
         "method_d": "Unanimous",
         "round": 3,
         "height_win": 70,
         "height_loss": 69,
         "_deepnote_index_column": 3499
        },
        {
         "f1name": "Ashlee Evans-Smith",
         "f2name": "Marion Reneau",
         "f1result": "win",
         "f2result": "loss",
         "method": "Decision",
         "method_d": "Split",
         "round": 3,
         "height_win": 68,
         "height_loss": 66,
         "_deepnote_index_column": 3500
        },
        {
         "f1name": "Lauren Murphy",
         "f2name": "Kelly Faszholz",
         "f1result": "win",
         "f2result": "loss",
         "method": "TKO",
         "method_d": "Elbows and Punches",
         "round": 3,
         "height_win": 68,
         "height_loss": 68,
         "_deepnote_index_column": 3501
        },
        {
         "f1name": "Shamil Abdurakhimov",
         "f2name": "Anthony Hamilton",
         "f1result": "win",
         "f2result": "loss",
         "method": "Decision",
         "method_d": "Unanimous",
         "round": 3,
         "height_win": 75,
         "height_loss": 77,
         "_deepnote_index_column": 3502
        }
       ]
      },
      "text/plain": "                   f1name              f2name f1result f2result      method  \\\n0            Royce Gracie      Gerard Gordeau      win     loss  Submission   \n1           Jason DeLucia       Trent Jenkins      win     loss  Submission   \n2            Royce Gracie        Ken Shamrock      win     loss  Submission   \n3          Gerard Gordeau        Kevin Rosier      win     loss         TKO   \n4            Ken Shamrock       Patrick Smith      win     loss  Submission   \n...                   ...                 ...      ...      ...         ...   \n3498        Anthony Smith  Leonardo Guimaraes      win     loss    Decision   \n3499           Nathan Coy        Jonavin Webb      win     loss    Decision   \n3500   Ashlee Evans-Smith       Marion Reneau      win     loss    Decision   \n3501        Lauren Murphy      Kelly Faszholz      win     loss         TKO   \n3502  Shamil Abdurakhimov    Anthony Hamilton      win     loss    Decision   \n\n                method_d  round  height_win  height_loss  \n0       Rear-Naked Choke      1        72.0         77.0  \n1       Rear-Naked Choke      1        71.0         74.0  \n2       Rear-Naked Choke      1        72.0         73.0  \n3        Corner Stoppage      1        77.0         76.0  \n4              Heel Hook      1        73.0         74.0  \n...                  ...    ...         ...          ...  \n3498           Unanimous      3        76.0         72.0  \n3499           Unanimous      3        70.0         69.0  \n3500               Split      3        68.0         66.0  \n3501  Elbows and Punches      3        68.0         68.0  \n3502           Unanimous      3        75.0         77.0  \n\n[3433 rows x 9 columns]",
      "text/html": "<div>\n<style scoped>\n    .dataframe tbody tr th:only-of-type {\n        vertical-align: middle;\n    }\n\n    .dataframe tbody tr th {\n        vertical-align: top;\n    }\n\n    .dataframe thead th {\n        text-align: right;\n    }\n</style>\n<table border=\"1\" class=\"dataframe\">\n  <thead>\n    <tr style=\"text-align: right;\">\n      <th></th>\n      <th>f1name</th>\n      <th>f2name</th>\n      <th>f1result</th>\n      <th>f2result</th>\n      <th>method</th>\n      <th>method_d</th>\n      <th>round</th>\n      <th>height_win</th>\n      <th>height_loss</th>\n    </tr>\n  </thead>\n  <tbody>\n    <tr>\n      <th>0</th>\n      <td>Royce Gracie</td>\n      <td>Gerard Gordeau</td>\n      <td>win</td>\n      <td>loss</td>\n      <td>Submission</td>\n      <td>Rear-Naked Choke</td>\n      <td>1</td>\n      <td>72.0</td>\n      <td>77.0</td>\n    </tr>\n    <tr>\n      <th>1</th>\n      <td>Jason DeLucia</td>\n      <td>Trent Jenkins</td>\n      <td>win</td>\n      <td>loss</td>\n      <td>Submission</td>\n      <td>Rear-Naked Choke</td>\n      <td>1</td>\n      <td>71.0</td>\n      <td>74.0</td>\n    </tr>\n    <tr>\n      <th>2</th>\n      <td>Royce Gracie</td>\n      <td>Ken Shamrock</td>\n      <td>win</td>\n      <td>loss</td>\n      <td>Submission</td>\n      <td>Rear-Naked Choke</td>\n      <td>1</td>\n      <td>72.0</td>\n      <td>73.0</td>\n    </tr>\n    <tr>\n      <th>3</th>\n      <td>Gerard Gordeau</td>\n      <td>Kevin Rosier</td>\n      <td>win</td>\n      <td>loss</td>\n      <td>TKO</td>\n      <td>Corner Stoppage</td>\n      <td>1</td>\n      <td>77.0</td>\n      <td>76.0</td>\n    </tr>\n    <tr>\n      <th>4</th>\n      <td>Ken Shamrock</td>\n      <td>Patrick Smith</td>\n      <td>win</td>\n      <td>loss</td>\n      <td>Submission</td>\n      <td>Heel Hook</td>\n      <td>1</td>\n      <td>73.0</td>\n      <td>74.0</td>\n    </tr>\n    <tr>\n      <th>...</th>\n      <td>...</td>\n      <td>...</td>\n      <td>...</td>\n      <td>...</td>\n      <td>...</td>\n      <td>...</td>\n      <td>...</td>\n      <td>...</td>\n      <td>...</td>\n    </tr>\n    <tr>\n      <th>3498</th>\n      <td>Anthony Smith</td>\n      <td>Leonardo Guimaraes</td>\n      <td>win</td>\n      <td>loss</td>\n      <td>Decision</td>\n      <td>Unanimous</td>\n      <td>3</td>\n      <td>76.0</td>\n      <td>72.0</td>\n    </tr>\n    <tr>\n      <th>3499</th>\n      <td>Nathan Coy</td>\n      <td>Jonavin Webb</td>\n      <td>win</td>\n      <td>loss</td>\n      <td>Decision</td>\n      <td>Unanimous</td>\n      <td>3</td>\n      <td>70.0</td>\n      <td>69.0</td>\n    </tr>\n    <tr>\n      <th>3500</th>\n      <td>Ashlee Evans-Smith</td>\n      <td>Marion Reneau</td>\n      <td>win</td>\n      <td>loss</td>\n      <td>Decision</td>\n      <td>Split</td>\n      <td>3</td>\n      <td>68.0</td>\n      <td>66.0</td>\n    </tr>\n    <tr>\n      <th>3501</th>\n      <td>Lauren Murphy</td>\n      <td>Kelly Faszholz</td>\n      <td>win</td>\n      <td>loss</td>\n      <td>TKO</td>\n      <td>Elbows and Punches</td>\n      <td>3</td>\n      <td>68.0</td>\n      <td>68.0</td>\n    </tr>\n    <tr>\n      <th>3502</th>\n      <td>Shamil Abdurakhimov</td>\n      <td>Anthony Hamilton</td>\n      <td>win</td>\n      <td>loss</td>\n      <td>Decision</td>\n      <td>Unanimous</td>\n      <td>3</td>\n      <td>75.0</td>\n      <td>77.0</td>\n    </tr>\n  </tbody>\n</table>\n<p>3433 rows × 9 columns</p>\n</div>"
     },
     "metadata": {},
     "output_type": "display_data"
    },
    {
     "data": {
      "application/vnd.deepnote.dataframe.v2+json": {
       "row_count": 8,
       "column_count": 3,
       "columns": [
        {
         "name": "round",
         "dtype": "float64",
         "stats": {
          "unique_count": 6,
          "nan_count": 0,
          "min": "1.0",
          "max": "3433.0",
          "histogram": [
           {
            "bin_start": 1,
            "bin_end": 344.2,
            "count": 7
           },
           {
            "bin_start": 344.2,
            "bin_end": 687.4,
            "count": 0
           },
           {
            "bin_start": 687.4,
            "bin_end": 1030.6,
            "count": 0
           },
           {
            "bin_start": 1030.6,
            "bin_end": 1373.8,
            "count": 0
           },
           {
            "bin_start": 1373.8,
            "bin_end": 1717,
            "count": 0
           },
           {
            "bin_start": 1717,
            "bin_end": 2060.2,
            "count": 0
           },
           {
            "bin_start": 2060.2,
            "bin_end": 2403.4,
            "count": 0
           },
           {
            "bin_start": 2403.4,
            "bin_end": 2746.6,
            "count": 0
           },
           {
            "bin_start": 2746.6,
            "bin_end": 3089.7999999999997,
            "count": 0
           },
           {
            "bin_start": 3089.7999999999997,
            "bin_end": 3433,
            "count": 1
           }
          ]
         }
        },
        {
         "name": "height_win",
         "dtype": "float64",
         "stats": {
          "unique_count": 8,
          "nan_count": 0,
          "min": "3.241823417327601",
          "max": "3433.0",
          "histogram": [
           {
            "bin_start": 3.241823417327601,
            "bin_end": 346.2176410755949,
            "count": 7
           },
           {
            "bin_start": 346.2176410755949,
            "bin_end": 689.1934587338621,
            "count": 0
           },
           {
            "bin_start": 689.1934587338621,
            "bin_end": 1032.1692763921294,
            "count": 0
           },
           {
            "bin_start": 1032.1692763921294,
            "bin_end": 1375.1450940503967,
            "count": 0
           },
           {
            "bin_start": 1375.1450940503967,
            "bin_end": 1718.120911708664,
            "count": 0
           },
           {
            "bin_start": 1718.120911708664,
            "bin_end": 2061.096729366931,
            "count": 0
           },
           {
            "bin_start": 2061.096729366931,
            "bin_end": 2404.072547025198,
            "count": 0
           },
           {
            "bin_start": 2404.072547025198,
            "bin_end": 2747.0483646834655,
            "count": 0
           },
           {
            "bin_start": 2747.0483646834655,
            "bin_end": 3090.0241823417327,
            "count": 0
           },
           {
            "bin_start": 3090.0241823417327,
            "bin_end": 3433,
            "count": 1
           }
          ]
         }
        },
        {
         "name": "height_loss",
         "dtype": "float64",
         "stats": {
          "unique_count": 8,
          "nan_count": 0,
          "min": "3.167348218615099",
          "max": "3433.0",
          "histogram": [
           {
            "bin_start": 3.167348218615099,
            "bin_end": 346.15061339675356,
            "count": 7
           },
           {
            "bin_start": 346.15061339675356,
            "bin_end": 689.133878574892,
            "count": 0
           },
           {
            "bin_start": 689.133878574892,
            "bin_end": 1032.1171437530306,
            "count": 0
           },
           {
            "bin_start": 1032.1171437530306,
            "bin_end": 1375.100408931169,
            "count": 0
           },
           {
            "bin_start": 1375.100408931169,
            "bin_end": 1718.0836741093076,
            "count": 0
           },
           {
            "bin_start": 1718.0836741093076,
            "bin_end": 2061.066939287446,
            "count": 0
           },
           {
            "bin_start": 2061.066939287446,
            "bin_end": 2404.0502044655846,
            "count": 0
           },
           {
            "bin_start": 2404.0502044655846,
            "bin_end": 2747.033469643723,
            "count": 0
           },
           {
            "bin_start": 2747.033469643723,
            "bin_end": 3090.0167348218615,
            "count": 0
           },
           {
            "bin_start": 3090.0167348218615,
            "bin_end": 3433,
            "count": 1
           }
          ]
         }
        },
        {
         "name": "_deepnote_index_column",
         "dtype": "object"
        }
       ],
       "rows_top": [
        {
         "round": 3433,
         "height_win": 3433,
         "height_loss": 3433,
         "_deepnote_index_column": "count"
        },
        {
         "round": 2.224876201572968,
         "height_win": 70.85959801922517,
         "height_loss": 70.78153218759103,
         "_deepnote_index_column": "mean"
        },
        {
         "round": 1.011932820849244,
         "height_win": 3.241823417327601,
         "height_loss": 3.167348218615099,
         "_deepnote_index_column": "std"
        },
        {
         "round": 1,
         "height_win": 61,
         "height_loss": 61,
         "_deepnote_index_column": "min"
        },
        {
         "round": 1,
         "height_win": 69,
         "height_loss": 69,
         "_deepnote_index_column": "25%"
        },
        {
         "round": 3,
         "height_win": 71,
         "height_loss": 71,
         "_deepnote_index_column": "50%"
        },
        {
         "round": 3,
         "height_win": 73,
         "height_loss": 73,
         "_deepnote_index_column": "75%"
        },
        {
         "round": 5,
         "height_win": 84,
         "height_loss": 84,
         "_deepnote_index_column": "max"
        }
       ],
       "rows_bottom": null
      },
      "text/plain": "             round   height_win  height_loss\ncount  3433.000000  3433.000000  3433.000000\nmean      2.224876    70.859598    70.781532\nstd       1.011933     3.241823     3.167348\nmin       1.000000    61.000000    61.000000\n25%       1.000000    69.000000    69.000000\n50%       3.000000    71.000000    71.000000\n75%       3.000000    73.000000    73.000000\nmax       5.000000    84.000000    84.000000",
      "text/html": "<div>\n<style scoped>\n    .dataframe tbody tr th:only-of-type {\n        vertical-align: middle;\n    }\n\n    .dataframe tbody tr th {\n        vertical-align: top;\n    }\n\n    .dataframe thead th {\n        text-align: right;\n    }\n</style>\n<table border=\"1\" class=\"dataframe\">\n  <thead>\n    <tr style=\"text-align: right;\">\n      <th></th>\n      <th>round</th>\n      <th>height_win</th>\n      <th>height_loss</th>\n    </tr>\n  </thead>\n  <tbody>\n    <tr>\n      <th>count</th>\n      <td>3433.000000</td>\n      <td>3433.000000</td>\n      <td>3433.000000</td>\n    </tr>\n    <tr>\n      <th>mean</th>\n      <td>2.224876</td>\n      <td>70.859598</td>\n      <td>70.781532</td>\n    </tr>\n    <tr>\n      <th>std</th>\n      <td>1.011933</td>\n      <td>3.241823</td>\n      <td>3.167348</td>\n    </tr>\n    <tr>\n      <th>min</th>\n      <td>1.000000</td>\n      <td>61.000000</td>\n      <td>61.000000</td>\n    </tr>\n    <tr>\n      <th>25%</th>\n      <td>1.000000</td>\n      <td>69.000000</td>\n      <td>69.000000</td>\n    </tr>\n    <tr>\n      <th>50%</th>\n      <td>3.000000</td>\n      <td>71.000000</td>\n      <td>71.000000</td>\n    </tr>\n    <tr>\n      <th>75%</th>\n      <td>3.000000</td>\n      <td>73.000000</td>\n      <td>73.000000</td>\n    </tr>\n    <tr>\n      <th>max</th>\n      <td>5.000000</td>\n      <td>84.000000</td>\n      <td>84.000000</td>\n    </tr>\n  </tbody>\n</table>\n</div>"
     },
     "metadata": {},
     "output_type": "display_data"
    }
   ]
  },
  {
   "cell_type": "code",
   "metadata": {
    "tags": [],
    "cell_id": "00012-56fe1d65-9168-474b-a740-878db7b2346e",
    "deepnote_to_be_reexecuted": false,
    "source_hash": "fa803e59",
    "execution_start": 1627680814814,
    "execution_millis": 378,
    "deepnote_cell_type": "code"
   },
   "source": "height_loss = merged_fights['height_loss']\nheight_win = merged_fights['height_win']\n\n\nplt.hist(height_loss, alpha = 0.5, bins = 20)\nplt.hist(height_win, color = 'indianred', alpha = 0.5, bins = 20)\n\n## Use matplotlib to create overlapping histograms.\n## Set color, transparency, bins, with options to normalize.",
   "execution_count": 5,
   "outputs": [
    {
     "output_type": "execute_result",
     "execution_count": 5,
     "data": {
      "text/plain": "(array([ 19.,  34.,  45.,  65., 183., 182., 613., 391., 356., 428., 407.,\n        323., 198., 137.,  14.,  11.,  14.,   0.,   2.,  11.]),\n array([61.  , 62.15, 63.3 , 64.45, 65.6 , 66.75, 67.9 , 69.05, 70.2 ,\n        71.35, 72.5 , 73.65, 74.8 , 75.95, 77.1 , 78.25, 79.4 , 80.55,\n        81.7 , 82.85, 84.  ]),\n <BarContainer object of 20 artists>)"
     },
     "metadata": {}
    },
    {
     "data": {
      "text/plain": "<Figure size 432x288 with 1 Axes>",
      "image/png": "[encoded data removed]"
     },
     "metadata": {
      "needs_background": "light",
      "image/png": {
       "width": 379,
       "height": 249
      }
     },
     "output_type": "display_data"
    }
   ]
  },
  {
   "cell_type": "code",
   "metadata": {
    "tags": [],
    "cell_id": "00007-350d0fd3-a42b-4b41-8649-77df3d301372",
    "deepnote_to_be_reexecuted": false,
    "source_hash": "3304e343",
    "execution_start": 1627680815237,
    "execution_millis": 1757,
    "deepnote_cell_type": "code"
   },
   "source": "display(sns.jointplot(height_loss,height_win,kind = 'hex'),sns.displot(data = merged_fights[['height_win','height_loss']]))\n\n## Seaborn jointplot and displot. \n## In order to focus on height, must use \n## merged_fights[['height_win','height_loss']]\n## to reference specific subset.",
   "execution_count": 6,
   "outputs": [
    {
     "name": "stderr",
     "text": "/shared-libs/python3.9/py/lib/python3.9/site-packages/seaborn/_decorators.py:36: FutureWarning: Pass the following variables as keyword args: x, y. From version 0.12, the only valid positional argument will be `data`, and passing other arguments without an explicit keyword will result in an error or misinterpretation.\n  warnings.warn(\n",
     "output_type": "stream"
    },
    {
     "data": {
      "text/plain": "<seaborn.axisgrid.JointGrid at 0x7f2454f26640>"
     },
     "metadata": {},
     "output_type": "display_data"
    },
    {
     "data": {
      "text/plain": "<seaborn.axisgrid.FacetGrid at 0x7f24545be070>"
     },
     "metadata": {},
     "output_type": "display_data"
    },
    {
     "data": {
      "text/plain": "<Figure size 432x432 with 3 Axes>",
      "image/png": "[encoded data removed]"
     },
     "metadata": {
      "needs_background": "light",
      "image/png": {
       "width": 421,
       "height": 424
      }
     },
     "output_type": "display_data"
    },
    {
     "data": {
      "text/plain": "<Figure size 452.375x360 with 1 Axes>",
      "image/png": "[encoded data removed]"
     },
     "metadata": {
      "needs_background": "light",
      "image/png": {
       "width": 450,
       "height": 352
      }
     },
     "output_type": "display_data"
    }
   ]
  },
  {
   "cell_type": "markdown",
   "source": "Mean height for winners and losers does not differ significantly.\nHistogram shows similar story, but with a sizeable spike at 68\" in terms of losses with reach disadvantage.\n\nAs expected, same min/max for both. Same shortest/tallest fighter just needs to win/lose at least once.",
   "metadata": {
    "tags": [],
    "cell_id": "00007-ea854723-c9bc-4e91-bbe0-cb4255c8c415",
    "deepnote_cell_type": "markdown"
   }
  },
  {
   "cell_type": "markdown",
   "source": "## Height Advantage",
   "metadata": {
    "tags": [],
    "is_collapsed": false,
    "cell_id": "00007-646c5412-9e24-4f47-8c6a-ba41523655e8",
    "deepnote_cell_type": "text-cell-h2"
   }
  },
  {
   "cell_type": "code",
   "metadata": {
    "tags": [],
    "cell_id": "00007-4403987b-c303-4bcb-9b0a-05eb70c0f29e",
    "deepnote_to_be_reexecuted": false,
    "source_hash": "9a3817f2",
    "execution_start": 1627680817045,
    "execution_millis": 44,
    "is_output_hidden": false,
    "deepnote_cell_type": "code"
   },
   "source": "height_adv = merged_fights[[\"height_loss\",\"height_win\"]]\n\nheight_adv = height_adv.diff(axis = 1).drop('height_loss',axis = 1).rename(columns = {'height_win':'height_advantage'}).dropna(axis = 0)\n\n## Using .diff(axis = 1) to calculate winner's height advantage. \n## Drop null.\n\ndisplay(height_adv,height_adv.describe())",
   "execution_count": 7,
   "outputs": [
    {
     "data": {
      "application/vnd.deepnote.dataframe.v2+json": {
       "row_count": 3433,
       "column_count": 1,
       "columns": [
        {
         "name": "height_advantage",
         "dtype": "float64",
         "stats": {
          "unique_count": 26,
          "nan_count": 0,
          "min": "-14.0",
          "max": "13.0",
          "histogram": [
           {
            "bin_start": -14,
            "bin_end": -11.3,
            "count": 2
           },
           {
            "bin_start": -11.3,
            "bin_end": -8.6,
            "count": 4
           },
           {
            "bin_start": -8.6,
            "bin_end": -5.899999999999999,
            "count": 63
           },
           {
            "bin_start": -5.899999999999999,
            "bin_end": -3.1999999999999993,
            "count": 197
           },
           {
            "bin_start": -3.1999999999999993,
            "bin_end": -0.5,
            "count": 1104
           },
           {
            "bin_start": -0.5,
            "bin_end": 2.200000000000003,
            "count": 1509
           },
           {
            "bin_start": 2.200000000000003,
            "bin_end": 4.900000000000002,
            "count": 410
           },
           {
            "bin_start": 4.900000000000002,
            "bin_end": 7.600000000000001,
            "count": 126
           },
           {
            "bin_start": 7.600000000000001,
            "bin_end": 10.3,
            "count": 15
           },
           {
            "bin_start": 10.3,
            "bin_end": 13,
            "count": 3
           }
          ]
         }
        },
        {
         "name": "_deepnote_index_column",
         "dtype": "int64"
        }
       ],
       "rows_top": [
        {
         "height_advantage": -5,
         "_deepnote_index_column": 0
        },
        {
         "height_advantage": -3,
         "_deepnote_index_column": 1
        },
        {
         "height_advantage": -1,
         "_deepnote_index_column": 2
        },
        {
         "height_advantage": 1,
         "_deepnote_index_column": 3
        },
        {
         "height_advantage": -1,
         "_deepnote_index_column": 4
        },
        {
         "height_advantage": -1,
         "_deepnote_index_column": 5
        },
        {
         "height_advantage": -2,
         "_deepnote_index_column": 6
        },
        {
         "height_advantage": 3,
         "_deepnote_index_column": 7
        },
        {
         "height_advantage": -2,
         "_deepnote_index_column": 8
        },
        {
         "height_advantage": -2,
         "_deepnote_index_column": 9
        },
        {
         "height_advantage": 2,
         "_deepnote_index_column": 10
        },
        {
         "height_advantage": 1,
         "_deepnote_index_column": 11
        },
        {
         "height_advantage": 4,
         "_deepnote_index_column": 12
        },
        {
         "height_advantage": 0,
         "_deepnote_index_column": 13
        },
        {
         "height_advantage": 2,
         "_deepnote_index_column": 14
        },
        {
         "height_advantage": 5,
         "_deepnote_index_column": 15
        },
        {
         "height_advantage": -1,
         "_deepnote_index_column": 16
        },
        {
         "height_advantage": 6,
         "_deepnote_index_column": 17
        },
        {
         "height_advantage": -4,
         "_deepnote_index_column": 18
        },
        {
         "height_advantage": -1,
         "_deepnote_index_column": 19
        },
        {
         "height_advantage": -5,
         "_deepnote_index_column": 20
        },
        {
         "height_advantage": 2,
         "_deepnote_index_column": 22
        },
        {
         "height_advantage": -4,
         "_deepnote_index_column": 23
        },
        {
         "height_advantage": 2,
         "_deepnote_index_column": 24
        },
        {
         "height_advantage": -3,
         "_deepnote_index_column": 25
        },
        {
         "height_advantage": 5,
         "_deepnote_index_column": 26
        },
        {
         "height_advantage": 1,
         "_deepnote_index_column": 27
        },
        {
         "height_advantage": -9,
         "_deepnote_index_column": 28
        },
        {
         "height_advantage": -2,
         "_deepnote_index_column": 29
        },
        {
         "height_advantage": 0,
         "_deepnote_index_column": 30
        },
        {
         "height_advantage": 1,
         "_deepnote_index_column": 31
        },
        {
         "height_advantage": 1,
         "_deepnote_index_column": 32
        },
        {
         "height_advantage": 4,
         "_deepnote_index_column": 33
        },
        {
         "height_advantage": -2,
         "_deepnote_index_column": 34
        },
        {
         "height_advantage": 7,
         "_deepnote_index_column": 35
        },
        {
         "height_advantage": 2,
         "_deepnote_index_column": 36
        },
        {
         "height_advantage": -3,
         "_deepnote_index_column": 37
        },
        {
         "height_advantage": 0,
         "_deepnote_index_column": 38
        },
        {
         "height_advantage": 2,
         "_deepnote_index_column": 39
        },
        {
         "height_advantage": 4,
         "_deepnote_index_column": 40
        },
        {
         "height_advantage": 1,
         "_deepnote_index_column": 41
        },
        {
         "height_advantage": 2,
         "_deepnote_index_column": 42
        },
        {
         "height_advantage": -4,
         "_deepnote_index_column": 43
        },
        {
         "height_advantage": 10,
         "_deepnote_index_column": 44
        },
        {
         "height_advantage": 0,
         "_deepnote_index_column": 47
        },
        {
         "height_advantage": -1,
         "_deepnote_index_column": 48
        },
        {
         "height_advantage": 2,
         "_deepnote_index_column": 49
        },
        {
         "height_advantage": -8,
         "_deepnote_index_column": 50
        },
        {
         "height_advantage": -2,
         "_deepnote_index_column": 51
        },
        {
         "height_advantage": 4,
         "_deepnote_index_column": 52
        },
        {
         "height_advantage": 10,
         "_deepnote_index_column": 53
        },
        {
         "height_advantage": -2,
         "_deepnote_index_column": 54
        },
        {
         "height_advantage": 0,
         "_deepnote_index_column": 56
        },
        {
         "height_advantage": -7,
         "_deepnote_index_column": 57
        },
        {
         "height_advantage": -1,
         "_deepnote_index_column": 58
        },
        {
         "height_advantage": 8,
         "_deepnote_index_column": 59
        },
        {
         "height_advantage": -1,
         "_deepnote_index_column": 60
        },
        {
         "height_advantage": -1,
         "_deepnote_index_column": 61
        },
        {
         "height_advantage": -2,
         "_deepnote_index_column": 62
        },
        {
         "height_advantage": 0,
         "_deepnote_index_column": 63
        },
        {
         "height_advantage": 4,
         "_deepnote_index_column": 64
        },
        {
         "height_advantage": -2,
         "_deepnote_index_column": 67
        },
        {
         "height_advantage": -2,
         "_deepnote_index_column": 68
        },
        {
         "height_advantage": 4,
         "_deepnote_index_column": 69
        },
        {
         "height_advantage": -2,
         "_deepnote_index_column": 70
        },
        {
         "height_advantage": 0,
         "_deepnote_index_column": 72
        },
        {
         "height_advantage": 0,
         "_deepnote_index_column": 74
        },
        {
         "height_advantage": 6,
         "_deepnote_index_column": 75
        },
        {
         "height_advantage": 1,
         "_deepnote_index_column": 76
        },
        {
         "height_advantage": 4,
         "_deepnote_index_column": 77
        },
        {
         "height_advantage": -7,
         "_deepnote_index_column": 78
        },
        {
         "height_advantage": -5,
         "_deepnote_index_column": 79
        },
        {
         "height_advantage": 6,
         "_deepnote_index_column": 80
        },
        {
         "height_advantage": -8,
         "_deepnote_index_column": 81
        },
        {
         "height_advantage": 0,
         "_deepnote_index_column": 83
        },
        {
         "height_advantage": -2,
         "_deepnote_index_column": 84
        },
        {
         "height_advantage": -3,
         "_deepnote_index_column": 85
        },
        {
         "height_advantage": 6,
         "_deepnote_index_column": 86
        },
        {
         "height_advantage": 0,
         "_deepnote_index_column": 87
        },
        {
         "height_advantage": 0,
         "_deepnote_index_column": 88
        },
        {
         "height_advantage": 1,
         "_deepnote_index_column": 89
        },
        {
         "height_advantage": 4,
         "_deepnote_index_column": 90
        },
        {
         "height_advantage": -1,
         "_deepnote_index_column": 92
        },
        {
         "height_advantage": -3,
         "_deepnote_index_column": 93
        },
        {
         "height_advantage": -1,
         "_deepnote_index_column": 94
        },
        {
         "height_advantage": -3,
         "_deepnote_index_column": 95
        },
        {
         "height_advantage": 5,
         "_deepnote_index_column": 96
        },
        {
         "height_advantage": -2,
         "_deepnote_index_column": 97
        },
        {
         "height_advantage": -3,
         "_deepnote_index_column": 99
        },
        {
         "height_advantage": -3,
         "_deepnote_index_column": 100
        },
        {
         "height_advantage": -5,
         "_deepnote_index_column": 101
        },
        {
         "height_advantage": 2,
         "_deepnote_index_column": 102
        },
        {
         "height_advantage": -2,
         "_deepnote_index_column": 103
        },
        {
         "height_advantage": -1,
         "_deepnote_index_column": 105
        },
        {
         "height_advantage": 1,
         "_deepnote_index_column": 106
        },
        {
         "height_advantage": 1,
         "_deepnote_index_column": 107
        },
        {
         "height_advantage": 0,
         "_deepnote_index_column": 108
        },
        {
         "height_advantage": 1,
         "_deepnote_index_column": 109
        },
        {
         "height_advantage": -1,
         "_deepnote_index_column": 110
        },
        {
         "height_advantage": 1,
         "_deepnote_index_column": 111
        },
        {
         "height_advantage": 2,
         "_deepnote_index_column": 112
        },
        {
         "height_advantage": -2,
         "_deepnote_index_column": 113
        },
        {
         "height_advantage": -2,
         "_deepnote_index_column": 114
        },
        {
         "height_advantage": 3,
         "_deepnote_index_column": 115
        },
        {
         "height_advantage": -1,
         "_deepnote_index_column": 116
        },
        {
         "height_advantage": 0,
         "_deepnote_index_column": 119
        },
        {
         "height_advantage": 0,
         "_deepnote_index_column": 120
        },
        {
         "height_advantage": -1,
         "_deepnote_index_column": 121
        },
        {
         "height_advantage": -3,
         "_deepnote_index_column": 122
        },
        {
         "height_advantage": 1,
         "_deepnote_index_column": 125
        },
        {
         "height_advantage": 1,
         "_deepnote_index_column": 128
        },
        {
         "height_advantage": 2,
         "_deepnote_index_column": 129
        },
        {
         "height_advantage": -2,
         "_deepnote_index_column": 130
        },
        {
         "height_advantage": -3,
         "_deepnote_index_column": 131
        },
        {
         "height_advantage": 2,
         "_deepnote_index_column": 132
        },
        {
         "height_advantage": -3,
         "_deepnote_index_column": 133
        },
        {
         "height_advantage": -5,
         "_deepnote_index_column": 135
        },
        {
         "height_advantage": 2,
         "_deepnote_index_column": 137
        },
        {
         "height_advantage": 5,
         "_deepnote_index_column": 138
        },
        {
         "height_advantage": 1,
         "_deepnote_index_column": 139
        },
        {
         "height_advantage": 8,
         "_deepnote_index_column": 140
        },
        {
         "height_advantage": -2,
         "_deepnote_index_column": 141
        },
        {
         "height_advantage": -3,
         "_deepnote_index_column": 142
        },
        {
         "height_advantage": -4,
         "_deepnote_index_column": 143
        },
        {
         "height_advantage": 2,
         "_deepnote_index_column": 144
        },
        {
         "height_advantage": 1,
         "_deepnote_index_column": 145
        },
        {
         "height_advantage": 5,
         "_deepnote_index_column": 146
        },
        {
         "height_advantage": -2,
         "_deepnote_index_column": 147
        },
        {
         "height_advantage": -6,
         "_deepnote_index_column": 148
        },
        {
         "height_advantage": 2,
         "_deepnote_index_column": 149
        },
        {
         "height_advantage": -3,
         "_deepnote_index_column": 150
        },
        {
         "height_advantage": 2,
         "_deepnote_index_column": 151
        },
        {
         "height_advantage": 4,
         "_deepnote_index_column": 152
        },
        {
         "height_advantage": 0,
         "_deepnote_index_column": 153
        },
        {
         "height_advantage": 1,
         "_deepnote_index_column": 154
        },
        {
         "height_advantage": -6,
         "_deepnote_index_column": 155
        },
        {
         "height_advantage": 1,
         "_deepnote_index_column": 156
        },
        {
         "height_advantage": -3,
         "_deepnote_index_column": 157
        },
        {
         "height_advantage": -1,
         "_deepnote_index_column": 159
        },
        {
         "height_advantage": 2,
         "_deepnote_index_column": 160
        },
        {
         "height_advantage": 1,
         "_deepnote_index_column": 161
        },
        {
         "height_advantage": -1,
         "_deepnote_index_column": 162
        },
        {
         "height_advantage": 2,
         "_deepnote_index_column": 163
        },
        {
         "height_advantage": 2,
         "_deepnote_index_column": 164
        },
        {
         "height_advantage": 0,
         "_deepnote_index_column": 165
        },
        {
         "height_advantage": 3,
         "_deepnote_index_column": 166
        },
        {
         "height_advantage": 1,
         "_deepnote_index_column": 167
        },
        {
         "height_advantage": 4,
         "_deepnote_index_column": 168
        },
        {
         "height_advantage": 4,
         "_deepnote_index_column": 169
        },
        {
         "height_advantage": 1,
         "_deepnote_index_column": 170
        },
        {
         "height_advantage": 1,
         "_deepnote_index_column": 171
        },
        {
         "height_advantage": -1,
         "_deepnote_index_column": 172
        },
        {
         "height_advantage": -4,
         "_deepnote_index_column": 173
        },
        {
         "height_advantage": 3,
         "_deepnote_index_column": 174
        },
        {
         "height_advantage": 1,
         "_deepnote_index_column": 175
        },
        {
         "height_advantage": 3,
         "_deepnote_index_column": 177
        },
        {
         "height_advantage": -1,
         "_deepnote_index_column": 178
        },
        {
         "height_advantage": 3,
         "_deepnote_index_column": 179
        },
        {
         "height_advantage": -1,
         "_deepnote_index_column": 180
        },
        {
         "height_advantage": 3,
         "_deepnote_index_column": 182
        },
        {
         "height_advantage": 1,
         "_deepnote_index_column": 184
        },
        {
         "height_advantage": 2,
         "_deepnote_index_column": 185
        },
        {
         "height_advantage": 1,
         "_deepnote_index_column": 186
        },
        {
         "height_advantage": -2,
         "_deepnote_index_column": 187
        },
        {
         "height_advantage": -2,
         "_deepnote_index_column": 188
        },
        {
         "height_advantage": 0,
         "_deepnote_index_column": 190
        },
        {
         "height_advantage": -2,
         "_deepnote_index_column": 191
        },
        {
         "height_advantage": -4,
         "_deepnote_index_column": 192
        },
        {
         "height_advantage": -1,
         "_deepnote_index_column": 193
        },
        {
         "height_advantage": -4,
         "_deepnote_index_column": 194
        },
        {
         "height_advantage": 5,
         "_deepnote_index_column": 195
        },
        {
         "height_advantage": 0,
         "_deepnote_index_column": 196
        },
        {
         "height_advantage": 6,
         "_deepnote_index_column": 197
        },
        {
         "height_advantage": -1,
         "_deepnote_index_column": 198
        },
        {
         "height_advantage": 2,
         "_deepnote_index_column": 199
        },
        {
         "height_advantage": 2,
         "_deepnote_index_column": 200
        },
        {
         "height_advantage": -1,
         "_deepnote_index_column": 201
        },
        {
         "height_advantage": 2,
         "_deepnote_index_column": 202
        },
        {
         "height_advantage": 1,
         "_deepnote_index_column": 203
        },
        {
         "height_advantage": -2,
         "_deepnote_index_column": 204
        },
        {
         "height_advantage": 4,
         "_deepnote_index_column": 205
        },
        {
         "height_advantage": 2,
         "_deepnote_index_column": 206
        },
        {
         "height_advantage": 1,
         "_deepnote_index_column": 207
        },
        {
         "height_advantage": 2,
         "_deepnote_index_column": 208
        },
        {
         "height_advantage": -3,
         "_deepnote_index_column": 209
        },
        {
         "height_advantage": 3,
         "_deepnote_index_column": 210
        },
        {
         "height_advantage": -3,
         "_deepnote_index_column": 211
        },
        {
         "height_advantage": -5,
         "_deepnote_index_column": 212
        },
        {
         "height_advantage": 0,
         "_deepnote_index_column": 213
        },
        {
         "height_advantage": -2,
         "_deepnote_index_column": 214
        },
        {
         "height_advantage": 1,
         "_deepnote_index_column": 215
        },
        {
         "height_advantage": 1,
         "_deepnote_index_column": 216
        },
        {
         "height_advantage": -2,
         "_deepnote_index_column": 217
        },
        {
         "height_advantage": 1,
         "_deepnote_index_column": 218
        },
        {
         "height_advantage": -1,
         "_deepnote_index_column": 219
        },
        {
         "height_advantage": 0,
         "_deepnote_index_column": 220
        },
        {
         "height_advantage": 5,
         "_deepnote_index_column": 221
        },
        {
         "height_advantage": -3,
         "_deepnote_index_column": 222
        },
        {
         "height_advantage": -3,
         "_deepnote_index_column": 223
        },
        {
         "height_advantage": -1,
         "_deepnote_index_column": 224
        },
        {
         "height_advantage": -4,
         "_deepnote_index_column": 225
        },
        {
         "height_advantage": 3,
         "_deepnote_index_column": 226
        },
        {
         "height_advantage": -2,
         "_deepnote_index_column": 227
        },
        {
         "height_advantage": -7,
         "_deepnote_index_column": 228
        },
        {
         "height_advantage": 1,
         "_deepnote_index_column": 229
        },
        {
         "height_advantage": -5,
         "_deepnote_index_column": 230
        },
        {
         "height_advantage": -6,
         "_deepnote_index_column": 231
        },
        {
         "height_advantage": 3,
         "_deepnote_index_column": 233
        },
        {
         "height_advantage": -1,
         "_deepnote_index_column": 234
        },
        {
         "height_advantage": 1,
         "_deepnote_index_column": 235
        },
        {
         "height_advantage": -4,
         "_deepnote_index_column": 236
        },
        {
         "height_advantage": 3,
         "_deepnote_index_column": 237
        },
        {
         "height_advantage": 0,
         "_deepnote_index_column": 238
        },
        {
         "height_advantage": 5,
         "_deepnote_index_column": 239
        },
        {
         "height_advantage": 2,
         "_deepnote_index_column": 240
        },
        {
         "height_advantage": 0,
         "_deepnote_index_column": 241
        },
        {
         "height_advantage": 6,
         "_deepnote_index_column": 242
        },
        {
         "height_advantage": 2,
         "_deepnote_index_column": 243
        },
        {
         "height_advantage": -2,
         "_deepnote_index_column": 244
        },
        {
         "height_advantage": -4,
         "_deepnote_index_column": 245
        },
        {
         "height_advantage": -4,
         "_deepnote_index_column": 246
        },
        {
         "height_advantage": 0,
         "_deepnote_index_column": 247
        },
        {
         "height_advantage": -1,
         "_deepnote_index_column": 248
        },
        {
         "height_advantage": 4,
         "_deepnote_index_column": 249
        },
        {
         "height_advantage": 3,
         "_deepnote_index_column": 250
        },
        {
         "height_advantage": 8,
         "_deepnote_index_column": 251
        },
        {
         "height_advantage": 1,
         "_deepnote_index_column": 252
        },
        {
         "height_advantage": 4,
         "_deepnote_index_column": 253
        },
        {
         "height_advantage": 2,
         "_deepnote_index_column": 254
        },
        {
         "height_advantage": -1,
         "_deepnote_index_column": 255
        },
        {
         "height_advantage": 0,
         "_deepnote_index_column": 256
        },
        {
         "height_advantage": -8,
         "_deepnote_index_column": 257
        },
        {
         "height_advantage": 1,
         "_deepnote_index_column": 258
        },
        {
         "height_advantage": -1,
         "_deepnote_index_column": 259
        },
        {
         "height_advantage": 2,
         "_deepnote_index_column": 260
        },
        {
         "height_advantage": 0,
         "_deepnote_index_column": 261
        },
        {
         "height_advantage": 4,
         "_deepnote_index_column": 262
        },
        {
         "height_advantage": 1,
         "_deepnote_index_column": 263
        },
        {
         "height_advantage": -2,
         "_deepnote_index_column": 264
        },
        {
         "height_advantage": 1,
         "_deepnote_index_column": 265
        },
        {
         "height_advantage": -4,
         "_deepnote_index_column": 266
        },
        {
         "height_advantage": 1,
         "_deepnote_index_column": 267
        },
        {
         "height_advantage": -3,
         "_deepnote_index_column": 268
        },
        {
         "height_advantage": 3,
         "_deepnote_index_column": 269
        },
        {
         "height_advantage": 1,
         "_deepnote_index_column": 270
        },
        {
         "height_advantage": 0,
         "_deepnote_index_column": 271
        },
        {
         "height_advantage": 1,
         "_deepnote_index_column": 272
        },
        {
         "height_advantage": 0,
         "_deepnote_index_column": 273
        },
        {
         "height_advantage": 2,
         "_deepnote_index_column": 274
        },
        {
         "height_advantage": 1,
         "_deepnote_index_column": 275
        },
        {
         "height_advantage": 2,
         "_deepnote_index_column": 276
        },
        {
         "height_advantage": 3,
         "_deepnote_index_column": 277
        },
        {
         "height_advantage": 0,
         "_deepnote_index_column": 278
        },
        {
         "height_advantage": -2,
         "_deepnote_index_column": 279
        },
        {
         "height_advantage": 7,
         "_deepnote_index_column": 280
        },
        {
         "height_advantage": 3,
         "_deepnote_index_column": 281
        },
        {
         "height_advantage": 5,
         "_deepnote_index_column": 282
        },
        {
         "height_advantage": 1,
         "_deepnote_index_column": 283
        },
        {
         "height_advantage": -2,
         "_deepnote_index_column": 284
        },
        {
         "height_advantage": 1,
         "_deepnote_index_column": 285
        },
        {
         "height_advantage": -4,
         "_deepnote_index_column": 286
        },
        {
         "height_advantage": 2,
         "_deepnote_index_column": 287
        },
        {
         "height_advantage": -3,
         "_deepnote_index_column": 288
        },
        {
         "height_advantage": 2,
         "_deepnote_index_column": 289
        },
        {
         "height_advantage": 2,
         "_deepnote_index_column": 290
        },
        {
         "height_advantage": -3,
         "_deepnote_index_column": 291
        },
        {
         "height_advantage": 0,
         "_deepnote_index_column": 292
        },
        {
         "height_advantage": -2,
         "_deepnote_index_column": 293
        },
        {
         "height_advantage": -3,
         "_deepnote_index_column": 294
        },
        {
         "height_advantage": 1,
         "_deepnote_index_column": 295
        },
        {
         "height_advantage": 5,
         "_deepnote_index_column": 296
        },
        {
         "height_advantage": 3,
         "_deepnote_index_column": 297
        },
        {
         "height_advantage": 0,
         "_deepnote_index_column": 298
        },
        {
         "height_advantage": -3,
         "_deepnote_index_column": 299
        },
        {
         "height_advantage": 0,
         "_deepnote_index_column": 300
        },
        {
         "height_advantage": 2,
         "_deepnote_index_column": 301
        },
        {
         "height_advantage": 2,
         "_deepnote_index_column": 302
        },
        {
         "height_advantage": 1,
         "_deepnote_index_column": 304
        },
        {
         "height_advantage": 1,
         "_deepnote_index_column": 305
        },
        {
         "height_advantage": -3,
         "_deepnote_index_column": 307
        },
        {
         "height_advantage": 0,
         "_deepnote_index_column": 308
        },
        {
         "height_advantage": -4,
         "_deepnote_index_column": 309
        },
        {
         "height_advantage": 6,
         "_deepnote_index_column": 310
        },
        {
         "height_advantage": 2,
         "_deepnote_index_column": 311
        },
        {
         "height_advantage": -3,
         "_deepnote_index_column": 312
        },
        {
         "height_advantage": -3,
         "_deepnote_index_column": 313
        },
        {
         "height_advantage": 1,
         "_deepnote_index_column": 314
        },
        {
         "height_advantage": 3,
         "_deepnote_index_column": 315
        },
        {
         "height_advantage": 5,
         "_deepnote_index_column": 316
        },
        {
         "height_advantage": 3,
         "_deepnote_index_column": 317
        },
        {
         "height_advantage": -2,
         "_deepnote_index_column": 318
        },
        {
         "height_advantage": 9,
         "_deepnote_index_column": 319
        },
        {
         "height_advantage": -1,
         "_deepnote_index_column": 320
        },
        {
         "height_advantage": 0,
         "_deepnote_index_column": 321
        },
        {
         "height_advantage": -4,
         "_deepnote_index_column": 322
        },
        {
         "height_advantage": 1,
         "_deepnote_index_column": 323
        },
        {
         "height_advantage": 2,
         "_deepnote_index_column": 324
        },
        {
         "height_advantage": 0,
         "_deepnote_index_column": 325
        },
        {
         "height_advantage": 0,
         "_deepnote_index_column": 326
        },
        {
         "height_advantage": 1,
         "_deepnote_index_column": 327
        },
        {
         "height_advantage": 5,
         "_deepnote_index_column": 328
        },
        {
         "height_advantage": -2,
         "_deepnote_index_column": 329
        },
        {
         "height_advantage": -3,
         "_deepnote_index_column": 330
        },
        {
         "height_advantage": 4,
         "_deepnote_index_column": 331
        },
        {
         "height_advantage": 3,
         "_deepnote_index_column": 332
        },
        {
         "height_advantage": 3,
         "_deepnote_index_column": 333
        },
        {
         "height_advantage": 0,
         "_deepnote_index_column": 334
        },
        {
         "height_advantage": 3,
         "_deepnote_index_column": 335
        },
        {
         "height_advantage": 8,
         "_deepnote_index_column": 336
        },
        {
         "height_advantage": 1,
         "_deepnote_index_column": 337
        },
        {
         "height_advantage": 3,
         "_deepnote_index_column": 338
        },
        {
         "height_advantage": -2,
         "_deepnote_index_column": 339
        },
        {
         "height_advantage": 0,
         "_deepnote_index_column": 340
        },
        {
         "height_advantage": 3,
         "_deepnote_index_column": 341
        },
        {
         "height_advantage": 1,
         "_deepnote_index_column": 342
        },
        {
         "height_advantage": 1,
         "_deepnote_index_column": 343
        },
        {
         "height_advantage": -1,
         "_deepnote_index_column": 344
        },
        {
         "height_advantage": -2,
         "_deepnote_index_column": 345
        },
        {
         "height_advantage": -1,
         "_deepnote_index_column": 346
        },
        {
         "height_advantage": 3,
         "_deepnote_index_column": 347
        },
        {
         "height_advantage": 3,
         "_deepnote_index_column": 348
        },
        {
         "height_advantage": 3,
         "_deepnote_index_column": 349
        },
        {
         "height_advantage": -6,
         "_deepnote_index_column": 350
        },
        {
         "height_advantage": -2,
         "_deepnote_index_column": 351
        },
        {
         "height_advantage": -1,
         "_deepnote_index_column": 352
        },
        {
         "height_advantage": -1,
         "_deepnote_index_column": 353
        },
        {
         "height_advantage": 3,
         "_deepnote_index_column": 354
        },
        {
         "height_advantage": -2,
         "_deepnote_index_column": 355
        },
        {
         "height_advantage": 1,
         "_deepnote_index_column": 356
        },
        {
         "height_advantage": 0,
         "_deepnote_index_column": 357
        },
        {
         "height_advantage": 0,
         "_deepnote_index_column": 358
        },
        {
         "height_advantage": 1,
         "_deepnote_index_column": 359
        },
        {
         "height_advantage": 3,
         "_deepnote_index_column": 360
        },
        {
         "height_advantage": -1,
         "_deepnote_index_column": 361
        },
        {
         "height_advantage": 1,
         "_deepnote_index_column": 362
        },
        {
         "height_advantage": 2,
         "_deepnote_index_column": 363
        },
        {
         "height_advantage": 3,
         "_deepnote_index_column": 364
        },
        {
         "height_advantage": 3,
         "_deepnote_index_column": 365
        },
        {
         "height_advantage": 0,
         "_deepnote_index_column": 366
        },
        {
         "height_advantage": -3,
         "_deepnote_index_column": 367
        },
        {
         "height_advantage": 2,
         "_deepnote_index_column": 368
        },
        {
         "height_advantage": -1,
         "_deepnote_index_column": 370
        },
        {
         "height_advantage": 0,
         "_deepnote_index_column": 371
        },
        {
         "height_advantage": 4,
         "_deepnote_index_column": 372
        },
        {
         "height_advantage": -6,
         "_deepnote_index_column": 373
        },
        {
         "height_advantage": -1,
         "_deepnote_index_column": 374
        },
        {
         "height_advantage": 0,
         "_deepnote_index_column": 375
        },
        {
         "height_advantage": 4,
         "_deepnote_index_column": 376
        },
        {
         "height_advantage": 0,
         "_deepnote_index_column": 377
        },
        {
         "height_advantage": 0,
         "_deepnote_index_column": 378
        },
        {
         "height_advantage": 1,
         "_deepnote_index_column": 379
        },
        {
         "height_advantage": 4,
         "_deepnote_index_column": 380
        },
        {
         "height_advantage": 1,
         "_deepnote_index_column": 381
        },
        {
         "height_advantage": 2,
         "_deepnote_index_column": 382
        },
        {
         "height_advantage": -6,
         "_deepnote_index_column": 383
        },
        {
         "height_advantage": 0,
         "_deepnote_index_column": 384
        },
        {
         "height_advantage": 3,
         "_deepnote_index_column": 385
        },
        {
         "height_advantage": -2,
         "_deepnote_index_column": 386
        },
        {
         "height_advantage": -1,
         "_deepnote_index_column": 387
        },
        {
         "height_advantage": -5,
         "_deepnote_index_column": 388
        },
        {
         "height_advantage": -4,
         "_deepnote_index_column": 389
        },
        {
         "height_advantage": 3,
         "_deepnote_index_column": 390
        },
        {
         "height_advantage": 0,
         "_deepnote_index_column": 391
        },
        {
         "height_advantage": -1,
         "_deepnote_index_column": 392
        },
        {
         "height_advantage": -1,
         "_deepnote_index_column": 393
        },
        {
         "height_advantage": 1,
         "_deepnote_index_column": 394
        },
        {
         "height_advantage": 0,
         "_deepnote_index_column": 395
        },
        {
         "height_advantage": 2,
         "_deepnote_index_column": 396
        },
        {
         "height_advantage": 0,
         "_deepnote_index_column": 397
        },
        {
         "height_advantage": -2,
         "_deepnote_index_column": 398
        },
        {
         "height_advantage": 0,
         "_deepnote_index_column": 399
        },
        {
         "height_advantage": -3,
         "_deepnote_index_column": 400
        },
        {
         "height_advantage": 0,
         "_deepnote_index_column": 401
        },
        {
         "height_advantage": 3,
         "_deepnote_index_column": 402
        },
        {
         "height_advantage": 0,
         "_deepnote_index_column": 403
        },
        {
         "height_advantage": -1,
         "_deepnote_index_column": 404
        },
        {
         "height_advantage": -5,
         "_deepnote_index_column": 405
        },
        {
         "height_advantage": 1,
         "_deepnote_index_column": 406
        },
        {
         "height_advantage": 0,
         "_deepnote_index_column": 407
        },
        {
         "height_advantage": 5,
         "_deepnote_index_column": 408
        },
        {
         "height_advantage": -4,
         "_deepnote_index_column": 409
        },
        {
         "height_advantage": 0,
         "_deepnote_index_column": 410
        },
        {
         "height_advantage": 2,
         "_deepnote_index_column": 411
        },
        {
         "height_advantage": 2,
         "_deepnote_index_column": 413
        },
        {
         "height_advantage": -1,
         "_deepnote_index_column": 414
        },
        {
         "height_advantage": 3,
         "_deepnote_index_column": 415
        },
        {
         "height_advantage": 2,
         "_deepnote_index_column": 416
        },
        {
         "height_advantage": 2,
         "_deepnote_index_column": 417
        },
        {
         "height_advantage": 0,
         "_deepnote_index_column": 418
        },
        {
         "height_advantage": 0,
         "_deepnote_index_column": 419
        },
        {
         "height_advantage": 0,
         "_deepnote_index_column": 420
        },
        {
         "height_advantage": 1,
         "_deepnote_index_column": 421
        },
        {
         "height_advantage": -1,
         "_deepnote_index_column": 422
        },
        {
         "height_advantage": -1,
         "_deepnote_index_column": 423
        },
        {
         "height_advantage": 3,
         "_deepnote_index_column": 424
        },
        {
         "height_advantage": -2,
         "_deepnote_index_column": 425
        },
        {
         "height_advantage": -4,
         "_deepnote_index_column": 426
        },
        {
         "height_advantage": 1,
         "_deepnote_index_column": 427
        },
        {
         "height_advantage": -3,
         "_deepnote_index_column": 428
        },
        {
         "height_advantage": 1,
         "_deepnote_index_column": 429
        },
        {
         "height_advantage": -2,
         "_deepnote_index_column": 430
        },
        {
         "height_advantage": -2,
         "_deepnote_index_column": 431
        },
        {
         "height_advantage": 0,
         "_deepnote_index_column": 432
        },
        {
         "height_advantage": 1,
         "_deepnote_index_column": 433
        },
        {
         "height_advantage": 2,
         "_deepnote_index_column": 434
        },
        {
         "height_advantage": 3,
         "_deepnote_index_column": 435
        },
        {
         "height_advantage": 4,
         "_deepnote_index_column": 436
        },
        {
         "height_advantage": 1,
         "_deepnote_index_column": 437
        },
        {
         "height_advantage": 0,
         "_deepnote_index_column": 438
        },
        {
         "height_advantage": 0,
         "_deepnote_index_column": 439
        },
        {
         "height_advantage": 3,
         "_deepnote_index_column": 440
        },
        {
         "height_advantage": 2,
         "_deepnote_index_column": 441
        },
        {
         "height_advantage": 5,
         "_deepnote_index_column": 442
        },
        {
         "height_advantage": 0,
         "_deepnote_index_column": 443
        },
        {
         "height_advantage": 0,
         "_deepnote_index_column": 444
        },
        {
         "height_advantage": 1,
         "_deepnote_index_column": 445
        },
        {
         "height_advantage": 1,
         "_deepnote_index_column": 446
        },
        {
         "height_advantage": 1,
         "_deepnote_index_column": 447
        },
        {
         "height_advantage": 3,
         "_deepnote_index_column": 448
        },
        {
         "height_advantage": 2,
         "_deepnote_index_column": 449
        },
        {
         "height_advantage": -1,
         "_deepnote_index_column": 450
        },
        {
         "height_advantage": 1,
         "_deepnote_index_column": 451
        },
        {
         "height_advantage": 6,
         "_deepnote_index_column": 452
        },
        {
         "height_advantage": -1,
         "_deepnote_index_column": 453
        },
        {
         "height_advantage": -2,
         "_deepnote_index_column": 454
        },
        {
         "height_advantage": 2,
         "_deepnote_index_column": 455
        },
        {
         "height_advantage": 0,
         "_deepnote_index_column": 456
        },
        {
         "height_advantage": -2,
         "_deepnote_index_column": 457
        },
        {
         "height_advantage": 0,
         "_deepnote_index_column": 459
        },
        {
         "height_advantage": -2,
         "_deepnote_index_column": 460
        },
        {
         "height_advantage": -2,
         "_deepnote_index_column": 461
        },
        {
         "height_advantage": 0,
         "_deepnote_index_column": 462
        },
        {
         "height_advantage": -3,
         "_deepnote_index_column": 463
        },
        {
         "height_advantage": 1,
         "_deepnote_index_column": 464
        },
        {
         "height_advantage": 1,
         "_deepnote_index_column": 465
        },
        {
         "height_advantage": 1,
         "_deepnote_index_column": 466
        },
        {
         "height_advantage": -1,
         "_deepnote_index_column": 467
        },
        {
         "height_advantage": 0,
         "_deepnote_index_column": 468
        },
        {
         "height_advantage": -1,
         "_deepnote_index_column": 469
        },
        {
         "height_advantage": 1,
         "_deepnote_index_column": 470
        },
        {
         "height_advantage": 4,
         "_deepnote_index_column": 471
        },
        {
         "height_advantage": 4,
         "_deepnote_index_column": 472
        },
        {
         "height_advantage": -3,
         "_deepnote_index_column": 473
        },
        {
         "height_advantage": -8,
         "_deepnote_index_column": 474
        },
        {
         "height_advantage": -5,
         "_deepnote_index_column": 475
        },
        {
         "height_advantage": -2,
         "_deepnote_index_column": 476
        },
        {
         "height_advantage": 0,
         "_deepnote_index_column": 477
        },
        {
         "height_advantage": 1,
         "_deepnote_index_column": 478
        },
        {
         "height_advantage": 0,
         "_deepnote_index_column": 479
        },
        {
         "height_advantage": 1,
         "_deepnote_index_column": 480
        },
        {
         "height_advantage": -1,
         "_deepnote_index_column": 481
        },
        {
         "height_advantage": -3,
         "_deepnote_index_column": 482
        },
        {
         "height_advantage": 4,
         "_deepnote_index_column": 483
        },
        {
         "height_advantage": 1,
         "_deepnote_index_column": 484
        },
        {
         "height_advantage": 0,
         "_deepnote_index_column": 485
        },
        {
         "height_advantage": 1,
         "_deepnote_index_column": 486
        },
        {
         "height_advantage": 2,
         "_deepnote_index_column": 487
        },
        {
         "height_advantage": 7,
         "_deepnote_index_column": 488
        },
        {
         "height_advantage": 0,
         "_deepnote_index_column": 490
        },
        {
         "height_advantage": -2,
         "_deepnote_index_column": 491
        },
        {
         "height_advantage": 2,
         "_deepnote_index_column": 492
        },
        {
         "height_advantage": -2,
         "_deepnote_index_column": 493
        },
        {
         "height_advantage": -2,
         "_deepnote_index_column": 494
        },
        {
         "height_advantage": 4,
         "_deepnote_index_column": 495
        },
        {
         "height_advantage": 1,
         "_deepnote_index_column": 496
        },
        {
         "height_advantage": 1,
         "_deepnote_index_column": 497
        },
        {
         "height_advantage": 1,
         "_deepnote_index_column": 498
        },
        {
         "height_advantage": -2,
         "_deepnote_index_column": 499
        },
        {
         "height_advantage": -1,
         "_deepnote_index_column": 500
        },
        {
         "height_advantage": -2,
         "_deepnote_index_column": 501
        },
        {
         "height_advantage": 2,
         "_deepnote_index_column": 502
        },
        {
         "height_advantage": -5,
         "_deepnote_index_column": 503
        },
        {
         "height_advantage": 1,
         "_deepnote_index_column": 504
        },
        {
         "height_advantage": 1,
         "_deepnote_index_column": 505
        },
        {
         "height_advantage": 3,
         "_deepnote_index_column": 506
        },
        {
         "height_advantage": 1,
         "_deepnote_index_column": 507
        },
        {
         "height_advantage": 0,
         "_deepnote_index_column": 508
        },
        {
         "height_advantage": -2,
         "_deepnote_index_column": 509
        },
        {
         "height_advantage": 2,
         "_deepnote_index_column": 510
        },
        {
         "height_advantage": -5,
         "_deepnote_index_column": 511
        },
        {
         "height_advantage": 1,
         "_deepnote_index_column": 512
        },
        {
         "height_advantage": 1,
         "_deepnote_index_column": 513
        },
        {
         "height_advantage": -3,
         "_deepnote_index_column": 514
        },
        {
         "height_advantage": 4,
         "_deepnote_index_column": 515
        },
        {
         "height_advantage": 2,
         "_deepnote_index_column": 516
        },
        {
         "height_advantage": 0,
         "_deepnote_index_column": 517
        },
        {
         "height_advantage": 2,
         "_deepnote_index_column": 518
        },
        {
         "height_advantage": 1,
         "_deepnote_index_column": 519
        },
        {
         "height_advantage": 1,
         "_deepnote_index_column": 520
        },
        {
         "height_advantage": 1,
         "_deepnote_index_column": 521
        },
        {
         "height_advantage": 4,
         "_deepnote_index_column": 522
        },
        {
         "height_advantage": -7,
         "_deepnote_index_column": 523
        },
        {
         "height_advantage": -1,
         "_deepnote_index_column": 524
        },
        {
         "height_advantage": 2,
         "_deepnote_index_column": 525
        },
        {
         "height_advantage": -7,
         "_deepnote_index_column": 526
        },
        {
         "height_advantage": -3,
         "_deepnote_index_column": 527
        },
        {
         "height_advantage": 0,
         "_deepnote_index_column": 528
        },
        {
         "height_advantage": 3,
         "_deepnote_index_column": 529
        },
        {
         "height_advantage": 1,
         "_deepnote_index_column": 530
        },
        {
         "height_advantage": -3,
         "_deepnote_index_column": 531
        }
       ],
       "rows_bottom": [
        {
         "height_advantage": -2,
         "_deepnote_index_column": 2993
        },
        {
         "height_advantage": 1,
         "_deepnote_index_column": 2994
        },
        {
         "height_advantage": 2,
         "_deepnote_index_column": 2995
        },
        {
         "height_advantage": 1,
         "_deepnote_index_column": 2996
        },
        {
         "height_advantage": -4,
         "_deepnote_index_column": 2997
        },
        {
         "height_advantage": -1,
         "_deepnote_index_column": 2998
        },
        {
         "height_advantage": -2,
         "_deepnote_index_column": 2999
        },
        {
         "height_advantage": 0,
         "_deepnote_index_column": 3000
        },
        {
         "height_advantage": 0,
         "_deepnote_index_column": 3001
        },
        {
         "height_advantage": 0,
         "_deepnote_index_column": 3002
        },
        {
         "height_advantage": -1,
         "_deepnote_index_column": 3003
        },
        {
         "height_advantage": -2,
         "_deepnote_index_column": 3004
        },
        {
         "height_advantage": 2,
         "_deepnote_index_column": 3005
        },
        {
         "height_advantage": 4,
         "_deepnote_index_column": 3006
        },
        {
         "height_advantage": 0,
         "_deepnote_index_column": 3007
        },
        {
         "height_advantage": 4,
         "_deepnote_index_column": 3009
        },
        {
         "height_advantage": -1,
         "_deepnote_index_column": 3010
        },
        {
         "height_advantage": 0,
         "_deepnote_index_column": 3011
        },
        {
         "height_advantage": -2,
         "_deepnote_index_column": 3012
        },
        {
         "height_advantage": 2,
         "_deepnote_index_column": 3013
        },
        {
         "height_advantage": -1,
         "_deepnote_index_column": 3014
        },
        {
         "height_advantage": 1,
         "_deepnote_index_column": 3015
        },
        {
         "height_advantage": -1,
         "_deepnote_index_column": 3016
        },
        {
         "height_advantage": -3,
         "_deepnote_index_column": 3017
        },
        {
         "height_advantage": -1,
         "_deepnote_index_column": 3018
        },
        {
         "height_advantage": 0,
         "_deepnote_index_column": 3019
        },
        {
         "height_advantage": -3,
         "_deepnote_index_column": 3020
        },
        {
         "height_advantage": -5,
         "_deepnote_index_column": 3021
        },
        {
         "height_advantage": -2,
         "_deepnote_index_column": 3022
        },
        {
         "height_advantage": 5,
         "_deepnote_index_column": 3023
        },
        {
         "height_advantage": 1,
         "_deepnote_index_column": 3024
        },
        {
         "height_advantage": 3,
         "_deepnote_index_column": 3025
        },
        {
         "height_advantage": -3,
         "_deepnote_index_column": 3026
        },
        {
         "height_advantage": 0,
         "_deepnote_index_column": 3027
        },
        {
         "height_advantage": 2,
         "_deepnote_index_column": 3028
        },
        {
         "height_advantage": -3,
         "_deepnote_index_column": 3029
        },
        {
         "height_advantage": 0,
         "_deepnote_index_column": 3030
        },
        {
         "height_advantage": -1,
         "_deepnote_index_column": 3031
        },
        {
         "height_advantage": -1,
         "_deepnote_index_column": 3032
        },
        {
         "height_advantage": 1,
         "_deepnote_index_column": 3033
        },
        {
         "height_advantage": 0,
         "_deepnote_index_column": 3034
        },
        {
         "height_advantage": -3,
         "_deepnote_index_column": 3035
        },
        {
         "height_advantage": -1,
         "_deepnote_index_column": 3036
        },
        {
         "height_advantage": 4,
         "_deepnote_index_column": 3037
        },
        {
         "height_advantage": 5,
         "_deepnote_index_column": 3038
        },
        {
         "height_advantage": 2,
         "_deepnote_index_column": 3039
        },
        {
         "height_advantage": -3,
         "_deepnote_index_column": 3040
        },
        {
         "height_advantage": -3,
         "_deepnote_index_column": 3041
        },
        {
         "height_advantage": 0,
         "_deepnote_index_column": 3042
        },
        {
         "height_advantage": 1,
         "_deepnote_index_column": 3043
        },
        {
         "height_advantage": -1,
         "_deepnote_index_column": 3044
        },
        {
         "height_advantage": 0,
         "_deepnote_index_column": 3045
        },
        {
         "height_advantage": 2,
         "_deepnote_index_column": 3046
        },
        {
         "height_advantage": -1,
         "_deepnote_index_column": 3047
        },
        {
         "height_advantage": 0,
         "_deepnote_index_column": 3048
        },
        {
         "height_advantage": 1,
         "_deepnote_index_column": 3049
        },
        {
         "height_advantage": -2,
         "_deepnote_index_column": 3050
        },
        {
         "height_advantage": 0,
         "_deepnote_index_column": 3051
        },
        {
         "height_advantage": 0,
         "_deepnote_index_column": 3052
        },
        {
         "height_advantage": 5,
         "_deepnote_index_column": 3053
        },
        {
         "height_advantage": -3,
         "_deepnote_index_column": 3054
        },
        {
         "height_advantage": 5,
         "_deepnote_index_column": 3055
        },
        {
         "height_advantage": 1,
         "_deepnote_index_column": 3056
        },
        {
         "height_advantage": -1,
         "_deepnote_index_column": 3057
        },
        {
         "height_advantage": -2,
         "_deepnote_index_column": 3058
        },
        {
         "height_advantage": 2,
         "_deepnote_index_column": 3059
        },
        {
         "height_advantage": 1,
         "_deepnote_index_column": 3060
        },
        {
         "height_advantage": -1,
         "_deepnote_index_column": 3061
        },
        {
         "height_advantage": -1,
         "_deepnote_index_column": 3062
        },
        {
         "height_advantage": 1,
         "_deepnote_index_column": 3063
        },
        {
         "height_advantage": -1,
         "_deepnote_index_column": 3064
        },
        {
         "height_advantage": 1,
         "_deepnote_index_column": 3065
        },
        {
         "height_advantage": 0,
         "_deepnote_index_column": 3066
        },
        {
         "height_advantage": -2,
         "_deepnote_index_column": 3067
        },
        {
         "height_advantage": -1,
         "_deepnote_index_column": 3068
        },
        {
         "height_advantage": -3,
         "_deepnote_index_column": 3069
        },
        {
         "height_advantage": -2,
         "_deepnote_index_column": 3070
        },
        {
         "height_advantage": 4,
         "_deepnote_index_column": 3071
        },
        {
         "height_advantage": 2,
         "_deepnote_index_column": 3072
        },
        {
         "height_advantage": 0,
         "_deepnote_index_column": 3073
        },
        {
         "height_advantage": -2,
         "_deepnote_index_column": 3074
        },
        {
         "height_advantage": -2,
         "_deepnote_index_column": 3075
        },
        {
         "height_advantage": -4,
         "_deepnote_index_column": 3076
        },
        {
         "height_advantage": 3,
         "_deepnote_index_column": 3077
        },
        {
         "height_advantage": 2,
         "_deepnote_index_column": 3078
        },
        {
         "height_advantage": -1,
         "_deepnote_index_column": 3079
        },
        {
         "height_advantage": 1,
         "_deepnote_index_column": 3080
        },
        {
         "height_advantage": -2,
         "_deepnote_index_column": 3081
        },
        {
         "height_advantage": 5,
         "_deepnote_index_column": 3082
        },
        {
         "height_advantage": 0,
         "_deepnote_index_column": 3083
        },
        {
         "height_advantage": 1,
         "_deepnote_index_column": 3084
        },
        {
         "height_advantage": 0,
         "_deepnote_index_column": 3085
        },
        {
         "height_advantage": -2,
         "_deepnote_index_column": 3086
        },
        {
         "height_advantage": -1,
         "_deepnote_index_column": 3087
        },
        {
         "height_advantage": 1,
         "_deepnote_index_column": 3088
        },
        {
         "height_advantage": -5,
         "_deepnote_index_column": 3089
        },
        {
         "height_advantage": -1,
         "_deepnote_index_column": 3090
        },
        {
         "height_advantage": 1,
         "_deepnote_index_column": 3091
        },
        {
         "height_advantage": 1,
         "_deepnote_index_column": 3092
        },
        {
         "height_advantage": 5,
         "_deepnote_index_column": 3093
        },
        {
         "height_advantage": -2,
         "_deepnote_index_column": 3094
        },
        {
         "height_advantage": 0,
         "_deepnote_index_column": 3095
        },
        {
         "height_advantage": -3,
         "_deepnote_index_column": 3096
        },
        {
         "height_advantage": 2,
         "_deepnote_index_column": 3097
        },
        {
         "height_advantage": -3,
         "_deepnote_index_column": 3098
        },
        {
         "height_advantage": 4,
         "_deepnote_index_column": 3099
        },
        {
         "height_advantage": 0,
         "_deepnote_index_column": 3100
        },
        {
         "height_advantage": 2,
         "_deepnote_index_column": 3101
        },
        {
         "height_advantage": 1,
         "_deepnote_index_column": 3102
        },
        {
         "height_advantage": -1,
         "_deepnote_index_column": 3103
        },
        {
         "height_advantage": 0,
         "_deepnote_index_column": 3104
        },
        {
         "height_advantage": 2,
         "_deepnote_index_column": 3105
        },
        {
         "height_advantage": -2,
         "_deepnote_index_column": 3106
        },
        {
         "height_advantage": -2,
         "_deepnote_index_column": 3107
        },
        {
         "height_advantage": -2,
         "_deepnote_index_column": 3108
        },
        {
         "height_advantage": 0,
         "_deepnote_index_column": 3109
        },
        {
         "height_advantage": 0,
         "_deepnote_index_column": 3110
        },
        {
         "height_advantage": -4,
         "_deepnote_index_column": 3111
        },
        {
         "height_advantage": 1,
         "_deepnote_index_column": 3112
        },
        {
         "height_advantage": -1,
         "_deepnote_index_column": 3113
        },
        {
         "height_advantage": 0,
         "_deepnote_index_column": 3114
        },
        {
         "height_advantage": -2,
         "_deepnote_index_column": 3115
        },
        {
         "height_advantage": 0,
         "_deepnote_index_column": 3116
        },
        {
         "height_advantage": 3,
         "_deepnote_index_column": 3117
        },
        {
         "height_advantage": 0,
         "_deepnote_index_column": 3118
        },
        {
         "height_advantage": 2,
         "_deepnote_index_column": 3119
        },
        {
         "height_advantage": 6,
         "_deepnote_index_column": 3120
        },
        {
         "height_advantage": 0,
         "_deepnote_index_column": 3121
        },
        {
         "height_advantage": -2,
         "_deepnote_index_column": 3122
        },
        {
         "height_advantage": 6,
         "_deepnote_index_column": 3123
        },
        {
         "height_advantage": 1,
         "_deepnote_index_column": 3124
        },
        {
         "height_advantage": 4,
         "_deepnote_index_column": 3125
        },
        {
         "height_advantage": 2,
         "_deepnote_index_column": 3126
        },
        {
         "height_advantage": 2,
         "_deepnote_index_column": 3127
        },
        {
         "height_advantage": 0,
         "_deepnote_index_column": 3128
        },
        {
         "height_advantage": 0,
         "_deepnote_index_column": 3129
        },
        {
         "height_advantage": -3,
         "_deepnote_index_column": 3130
        },
        {
         "height_advantage": -1,
         "_deepnote_index_column": 3131
        },
        {
         "height_advantage": 0,
         "_deepnote_index_column": 3132
        },
        {
         "height_advantage": 2,
         "_deepnote_index_column": 3133
        },
        {
         "height_advantage": -6,
         "_deepnote_index_column": 3134
        },
        {
         "height_advantage": 1,
         "_deepnote_index_column": 3135
        },
        {
         "height_advantage": 0,
         "_deepnote_index_column": 3136
        },
        {
         "height_advantage": 0,
         "_deepnote_index_column": 3137
        },
        {
         "height_advantage": 1,
         "_deepnote_index_column": 3138
        },
        {
         "height_advantage": 0,
         "_deepnote_index_column": 3139
        },
        {
         "height_advantage": -2,
         "_deepnote_index_column": 3140
        },
        {
         "height_advantage": -2,
         "_deepnote_index_column": 3141
        },
        {
         "height_advantage": 1,
         "_deepnote_index_column": 3142
        },
        {
         "height_advantage": 1,
         "_deepnote_index_column": 3143
        },
        {
         "height_advantage": -3,
         "_deepnote_index_column": 3144
        },
        {
         "height_advantage": 2,
         "_deepnote_index_column": 3145
        },
        {
         "height_advantage": 3,
         "_deepnote_index_column": 3146
        },
        {
         "height_advantage": -3,
         "_deepnote_index_column": 3147
        },
        {
         "height_advantage": -2,
         "_deepnote_index_column": 3148
        },
        {
         "height_advantage": -1,
         "_deepnote_index_column": 3149
        },
        {
         "height_advantage": 3,
         "_deepnote_index_column": 3150
        },
        {
         "height_advantage": 0,
         "_deepnote_index_column": 3151
        },
        {
         "height_advantage": -2,
         "_deepnote_index_column": 3152
        },
        {
         "height_advantage": 0,
         "_deepnote_index_column": 3153
        },
        {
         "height_advantage": 3,
         "_deepnote_index_column": 3154
        },
        {
         "height_advantage": 3,
         "_deepnote_index_column": 3155
        },
        {
         "height_advantage": 3,
         "_deepnote_index_column": 3156
        },
        {
         "height_advantage": 0,
         "_deepnote_index_column": 3157
        },
        {
         "height_advantage": -1,
         "_deepnote_index_column": 3158
        },
        {
         "height_advantage": -3,
         "_deepnote_index_column": 3159
        },
        {
         "height_advantage": 1,
         "_deepnote_index_column": 3160
        },
        {
         "height_advantage": 1,
         "_deepnote_index_column": 3161
        },
        {
         "height_advantage": 0,
         "_deepnote_index_column": 3162
        },
        {
         "height_advantage": -1,
         "_deepnote_index_column": 3164
        },
        {
         "height_advantage": 4,
         "_deepnote_index_column": 3165
        },
        {
         "height_advantage": 2,
         "_deepnote_index_column": 3166
        },
        {
         "height_advantage": 1,
         "_deepnote_index_column": 3167
        },
        {
         "height_advantage": -1,
         "_deepnote_index_column": 3168
        },
        {
         "height_advantage": 2,
         "_deepnote_index_column": 3169
        },
        {
         "height_advantage": 2,
         "_deepnote_index_column": 3170
        },
        {
         "height_advantage": -1,
         "_deepnote_index_column": 3171
        },
        {
         "height_advantage": -3,
         "_deepnote_index_column": 3172
        },
        {
         "height_advantage": 0,
         "_deepnote_index_column": 3173
        },
        {
         "height_advantage": -1,
         "_deepnote_index_column": 3174
        },
        {
         "height_advantage": 0,
         "_deepnote_index_column": 3175
        },
        {
         "height_advantage": 4,
         "_deepnote_index_column": 3176
        },
        {
         "height_advantage": -3,
         "_deepnote_index_column": 3177
        },
        {
         "height_advantage": -3,
         "_deepnote_index_column": 3178
        },
        {
         "height_advantage": 3,
         "_deepnote_index_column": 3179
        },
        {
         "height_advantage": 1,
         "_deepnote_index_column": 3180
        },
        {
         "height_advantage": -3,
         "_deepnote_index_column": 3181
        },
        {
         "height_advantage": 1,
         "_deepnote_index_column": 3182
        },
        {
         "height_advantage": -2,
         "_deepnote_index_column": 3183
        },
        {
         "height_advantage": -2,
         "_deepnote_index_column": 3184
        },
        {
         "height_advantage": 1,
         "_deepnote_index_column": 3185
        },
        {
         "height_advantage": 2,
         "_deepnote_index_column": 3186
        },
        {
         "height_advantage": 3,
         "_deepnote_index_column": 3187
        },
        {
         "height_advantage": 0,
         "_deepnote_index_column": 3188
        },
        {
         "height_advantage": 1,
         "_deepnote_index_column": 3189
        },
        {
         "height_advantage": 0,
         "_deepnote_index_column": 3190
        },
        {
         "height_advantage": 0,
         "_deepnote_index_column": 3191
        },
        {
         "height_advantage": 0,
         "_deepnote_index_column": 3192
        },
        {
         "height_advantage": 1,
         "_deepnote_index_column": 3193
        },
        {
         "height_advantage": -2,
         "_deepnote_index_column": 3194
        },
        {
         "height_advantage": 0,
         "_deepnote_index_column": 3195
        },
        {
         "height_advantage": 5,
         "_deepnote_index_column": 3197
        },
        {
         "height_advantage": 0,
         "_deepnote_index_column": 3198
        },
        {
         "height_advantage": -4,
         "_deepnote_index_column": 3199
        },
        {
         "height_advantage": -3,
         "_deepnote_index_column": 3200
        },
        {
         "height_advantage": -1,
         "_deepnote_index_column": 3201
        },
        {
         "height_advantage": 1,
         "_deepnote_index_column": 3202
        },
        {
         "height_advantage": 1,
         "_deepnote_index_column": 3203
        },
        {
         "height_advantage": 0,
         "_deepnote_index_column": 3204
        },
        {
         "height_advantage": -1,
         "_deepnote_index_column": 3205
        },
        {
         "height_advantage": 0,
         "_deepnote_index_column": 3206
        },
        {
         "height_advantage": -5,
         "_deepnote_index_column": 3207
        },
        {
         "height_advantage": 1,
         "_deepnote_index_column": 3208
        },
        {
         "height_advantage": 2,
         "_deepnote_index_column": 3209
        },
        {
         "height_advantage": 0,
         "_deepnote_index_column": 3210
        },
        {
         "height_advantage": 3,
         "_deepnote_index_column": 3211
        },
        {
         "height_advantage": -3,
         "_deepnote_index_column": 3212
        },
        {
         "height_advantage": 1,
         "_deepnote_index_column": 3213
        },
        {
         "height_advantage": -2,
         "_deepnote_index_column": 3214
        },
        {
         "height_advantage": -4,
         "_deepnote_index_column": 3215
        },
        {
         "height_advantage": -6,
         "_deepnote_index_column": 3216
        },
        {
         "height_advantage": 0,
         "_deepnote_index_column": 3217
        },
        {
         "height_advantage": 3,
         "_deepnote_index_column": 3218
        },
        {
         "height_advantage": 2,
         "_deepnote_index_column": 3219
        },
        {
         "height_advantage": 3,
         "_deepnote_index_column": 3220
        },
        {
         "height_advantage": 2,
         "_deepnote_index_column": 3221
        },
        {
         "height_advantage": -1,
         "_deepnote_index_column": 3222
        },
        {
         "height_advantage": -2,
         "_deepnote_index_column": 3223
        },
        {
         "height_advantage": -1,
         "_deepnote_index_column": 3224
        },
        {
         "height_advantage": -4,
         "_deepnote_index_column": 3225
        },
        {
         "height_advantage": 2,
         "_deepnote_index_column": 3226
        },
        {
         "height_advantage": 2,
         "_deepnote_index_column": 3227
        },
        {
         "height_advantage": 2,
         "_deepnote_index_column": 3228
        },
        {
         "height_advantage": -1,
         "_deepnote_index_column": 3229
        },
        {
         "height_advantage": 2,
         "_deepnote_index_column": 3230
        },
        {
         "height_advantage": 0,
         "_deepnote_index_column": 3231
        },
        {
         "height_advantage": 2,
         "_deepnote_index_column": 3232
        },
        {
         "height_advantage": 2,
         "_deepnote_index_column": 3233
        },
        {
         "height_advantage": 0,
         "_deepnote_index_column": 3234
        },
        {
         "height_advantage": -1,
         "_deepnote_index_column": 3235
        },
        {
         "height_advantage": -4,
         "_deepnote_index_column": 3236
        },
        {
         "height_advantage": -1,
         "_deepnote_index_column": 3237
        },
        {
         "height_advantage": -5,
         "_deepnote_index_column": 3238
        },
        {
         "height_advantage": -1,
         "_deepnote_index_column": 3239
        },
        {
         "height_advantage": 0,
         "_deepnote_index_column": 3240
        },
        {
         "height_advantage": -3,
         "_deepnote_index_column": 3241
        },
        {
         "height_advantage": -1,
         "_deepnote_index_column": 3242
        },
        {
         "height_advantage": 1,
         "_deepnote_index_column": 3243
        },
        {
         "height_advantage": 2,
         "_deepnote_index_column": 3244
        },
        {
         "height_advantage": 0,
         "_deepnote_index_column": 3245
        },
        {
         "height_advantage": 4,
         "_deepnote_index_column": 3246
        },
        {
         "height_advantage": -2,
         "_deepnote_index_column": 3247
        },
        {
         "height_advantage": 0,
         "_deepnote_index_column": 3248
        },
        {
         "height_advantage": 4,
         "_deepnote_index_column": 3249
        },
        {
         "height_advantage": -6,
         "_deepnote_index_column": 3250
        },
        {
         "height_advantage": -2,
         "_deepnote_index_column": 3251
        },
        {
         "height_advantage": -1,
         "_deepnote_index_column": 3252
        },
        {
         "height_advantage": 0,
         "_deepnote_index_column": 3253
        },
        {
         "height_advantage": -3,
         "_deepnote_index_column": 3254
        },
        {
         "height_advantage": -1,
         "_deepnote_index_column": 3255
        },
        {
         "height_advantage": 0,
         "_deepnote_index_column": 3256
        },
        {
         "height_advantage": 1,
         "_deepnote_index_column": 3257
        },
        {
         "height_advantage": 1,
         "_deepnote_index_column": 3258
        },
        {
         "height_advantage": -2,
         "_deepnote_index_column": 3259
        },
        {
         "height_advantage": -1,
         "_deepnote_index_column": 3260
        },
        {
         "height_advantage": 5,
         "_deepnote_index_column": 3261
        },
        {
         "height_advantage": 2,
         "_deepnote_index_column": 3262
        },
        {
         "height_advantage": 6,
         "_deepnote_index_column": 3263
        },
        {
         "height_advantage": 0,
         "_deepnote_index_column": 3264
        },
        {
         "height_advantage": -5,
         "_deepnote_index_column": 3265
        },
        {
         "height_advantage": 2,
         "_deepnote_index_column": 3266
        },
        {
         "height_advantage": 2,
         "_deepnote_index_column": 3267
        },
        {
         "height_advantage": -1,
         "_deepnote_index_column": 3268
        },
        {
         "height_advantage": 6,
         "_deepnote_index_column": 3269
        },
        {
         "height_advantage": 9,
         "_deepnote_index_column": 3271
        },
        {
         "height_advantage": 0,
         "_deepnote_index_column": 3272
        },
        {
         "height_advantage": -1,
         "_deepnote_index_column": 3273
        },
        {
         "height_advantage": -3,
         "_deepnote_index_column": 3274
        },
        {
         "height_advantage": 2,
         "_deepnote_index_column": 3275
        },
        {
         "height_advantage": -2,
         "_deepnote_index_column": 3276
        },
        {
         "height_advantage": 3,
         "_deepnote_index_column": 3277
        },
        {
         "height_advantage": -1,
         "_deepnote_index_column": 3278
        },
        {
         "height_advantage": 0,
         "_deepnote_index_column": 3279
        },
        {
         "height_advantage": -1,
         "_deepnote_index_column": 3280
        },
        {
         "height_advantage": 0,
         "_deepnote_index_column": 3281
        },
        {
         "height_advantage": -1,
         "_deepnote_index_column": 3282
        },
        {
         "height_advantage": -1,
         "_deepnote_index_column": 3283
        },
        {
         "height_advantage": 0,
         "_deepnote_index_column": 3284
        },
        {
         "height_advantage": -1,
         "_deepnote_index_column": 3285
        },
        {
         "height_advantage": 1,
         "_deepnote_index_column": 3286
        },
        {
         "height_advantage": 2,
         "_deepnote_index_column": 3287
        },
        {
         "height_advantage": -3,
         "_deepnote_index_column": 3288
        },
        {
         "height_advantage": 0,
         "_deepnote_index_column": 3289
        },
        {
         "height_advantage": 4,
         "_deepnote_index_column": 3290
        },
        {
         "height_advantage": 1,
         "_deepnote_index_column": 3291
        },
        {
         "height_advantage": 0,
         "_deepnote_index_column": 3292
        },
        {
         "height_advantage": 0,
         "_deepnote_index_column": 3293
        },
        {
         "height_advantage": 4,
         "_deepnote_index_column": 3294
        },
        {
         "height_advantage": 1,
         "_deepnote_index_column": 3295
        },
        {
         "height_advantage": -2,
         "_deepnote_index_column": 3296
        },
        {
         "height_advantage": -2,
         "_deepnote_index_column": 3297
        },
        {
         "height_advantage": 0,
         "_deepnote_index_column": 3298
        },
        {
         "height_advantage": 2,
         "_deepnote_index_column": 3299
        },
        {
         "height_advantage": 2,
         "_deepnote_index_column": 3300
        },
        {
         "height_advantage": 2,
         "_deepnote_index_column": 3301
        },
        {
         "height_advantage": 0,
         "_deepnote_index_column": 3302
        },
        {
         "height_advantage": 1,
         "_deepnote_index_column": 3303
        },
        {
         "height_advantage": 2,
         "_deepnote_index_column": 3304
        },
        {
         "height_advantage": 0,
         "_deepnote_index_column": 3305
        },
        {
         "height_advantage": 1,
         "_deepnote_index_column": 3306
        },
        {
         "height_advantage": 2,
         "_deepnote_index_column": 3307
        },
        {
         "height_advantage": 1,
         "_deepnote_index_column": 3308
        },
        {
         "height_advantage": 1,
         "_deepnote_index_column": 3309
        },
        {
         "height_advantage": -2,
         "_deepnote_index_column": 3310
        },
        {
         "height_advantage": -6,
         "_deepnote_index_column": 3311
        },
        {
         "height_advantage": 5,
         "_deepnote_index_column": 3312
        },
        {
         "height_advantage": -1,
         "_deepnote_index_column": 3313
        },
        {
         "height_advantage": 0,
         "_deepnote_index_column": 3314
        },
        {
         "height_advantage": 0,
         "_deepnote_index_column": 3315
        },
        {
         "height_advantage": 3,
         "_deepnote_index_column": 3316
        },
        {
         "height_advantage": -1,
         "_deepnote_index_column": 3317
        },
        {
         "height_advantage": -1,
         "_deepnote_index_column": 3318
        },
        {
         "height_advantage": -6,
         "_deepnote_index_column": 3319
        },
        {
         "height_advantage": -1,
         "_deepnote_index_column": 3320
        },
        {
         "height_advantage": -1,
         "_deepnote_index_column": 3321
        },
        {
         "height_advantage": 1,
         "_deepnote_index_column": 3322
        },
        {
         "height_advantage": 3,
         "_deepnote_index_column": 3323
        },
        {
         "height_advantage": -2,
         "_deepnote_index_column": 3324
        },
        {
         "height_advantage": -5,
         "_deepnote_index_column": 3325
        },
        {
         "height_advantage": 3,
         "_deepnote_index_column": 3326
        },
        {
         "height_advantage": 3,
         "_deepnote_index_column": 3327
        },
        {
         "height_advantage": 0,
         "_deepnote_index_column": 3328
        },
        {
         "height_advantage": 1,
         "_deepnote_index_column": 3329
        },
        {
         "height_advantage": -1,
         "_deepnote_index_column": 3330
        },
        {
         "height_advantage": -1,
         "_deepnote_index_column": 3331
        },
        {
         "height_advantage": 0,
         "_deepnote_index_column": 3332
        },
        {
         "height_advantage": 2,
         "_deepnote_index_column": 3333
        },
        {
         "height_advantage": 2,
         "_deepnote_index_column": 3334
        },
        {
         "height_advantage": 3,
         "_deepnote_index_column": 3335
        },
        {
         "height_advantage": 0,
         "_deepnote_index_column": 3336
        },
        {
         "height_advantage": 0,
         "_deepnote_index_column": 3337
        },
        {
         "height_advantage": 0,
         "_deepnote_index_column": 3338
        },
        {
         "height_advantage": 1,
         "_deepnote_index_column": 3339
        },
        {
         "height_advantage": -1,
         "_deepnote_index_column": 3340
        },
        {
         "height_advantage": -3,
         "_deepnote_index_column": 3341
        },
        {
         "height_advantage": -2,
         "_deepnote_index_column": 3342
        },
        {
         "height_advantage": 2,
         "_deepnote_index_column": 3343
        },
        {
         "height_advantage": 1,
         "_deepnote_index_column": 3344
        },
        {
         "height_advantage": 1,
         "_deepnote_index_column": 3345
        },
        {
         "height_advantage": -1,
         "_deepnote_index_column": 3346
        },
        {
         "height_advantage": 0,
         "_deepnote_index_column": 3347
        },
        {
         "height_advantage": -1,
         "_deepnote_index_column": 3348
        },
        {
         "height_advantage": 2,
         "_deepnote_index_column": 3349
        },
        {
         "height_advantage": -1,
         "_deepnote_index_column": 3350
        },
        {
         "height_advantage": 2,
         "_deepnote_index_column": 3351
        },
        {
         "height_advantage": 2,
         "_deepnote_index_column": 3352
        },
        {
         "height_advantage": 1,
         "_deepnote_index_column": 3353
        },
        {
         "height_advantage": 0,
         "_deepnote_index_column": 3354
        },
        {
         "height_advantage": -1,
         "_deepnote_index_column": 3355
        },
        {
         "height_advantage": 1,
         "_deepnote_index_column": 3356
        },
        {
         "height_advantage": -2,
         "_deepnote_index_column": 3357
        },
        {
         "height_advantage": 0,
         "_deepnote_index_column": 3358
        },
        {
         "height_advantage": 2,
         "_deepnote_index_column": 3359
        },
        {
         "height_advantage": -1,
         "_deepnote_index_column": 3360
        },
        {
         "height_advantage": -6,
         "_deepnote_index_column": 3361
        },
        {
         "height_advantage": -1,
         "_deepnote_index_column": 3362
        },
        {
         "height_advantage": -10,
         "_deepnote_index_column": 3363
        },
        {
         "height_advantage": -1,
         "_deepnote_index_column": 3364
        },
        {
         "height_advantage": 1,
         "_deepnote_index_column": 3365
        },
        {
         "height_advantage": -1,
         "_deepnote_index_column": 3366
        },
        {
         "height_advantage": -1,
         "_deepnote_index_column": 3367
        },
        {
         "height_advantage": -4,
         "_deepnote_index_column": 3368
        },
        {
         "height_advantage": 0,
         "_deepnote_index_column": 3369
        },
        {
         "height_advantage": -1,
         "_deepnote_index_column": 3371
        },
        {
         "height_advantage": 6,
         "_deepnote_index_column": 3372
        },
        {
         "height_advantage": -2,
         "_deepnote_index_column": 3373
        },
        {
         "height_advantage": -1,
         "_deepnote_index_column": 3374
        },
        {
         "height_advantage": -3,
         "_deepnote_index_column": 3376
        },
        {
         "height_advantage": 1,
         "_deepnote_index_column": 3377
        },
        {
         "height_advantage": 2,
         "_deepnote_index_column": 3378
        },
        {
         "height_advantage": 0,
         "_deepnote_index_column": 3379
        },
        {
         "height_advantage": 1,
         "_deepnote_index_column": 3380
        },
        {
         "height_advantage": 2,
         "_deepnote_index_column": 3381
        },
        {
         "height_advantage": 3,
         "_deepnote_index_column": 3382
        },
        {
         "height_advantage": -6,
         "_deepnote_index_column": 3384
        },
        {
         "height_advantage": -2,
         "_deepnote_index_column": 3385
        },
        {
         "height_advantage": 0,
         "_deepnote_index_column": 3386
        },
        {
         "height_advantage": 2,
         "_deepnote_index_column": 3387
        },
        {
         "height_advantage": 1,
         "_deepnote_index_column": 3388
        },
        {
         "height_advantage": -4,
         "_deepnote_index_column": 3389
        },
        {
         "height_advantage": 3,
         "_deepnote_index_column": 3390
        },
        {
         "height_advantage": -1,
         "_deepnote_index_column": 3391
        },
        {
         "height_advantage": 0,
         "_deepnote_index_column": 3392
        },
        {
         "height_advantage": -5,
         "_deepnote_index_column": 3393
        },
        {
         "height_advantage": 3,
         "_deepnote_index_column": 3394
        },
        {
         "height_advantage": -1,
         "_deepnote_index_column": 3395
        },
        {
         "height_advantage": 0,
         "_deepnote_index_column": 3396
        },
        {
         "height_advantage": 1,
         "_deepnote_index_column": 3397
        },
        {
         "height_advantage": 5,
         "_deepnote_index_column": 3398
        },
        {
         "height_advantage": 2,
         "_deepnote_index_column": 3399
        },
        {
         "height_advantage": -1,
         "_deepnote_index_column": 3400
        },
        {
         "height_advantage": 7,
         "_deepnote_index_column": 3401
        },
        {
         "height_advantage": 0,
         "_deepnote_index_column": 3402
        },
        {
         "height_advantage": 0,
         "_deepnote_index_column": 3403
        },
        {
         "height_advantage": 1,
         "_deepnote_index_column": 3404
        },
        {
         "height_advantage": 2,
         "_deepnote_index_column": 3405
        },
        {
         "height_advantage": -1,
         "_deepnote_index_column": 3406
        },
        {
         "height_advantage": 0,
         "_deepnote_index_column": 3407
        },
        {
         "height_advantage": 1,
         "_deepnote_index_column": 3408
        },
        {
         "height_advantage": 1,
         "_deepnote_index_column": 3409
        },
        {
         "height_advantage": 1,
         "_deepnote_index_column": 3410
        },
        {
         "height_advantage": -4,
         "_deepnote_index_column": 3411
        },
        {
         "height_advantage": 3,
         "_deepnote_index_column": 3412
        },
        {
         "height_advantage": 3,
         "_deepnote_index_column": 3413
        },
        {
         "height_advantage": 5,
         "_deepnote_index_column": 3414
        },
        {
         "height_advantage": -1,
         "_deepnote_index_column": 3415
        },
        {
         "height_advantage": -4,
         "_deepnote_index_column": 3416
        },
        {
         "height_advantage": 1,
         "_deepnote_index_column": 3417
        },
        {
         "height_advantage": 1,
         "_deepnote_index_column": 3418
        },
        {
         "height_advantage": -2,
         "_deepnote_index_column": 3419
        },
        {
         "height_advantage": 1,
         "_deepnote_index_column": 3420
        },
        {
         "height_advantage": 2,
         "_deepnote_index_column": 3421
        },
        {
         "height_advantage": 0,
         "_deepnote_index_column": 3422
        },
        {
         "height_advantage": -6,
         "_deepnote_index_column": 3423
        },
        {
         "height_advantage": 0,
         "_deepnote_index_column": 3424
        },
        {
         "height_advantage": 3,
         "_deepnote_index_column": 3425
        },
        {
         "height_advantage": -1,
         "_deepnote_index_column": 3426
        },
        {
         "height_advantage": 2,
         "_deepnote_index_column": 3427
        },
        {
         "height_advantage": -2,
         "_deepnote_index_column": 3428
        },
        {
         "height_advantage": -2,
         "_deepnote_index_column": 3429
        },
        {
         "height_advantage": 1,
         "_deepnote_index_column": 3430
        },
        {
         "height_advantage": 2,
         "_deepnote_index_column": 3431
        },
        {
         "height_advantage": -2,
         "_deepnote_index_column": 3432
        },
        {
         "height_advantage": 0,
         "_deepnote_index_column": 3433
        },
        {
         "height_advantage": -2,
         "_deepnote_index_column": 3434
        },
        {
         "height_advantage": 0,
         "_deepnote_index_column": 3435
        },
        {
         "height_advantage": 1,
         "_deepnote_index_column": 3436
        },
        {
         "height_advantage": -1,
         "_deepnote_index_column": 3437
        },
        {
         "height_advantage": 2,
         "_deepnote_index_column": 3438
        },
        {
         "height_advantage": 1,
         "_deepnote_index_column": 3439
        },
        {
         "height_advantage": 1,
         "_deepnote_index_column": 3440
        },
        {
         "height_advantage": -2,
         "_deepnote_index_column": 3441
        },
        {
         "height_advantage": 0,
         "_deepnote_index_column": 3442
        },
        {
         "height_advantage": 0,
         "_deepnote_index_column": 3443
        },
        {
         "height_advantage": 2,
         "_deepnote_index_column": 3444
        },
        {
         "height_advantage": -3,
         "_deepnote_index_column": 3445
        },
        {
         "height_advantage": 1,
         "_deepnote_index_column": 3446
        },
        {
         "height_advantage": -2,
         "_deepnote_index_column": 3447
        },
        {
         "height_advantage": 0,
         "_deepnote_index_column": 3448
        },
        {
         "height_advantage": -1,
         "_deepnote_index_column": 3449
        },
        {
         "height_advantage": -1,
         "_deepnote_index_column": 3450
        },
        {
         "height_advantage": -1,
         "_deepnote_index_column": 3451
        },
        {
         "height_advantage": 3,
         "_deepnote_index_column": 3452
        },
        {
         "height_advantage": 2,
         "_deepnote_index_column": 3453
        },
        {
         "height_advantage": 1,
         "_deepnote_index_column": 3454
        },
        {
         "height_advantage": 4,
         "_deepnote_index_column": 3455
        },
        {
         "height_advantage": 0,
         "_deepnote_index_column": 3456
        },
        {
         "height_advantage": -4,
         "_deepnote_index_column": 3457
        },
        {
         "height_advantage": 3,
         "_deepnote_index_column": 3458
        },
        {
         "height_advantage": -4,
         "_deepnote_index_column": 3459
        },
        {
         "height_advantage": -1,
         "_deepnote_index_column": 3460
        },
        {
         "height_advantage": 2,
         "_deepnote_index_column": 3461
        },
        {
         "height_advantage": -5,
         "_deepnote_index_column": 3462
        },
        {
         "height_advantage": 1,
         "_deepnote_index_column": 3463
        },
        {
         "height_advantage": 0,
         "_deepnote_index_column": 3464
        },
        {
         "height_advantage": 1,
         "_deepnote_index_column": 3465
        },
        {
         "height_advantage": 0,
         "_deepnote_index_column": 3466
        },
        {
         "height_advantage": 1,
         "_deepnote_index_column": 3467
        },
        {
         "height_advantage": -5,
         "_deepnote_index_column": 3468
        },
        {
         "height_advantage": 0,
         "_deepnote_index_column": 3469
        },
        {
         "height_advantage": 0,
         "_deepnote_index_column": 3470
        },
        {
         "height_advantage": -1,
         "_deepnote_index_column": 3471
        },
        {
         "height_advantage": 1,
         "_deepnote_index_column": 3472
        },
        {
         "height_advantage": -1,
         "_deepnote_index_column": 3473
        },
        {
         "height_advantage": 1,
         "_deepnote_index_column": 3474
        },
        {
         "height_advantage": -1,
         "_deepnote_index_column": 3475
        },
        {
         "height_advantage": -2,
         "_deepnote_index_column": 3476
        },
        {
         "height_advantage": 3,
         "_deepnote_index_column": 3478
        },
        {
         "height_advantage": -2,
         "_deepnote_index_column": 3479
        },
        {
         "height_advantage": 3,
         "_deepnote_index_column": 3480
        },
        {
         "height_advantage": 0,
         "_deepnote_index_column": 3481
        },
        {
         "height_advantage": -1,
         "_deepnote_index_column": 3482
        },
        {
         "height_advantage": 3,
         "_deepnote_index_column": 3483
        },
        {
         "height_advantage": -1,
         "_deepnote_index_column": 3484
        },
        {
         "height_advantage": 2,
         "_deepnote_index_column": 3485
        },
        {
         "height_advantage": 3,
         "_deepnote_index_column": 3486
        },
        {
         "height_advantage": 3,
         "_deepnote_index_column": 3489
        },
        {
         "height_advantage": 0,
         "_deepnote_index_column": 3490
        },
        {
         "height_advantage": 2,
         "_deepnote_index_column": 3491
        },
        {
         "height_advantage": 1,
         "_deepnote_index_column": 3492
        },
        {
         "height_advantage": -1,
         "_deepnote_index_column": 3493
        },
        {
         "height_advantage": 3,
         "_deepnote_index_column": 3494
        },
        {
         "height_advantage": 2,
         "_deepnote_index_column": 3495
        },
        {
         "height_advantage": 4,
         "_deepnote_index_column": 3496
        },
        {
         "height_advantage": 2,
         "_deepnote_index_column": 3497
        },
        {
         "height_advantage": 4,
         "_deepnote_index_column": 3498
        },
        {
         "height_advantage": 1,
         "_deepnote_index_column": 3499
        },
        {
         "height_advantage": 2,
         "_deepnote_index_column": 3500
        },
        {
         "height_advantage": 0,
         "_deepnote_index_column": 3501
        },
        {
         "height_advantage": -2,
         "_deepnote_index_column": 3502
        }
       ]
      },
      "text/plain": "      height_advantage\n0                 -5.0\n1                 -3.0\n2                 -1.0\n3                  1.0\n4                 -1.0\n...                ...\n3498               4.0\n3499               1.0\n3500               2.0\n3501               0.0\n3502              -2.0\n\n[3433 rows x 1 columns]",
      "text/html": "<div>\n<style scoped>\n    .dataframe tbody tr th:only-of-type {\n        vertical-align: middle;\n    }\n\n    .dataframe tbody tr th {\n        vertical-align: top;\n    }\n\n    .dataframe thead th {\n        text-align: right;\n    }\n</style>\n<table border=\"1\" class=\"dataframe\">\n  <thead>\n    <tr style=\"text-align: right;\">\n      <th></th>\n      <th>height_advantage</th>\n    </tr>\n  </thead>\n  <tbody>\n    <tr>\n      <th>0</th>\n      <td>-5.0</td>\n    </tr>\n    <tr>\n      <th>1</th>\n      <td>-3.0</td>\n    </tr>\n    <tr>\n      <th>2</th>\n      <td>-1.0</td>\n    </tr>\n    <tr>\n      <th>3</th>\n      <td>1.0</td>\n    </tr>\n    <tr>\n      <th>4</th>\n      <td>-1.0</td>\n    </tr>\n    <tr>\n      <th>...</th>\n      <td>...</td>\n    </tr>\n    <tr>\n      <th>3498</th>\n      <td>4.0</td>\n    </tr>\n    <tr>\n      <th>3499</th>\n      <td>1.0</td>\n    </tr>\n    <tr>\n      <th>3500</th>\n      <td>2.0</td>\n    </tr>\n    <tr>\n      <th>3501</th>\n      <td>0.0</td>\n    </tr>\n    <tr>\n      <th>3502</th>\n      <td>-2.0</td>\n    </tr>\n  </tbody>\n</table>\n<p>3433 rows × 1 columns</p>\n</div>"
     },
     "metadata": {},
     "output_type": "display_data"
    },
    {
     "data": {
      "application/vnd.deepnote.dataframe.v2+json": {
       "row_count": 8,
       "column_count": 1,
       "columns": [
        {
         "name": "height_advantage",
         "dtype": "float64",
         "stats": {
          "unique_count": 8,
          "nan_count": 0,
          "min": "-14.0",
          "max": "3433.0",
          "histogram": [
           {
            "bin_start": -14,
            "bin_end": 330.7,
            "count": 7
           },
           {
            "bin_start": 330.7,
            "bin_end": 675.4,
            "count": 0
           },
           {
            "bin_start": 675.4,
            "bin_end": 1020.0999999999999,
            "count": 0
           },
           {
            "bin_start": 1020.0999999999999,
            "bin_end": 1364.8,
            "count": 0
           },
           {
            "bin_start": 1364.8,
            "bin_end": 1709.5,
            "count": 0
           },
           {
            "bin_start": 1709.5,
            "bin_end": 2054.2,
            "count": 0
           },
           {
            "bin_start": 2054.2,
            "bin_end": 2398.9,
            "count": 0
           },
           {
            "bin_start": 2398.9,
            "bin_end": 2743.6,
            "count": 0
           },
           {
            "bin_start": 2743.6,
            "bin_end": 3088.2999999999997,
            "count": 0
           },
           {
            "bin_start": 3088.2999999999997,
            "bin_end": 3433,
            "count": 1
           }
          ]
         }
        },
        {
         "name": "_deepnote_index_column",
         "dtype": "object"
        }
       ],
       "rows_top": [
        {
         "height_advantage": 3433,
         "_deepnote_index_column": "count"
        },
        {
         "height_advantage": 0.07806583163413924,
         "_deepnote_index_column": "mean"
        },
        {
         "height_advantage": 2.6200254427848133,
         "_deepnote_index_column": "std"
        },
        {
         "height_advantage": -14,
         "_deepnote_index_column": "min"
        },
        {
         "height_advantage": -1,
         "_deepnote_index_column": "25%"
        },
        {
         "height_advantage": 0,
         "_deepnote_index_column": "50%"
        },
        {
         "height_advantage": 2,
         "_deepnote_index_column": "75%"
        },
        {
         "height_advantage": 13,
         "_deepnote_index_column": "max"
        }
       ],
       "rows_bottom": null
      },
      "text/plain": "       height_advantage\ncount       3433.000000\nmean           0.078066\nstd            2.620025\nmin          -14.000000\n25%           -1.000000\n50%            0.000000\n75%            2.000000\nmax           13.000000",
      "text/html": "<div>\n<style scoped>\n    .dataframe tbody tr th:only-of-type {\n        vertical-align: middle;\n    }\n\n    .dataframe tbody tr th {\n        vertical-align: top;\n    }\n\n    .dataframe thead th {\n        text-align: right;\n    }\n</style>\n<table border=\"1\" class=\"dataframe\">\n  <thead>\n    <tr style=\"text-align: right;\">\n      <th></th>\n      <th>height_advantage</th>\n    </tr>\n  </thead>\n  <tbody>\n    <tr>\n      <th>count</th>\n      <td>3433.000000</td>\n    </tr>\n    <tr>\n      <th>mean</th>\n      <td>0.078066</td>\n    </tr>\n    <tr>\n      <th>std</th>\n      <td>2.620025</td>\n    </tr>\n    <tr>\n      <th>min</th>\n      <td>-14.000000</td>\n    </tr>\n    <tr>\n      <th>25%</th>\n      <td>-1.000000</td>\n    </tr>\n    <tr>\n      <th>50%</th>\n      <td>0.000000</td>\n    </tr>\n    <tr>\n      <th>75%</th>\n      <td>2.000000</td>\n    </tr>\n    <tr>\n      <th>max</th>\n      <td>13.000000</td>\n    </tr>\n  </tbody>\n</table>\n</div>"
     },
     "metadata": {},
     "output_type": "display_data"
    }
   ]
  },
  {
   "cell_type": "code",
   "source": "",
   "metadata": {
    "cell_id": "00009-a938f2f1-9e2e-4928-9bbd-a501d4f5fc99",
    "deepnote_variable_name": "height_adv",
    "deepnote_visualization_spec": {
     "$schema": "https://vega.github.io/schema/vega-lite/v4.json",
     "mark": {
      "type": "bar",
      "tooltip": {
       "content": "data"
      }
     },
     "height": 220,
     "autosize": {
      "type": "fit"
     },
     "data": {
      "name": "placeholder"
     },
     "encoding": {
      "x": {
       "field": "height_advantage",
       "type": "quantitative",
       "sort": null,
       "scale": {
        "type": "linear",
        "zero": false
       }
      },
      "y": {
       "field": "COUNT(*)",
       "type": "quantitative",
       "sort": null,
       "aggregate": "count",
       "scale": {
        "type": "linear",
        "zero": true
       }
      },
      "color": {
       "field": "",
       "type": "nominal",
       "sort": null,
       "scale": {
        "type": "linear",
        "zero": false
       }
      }
     }
    },
    "deepnote_to_be_reexecuted": false,
    "source_hash": "bb416649",
    "execution_start": 1627680817125,
    "execution_millis": 640,
    "deepnote_cell_type": "visualization"
   },
   "execution_count": 8,
   "outputs": [
    {
     "output_type": "execute_result",
     "execution_count": 8,
     "data": {
      "text/html": "\n<div id=\"altair-viz-fa3352acfebf486da2ccdd44788d1efc\"></div>\n<script type=\"text/javascript\">\n  (function(spec, embedOpt){\n    let outputDiv = document.currentScript.previousElementSibling;\n    if (outputDiv.id !== \"altair-viz-fa3352acfebf486da2ccdd44788d1efc\") {\n      outputDiv = document.getElementById(\"altair-viz-fa3352acfebf486da2ccdd44788d1efc\");\n    }\n    const paths = {\n      \"vega\": \"https://cdn.jsdelivr.net/npm//vega@5?noext\",\n      \"vega-lib\": \"https://cdn.jsdelivr.net/npm//vega-lib?noext\",\n      \"vega-lite\": \"https://cdn.jsdelivr.net/npm//vega-lite@4.8.1?noext\",\n      \"vega-embed\": \"https://cdn.jsdelivr.net/npm//vega-embed@6?noext\",\n    };\n\n    function loadScript(lib) {\n      return new Promise(function(resolve, reject) {\n        var s = document.createElement('script');\n        s.src = paths[lib];\n        s.async = true;\n        s.onload = () => resolve(paths[lib]);\n        s.onerror = () => reject(`Error loading script: ${paths[lib]}`);\n        document.getElementsByTagName(\"head\")[0].appendChild(s);\n      });\n    }\n\n    function showError(err) {\n      outputDiv.innerHTML = `<div class=\"error\" style=\"color:red;\">${err}</div>`;\n      throw err;\n    }\n\n    function displayChart(vegaEmbed) {\n      vegaEmbed(outputDiv, spec, embedOpt)\n        .catch(err => showError(`Javascript Error: ${err.message}<br>This usually means there's a typo in your chart specification. See the javascript console for the full traceback.`));\n    }\n\n    if(typeof define === \"function\" && define.amd) {\n      requirejs.config({paths});\n      require([\"vega-embed\"], displayChart, err => showError(`Error loading script: ${err.message}`));\n    } else if (typeof vegaEmbed === \"function\") {\n      displayChart(vegaEmbed);\n    } else {\n      loadScript(\"vega\")\n        .then(() => loadScript(\"vega-lite\"))\n        .then(() => loadScript(\"vega-embed\"))\n        .catch(showError)\n        .then(() => displayChart(vegaEmbed));\n    }\n  })({\"config\": {\"view\": {\"continuousWidth\": 400, \"continuousHeight\": 300}, \"area\": {\"fill\": \"#51C0E9\"}, \"axis\": {\"labelFont\": \"Inter, sans-serif\", \"labelFontSize\": 12, \"labelFontWeight\": \"normal\", \"labelLimit\": 60, \"labelOverlap\": \"greedy\", \"titleFont\": \"Inter, sans-serif\", \"titleFontSize\": 12, \"titleFontWeight\": \"bold\"}, \"background\": \"#ffffff\", \"legend\": {\"labelFont\": \"Inter, sans-serif\", \"labelFontSize\": 12, \"titleFont\": \"Inter, sans-serif\", \"titleFontSize\": 12, \"titleFontWeight\": \"bold\"}, \"line\": {\"stroke\": \"#51C0E9\", \"strokeWidth\": 2}, \"rect\": {\"fill\": \"#51C0E9\"}, \"title\": {\"anchor\": \"start\", \"color\": \"#000000\", \"font\": \"Inter, sans-serif\", \"fontSize\": 22, \"fontWeight\": \"normal\"}}, \"data\": {\"name\": \"data-394eb343700b2e2b061311164bd7fedb\"}, \"mark\": {\"type\": \"bar\", \"tooltip\": {\"content\": \"data\"}}, \"autosize\": {\"type\": \"fit\"}, \"encoding\": {\"color\": {\"type\": \"nominal\", \"field\": \"\", \"scale\": {\"type\": \"linear\", \"zero\": false}, \"sort\": null}, \"x\": {\"type\": \"quantitative\", \"field\": \"height_advantage\", \"scale\": {\"type\": \"linear\", \"zero\": false}, \"sort\": null}, \"y\": {\"type\": \"quantitative\", \"aggregate\": \"count\", \"field\": \"COUNT(*)\", \"scale\": {\"type\": \"linear\", \"zero\": true}, \"sort\": null}}, \"height\": 300, \"width\": \"container\", \"$schema\": \"https://vega.github.io/schema/vega-lite/v4.json\", \"datasets\": {\"data-394eb343700b2e2b061311164bd7fedb\": [{\"height_advantage\": -5.0}, {\"height_advantage\": -3.0}, {\"height_advantage\": -1.0}, {\"height_advantage\": 1.0}, {\"height_advantage\": -1.0}, {\"height_advantage\": -1.0}, {\"height_advantage\": -2.0}, {\"height_advantage\": 3.0}, {\"height_advantage\": -2.0}, {\"height_advantage\": -2.0}, {\"height_advantage\": 2.0}, {\"height_advantage\": 1.0}, {\"height_advantage\": 4.0}, {\"height_advantage\": 0.0}, {\"height_advantage\": 2.0}, {\"height_advantage\": 5.0}, {\"height_advantage\": -1.0}, {\"height_advantage\": 6.0}, {\"height_advantage\": -4.0}, {\"height_advantage\": -1.0}, {\"height_advantage\": -5.0}, {\"height_advantage\": 2.0}, {\"height_advantage\": -4.0}, {\"height_advantage\": 2.0}, {\"height_advantage\": -3.0}, {\"height_advantage\": 5.0}, {\"height_advantage\": 1.0}, {\"height_advantage\": -9.0}, {\"height_advantage\": -2.0}, {\"height_advantage\": 0.0}, {\"height_advantage\": 1.0}, {\"height_advantage\": 1.0}, {\"height_advantage\": 4.0}, {\"height_advantage\": -2.0}, {\"height_advantage\": 7.0}, {\"height_advantage\": 2.0}, {\"height_advantage\": -3.0}, {\"height_advantage\": 0.0}, {\"height_advantage\": 2.0}, {\"height_advantage\": 4.0}, {\"height_advantage\": 1.0}, {\"height_advantage\": 2.0}, {\"height_advantage\": -4.0}, {\"height_advantage\": 10.0}, {\"height_advantage\": 0.0}, {\"height_advantage\": -1.0}, {\"height_advantage\": 2.0}, {\"height_advantage\": -8.0}, {\"height_advantage\": -2.0}, {\"height_advantage\": 4.0}, {\"height_advantage\": 10.0}, {\"height_advantage\": -2.0}, {\"height_advantage\": 0.0}, {\"height_advantage\": -7.0}, {\"height_advantage\": -1.0}, {\"height_advantage\": 8.0}, {\"height_advantage\": -1.0}, {\"height_advantage\": -1.0}, {\"height_advantage\": -2.0}, {\"height_advantage\": 0.0}, {\"height_advantage\": 4.0}, {\"height_advantage\": -2.0}, {\"height_advantage\": -2.0}, {\"height_advantage\": 4.0}, {\"height_advantage\": -2.0}, {\"height_advantage\": 0.0}, {\"height_advantage\": 0.0}, {\"height_advantage\": 6.0}, {\"height_advantage\": 1.0}, {\"height_advantage\": 4.0}, {\"height_advantage\": -7.0}, {\"height_advantage\": -5.0}, {\"height_advantage\": 6.0}, {\"height_advantage\": -8.0}, {\"height_advantage\": 0.0}, {\"height_advantage\": -2.0}, {\"height_advantage\": -3.0}, {\"height_advantage\": 6.0}, {\"height_advantage\": 0.0}, {\"height_advantage\": 0.0}, {\"height_advantage\": 1.0}, {\"height_advantage\": 4.0}, {\"height_advantage\": -1.0}, {\"height_advantage\": -3.0}, {\"height_advantage\": -1.0}, {\"height_advantage\": -3.0}, {\"height_advantage\": 5.0}, {\"height_advantage\": -2.0}, {\"height_advantage\": -3.0}, {\"height_advantage\": -3.0}, {\"height_advantage\": -5.0}, {\"height_advantage\": 2.0}, {\"height_advantage\": -2.0}, {\"height_advantage\": -1.0}, {\"height_advantage\": 1.0}, {\"height_advantage\": 1.0}, {\"height_advantage\": 0.0}, {\"height_advantage\": 1.0}, {\"height_advantage\": -1.0}, {\"height_advantage\": 1.0}, {\"height_advantage\": 2.0}, {\"height_advantage\": -2.0}, {\"height_advantage\": -2.0}, {\"height_advantage\": 3.0}, {\"height_advantage\": -1.0}, {\"height_advantage\": 0.0}, {\"height_advantage\": 0.0}, {\"height_advantage\": -1.0}, {\"height_advantage\": -3.0}, {\"height_advantage\": 1.0}, {\"height_advantage\": 1.0}, {\"height_advantage\": 2.0}, {\"height_advantage\": -2.0}, {\"height_advantage\": -3.0}, {\"height_advantage\": 2.0}, {\"height_advantage\": -3.0}, {\"height_advantage\": -5.0}, {\"height_advantage\": 2.0}, {\"height_advantage\": 5.0}, {\"height_advantage\": 1.0}, {\"height_advantage\": 8.0}, {\"height_advantage\": -2.0}, {\"height_advantage\": -3.0}, {\"height_advantage\": -4.0}, {\"height_advantage\": 2.0}, {\"height_advantage\": 1.0}, {\"height_advantage\": 5.0}, {\"height_advantage\": -2.0}, {\"height_advantage\": -6.0}, {\"height_advantage\": 2.0}, {\"height_advantage\": -3.0}, {\"height_advantage\": 2.0}, {\"height_advantage\": 4.0}, {\"height_advantage\": 0.0}, {\"height_advantage\": 1.0}, {\"height_advantage\": -6.0}, {\"height_advantage\": 1.0}, {\"height_advantage\": -3.0}, {\"height_advantage\": -1.0}, {\"height_advantage\": 2.0}, {\"height_advantage\": 1.0}, {\"height_advantage\": -1.0}, {\"height_advantage\": 2.0}, {\"height_advantage\": 2.0}, {\"height_advantage\": 0.0}, {\"height_advantage\": 3.0}, {\"height_advantage\": 1.0}, {\"height_advantage\": 4.0}, {\"height_advantage\": 4.0}, {\"height_advantage\": 1.0}, {\"height_advantage\": 1.0}, {\"height_advantage\": -1.0}, {\"height_advantage\": -4.0}, {\"height_advantage\": 3.0}, {\"height_advantage\": 1.0}, {\"height_advantage\": 3.0}, {\"height_advantage\": -1.0}, {\"height_advantage\": 3.0}, {\"height_advantage\": -1.0}, {\"height_advantage\": 3.0}, {\"height_advantage\": 1.0}, {\"height_advantage\": 2.0}, {\"height_advantage\": 1.0}, {\"height_advantage\": -2.0}, {\"height_advantage\": -2.0}, {\"height_advantage\": 0.0}, {\"height_advantage\": -2.0}, {\"height_advantage\": -4.0}, {\"height_advantage\": -1.0}, {\"height_advantage\": -4.0}, {\"height_advantage\": 5.0}, {\"height_advantage\": 0.0}, {\"height_advantage\": 6.0}, {\"height_advantage\": -1.0}, {\"height_advantage\": 2.0}, {\"height_advantage\": 2.0}, {\"height_advantage\": -1.0}, {\"height_advantage\": 2.0}, {\"height_advantage\": 1.0}, {\"height_advantage\": -2.0}, {\"height_advantage\": 4.0}, {\"height_advantage\": 2.0}, {\"height_advantage\": 1.0}, {\"height_advantage\": 2.0}, {\"height_advantage\": -3.0}, {\"height_advantage\": 3.0}, {\"height_advantage\": -3.0}, {\"height_advantage\": -5.0}, {\"height_advantage\": 0.0}, {\"height_advantage\": -2.0}, {\"height_advantage\": 1.0}, {\"height_advantage\": 1.0}, {\"height_advantage\": -2.0}, {\"height_advantage\": 1.0}, {\"height_advantage\": -1.0}, {\"height_advantage\": 0.0}, {\"height_advantage\": 5.0}, {\"height_advantage\": -3.0}, {\"height_advantage\": -3.0}, {\"height_advantage\": -1.0}, {\"height_advantage\": -4.0}, {\"height_advantage\": 3.0}, {\"height_advantage\": -2.0}, {\"height_advantage\": -7.0}, {\"height_advantage\": 1.0}, {\"height_advantage\": -5.0}, {\"height_advantage\": -6.0}, {\"height_advantage\": 3.0}, {\"height_advantage\": -1.0}, {\"height_advantage\": 1.0}, {\"height_advantage\": -4.0}, {\"height_advantage\": 3.0}, {\"height_advantage\": 0.0}, {\"height_advantage\": 5.0}, {\"height_advantage\": 2.0}, {\"height_advantage\": 0.0}, {\"height_advantage\": 6.0}, {\"height_advantage\": 2.0}, {\"height_advantage\": -2.0}, {\"height_advantage\": -4.0}, {\"height_advantage\": -4.0}, {\"height_advantage\": 0.0}, {\"height_advantage\": -1.0}, {\"height_advantage\": 4.0}, {\"height_advantage\": 3.0}, {\"height_advantage\": 8.0}, {\"height_advantage\": 1.0}, {\"height_advantage\": 4.0}, {\"height_advantage\": 2.0}, {\"height_advantage\": -1.0}, {\"height_advantage\": 0.0}, {\"height_advantage\": -8.0}, {\"height_advantage\": 1.0}, {\"height_advantage\": -1.0}, {\"height_advantage\": 2.0}, {\"height_advantage\": 0.0}, {\"height_advantage\": 4.0}, {\"height_advantage\": 1.0}, {\"height_advantage\": -2.0}, {\"height_advantage\": 1.0}, {\"height_advantage\": -4.0}, {\"height_advantage\": 1.0}, {\"height_advantage\": -3.0}, {\"height_advantage\": 3.0}, {\"height_advantage\": 1.0}, {\"height_advantage\": 0.0}, {\"height_advantage\": 1.0}, {\"height_advantage\": 0.0}, {\"height_advantage\": 2.0}, {\"height_advantage\": 1.0}, {\"height_advantage\": 2.0}, {\"height_advantage\": 3.0}, {\"height_advantage\": 0.0}, {\"height_advantage\": -2.0}, {\"height_advantage\": 7.0}, {\"height_advantage\": 3.0}, {\"height_advantage\": 5.0}, {\"height_advantage\": 1.0}, {\"height_advantage\": -2.0}, {\"height_advantage\": 1.0}, {\"height_advantage\": -4.0}, {\"height_advantage\": 2.0}, {\"height_advantage\": -3.0}, {\"height_advantage\": 2.0}, {\"height_advantage\": 2.0}, {\"height_advantage\": -3.0}, {\"height_advantage\": 0.0}, {\"height_advantage\": -2.0}, {\"height_advantage\": -3.0}, {\"height_advantage\": 1.0}, {\"height_advantage\": 5.0}, {\"height_advantage\": 3.0}, {\"height_advantage\": 0.0}, {\"height_advantage\": -3.0}, {\"height_advantage\": 0.0}, {\"height_advantage\": 2.0}, {\"height_advantage\": 2.0}, {\"height_advantage\": 1.0}, {\"height_advantage\": 1.0}, {\"height_advantage\": -3.0}, {\"height_advantage\": 0.0}, {\"height_advantage\": -4.0}, {\"height_advantage\": 6.0}, {\"height_advantage\": 2.0}, {\"height_advantage\": -3.0}, {\"height_advantage\": -3.0}, {\"height_advantage\": 1.0}, {\"height_advantage\": 3.0}, {\"height_advantage\": 5.0}, {\"height_advantage\": 3.0}, {\"height_advantage\": -2.0}, {\"height_advantage\": 9.0}, {\"height_advantage\": -1.0}, {\"height_advantage\": 0.0}, {\"height_advantage\": -4.0}, {\"height_advantage\": 1.0}, {\"height_advantage\": 2.0}, {\"height_advantage\": 0.0}, {\"height_advantage\": 0.0}, {\"height_advantage\": 1.0}, {\"height_advantage\": 5.0}, {\"height_advantage\": -2.0}, {\"height_advantage\": -3.0}, {\"height_advantage\": 4.0}, {\"height_advantage\": 3.0}, {\"height_advantage\": 3.0}, {\"height_advantage\": 0.0}, {\"height_advantage\": 3.0}, {\"height_advantage\": 8.0}, {\"height_advantage\": 1.0}, {\"height_advantage\": 3.0}, {\"height_advantage\": -2.0}, {\"height_advantage\": 0.0}, {\"height_advantage\": 3.0}, {\"height_advantage\": 1.0}, {\"height_advantage\": 1.0}, {\"height_advantage\": -1.0}, {\"height_advantage\": -2.0}, {\"height_advantage\": -1.0}, {\"height_advantage\": 3.0}, {\"height_advantage\": 3.0}, {\"height_advantage\": 3.0}, {\"height_advantage\": -6.0}, {\"height_advantage\": -2.0}, {\"height_advantage\": -1.0}, {\"height_advantage\": -1.0}, {\"height_advantage\": 3.0}, {\"height_advantage\": -2.0}, {\"height_advantage\": 1.0}, {\"height_advantage\": 0.0}, {\"height_advantage\": 0.0}, {\"height_advantage\": 1.0}, {\"height_advantage\": 3.0}, {\"height_advantage\": -1.0}, {\"height_advantage\": 1.0}, {\"height_advantage\": 2.0}, {\"height_advantage\": 3.0}, {\"height_advantage\": 3.0}, {\"height_advantage\": 0.0}, {\"height_advantage\": -3.0}, {\"height_advantage\": 2.0}, {\"height_advantage\": -1.0}, {\"height_advantage\": 0.0}, {\"height_advantage\": 4.0}, {\"height_advantage\": -6.0}, {\"height_advantage\": -1.0}, {\"height_advantage\": 0.0}, {\"height_advantage\": 4.0}, {\"height_advantage\": 0.0}, {\"height_advantage\": 0.0}, {\"height_advantage\": 1.0}, {\"height_advantage\": 4.0}, {\"height_advantage\": 1.0}, {\"height_advantage\": 2.0}, {\"height_advantage\": -6.0}, {\"height_advantage\": 0.0}, {\"height_advantage\": 3.0}, {\"height_advantage\": -2.0}, {\"height_advantage\": -1.0}, {\"height_advantage\": -5.0}, {\"height_advantage\": -4.0}, {\"height_advantage\": 3.0}, {\"height_advantage\": 0.0}, {\"height_advantage\": -1.0}, {\"height_advantage\": -1.0}, {\"height_advantage\": 1.0}, {\"height_advantage\": 0.0}, {\"height_advantage\": 2.0}, {\"height_advantage\": 0.0}, {\"height_advantage\": -2.0}, {\"height_advantage\": 0.0}, {\"height_advantage\": -3.0}, {\"height_advantage\": 0.0}, {\"height_advantage\": 3.0}, {\"height_advantage\": 0.0}, {\"height_advantage\": -1.0}, {\"height_advantage\": -5.0}, {\"height_advantage\": 1.0}, {\"height_advantage\": 0.0}, {\"height_advantage\": 5.0}, {\"height_advantage\": -4.0}, {\"height_advantage\": 0.0}, {\"height_advantage\": 2.0}, {\"height_advantage\": 2.0}, {\"height_advantage\": -1.0}, {\"height_advantage\": 3.0}, {\"height_advantage\": 2.0}, {\"height_advantage\": 2.0}, {\"height_advantage\": 0.0}, {\"height_advantage\": 0.0}, {\"height_advantage\": 0.0}, {\"height_advantage\": 1.0}, {\"height_advantage\": -1.0}, {\"height_advantage\": -1.0}, {\"height_advantage\": 3.0}, {\"height_advantage\": -2.0}, {\"height_advantage\": -4.0}, {\"height_advantage\": 1.0}, {\"height_advantage\": -3.0}, {\"height_advantage\": 1.0}, {\"height_advantage\": -2.0}, {\"height_advantage\": -2.0}, {\"height_advantage\": 0.0}, {\"height_advantage\": 1.0}, {\"height_advantage\": 2.0}, {\"height_advantage\": 3.0}, {\"height_advantage\": 4.0}, {\"height_advantage\": 1.0}, {\"height_advantage\": 0.0}, {\"height_advantage\": 0.0}, {\"height_advantage\": 3.0}, {\"height_advantage\": 2.0}, {\"height_advantage\": 5.0}, {\"height_advantage\": 0.0}, {\"height_advantage\": 0.0}, {\"height_advantage\": 1.0}, {\"height_advantage\": 1.0}, {\"height_advantage\": 1.0}, {\"height_advantage\": 3.0}, {\"height_advantage\": 2.0}, {\"height_advantage\": -1.0}, {\"height_advantage\": 1.0}, {\"height_advantage\": 6.0}, {\"height_advantage\": -1.0}, {\"height_advantage\": -2.0}, {\"height_advantage\": 2.0}, {\"height_advantage\": 0.0}, {\"height_advantage\": -2.0}, {\"height_advantage\": 0.0}, {\"height_advantage\": -2.0}, {\"height_advantage\": -2.0}, {\"height_advantage\": 0.0}, {\"height_advantage\": -3.0}, {\"height_advantage\": 1.0}, {\"height_advantage\": 1.0}, {\"height_advantage\": 1.0}, {\"height_advantage\": -1.0}, {\"height_advantage\": 0.0}, {\"height_advantage\": -1.0}, {\"height_advantage\": 1.0}, {\"height_advantage\": 4.0}, {\"height_advantage\": 4.0}, {\"height_advantage\": -3.0}, {\"height_advantage\": -8.0}, {\"height_advantage\": -5.0}, {\"height_advantage\": -2.0}, {\"height_advantage\": 0.0}, {\"height_advantage\": 1.0}, {\"height_advantage\": 0.0}, {\"height_advantage\": 1.0}, {\"height_advantage\": -1.0}, {\"height_advantage\": -3.0}, {\"height_advantage\": 4.0}, {\"height_advantage\": 1.0}, {\"height_advantage\": 0.0}, {\"height_advantage\": 1.0}, {\"height_advantage\": 2.0}, {\"height_advantage\": 7.0}, {\"height_advantage\": 0.0}, {\"height_advantage\": -2.0}, {\"height_advantage\": 2.0}, {\"height_advantage\": -2.0}, {\"height_advantage\": -2.0}, {\"height_advantage\": 4.0}, {\"height_advantage\": 1.0}, {\"height_advantage\": 1.0}, {\"height_advantage\": 1.0}, {\"height_advantage\": -2.0}, {\"height_advantage\": -1.0}, {\"height_advantage\": -2.0}, {\"height_advantage\": 2.0}, {\"height_advantage\": -5.0}, {\"height_advantage\": 1.0}, {\"height_advantage\": 1.0}, {\"height_advantage\": 3.0}, {\"height_advantage\": 1.0}, {\"height_advantage\": 0.0}, {\"height_advantage\": -2.0}, {\"height_advantage\": 2.0}, {\"height_advantage\": -5.0}, {\"height_advantage\": 1.0}, {\"height_advantage\": 1.0}, {\"height_advantage\": -3.0}, {\"height_advantage\": 4.0}, {\"height_advantage\": 2.0}, {\"height_advantage\": 0.0}, {\"height_advantage\": 2.0}, {\"height_advantage\": 1.0}, {\"height_advantage\": 1.0}, {\"height_advantage\": 1.0}, {\"height_advantage\": 4.0}, {\"height_advantage\": -7.0}, {\"height_advantage\": -1.0}, {\"height_advantage\": 2.0}, {\"height_advantage\": -7.0}, {\"height_advantage\": -3.0}, {\"height_advantage\": 0.0}, {\"height_advantage\": 3.0}, {\"height_advantage\": 1.0}, {\"height_advantage\": -3.0}, {\"height_advantage\": 0.0}, {\"height_advantage\": 0.0}, {\"height_advantage\": 1.0}, {\"height_advantage\": 1.0}, {\"height_advantage\": 0.0}, {\"height_advantage\": -3.0}, {\"height_advantage\": -2.0}, {\"height_advantage\": 1.0}, {\"height_advantage\": 5.0}, {\"height_advantage\": 4.0}, {\"height_advantage\": 0.0}, {\"height_advantage\": 6.0}, {\"height_advantage\": 4.0}, {\"height_advantage\": -2.0}, {\"height_advantage\": 0.0}, {\"height_advantage\": 2.0}, {\"height_advantage\": 0.0}, {\"height_advantage\": 3.0}, {\"height_advantage\": -4.0}, {\"height_advantage\": -1.0}, {\"height_advantage\": 0.0}, {\"height_advantage\": -4.0}, {\"height_advantage\": 2.0}, {\"height_advantage\": 3.0}, {\"height_advantage\": 3.0}, {\"height_advantage\": 4.0}, {\"height_advantage\": -1.0}, {\"height_advantage\": 1.0}, {\"height_advantage\": -5.0}, {\"height_advantage\": -3.0}, {\"height_advantage\": 0.0}, {\"height_advantage\": -6.0}, {\"height_advantage\": 3.0}, {\"height_advantage\": 2.0}, {\"height_advantage\": 0.0}, {\"height_advantage\": -2.0}, {\"height_advantage\": 1.0}, {\"height_advantage\": -2.0}, {\"height_advantage\": 0.0}, {\"height_advantage\": 0.0}, {\"height_advantage\": 2.0}, {\"height_advantage\": -1.0}, {\"height_advantage\": 1.0}, {\"height_advantage\": 2.0}, {\"height_advantage\": 0.0}, {\"height_advantage\": 2.0}, {\"height_advantage\": 2.0}, {\"height_advantage\": -2.0}, {\"height_advantage\": 0.0}, {\"height_advantage\": 0.0}, {\"height_advantage\": -1.0}, {\"height_advantage\": 0.0}, {\"height_advantage\": 0.0}, {\"height_advantage\": 1.0}, {\"height_advantage\": -1.0}, {\"height_advantage\": 1.0}, {\"height_advantage\": 2.0}, {\"height_advantage\": -1.0}, {\"height_advantage\": 3.0}, {\"height_advantage\": -2.0}, {\"height_advantage\": -5.0}, {\"height_advantage\": 1.0}, {\"height_advantage\": 4.0}, {\"height_advantage\": 0.0}, {\"height_advantage\": 2.0}, {\"height_advantage\": 0.0}, {\"height_advantage\": -1.0}, {\"height_advantage\": 5.0}, {\"height_advantage\": 0.0}, {\"height_advantage\": -1.0}, {\"height_advantage\": 1.0}, {\"height_advantage\": -4.0}, {\"height_advantage\": 2.0}, {\"height_advantage\": -2.0}, {\"height_advantage\": -3.0}, {\"height_advantage\": -1.0}, {\"height_advantage\": -3.0}, {\"height_advantage\": -1.0}, {\"height_advantage\": -5.0}, {\"height_advantage\": 3.0}, {\"height_advantage\": 0.0}, {\"height_advantage\": 0.0}, {\"height_advantage\": -1.0}, {\"height_advantage\": 1.0}, {\"height_advantage\": 0.0}, {\"height_advantage\": -1.0}, {\"height_advantage\": 1.0}, {\"height_advantage\": 11.0}, {\"height_advantage\": -1.0}, {\"height_advantage\": -1.0}, {\"height_advantage\": 0.0}, {\"height_advantage\": 3.0}, {\"height_advantage\": 3.0}, {\"height_advantage\": -1.0}, {\"height_advantage\": -2.0}, {\"height_advantage\": -2.0}, {\"height_advantage\": 0.0}, {\"height_advantage\": -1.0}, {\"height_advantage\": -1.0}, {\"height_advantage\": 1.0}, {\"height_advantage\": -1.0}, {\"height_advantage\": 0.0}, {\"height_advantage\": 0.0}, {\"height_advantage\": 0.0}, {\"height_advantage\": -1.0}, {\"height_advantage\": 0.0}, {\"height_advantage\": -1.0}, {\"height_advantage\": 3.0}, {\"height_advantage\": 0.0}, {\"height_advantage\": -1.0}, {\"height_advantage\": -2.0}, {\"height_advantage\": 1.0}, {\"height_advantage\": -1.0}, {\"height_advantage\": -1.0}, {\"height_advantage\": -1.0}, {\"height_advantage\": -2.0}, {\"height_advantage\": 0.0}, {\"height_advantage\": 2.0}, {\"height_advantage\": 1.0}, {\"height_advantage\": 0.0}, {\"height_advantage\": -1.0}, {\"height_advantage\": 0.0}, {\"height_advantage\": 4.0}, {\"height_advantage\": -1.0}, {\"height_advantage\": -6.0}, {\"height_advantage\": 0.0}, {\"height_advantage\": -1.0}, {\"height_advantage\": 7.0}, {\"height_advantage\": -7.0}, {\"height_advantage\": 0.0}, {\"height_advantage\": -1.0}, {\"height_advantage\": -2.0}, {\"height_advantage\": -2.0}, {\"height_advantage\": -1.0}, {\"height_advantage\": 3.0}, {\"height_advantage\": 0.0}, {\"height_advantage\": -4.0}, {\"height_advantage\": -2.0}, {\"height_advantage\": -2.0}, {\"height_advantage\": 3.0}, {\"height_advantage\": 2.0}, {\"height_advantage\": -1.0}, {\"height_advantage\": -1.0}, {\"height_advantage\": 1.0}, {\"height_advantage\": 2.0}, {\"height_advantage\": -1.0}, {\"height_advantage\": -4.0}, {\"height_advantage\": 0.0}, {\"height_advantage\": 0.0}, {\"height_advantage\": 1.0}, {\"height_advantage\": 4.0}, {\"height_advantage\": -3.0}, {\"height_advantage\": 2.0}, {\"height_advantage\": -1.0}, {\"height_advantage\": 3.0}, {\"height_advantage\": 0.0}, {\"height_advantage\": 0.0}, {\"height_advantage\": -1.0}, {\"height_advantage\": 2.0}, {\"height_advantage\": 3.0}, {\"height_advantage\": 5.0}, {\"height_advantage\": -2.0}, {\"height_advantage\": 1.0}, {\"height_advantage\": 2.0}, {\"height_advantage\": 0.0}, {\"height_advantage\": -1.0}, {\"height_advantage\": 0.0}, {\"height_advantage\": -5.0}, {\"height_advantage\": -2.0}, {\"height_advantage\": 4.0}, {\"height_advantage\": 4.0}, {\"height_advantage\": 0.0}, {\"height_advantage\": 0.0}, {\"height_advantage\": -2.0}, {\"height_advantage\": 1.0}, {\"height_advantage\": 5.0}, {\"height_advantage\": -3.0}, {\"height_advantage\": 0.0}, {\"height_advantage\": 7.0}, {\"height_advantage\": 2.0}, {\"height_advantage\": 2.0}, {\"height_advantage\": -1.0}, {\"height_advantage\": 3.0}, {\"height_advantage\": 0.0}, {\"height_advantage\": -1.0}, {\"height_advantage\": 2.0}, {\"height_advantage\": -2.0}, {\"height_advantage\": -1.0}, {\"height_advantage\": 3.0}, {\"height_advantage\": 2.0}, {\"height_advantage\": 7.0}, {\"height_advantage\": 2.0}, {\"height_advantage\": 0.0}, {\"height_advantage\": -1.0}, {\"height_advantage\": 7.0}, {\"height_advantage\": 1.0}, {\"height_advantage\": 3.0}, {\"height_advantage\": 1.0}, {\"height_advantage\": 2.0}, {\"height_advantage\": 0.0}, {\"height_advantage\": -1.0}, {\"height_advantage\": -1.0}, {\"height_advantage\": 3.0}, {\"height_advantage\": -1.0}, {\"height_advantage\": -3.0}, {\"height_advantage\": -1.0}, {\"height_advantage\": 0.0}, {\"height_advantage\": 0.0}, {\"height_advantage\": -1.0}, {\"height_advantage\": -7.0}, {\"height_advantage\": 1.0}, {\"height_advantage\": -1.0}, {\"height_advantage\": 3.0}, {\"height_advantage\": -3.0}, {\"height_advantage\": 0.0}, {\"height_advantage\": 0.0}, {\"height_advantage\": 2.0}, {\"height_advantage\": -4.0}, {\"height_advantage\": -1.0}, {\"height_advantage\": -3.0}, {\"height_advantage\": 0.0}, {\"height_advantage\": -1.0}, {\"height_advantage\": -1.0}, {\"height_advantage\": 1.0}, {\"height_advantage\": 4.0}, {\"height_advantage\": 3.0}, {\"height_advantage\": 1.0}, {\"height_advantage\": 0.0}, {\"height_advantage\": 4.0}, {\"height_advantage\": 2.0}, {\"height_advantage\": 0.0}, {\"height_advantage\": 1.0}, {\"height_advantage\": 0.0}, {\"height_advantage\": 2.0}, {\"height_advantage\": 2.0}, {\"height_advantage\": 2.0}, {\"height_advantage\": -1.0}, {\"height_advantage\": -5.0}, {\"height_advantage\": 3.0}, {\"height_advantage\": 1.0}, {\"height_advantage\": 4.0}, {\"height_advantage\": 1.0}, {\"height_advantage\": 6.0}, {\"height_advantage\": 0.0}, {\"height_advantage\": 0.0}, {\"height_advantage\": -1.0}, {\"height_advantage\": 0.0}, {\"height_advantage\": 2.0}, {\"height_advantage\": 1.0}, {\"height_advantage\": -2.0}, {\"height_advantage\": -3.0}, {\"height_advantage\": 1.0}, {\"height_advantage\": 1.0}, {\"height_advantage\": 2.0}, {\"height_advantage\": -1.0}, {\"height_advantage\": -1.0}, {\"height_advantage\": 3.0}, {\"height_advantage\": 3.0}, {\"height_advantage\": -7.0}, {\"height_advantage\": 2.0}, {\"height_advantage\": -3.0}, {\"height_advantage\": 2.0}, {\"height_advantage\": 0.0}, {\"height_advantage\": 1.0}, {\"height_advantage\": -5.0}, {\"height_advantage\": 1.0}, {\"height_advantage\": 4.0}, {\"height_advantage\": -1.0}, {\"height_advantage\": 3.0}, {\"height_advantage\": 0.0}, {\"height_advantage\": -4.0}, {\"height_advantage\": 6.0}, {\"height_advantage\": -1.0}, {\"height_advantage\": 0.0}, {\"height_advantage\": 2.0}, {\"height_advantage\": 2.0}, {\"height_advantage\": -1.0}, {\"height_advantage\": 4.0}, {\"height_advantage\": -5.0}, {\"height_advantage\": 0.0}, {\"height_advantage\": -3.0}, {\"height_advantage\": 2.0}, {\"height_advantage\": -1.0}, {\"height_advantage\": 3.0}, {\"height_advantage\": -1.0}, {\"height_advantage\": 1.0}, {\"height_advantage\": 3.0}, {\"height_advantage\": -1.0}, {\"height_advantage\": 1.0}, {\"height_advantage\": -4.0}, {\"height_advantage\": 10.0}, {\"height_advantage\": -1.0}, {\"height_advantage\": -5.0}, {\"height_advantage\": 0.0}, {\"height_advantage\": -1.0}, {\"height_advantage\": -4.0}, {\"height_advantage\": 1.0}, {\"height_advantage\": 0.0}, {\"height_advantage\": 2.0}, {\"height_advantage\": -1.0}, {\"height_advantage\": 1.0}, {\"height_advantage\": 0.0}, {\"height_advantage\": -2.0}, {\"height_advantage\": 2.0}, {\"height_advantage\": -1.0}, {\"height_advantage\": 1.0}, {\"height_advantage\": -3.0}, {\"height_advantage\": -3.0}, {\"height_advantage\": 0.0}, {\"height_advantage\": 0.0}, {\"height_advantage\": 1.0}, {\"height_advantage\": 2.0}, {\"height_advantage\": 0.0}, {\"height_advantage\": 3.0}, {\"height_advantage\": 4.0}, {\"height_advantage\": 2.0}, {\"height_advantage\": 4.0}, {\"height_advantage\": 0.0}, {\"height_advantage\": 3.0}, {\"height_advantage\": 4.0}, {\"height_advantage\": -1.0}, {\"height_advantage\": -3.0}, {\"height_advantage\": 4.0}, {\"height_advantage\": -1.0}, {\"height_advantage\": 2.0}, {\"height_advantage\": -2.0}, {\"height_advantage\": -2.0}, {\"height_advantage\": 0.0}, {\"height_advantage\": 0.0}, {\"height_advantage\": 2.0}, {\"height_advantage\": -1.0}, {\"height_advantage\": -2.0}, {\"height_advantage\": -4.0}, {\"height_advantage\": -1.0}, {\"height_advantage\": -4.0}, {\"height_advantage\": 0.0}, {\"height_advantage\": 3.0}, {\"height_advantage\": 0.0}, {\"height_advantage\": 3.0}, {\"height_advantage\": -4.0}, {\"height_advantage\": 1.0}, {\"height_advantage\": 1.0}, {\"height_advantage\": 2.0}, {\"height_advantage\": 5.0}, {\"height_advantage\": 1.0}, {\"height_advantage\": 2.0}, {\"height_advantage\": -1.0}, {\"height_advantage\": 3.0}, {\"height_advantage\": 1.0}, {\"height_advantage\": 4.0}, {\"height_advantage\": 3.0}, {\"height_advantage\": 1.0}, {\"height_advantage\": 6.0}, {\"height_advantage\": -3.0}, {\"height_advantage\": 1.0}, {\"height_advantage\": -2.0}, {\"height_advantage\": 1.0}, {\"height_advantage\": 3.0}, {\"height_advantage\": 3.0}, {\"height_advantage\": 0.0}, {\"height_advantage\": 0.0}, {\"height_advantage\": 2.0}, {\"height_advantage\": 0.0}, {\"height_advantage\": -3.0}, {\"height_advantage\": -1.0}, {\"height_advantage\": -4.0}, {\"height_advantage\": 0.0}, {\"height_advantage\": 4.0}, {\"height_advantage\": 2.0}, {\"height_advantage\": -5.0}, {\"height_advantage\": 2.0}, {\"height_advantage\": 0.0}, {\"height_advantage\": -2.0}, {\"height_advantage\": -2.0}, {\"height_advantage\": 1.0}, {\"height_advantage\": 1.0}, {\"height_advantage\": -1.0}, {\"height_advantage\": 2.0}, {\"height_advantage\": -1.0}, {\"height_advantage\": 0.0}, {\"height_advantage\": -2.0}, {\"height_advantage\": -1.0}, {\"height_advantage\": 5.0}, {\"height_advantage\": 1.0}, {\"height_advantage\": -2.0}, {\"height_advantage\": 4.0}, {\"height_advantage\": 2.0}, {\"height_advantage\": 3.0}, {\"height_advantage\": 3.0}, {\"height_advantage\": -3.0}, {\"height_advantage\": -1.0}, {\"height_advantage\": 5.0}, {\"height_advantage\": 0.0}, {\"height_advantage\": 1.0}, {\"height_advantage\": 1.0}, {\"height_advantage\": -1.0}, {\"height_advantage\": 4.0}, {\"height_advantage\": -2.0}, {\"height_advantage\": 1.0}, {\"height_advantage\": -1.0}, {\"height_advantage\": 0.0}, {\"height_advantage\": 3.0}, {\"height_advantage\": 1.0}, {\"height_advantage\": 4.0}, {\"height_advantage\": -1.0}, {\"height_advantage\": -2.0}, {\"height_advantage\": 2.0}, {\"height_advantage\": 3.0}, {\"height_advantage\": 3.0}, {\"height_advantage\": 0.0}, {\"height_advantage\": 4.0}, {\"height_advantage\": -1.0}, {\"height_advantage\": -1.0}, {\"height_advantage\": 3.0}, {\"height_advantage\": 4.0}, {\"height_advantage\": 1.0}, {\"height_advantage\": 4.0}, {\"height_advantage\": -3.0}, {\"height_advantage\": 3.0}, {\"height_advantage\": 0.0}, {\"height_advantage\": -1.0}, {\"height_advantage\": 0.0}, {\"height_advantage\": 0.0}, {\"height_advantage\": 1.0}, {\"height_advantage\": -3.0}, {\"height_advantage\": 2.0}, {\"height_advantage\": -4.0}, {\"height_advantage\": 1.0}, {\"height_advantage\": 2.0}, {\"height_advantage\": 3.0}, {\"height_advantage\": -3.0}, {\"height_advantage\": 0.0}, {\"height_advantage\": 0.0}, {\"height_advantage\": 0.0}, {\"height_advantage\": 0.0}, {\"height_advantage\": 0.0}, {\"height_advantage\": 0.0}, {\"height_advantage\": -1.0}, {\"height_advantage\": 1.0}, {\"height_advantage\": -1.0}, {\"height_advantage\": 1.0}, {\"height_advantage\": -2.0}, {\"height_advantage\": -4.0}, {\"height_advantage\": -2.0}, {\"height_advantage\": 5.0}, {\"height_advantage\": -6.0}, {\"height_advantage\": -1.0}, {\"height_advantage\": 0.0}, {\"height_advantage\": -1.0}, {\"height_advantage\": 2.0}, {\"height_advantage\": 0.0}, {\"height_advantage\": 4.0}, {\"height_advantage\": -3.0}, {\"height_advantage\": 3.0}, {\"height_advantage\": -4.0}, {\"height_advantage\": -4.0}, {\"height_advantage\": 6.0}, {\"height_advantage\": -4.0}, {\"height_advantage\": 0.0}, {\"height_advantage\": 0.0}, {\"height_advantage\": 3.0}, {\"height_advantage\": 2.0}, {\"height_advantage\": 1.0}, {\"height_advantage\": 4.0}, {\"height_advantage\": 2.0}, {\"height_advantage\": 1.0}, {\"height_advantage\": 0.0}, {\"height_advantage\": 0.0}, {\"height_advantage\": -5.0}, {\"height_advantage\": 3.0}, {\"height_advantage\": -3.0}, {\"height_advantage\": 3.0}, {\"height_advantage\": 4.0}, {\"height_advantage\": 0.0}, {\"height_advantage\": 0.0}, {\"height_advantage\": -2.0}, {\"height_advantage\": 1.0}, {\"height_advantage\": 0.0}, {\"height_advantage\": 1.0}, {\"height_advantage\": -5.0}, {\"height_advantage\": 3.0}, {\"height_advantage\": 2.0}, {\"height_advantage\": -6.0}, {\"height_advantage\": 1.0}, {\"height_advantage\": 1.0}, {\"height_advantage\": 0.0}, {\"height_advantage\": 1.0}, {\"height_advantage\": 3.0}, {\"height_advantage\": 5.0}, {\"height_advantage\": -2.0}, {\"height_advantage\": 0.0}, {\"height_advantage\": -1.0}, {\"height_advantage\": 1.0}, {\"height_advantage\": -2.0}, {\"height_advantage\": 3.0}, {\"height_advantage\": 3.0}, {\"height_advantage\": 0.0}, {\"height_advantage\": -2.0}, {\"height_advantage\": -1.0}, {\"height_advantage\": 1.0}, {\"height_advantage\": 2.0}, {\"height_advantage\": -8.0}, {\"height_advantage\": 0.0}, {\"height_advantage\": -6.0}, {\"height_advantage\": 0.0}, {\"height_advantage\": -1.0}, {\"height_advantage\": 0.0}, {\"height_advantage\": 1.0}, {\"height_advantage\": 2.0}, {\"height_advantage\": 0.0}, {\"height_advantage\": 4.0}, {\"height_advantage\": 6.0}, {\"height_advantage\": 0.0}, {\"height_advantage\": 2.0}, {\"height_advantage\": 0.0}, {\"height_advantage\": -1.0}, {\"height_advantage\": 0.0}, {\"height_advantage\": -3.0}, {\"height_advantage\": 3.0}, {\"height_advantage\": 1.0}, {\"height_advantage\": 0.0}, {\"height_advantage\": -2.0}, {\"height_advantage\": 3.0}, {\"height_advantage\": -1.0}, {\"height_advantage\": -2.0}, {\"height_advantage\": 1.0}, {\"height_advantage\": 1.0}, {\"height_advantage\": -1.0}, {\"height_advantage\": -1.0}, {\"height_advantage\": 0.0}, {\"height_advantage\": 0.0}, {\"height_advantage\": 0.0}, {\"height_advantage\": -2.0}, {\"height_advantage\": -2.0}, {\"height_advantage\": 2.0}, {\"height_advantage\": -1.0}, {\"height_advantage\": 1.0}, {\"height_advantage\": 0.0}, {\"height_advantage\": 2.0}, {\"height_advantage\": 3.0}, {\"height_advantage\": -1.0}, {\"height_advantage\": 0.0}, {\"height_advantage\": 0.0}, {\"height_advantage\": -2.0}, {\"height_advantage\": 5.0}, {\"height_advantage\": 1.0}, {\"height_advantage\": -1.0}, {\"height_advantage\": 1.0}, {\"height_advantage\": 7.0}, {\"height_advantage\": 3.0}, {\"height_advantage\": -3.0}, {\"height_advantage\": 0.0}, {\"height_advantage\": -2.0}, {\"height_advantage\": 0.0}, {\"height_advantage\": 4.0}, {\"height_advantage\": 2.0}, {\"height_advantage\": -3.0}, {\"height_advantage\": 0.0}, {\"height_advantage\": -6.0}, {\"height_advantage\": 12.0}, {\"height_advantage\": 4.0}, {\"height_advantage\": 3.0}, {\"height_advantage\": 1.0}, {\"height_advantage\": -1.0}, {\"height_advantage\": -3.0}, {\"height_advantage\": -5.0}, {\"height_advantage\": -1.0}, {\"height_advantage\": 0.0}, {\"height_advantage\": 1.0}, {\"height_advantage\": 2.0}, {\"height_advantage\": -1.0}, {\"height_advantage\": 1.0}, {\"height_advantage\": 0.0}, {\"height_advantage\": 0.0}, {\"height_advantage\": -1.0}, {\"height_advantage\": -4.0}, {\"height_advantage\": -2.0}, {\"height_advantage\": 0.0}, {\"height_advantage\": 1.0}, {\"height_advantage\": 3.0}, {\"height_advantage\": -2.0}, {\"height_advantage\": 2.0}, {\"height_advantage\": -3.0}, {\"height_advantage\": -9.0}, {\"height_advantage\": 0.0}, {\"height_advantage\": 0.0}, {\"height_advantage\": -3.0}, {\"height_advantage\": -4.0}, {\"height_advantage\": -1.0}, {\"height_advantage\": -1.0}, {\"height_advantage\": 0.0}, {\"height_advantage\": -2.0}, {\"height_advantage\": -7.0}, {\"height_advantage\": 2.0}, {\"height_advantage\": -1.0}, {\"height_advantage\": 2.0}, {\"height_advantage\": 0.0}, {\"height_advantage\": 1.0}, {\"height_advantage\": -2.0}, {\"height_advantage\": 0.0}, {\"height_advantage\": -1.0}, {\"height_advantage\": -1.0}, {\"height_advantage\": 0.0}, {\"height_advantage\": 0.0}, {\"height_advantage\": 3.0}, {\"height_advantage\": -1.0}, {\"height_advantage\": 4.0}, {\"height_advantage\": -3.0}, {\"height_advantage\": -1.0}, {\"height_advantage\": 0.0}, {\"height_advantage\": 0.0}, {\"height_advantage\": -2.0}, {\"height_advantage\": -3.0}, {\"height_advantage\": -5.0}, {\"height_advantage\": -1.0}, {\"height_advantage\": 2.0}, {\"height_advantage\": -3.0}, {\"height_advantage\": 2.0}, {\"height_advantage\": 0.0}, {\"height_advantage\": -4.0}, {\"height_advantage\": 1.0}, {\"height_advantage\": -3.0}, {\"height_advantage\": 0.0}, {\"height_advantage\": 0.0}, {\"height_advantage\": 4.0}, {\"height_advantage\": 1.0}, {\"height_advantage\": -1.0}, {\"height_advantage\": 0.0}, {\"height_advantage\": -3.0}, {\"height_advantage\": -1.0}, {\"height_advantage\": 0.0}, {\"height_advantage\": 3.0}, {\"height_advantage\": -1.0}, {\"height_advantage\": -5.0}, {\"height_advantage\": -1.0}, {\"height_advantage\": 3.0}, {\"height_advantage\": 1.0}, {\"height_advantage\": 9.0}, {\"height_advantage\": -1.0}, {\"height_advantage\": -1.0}, {\"height_advantage\": 3.0}, {\"height_advantage\": -1.0}, {\"height_advantage\": -1.0}, {\"height_advantage\": 2.0}, {\"height_advantage\": 3.0}, {\"height_advantage\": 0.0}, {\"height_advantage\": -2.0}, {\"height_advantage\": 1.0}, {\"height_advantage\": -4.0}, {\"height_advantage\": 1.0}, {\"height_advantage\": -4.0}, {\"height_advantage\": 2.0}, {\"height_advantage\": 0.0}, {\"height_advantage\": 2.0}, {\"height_advantage\": 7.0}, {\"height_advantage\": 5.0}, {\"height_advantage\": -1.0}, {\"height_advantage\": 0.0}, {\"height_advantage\": -4.0}, {\"height_advantage\": -2.0}, {\"height_advantage\": 2.0}, {\"height_advantage\": -1.0}, {\"height_advantage\": -3.0}, {\"height_advantage\": 2.0}, {\"height_advantage\": -3.0}, {\"height_advantage\": 4.0}, {\"height_advantage\": -2.0}, {\"height_advantage\": 1.0}, {\"height_advantage\": -1.0}, {\"height_advantage\": -1.0}, {\"height_advantage\": 4.0}, {\"height_advantage\": 3.0}, {\"height_advantage\": 9.0}, {\"height_advantage\": 0.0}, {\"height_advantage\": 1.0}, {\"height_advantage\": -1.0}, {\"height_advantage\": -6.0}, {\"height_advantage\": 2.0}, {\"height_advantage\": -2.0}, {\"height_advantage\": -2.0}, {\"height_advantage\": -4.0}, {\"height_advantage\": 0.0}, {\"height_advantage\": -2.0}, {\"height_advantage\": 2.0}, {\"height_advantage\": 3.0}, {\"height_advantage\": 3.0}, {\"height_advantage\": 2.0}, {\"height_advantage\": -4.0}, {\"height_advantage\": -1.0}, {\"height_advantage\": -4.0}, {\"height_advantage\": 1.0}, {\"height_advantage\": 0.0}, {\"height_advantage\": 1.0}, {\"height_advantage\": -3.0}, {\"height_advantage\": 1.0}, {\"height_advantage\": -1.0}, {\"height_advantage\": -1.0}, {\"height_advantage\": -2.0}, {\"height_advantage\": -2.0}, {\"height_advantage\": 0.0}, {\"height_advantage\": 1.0}, {\"height_advantage\": -2.0}, {\"height_advantage\": -1.0}, {\"height_advantage\": -2.0}, {\"height_advantage\": -3.0}, {\"height_advantage\": 1.0}, {\"height_advantage\": 1.0}, {\"height_advantage\": 1.0}, {\"height_advantage\": -2.0}, {\"height_advantage\": -3.0}, {\"height_advantage\": -2.0}, {\"height_advantage\": -4.0}, {\"height_advantage\": 3.0}, {\"height_advantage\": 0.0}, {\"height_advantage\": -1.0}, {\"height_advantage\": -2.0}, {\"height_advantage\": 1.0}, {\"height_advantage\": -1.0}, {\"height_advantage\": 1.0}, {\"height_advantage\": 2.0}, {\"height_advantage\": 2.0}, {\"height_advantage\": 1.0}, {\"height_advantage\": -3.0}, {\"height_advantage\": -2.0}, {\"height_advantage\": 0.0}, {\"height_advantage\": -3.0}, {\"height_advantage\": 1.0}, {\"height_advantage\": -4.0}, {\"height_advantage\": -4.0}, {\"height_advantage\": -2.0}, {\"height_advantage\": -1.0}, {\"height_advantage\": -1.0}, {\"height_advantage\": -3.0}, {\"height_advantage\": -1.0}, {\"height_advantage\": 0.0}, {\"height_advantage\": -1.0}, {\"height_advantage\": -5.0}, {\"height_advantage\": 6.0}, {\"height_advantage\": 2.0}, {\"height_advantage\": 2.0}, {\"height_advantage\": -12.0}, {\"height_advantage\": 1.0}, {\"height_advantage\": 1.0}, {\"height_advantage\": 3.0}, {\"height_advantage\": 1.0}, {\"height_advantage\": -2.0}, {\"height_advantage\": 3.0}, {\"height_advantage\": 0.0}, {\"height_advantage\": -4.0}, {\"height_advantage\": 1.0}, {\"height_advantage\": 2.0}, {\"height_advantage\": -3.0}, {\"height_advantage\": -1.0}, {\"height_advantage\": -4.0}, {\"height_advantage\": -6.0}, {\"height_advantage\": -2.0}, {\"height_advantage\": -3.0}, {\"height_advantage\": 2.0}, {\"height_advantage\": 2.0}, {\"height_advantage\": -2.0}, {\"height_advantage\": 0.0}, {\"height_advantage\": 1.0}, {\"height_advantage\": 0.0}, {\"height_advantage\": 1.0}, {\"height_advantage\": 3.0}, {\"height_advantage\": 0.0}, {\"height_advantage\": -4.0}, {\"height_advantage\": -1.0}, {\"height_advantage\": -3.0}, {\"height_advantage\": 1.0}, {\"height_advantage\": -1.0}, {\"height_advantage\": -2.0}, {\"height_advantage\": 1.0}, {\"height_advantage\": -2.0}, {\"height_advantage\": 3.0}, {\"height_advantage\": 4.0}, {\"height_advantage\": 2.0}, {\"height_advantage\": -1.0}, {\"height_advantage\": 2.0}, {\"height_advantage\": 4.0}, {\"height_advantage\": 1.0}, {\"height_advantage\": -4.0}, {\"height_advantage\": -1.0}, {\"height_advantage\": 3.0}, {\"height_advantage\": 1.0}, {\"height_advantage\": 2.0}, {\"height_advantage\": 2.0}, {\"height_advantage\": 4.0}, {\"height_advantage\": 2.0}, {\"height_advantage\": 3.0}, {\"height_advantage\": 1.0}, {\"height_advantage\": 0.0}, {\"height_advantage\": 4.0}, {\"height_advantage\": -1.0}, {\"height_advantage\": 0.0}, {\"height_advantage\": -1.0}, {\"height_advantage\": 0.0}, {\"height_advantage\": -4.0}, {\"height_advantage\": -3.0}, {\"height_advantage\": -4.0}, {\"height_advantage\": 1.0}, {\"height_advantage\": 0.0}, {\"height_advantage\": 3.0}, {\"height_advantage\": 1.0}, {\"height_advantage\": 1.0}, {\"height_advantage\": -1.0}, {\"height_advantage\": 2.0}, {\"height_advantage\": 2.0}, {\"height_advantage\": 2.0}, {\"height_advantage\": 0.0}, {\"height_advantage\": 3.0}, {\"height_advantage\": -2.0}, {\"height_advantage\": 1.0}, {\"height_advantage\": 0.0}, {\"height_advantage\": 3.0}, {\"height_advantage\": 2.0}, {\"height_advantage\": 2.0}, {\"height_advantage\": 2.0}, {\"height_advantage\": 0.0}, {\"height_advantage\": 1.0}, {\"height_advantage\": -1.0}, {\"height_advantage\": 1.0}, {\"height_advantage\": -5.0}, {\"height_advantage\": 1.0}, {\"height_advantage\": 2.0}, {\"height_advantage\": -2.0}, {\"height_advantage\": -2.0}, {\"height_advantage\": 4.0}, {\"height_advantage\": -3.0}, {\"height_advantage\": 5.0}, {\"height_advantage\": -1.0}, {\"height_advantage\": 0.0}, {\"height_advantage\": 6.0}, {\"height_advantage\": -6.0}, {\"height_advantage\": -3.0}, {\"height_advantage\": 3.0}, {\"height_advantage\": -3.0}, {\"height_advantage\": -2.0}, {\"height_advantage\": 4.0}, {\"height_advantage\": -1.0}, {\"height_advantage\": -3.0}, {\"height_advantage\": 0.0}, {\"height_advantage\": -2.0}, {\"height_advantage\": -4.0}, {\"height_advantage\": 4.0}, {\"height_advantage\": 2.0}, {\"height_advantage\": -2.0}, {\"height_advantage\": 5.0}, {\"height_advantage\": 1.0}, {\"height_advantage\": 1.0}, {\"height_advantage\": 0.0}, {\"height_advantage\": -2.0}, {\"height_advantage\": -1.0}, {\"height_advantage\": 1.0}, {\"height_advantage\": 1.0}, {\"height_advantage\": 0.0}, {\"height_advantage\": 5.0}, {\"height_advantage\": -4.0}, {\"height_advantage\": 0.0}, {\"height_advantage\": 2.0}, {\"height_advantage\": 2.0}, {\"height_advantage\": -5.0}, {\"height_advantage\": -4.0}, {\"height_advantage\": -2.0}, {\"height_advantage\": 9.0}, {\"height_advantage\": 4.0}, {\"height_advantage\": 1.0}, {\"height_advantage\": -1.0}, {\"height_advantage\": -3.0}, {\"height_advantage\": -2.0}, {\"height_advantage\": -5.0}, {\"height_advantage\": 1.0}, {\"height_advantage\": -5.0}, {\"height_advantage\": -3.0}, {\"height_advantage\": 1.0}, {\"height_advantage\": 1.0}, {\"height_advantage\": -2.0}, {\"height_advantage\": -3.0}, {\"height_advantage\": 4.0}, {\"height_advantage\": -2.0}, {\"height_advantage\": -2.0}, {\"height_advantage\": 0.0}, {\"height_advantage\": -1.0}, {\"height_advantage\": 0.0}, {\"height_advantage\": 2.0}, {\"height_advantage\": 2.0}, {\"height_advantage\": -4.0}, {\"height_advantage\": -1.0}, {\"height_advantage\": -2.0}, {\"height_advantage\": -3.0}, {\"height_advantage\": 6.0}, {\"height_advantage\": 4.0}, {\"height_advantage\": 3.0}, {\"height_advantage\": 0.0}, {\"height_advantage\": -2.0}, {\"height_advantage\": 0.0}, {\"height_advantage\": 0.0}, {\"height_advantage\": 0.0}, {\"height_advantage\": 3.0}, {\"height_advantage\": 1.0}, {\"height_advantage\": -2.0}, {\"height_advantage\": 0.0}, {\"height_advantage\": -1.0}, {\"height_advantage\": 3.0}, {\"height_advantage\": -5.0}, {\"height_advantage\": 2.0}, {\"height_advantage\": 2.0}, {\"height_advantage\": 3.0}, {\"height_advantage\": -6.0}, {\"height_advantage\": 1.0}, {\"height_advantage\": 3.0}, {\"height_advantage\": 2.0}, {\"height_advantage\": -1.0}, {\"height_advantage\": -2.0}, {\"height_advantage\": 3.0}, {\"height_advantage\": 3.0}, {\"height_advantage\": 0.0}, {\"height_advantage\": 5.0}, {\"height_advantage\": -3.0}, {\"height_advantage\": 1.0}, {\"height_advantage\": 3.0}, {\"height_advantage\": 1.0}, {\"height_advantage\": -4.0}, {\"height_advantage\": 0.0}, {\"height_advantage\": 1.0}, {\"height_advantage\": -4.0}, {\"height_advantage\": 2.0}, {\"height_advantage\": 1.0}, {\"height_advantage\": -1.0}, {\"height_advantage\": 1.0}, {\"height_advantage\": -2.0}, {\"height_advantage\": 2.0}, {\"height_advantage\": 0.0}, {\"height_advantage\": -1.0}, {\"height_advantage\": 1.0}, {\"height_advantage\": -1.0}, {\"height_advantage\": -1.0}, {\"height_advantage\": -5.0}, {\"height_advantage\": -2.0}, {\"height_advantage\": -3.0}, {\"height_advantage\": -2.0}, {\"height_advantage\": 0.0}, {\"height_advantage\": 0.0}, {\"height_advantage\": -1.0}, {\"height_advantage\": -2.0}, {\"height_advantage\": -6.0}, {\"height_advantage\": 2.0}, {\"height_advantage\": 2.0}, {\"height_advantage\": 2.0}, {\"height_advantage\": -1.0}, {\"height_advantage\": 6.0}, {\"height_advantage\": 2.0}, {\"height_advantage\": 0.0}, {\"height_advantage\": -1.0}, {\"height_advantage\": 2.0}, {\"height_advantage\": 4.0}, {\"height_advantage\": -2.0}, {\"height_advantage\": 1.0}, {\"height_advantage\": -3.0}, {\"height_advantage\": 1.0}, {\"height_advantage\": -2.0}, {\"height_advantage\": 1.0}, {\"height_advantage\": 3.0}, {\"height_advantage\": 0.0}, {\"height_advantage\": 3.0}, {\"height_advantage\": 3.0}, {\"height_advantage\": -4.0}, {\"height_advantage\": 0.0}, {\"height_advantage\": -2.0}, {\"height_advantage\": -2.0}, {\"height_advantage\": 1.0}, {\"height_advantage\": 1.0}, {\"height_advantage\": 4.0}, {\"height_advantage\": 2.0}, {\"height_advantage\": 3.0}, {\"height_advantage\": 0.0}, {\"height_advantage\": 1.0}, {\"height_advantage\": -5.0}, {\"height_advantage\": 1.0}, {\"height_advantage\": 3.0}, {\"height_advantage\": -1.0}, {\"height_advantage\": 0.0}, {\"height_advantage\": -1.0}, {\"height_advantage\": 2.0}, {\"height_advantage\": -1.0}, {\"height_advantage\": -1.0}, {\"height_advantage\": 2.0}, {\"height_advantage\": 2.0}, {\"height_advantage\": -4.0}, {\"height_advantage\": 1.0}, {\"height_advantage\": 5.0}, {\"height_advantage\": 0.0}, {\"height_advantage\": 2.0}, {\"height_advantage\": -1.0}, {\"height_advantage\": 0.0}, {\"height_advantage\": 1.0}, {\"height_advantage\": 0.0}, {\"height_advantage\": 2.0}, {\"height_advantage\": 1.0}, {\"height_advantage\": -1.0}, {\"height_advantage\": -2.0}, {\"height_advantage\": -3.0}, {\"height_advantage\": 1.0}, {\"height_advantage\": -2.0}, {\"height_advantage\": -1.0}, {\"height_advantage\": 0.0}, {\"height_advantage\": 2.0}, {\"height_advantage\": 0.0}, {\"height_advantage\": -1.0}, {\"height_advantage\": -4.0}, {\"height_advantage\": 0.0}, {\"height_advantage\": 3.0}, {\"height_advantage\": 4.0}, {\"height_advantage\": -4.0}, {\"height_advantage\": 7.0}, {\"height_advantage\": -1.0}, {\"height_advantage\": 3.0}, {\"height_advantage\": -5.0}, {\"height_advantage\": 0.0}, {\"height_advantage\": 0.0}, {\"height_advantage\": -6.0}, {\"height_advantage\": -7.0}, {\"height_advantage\": 2.0}, {\"height_advantage\": 5.0}, {\"height_advantage\": 0.0}, {\"height_advantage\": 1.0}, {\"height_advantage\": -2.0}, {\"height_advantage\": -1.0}, {\"height_advantage\": 3.0}, {\"height_advantage\": -2.0}, {\"height_advantage\": -3.0}, {\"height_advantage\": 2.0}, {\"height_advantage\": -3.0}, {\"height_advantage\": 3.0}, {\"height_advantage\": -3.0}, {\"height_advantage\": -1.0}, {\"height_advantage\": 2.0}, {\"height_advantage\": 4.0}, {\"height_advantage\": 0.0}, {\"height_advantage\": -2.0}, {\"height_advantage\": 0.0}, {\"height_advantage\": -1.0}, {\"height_advantage\": 2.0}, {\"height_advantage\": -1.0}, {\"height_advantage\": -2.0}, {\"height_advantage\": 0.0}, {\"height_advantage\": -2.0}, {\"height_advantage\": 4.0}, {\"height_advantage\": 5.0}, {\"height_advantage\": 0.0}, {\"height_advantage\": 5.0}, {\"height_advantage\": -3.0}, {\"height_advantage\": 1.0}, {\"height_advantage\": 0.0}, {\"height_advantage\": -3.0}, {\"height_advantage\": 0.0}, {\"height_advantage\": 0.0}, {\"height_advantage\": 1.0}, {\"height_advantage\": 2.0}, {\"height_advantage\": 1.0}, {\"height_advantage\": -3.0}, {\"height_advantage\": 0.0}, {\"height_advantage\": 0.0}, {\"height_advantage\": -1.0}, {\"height_advantage\": -1.0}, {\"height_advantage\": 0.0}, {\"height_advantage\": 1.0}, {\"height_advantage\": 1.0}, {\"height_advantage\": 0.0}, {\"height_advantage\": -3.0}, {\"height_advantage\": 2.0}, {\"height_advantage\": 3.0}, {\"height_advantage\": -2.0}, {\"height_advantage\": -2.0}, {\"height_advantage\": 2.0}, {\"height_advantage\": 0.0}, {\"height_advantage\": -1.0}, {\"height_advantage\": 1.0}, {\"height_advantage\": 0.0}, {\"height_advantage\": 3.0}, {\"height_advantage\": -1.0}, {\"height_advantage\": 1.0}, {\"height_advantage\": 0.0}, {\"height_advantage\": -1.0}, {\"height_advantage\": 1.0}, {\"height_advantage\": -3.0}, {\"height_advantage\": 1.0}, {\"height_advantage\": 1.0}, {\"height_advantage\": 0.0}, {\"height_advantage\": -1.0}, {\"height_advantage\": 0.0}, {\"height_advantage\": 1.0}, {\"height_advantage\": 0.0}, {\"height_advantage\": -2.0}, {\"height_advantage\": 3.0}, {\"height_advantage\": -1.0}, {\"height_advantage\": -3.0}, {\"height_advantage\": 0.0}, {\"height_advantage\": -5.0}, {\"height_advantage\": -1.0}, {\"height_advantage\": -2.0}, {\"height_advantage\": 3.0}, {\"height_advantage\": 1.0}, {\"height_advantage\": -2.0}, {\"height_advantage\": -1.0}, {\"height_advantage\": 2.0}, {\"height_advantage\": -2.0}, {\"height_advantage\": -1.0}, {\"height_advantage\": 2.0}, {\"height_advantage\": 1.0}, {\"height_advantage\": 0.0}, {\"height_advantage\": 0.0}, {\"height_advantage\": -3.0}, {\"height_advantage\": 0.0}, {\"height_advantage\": -2.0}, {\"height_advantage\": 0.0}, {\"height_advantage\": 3.0}, {\"height_advantage\": 1.0}, {\"height_advantage\": -6.0}, {\"height_advantage\": 5.0}, {\"height_advantage\": 4.0}, {\"height_advantage\": 3.0}, {\"height_advantage\": -1.0}, {\"height_advantage\": 3.0}, {\"height_advantage\": 0.0}, {\"height_advantage\": 1.0}, {\"height_advantage\": 5.0}, {\"height_advantage\": 13.0}, {\"height_advantage\": 4.0}, {\"height_advantage\": 2.0}, {\"height_advantage\": 2.0}, {\"height_advantage\": 3.0}, {\"height_advantage\": -3.0}, {\"height_advantage\": 0.0}, {\"height_advantage\": 0.0}, {\"height_advantage\": 5.0}, {\"height_advantage\": -2.0}, {\"height_advantage\": -3.0}, {\"height_advantage\": 0.0}, {\"height_advantage\": -3.0}, {\"height_advantage\": 0.0}, {\"height_advantage\": -1.0}, {\"height_advantage\": 0.0}, {\"height_advantage\": 3.0}, {\"height_advantage\": 1.0}, {\"height_advantage\": -3.0}, {\"height_advantage\": 0.0}, {\"height_advantage\": 4.0}, {\"height_advantage\": 1.0}, {\"height_advantage\": -2.0}, {\"height_advantage\": -1.0}, {\"height_advantage\": -2.0}, {\"height_advantage\": 4.0}, {\"height_advantage\": 3.0}, {\"height_advantage\": -1.0}, {\"height_advantage\": -1.0}, {\"height_advantage\": -3.0}, {\"height_advantage\": -6.0}, {\"height_advantage\": 1.0}, {\"height_advantage\": 1.0}, {\"height_advantage\": -1.0}, {\"height_advantage\": -3.0}, {\"height_advantage\": 4.0}, {\"height_advantage\": -1.0}, {\"height_advantage\": 2.0}, {\"height_advantage\": -3.0}, {\"height_advantage\": -3.0}, {\"height_advantage\": -2.0}, {\"height_advantage\": 3.0}, {\"height_advantage\": 2.0}, {\"height_advantage\": -4.0}, {\"height_advantage\": 1.0}, {\"height_advantage\": -1.0}, {\"height_advantage\": 2.0}, {\"height_advantage\": 2.0}, {\"height_advantage\": -1.0}, {\"height_advantage\": 2.0}, {\"height_advantage\": 0.0}, {\"height_advantage\": 0.0}, {\"height_advantage\": -1.0}, {\"height_advantage\": 2.0}, {\"height_advantage\": -1.0}, {\"height_advantage\": 3.0}, {\"height_advantage\": 1.0}, {\"height_advantage\": 2.0}, {\"height_advantage\": 1.0}, {\"height_advantage\": 2.0}, {\"height_advantage\": 3.0}, {\"height_advantage\": 1.0}, {\"height_advantage\": 2.0}, {\"height_advantage\": 1.0}, {\"height_advantage\": -3.0}, {\"height_advantage\": 2.0}, {\"height_advantage\": 6.0}, {\"height_advantage\": -5.0}, {\"height_advantage\": 0.0}, {\"height_advantage\": 4.0}, {\"height_advantage\": 4.0}, {\"height_advantage\": 0.0}, {\"height_advantage\": 3.0}, {\"height_advantage\": 0.0}, {\"height_advantage\": 0.0}, {\"height_advantage\": 2.0}, {\"height_advantage\": 1.0}, {\"height_advantage\": -1.0}, {\"height_advantage\": -4.0}, {\"height_advantage\": 1.0}, {\"height_advantage\": -5.0}, {\"height_advantage\": 1.0}, {\"height_advantage\": 2.0}, {\"height_advantage\": 1.0}, {\"height_advantage\": 2.0}, {\"height_advantage\": 1.0}, {\"height_advantage\": -3.0}, {\"height_advantage\": 3.0}, {\"height_advantage\": 3.0}, {\"height_advantage\": -1.0}, {\"height_advantage\": -3.0}, {\"height_advantage\": 0.0}, {\"height_advantage\": 0.0}, {\"height_advantage\": 1.0}, {\"height_advantage\": 1.0}, {\"height_advantage\": -2.0}, {\"height_advantage\": -6.0}, {\"height_advantage\": 1.0}, {\"height_advantage\": -2.0}, {\"height_advantage\": -2.0}, {\"height_advantage\": -3.0}, {\"height_advantage\": 3.0}, {\"height_advantage\": 3.0}, {\"height_advantage\": 0.0}, {\"height_advantage\": -1.0}, {\"height_advantage\": 1.0}, {\"height_advantage\": -2.0}, {\"height_advantage\": -7.0}, {\"height_advantage\": -2.0}, {\"height_advantage\": 2.0}, {\"height_advantage\": 0.0}, {\"height_advantage\": 0.0}, {\"height_advantage\": -1.0}, {\"height_advantage\": 0.0}, {\"height_advantage\": -3.0}, {\"height_advantage\": -1.0}, {\"height_advantage\": 2.0}, {\"height_advantage\": 2.0}, {\"height_advantage\": -5.0}, {\"height_advantage\": -6.0}, {\"height_advantage\": 3.0}, {\"height_advantage\": 0.0}, {\"height_advantage\": 2.0}, {\"height_advantage\": -1.0}, {\"height_advantage\": 0.0}, {\"height_advantage\": 4.0}, {\"height_advantage\": 2.0}, {\"height_advantage\": 2.0}, {\"height_advantage\": 4.0}, {\"height_advantage\": -2.0}, {\"height_advantage\": -2.0}, {\"height_advantage\": 0.0}, {\"height_advantage\": 6.0}, {\"height_advantage\": 0.0}, {\"height_advantage\": -1.0}, {\"height_advantage\": -1.0}, {\"height_advantage\": 8.0}, {\"height_advantage\": 1.0}, {\"height_advantage\": 0.0}, {\"height_advantage\": -5.0}, {\"height_advantage\": -3.0}, {\"height_advantage\": 1.0}, {\"height_advantage\": -1.0}, {\"height_advantage\": 5.0}, {\"height_advantage\": 3.0}, {\"height_advantage\": 1.0}, {\"height_advantage\": -6.0}, {\"height_advantage\": 2.0}, {\"height_advantage\": -3.0}, {\"height_advantage\": 2.0}, {\"height_advantage\": 0.0}, {\"height_advantage\": 1.0}, {\"height_advantage\": 1.0}, {\"height_advantage\": -2.0}, {\"height_advantage\": -4.0}, {\"height_advantage\": -4.0}, {\"height_advantage\": 2.0}, {\"height_advantage\": -1.0}, {\"height_advantage\": 0.0}, {\"height_advantage\": -2.0}, {\"height_advantage\": 3.0}, {\"height_advantage\": -2.0}, {\"height_advantage\": 0.0}, {\"height_advantage\": -1.0}, {\"height_advantage\": -2.0}, {\"height_advantage\": -1.0}, {\"height_advantage\": 3.0}, {\"height_advantage\": 0.0}, {\"height_advantage\": 0.0}, {\"height_advantage\": 1.0}, {\"height_advantage\": -3.0}, {\"height_advantage\": 0.0}, {\"height_advantage\": 3.0}, {\"height_advantage\": -3.0}, {\"height_advantage\": 1.0}, {\"height_advantage\": 2.0}, {\"height_advantage\": 1.0}, {\"height_advantage\": 5.0}, {\"height_advantage\": 2.0}, {\"height_advantage\": 0.0}, {\"height_advantage\": -1.0}, {\"height_advantage\": -2.0}, {\"height_advantage\": -1.0}, {\"height_advantage\": 4.0}, {\"height_advantage\": 0.0}, {\"height_advantage\": 4.0}, {\"height_advantage\": -1.0}, {\"height_advantage\": -1.0}, {\"height_advantage\": -4.0}, {\"height_advantage\": 4.0}, {\"height_advantage\": -1.0}, {\"height_advantage\": 6.0}, {\"height_advantage\": 4.0}, {\"height_advantage\": -2.0}, {\"height_advantage\": -4.0}, {\"height_advantage\": 1.0}, {\"height_advantage\": 1.0}, {\"height_advantage\": -2.0}, {\"height_advantage\": -7.0}, {\"height_advantage\": 3.0}, {\"height_advantage\": -2.0}, {\"height_advantage\": 0.0}, {\"height_advantage\": 1.0}, {\"height_advantage\": 2.0}, {\"height_advantage\": -3.0}, {\"height_advantage\": -1.0}, {\"height_advantage\": -2.0}, {\"height_advantage\": 0.0}, {\"height_advantage\": 2.0}, {\"height_advantage\": -2.0}, {\"height_advantage\": 1.0}, {\"height_advantage\": 1.0}, {\"height_advantage\": 1.0}, {\"height_advantage\": 1.0}, {\"height_advantage\": -3.0}, {\"height_advantage\": -4.0}, {\"height_advantage\": 1.0}, {\"height_advantage\": 9.0}, {\"height_advantage\": 3.0}, {\"height_advantage\": -3.0}, {\"height_advantage\": 2.0}, {\"height_advantage\": 2.0}, {\"height_advantage\": 4.0}, {\"height_advantage\": -2.0}, {\"height_advantage\": -1.0}, {\"height_advantage\": 3.0}, {\"height_advantage\": 6.0}, {\"height_advantage\": -1.0}, {\"height_advantage\": 3.0}, {\"height_advantage\": -1.0}, {\"height_advantage\": -1.0}, {\"height_advantage\": 3.0}, {\"height_advantage\": -2.0}, {\"height_advantage\": 0.0}, {\"height_advantage\": -1.0}, {\"height_advantage\": 1.0}, {\"height_advantage\": -2.0}, {\"height_advantage\": 1.0}, {\"height_advantage\": 2.0}, {\"height_advantage\": 2.0}, {\"height_advantage\": -2.0}, {\"height_advantage\": 4.0}, {\"height_advantage\": -1.0}, {\"height_advantage\": 1.0}, {\"height_advantage\": 6.0}, {\"height_advantage\": 1.0}, {\"height_advantage\": -2.0}, {\"height_advantage\": 1.0}, {\"height_advantage\": 2.0}, {\"height_advantage\": 1.0}, {\"height_advantage\": -1.0}, {\"height_advantage\": -3.0}, {\"height_advantage\": -1.0}, {\"height_advantage\": -1.0}, {\"height_advantage\": 4.0}, {\"height_advantage\": 3.0}, {\"height_advantage\": 4.0}, {\"height_advantage\": 3.0}, {\"height_advantage\": -1.0}, {\"height_advantage\": 3.0}, {\"height_advantage\": 1.0}, {\"height_advantage\": 0.0}, {\"height_advantage\": 3.0}, {\"height_advantage\": -1.0}, {\"height_advantage\": 0.0}, {\"height_advantage\": -3.0}, {\"height_advantage\": -1.0}, {\"height_advantage\": 0.0}, {\"height_advantage\": 3.0}, {\"height_advantage\": 1.0}, {\"height_advantage\": 1.0}, {\"height_advantage\": -1.0}, {\"height_advantage\": -1.0}, {\"height_advantage\": -6.0}, {\"height_advantage\": 0.0}, {\"height_advantage\": 0.0}, {\"height_advantage\": 0.0}, {\"height_advantage\": -1.0}, {\"height_advantage\": 0.0}, {\"height_advantage\": -2.0}, {\"height_advantage\": 2.0}, {\"height_advantage\": 0.0}, {\"height_advantage\": 2.0}, {\"height_advantage\": 0.0}, {\"height_advantage\": 1.0}, {\"height_advantage\": -3.0}, {\"height_advantage\": 3.0}, {\"height_advantage\": -2.0}, {\"height_advantage\": 1.0}, {\"height_advantage\": -1.0}, {\"height_advantage\": 0.0}, {\"height_advantage\": 1.0}, {\"height_advantage\": 2.0}, {\"height_advantage\": 4.0}, {\"height_advantage\": 2.0}, {\"height_advantage\": 1.0}, {\"height_advantage\": -1.0}, {\"height_advantage\": 3.0}, {\"height_advantage\": 1.0}, {\"height_advantage\": -1.0}, {\"height_advantage\": -1.0}, {\"height_advantage\": -1.0}, {\"height_advantage\": 1.0}, {\"height_advantage\": 1.0}, {\"height_advantage\": -7.0}, {\"height_advantage\": -5.0}, {\"height_advantage\": 3.0}, {\"height_advantage\": -1.0}, {\"height_advantage\": 1.0}, {\"height_advantage\": 3.0}, {\"height_advantage\": 2.0}, {\"height_advantage\": 0.0}, {\"height_advantage\": 3.0}, {\"height_advantage\": -3.0}, {\"height_advantage\": -3.0}, {\"height_advantage\": 0.0}, {\"height_advantage\": -3.0}, {\"height_advantage\": 1.0}, {\"height_advantage\": 4.0}, {\"height_advantage\": -1.0}, {\"height_advantage\": 1.0}, {\"height_advantage\": 4.0}, {\"height_advantage\": -4.0}, {\"height_advantage\": 3.0}, {\"height_advantage\": 0.0}, {\"height_advantage\": 2.0}, {\"height_advantage\": -5.0}, {\"height_advantage\": 2.0}, {\"height_advantage\": -5.0}, {\"height_advantage\": 3.0}, {\"height_advantage\": 8.0}, {\"height_advantage\": 1.0}, {\"height_advantage\": 0.0}, {\"height_advantage\": -3.0}, {\"height_advantage\": 5.0}, {\"height_advantage\": -1.0}, {\"height_advantage\": -4.0}, {\"height_advantage\": -1.0}, {\"height_advantage\": -2.0}, {\"height_advantage\": -1.0}, {\"height_advantage\": -1.0}, {\"height_advantage\": -3.0}, {\"height_advantage\": -2.0}, {\"height_advantage\": -2.0}, {\"height_advantage\": -1.0}, {\"height_advantage\": 1.0}, {\"height_advantage\": -4.0}, {\"height_advantage\": -2.0}, {\"height_advantage\": -1.0}, {\"height_advantage\": -3.0}, {\"height_advantage\": 1.0}, {\"height_advantage\": -1.0}, {\"height_advantage\": -1.0}, {\"height_advantage\": 1.0}, {\"height_advantage\": 1.0}, {\"height_advantage\": 1.0}, {\"height_advantage\": 2.0}, {\"height_advantage\": -1.0}, {\"height_advantage\": 2.0}, {\"height_advantage\": 0.0}, {\"height_advantage\": 4.0}, {\"height_advantage\": 1.0}, {\"height_advantage\": -1.0}, {\"height_advantage\": -3.0}, {\"height_advantage\": 2.0}, {\"height_advantage\": 0.0}, {\"height_advantage\": 1.0}, {\"height_advantage\": -2.0}, {\"height_advantage\": 2.0}, {\"height_advantage\": -3.0}, {\"height_advantage\": -3.0}, {\"height_advantage\": -3.0}, {\"height_advantage\": 0.0}, {\"height_advantage\": 0.0}, {\"height_advantage\": 5.0}, {\"height_advantage\": -2.0}, {\"height_advantage\": 3.0}, {\"height_advantage\": -1.0}, {\"height_advantage\": 1.0}, {\"height_advantage\": 4.0}, {\"height_advantage\": -3.0}, {\"height_advantage\": -1.0}, {\"height_advantage\": -3.0}, {\"height_advantage\": 3.0}, {\"height_advantage\": 2.0}, {\"height_advantage\": -1.0}, {\"height_advantage\": 1.0}, {\"height_advantage\": -1.0}, {\"height_advantage\": 1.0}, {\"height_advantage\": 1.0}, {\"height_advantage\": -2.0}, {\"height_advantage\": 1.0}, {\"height_advantage\": -4.0}, {\"height_advantage\": -2.0}, {\"height_advantage\": -2.0}, {\"height_advantage\": -3.0}, {\"height_advantage\": 1.0}, {\"height_advantage\": -3.0}, {\"height_advantage\": -7.0}, {\"height_advantage\": 1.0}, {\"height_advantage\": -2.0}, {\"height_advantage\": 3.0}, {\"height_advantage\": -3.0}, {\"height_advantage\": 0.0}, {\"height_advantage\": -4.0}, {\"height_advantage\": -3.0}, {\"height_advantage\": -1.0}, {\"height_advantage\": 0.0}, {\"height_advantage\": 0.0}, {\"height_advantage\": -1.0}, {\"height_advantage\": -1.0}, {\"height_advantage\": 1.0}, {\"height_advantage\": -1.0}, {\"height_advantage\": -3.0}, {\"height_advantage\": -1.0}, {\"height_advantage\": 0.0}, {\"height_advantage\": 0.0}, {\"height_advantage\": 2.0}, {\"height_advantage\": 1.0}, {\"height_advantage\": -1.0}, {\"height_advantage\": -1.0}, {\"height_advantage\": 1.0}, {\"height_advantage\": -1.0}, {\"height_advantage\": 2.0}, {\"height_advantage\": 3.0}, {\"height_advantage\": -2.0}, {\"height_advantage\": 5.0}, {\"height_advantage\": -2.0}, {\"height_advantage\": 3.0}, {\"height_advantage\": -5.0}, {\"height_advantage\": 0.0}, {\"height_advantage\": 2.0}, {\"height_advantage\": -1.0}, {\"height_advantage\": 1.0}, {\"height_advantage\": -4.0}, {\"height_advantage\": 0.0}, {\"height_advantage\": 1.0}, {\"height_advantage\": -2.0}, {\"height_advantage\": -2.0}, {\"height_advantage\": 0.0}, {\"height_advantage\": -4.0}, {\"height_advantage\": 3.0}, {\"height_advantage\": 1.0}, {\"height_advantage\": -1.0}, {\"height_advantage\": 2.0}, {\"height_advantage\": -1.0}, {\"height_advantage\": 1.0}, {\"height_advantage\": 3.0}, {\"height_advantage\": -1.0}, {\"height_advantage\": 0.0}, {\"height_advantage\": -1.0}, {\"height_advantage\": 0.0}, {\"height_advantage\": -2.0}, {\"height_advantage\": 1.0}, {\"height_advantage\": -2.0}, {\"height_advantage\": 0.0}, {\"height_advantage\": 1.0}, {\"height_advantage\": -1.0}, {\"height_advantage\": -2.0}, {\"height_advantage\": -6.0}, {\"height_advantage\": -2.0}, {\"height_advantage\": -1.0}, {\"height_advantage\": -5.0}, {\"height_advantage\": -4.0}, {\"height_advantage\": -2.0}, {\"height_advantage\": 2.0}, {\"height_advantage\": -2.0}, {\"height_advantage\": 0.0}, {\"height_advantage\": 0.0}, {\"height_advantage\": 0.0}, {\"height_advantage\": 0.0}, {\"height_advantage\": 0.0}, {\"height_advantage\": 1.0}, {\"height_advantage\": 1.0}, {\"height_advantage\": 4.0}, {\"height_advantage\": -2.0}, {\"height_advantage\": 0.0}, {\"height_advantage\": -1.0}, {\"height_advantage\": 3.0}, {\"height_advantage\": 2.0}, {\"height_advantage\": -3.0}, {\"height_advantage\": -14.0}, {\"height_advantage\": 2.0}, {\"height_advantage\": 5.0}, {\"height_advantage\": -1.0}, {\"height_advantage\": 2.0}, {\"height_advantage\": -1.0}, {\"height_advantage\": -2.0}, {\"height_advantage\": 1.0}, {\"height_advantage\": 2.0}, {\"height_advantage\": -5.0}, {\"height_advantage\": 1.0}, {\"height_advantage\": 6.0}, {\"height_advantage\": -3.0}, {\"height_advantage\": -4.0}, {\"height_advantage\": -3.0}, {\"height_advantage\": 3.0}, {\"height_advantage\": -2.0}, {\"height_advantage\": -1.0}, {\"height_advantage\": 2.0}, {\"height_advantage\": -2.0}, {\"height_advantage\": 0.0}, {\"height_advantage\": 5.0}, {\"height_advantage\": -2.0}, {\"height_advantage\": -1.0}, {\"height_advantage\": 0.0}, {\"height_advantage\": -6.0}, {\"height_advantage\": 0.0}, {\"height_advantage\": 1.0}, {\"height_advantage\": 0.0}, {\"height_advantage\": -3.0}, {\"height_advantage\": 4.0}, {\"height_advantage\": 3.0}, {\"height_advantage\": 0.0}, {\"height_advantage\": 0.0}, {\"height_advantage\": 1.0}, {\"height_advantage\": -3.0}, {\"height_advantage\": 0.0}, {\"height_advantage\": 5.0}, {\"height_advantage\": 6.0}, {\"height_advantage\": 4.0}, {\"height_advantage\": 4.0}, {\"height_advantage\": 1.0}, {\"height_advantage\": 4.0}, {\"height_advantage\": 0.0}, {\"height_advantage\": -1.0}, {\"height_advantage\": 0.0}, {\"height_advantage\": -4.0}, {\"height_advantage\": -2.0}, {\"height_advantage\": 1.0}, {\"height_advantage\": -4.0}, {\"height_advantage\": 1.0}, {\"height_advantage\": 0.0}, {\"height_advantage\": -2.0}, {\"height_advantage\": -3.0}, {\"height_advantage\": 0.0}, {\"height_advantage\": 4.0}, {\"height_advantage\": 0.0}, {\"height_advantage\": 3.0}, {\"height_advantage\": 0.0}, {\"height_advantage\": -4.0}, {\"height_advantage\": -1.0}, {\"height_advantage\": 0.0}, {\"height_advantage\": 1.0}, {\"height_advantage\": 0.0}, {\"height_advantage\": 0.0}, {\"height_advantage\": 3.0}, {\"height_advantage\": 0.0}, {\"height_advantage\": -3.0}, {\"height_advantage\": -3.0}, {\"height_advantage\": -1.0}, {\"height_advantage\": 1.0}, {\"height_advantage\": 0.0}, {\"height_advantage\": -2.0}, {\"height_advantage\": -1.0}, {\"height_advantage\": 5.0}, {\"height_advantage\": 6.0}, {\"height_advantage\": 3.0}, {\"height_advantage\": -7.0}, {\"height_advantage\": 2.0}, {\"height_advantage\": 2.0}, {\"height_advantage\": -3.0}, {\"height_advantage\": 6.0}, {\"height_advantage\": 1.0}, {\"height_advantage\": 2.0}, {\"height_advantage\": 0.0}, {\"height_advantage\": 3.0}, {\"height_advantage\": -5.0}, {\"height_advantage\": -1.0}, {\"height_advantage\": 2.0}, {\"height_advantage\": -1.0}, {\"height_advantage\": 6.0}, {\"height_advantage\": -1.0}, {\"height_advantage\": 1.0}, {\"height_advantage\": 1.0}, {\"height_advantage\": 1.0}, {\"height_advantage\": 2.0}, {\"height_advantage\": 0.0}, {\"height_advantage\": -1.0}, {\"height_advantage\": 0.0}, {\"height_advantage\": 1.0}, {\"height_advantage\": 4.0}, {\"height_advantage\": 0.0}, {\"height_advantage\": 1.0}, {\"height_advantage\": -1.0}, {\"height_advantage\": -2.0}, {\"height_advantage\": 4.0}, {\"height_advantage\": 2.0}, {\"height_advantage\": 2.0}, {\"height_advantage\": 1.0}, {\"height_advantage\": 3.0}, {\"height_advantage\": 5.0}, {\"height_advantage\": 3.0}, {\"height_advantage\": 2.0}, {\"height_advantage\": 1.0}, {\"height_advantage\": -3.0}, {\"height_advantage\": 0.0}, {\"height_advantage\": -5.0}, {\"height_advantage\": -5.0}, {\"height_advantage\": 1.0}, {\"height_advantage\": 0.0}, {\"height_advantage\": 2.0}, {\"height_advantage\": 0.0}, {\"height_advantage\": -2.0}, {\"height_advantage\": 3.0}, {\"height_advantage\": -7.0}, {\"height_advantage\": -4.0}, {\"height_advantage\": -3.0}, {\"height_advantage\": 2.0}, {\"height_advantage\": -1.0}, {\"height_advantage\": 4.0}, {\"height_advantage\": -2.0}, {\"height_advantage\": -5.0}, {\"height_advantage\": 1.0}, {\"height_advantage\": -2.0}, {\"height_advantage\": -1.0}, {\"height_advantage\": 4.0}, {\"height_advantage\": -1.0}, {\"height_advantage\": 0.0}, {\"height_advantage\": -2.0}, {\"height_advantage\": 1.0}, {\"height_advantage\": 1.0}, {\"height_advantage\": 0.0}, {\"height_advantage\": -3.0}, {\"height_advantage\": 0.0}, {\"height_advantage\": 0.0}, {\"height_advantage\": -3.0}, {\"height_advantage\": 2.0}, {\"height_advantage\": -1.0}, {\"height_advantage\": -4.0}, {\"height_advantage\": -1.0}, {\"height_advantage\": 0.0}, {\"height_advantage\": 2.0}, {\"height_advantage\": -3.0}, {\"height_advantage\": -1.0}, {\"height_advantage\": -5.0}, {\"height_advantage\": 1.0}, {\"height_advantage\": 2.0}, {\"height_advantage\": -3.0}, {\"height_advantage\": 5.0}, {\"height_advantage\": 0.0}, {\"height_advantage\": -8.0}, {\"height_advantage\": 0.0}, {\"height_advantage\": 4.0}, {\"height_advantage\": 1.0}, {\"height_advantage\": -2.0}, {\"height_advantage\": 1.0}, {\"height_advantage\": 0.0}, {\"height_advantage\": -1.0}, {\"height_advantage\": -4.0}, {\"height_advantage\": 2.0}, {\"height_advantage\": 4.0}, {\"height_advantage\": -1.0}, {\"height_advantage\": -5.0}, {\"height_advantage\": 2.0}, {\"height_advantage\": 0.0}, {\"height_advantage\": 0.0}, {\"height_advantage\": -1.0}, {\"height_advantage\": 2.0}, {\"height_advantage\": -1.0}, {\"height_advantage\": 2.0}, {\"height_advantage\": 4.0}, {\"height_advantage\": 1.0}, {\"height_advantage\": -3.0}, {\"height_advantage\": 1.0}, {\"height_advantage\": -3.0}, {\"height_advantage\": 0.0}, {\"height_advantage\": 0.0}, {\"height_advantage\": -2.0}, {\"height_advantage\": -1.0}, {\"height_advantage\": 1.0}, {\"height_advantage\": -2.0}, {\"height_advantage\": -5.0}, {\"height_advantage\": 4.0}, {\"height_advantage\": 3.0}, {\"height_advantage\": 0.0}, {\"height_advantage\": -1.0}, {\"height_advantage\": -1.0}, {\"height_advantage\": 0.0}, {\"height_advantage\": 0.0}, {\"height_advantage\": 1.0}, {\"height_advantage\": 1.0}, {\"height_advantage\": 1.0}, {\"height_advantage\": -1.0}, {\"height_advantage\": -2.0}, {\"height_advantage\": 2.0}, {\"height_advantage\": 0.0}, {\"height_advantage\": 0.0}, {\"height_advantage\": -3.0}, {\"height_advantage\": 0.0}, {\"height_advantage\": -3.0}, {\"height_advantage\": 0.0}, {\"height_advantage\": 2.0}, {\"height_advantage\": -1.0}, {\"height_advantage\": 0.0}, {\"height_advantage\": 0.0}, {\"height_advantage\": -1.0}, {\"height_advantage\": -1.0}, {\"height_advantage\": 0.0}, {\"height_advantage\": 0.0}, {\"height_advantage\": -1.0}, {\"height_advantage\": -3.0}, {\"height_advantage\": -1.0}, {\"height_advantage\": -1.0}, {\"height_advantage\": 2.0}, {\"height_advantage\": -3.0}, {\"height_advantage\": -3.0}, {\"height_advantage\": -3.0}, {\"height_advantage\": 1.0}, {\"height_advantage\": 0.0}, {\"height_advantage\": 2.0}, {\"height_advantage\": 0.0}, {\"height_advantage\": -4.0}, {\"height_advantage\": -2.0}, {\"height_advantage\": 1.0}, {\"height_advantage\": -1.0}, {\"height_advantage\": -3.0}, {\"height_advantage\": -2.0}, {\"height_advantage\": 5.0}, {\"height_advantage\": -1.0}, {\"height_advantage\": 4.0}, {\"height_advantage\": 0.0}, {\"height_advantage\": 1.0}, {\"height_advantage\": 1.0}, {\"height_advantage\": -1.0}, {\"height_advantage\": -1.0}, {\"height_advantage\": -3.0}, {\"height_advantage\": -1.0}, {\"height_advantage\": 1.0}, {\"height_advantage\": -4.0}, {\"height_advantage\": -5.0}, {\"height_advantage\": -5.0}, {\"height_advantage\": -4.0}, {\"height_advantage\": -4.0}, {\"height_advantage\": 0.0}, {\"height_advantage\": 0.0}, {\"height_advantage\": -1.0}, {\"height_advantage\": 4.0}, {\"height_advantage\": 0.0}, {\"height_advantage\": 3.0}, {\"height_advantage\": 1.0}, {\"height_advantage\": 2.0}, {\"height_advantage\": 1.0}, {\"height_advantage\": 2.0}, {\"height_advantage\": -1.0}, {\"height_advantage\": 2.0}, {\"height_advantage\": 0.0}, {\"height_advantage\": 1.0}, {\"height_advantage\": -2.0}, {\"height_advantage\": 0.0}, {\"height_advantage\": -1.0}, {\"height_advantage\": -3.0}, {\"height_advantage\": 1.0}, {\"height_advantage\": -1.0}, {\"height_advantage\": -2.0}, {\"height_advantage\": 1.0}, {\"height_advantage\": 0.0}, {\"height_advantage\": -3.0}, {\"height_advantage\": -1.0}, {\"height_advantage\": 4.0}, {\"height_advantage\": 0.0}, {\"height_advantage\": 3.0}, {\"height_advantage\": -2.0}, {\"height_advantage\": 1.0}, {\"height_advantage\": 0.0}, {\"height_advantage\": 3.0}, {\"height_advantage\": -2.0}, {\"height_advantage\": 2.0}, {\"height_advantage\": -1.0}, {\"height_advantage\": 0.0}, {\"height_advantage\": -1.0}, {\"height_advantage\": 5.0}, {\"height_advantage\": 1.0}, {\"height_advantage\": -1.0}, {\"height_advantage\": 1.0}, {\"height_advantage\": 1.0}, {\"height_advantage\": 1.0}, {\"height_advantage\": 5.0}, {\"height_advantage\": -1.0}, {\"height_advantage\": -1.0}, {\"height_advantage\": -2.0}, {\"height_advantage\": -2.0}, {\"height_advantage\": 1.0}, {\"height_advantage\": 2.0}, {\"height_advantage\": 2.0}, {\"height_advantage\": 1.0}, {\"height_advantage\": -1.0}, {\"height_advantage\": -3.0}, {\"height_advantage\": 0.0}, {\"height_advantage\": -1.0}, {\"height_advantage\": 0.0}, {\"height_advantage\": 0.0}, {\"height_advantage\": 4.0}, {\"height_advantage\": -1.0}, {\"height_advantage\": 2.0}, {\"height_advantage\": 1.0}, {\"height_advantage\": 0.0}, {\"height_advantage\": -4.0}, {\"height_advantage\": -1.0}, {\"height_advantage\": -2.0}, {\"height_advantage\": -5.0}, {\"height_advantage\": -2.0}, {\"height_advantage\": -1.0}, {\"height_advantage\": 3.0}, {\"height_advantage\": -5.0}, {\"height_advantage\": -7.0}, {\"height_advantage\": -4.0}, {\"height_advantage\": 0.0}, {\"height_advantage\": 1.0}, {\"height_advantage\": 0.0}, {\"height_advantage\": 4.0}, {\"height_advantage\": 0.0}, {\"height_advantage\": 0.0}, {\"height_advantage\": -3.0}, {\"height_advantage\": 1.0}, {\"height_advantage\": 5.0}, {\"height_advantage\": 1.0}, {\"height_advantage\": 3.0}, {\"height_advantage\": 2.0}, {\"height_advantage\": 4.0}, {\"height_advantage\": -2.0}, {\"height_advantage\": 0.0}, {\"height_advantage\": -1.0}, {\"height_advantage\": 2.0}, {\"height_advantage\": 1.0}, {\"height_advantage\": -1.0}, {\"height_advantage\": 3.0}, {\"height_advantage\": 1.0}, {\"height_advantage\": -3.0}, {\"height_advantage\": -2.0}, {\"height_advantage\": -1.0}, {\"height_advantage\": -1.0}, {\"height_advantage\": 1.0}, {\"height_advantage\": -1.0}, {\"height_advantage\": 2.0}, {\"height_advantage\": 2.0}, {\"height_advantage\": 0.0}, {\"height_advantage\": 3.0}, {\"height_advantage\": -2.0}, {\"height_advantage\": -1.0}, {\"height_advantage\": -2.0}, {\"height_advantage\": -1.0}, {\"height_advantage\": -3.0}, {\"height_advantage\": 4.0}, {\"height_advantage\": 0.0}, {\"height_advantage\": 0.0}, {\"height_advantage\": 1.0}, {\"height_advantage\": 0.0}, {\"height_advantage\": 2.0}, {\"height_advantage\": 0.0}, {\"height_advantage\": -3.0}, {\"height_advantage\": -1.0}, {\"height_advantage\": 5.0}, {\"height_advantage\": 0.0}, {\"height_advantage\": 3.0}, {\"height_advantage\": 1.0}, {\"height_advantage\": 1.0}, {\"height_advantage\": -3.0}, {\"height_advantage\": -1.0}, {\"height_advantage\": 2.0}, {\"height_advantage\": 1.0}, {\"height_advantage\": -1.0}, {\"height_advantage\": -1.0}, {\"height_advantage\": -3.0}, {\"height_advantage\": 0.0}, {\"height_advantage\": 2.0}, {\"height_advantage\": 0.0}, {\"height_advantage\": -1.0}, {\"height_advantage\": -1.0}, {\"height_advantage\": 3.0}, {\"height_advantage\": 5.0}, {\"height_advantage\": -2.0}, {\"height_advantage\": -1.0}, {\"height_advantage\": 1.0}, {\"height_advantage\": 2.0}, {\"height_advantage\": 4.0}, {\"height_advantage\": 1.0}, {\"height_advantage\": 0.0}, {\"height_advantage\": -1.0}, {\"height_advantage\": -10.0}, {\"height_advantage\": 5.0}, {\"height_advantage\": -2.0}, {\"height_advantage\": -1.0}, {\"height_advantage\": -2.0}, {\"height_advantage\": -4.0}, {\"height_advantage\": 1.0}, {\"height_advantage\": -3.0}, {\"height_advantage\": 0.0}, {\"height_advantage\": -1.0}, {\"height_advantage\": -5.0}, {\"height_advantage\": -3.0}, {\"height_advantage\": -1.0}, {\"height_advantage\": 2.0}, {\"height_advantage\": -2.0}, {\"height_advantage\": -2.0}, {\"height_advantage\": 2.0}, {\"height_advantage\": 0.0}, {\"height_advantage\": 1.0}, {\"height_advantage\": -1.0}, {\"height_advantage\": -3.0}, {\"height_advantage\": -4.0}, {\"height_advantage\": -1.0}, {\"height_advantage\": 0.0}, {\"height_advantage\": 0.0}, {\"height_advantage\": 1.0}, {\"height_advantage\": -3.0}, {\"height_advantage\": 0.0}, {\"height_advantage\": 6.0}, {\"height_advantage\": 1.0}, {\"height_advantage\": 2.0}, {\"height_advantage\": -2.0}, {\"height_advantage\": 0.0}, {\"height_advantage\": -3.0}, {\"height_advantage\": -2.0}, {\"height_advantage\": 0.0}, {\"height_advantage\": 1.0}, {\"height_advantage\": 1.0}, {\"height_advantage\": 2.0}, {\"height_advantage\": -4.0}, {\"height_advantage\": 1.0}, {\"height_advantage\": 7.0}, {\"height_advantage\": -3.0}, {\"height_advantage\": 2.0}, {\"height_advantage\": 2.0}, {\"height_advantage\": 2.0}, {\"height_advantage\": -3.0}, {\"height_advantage\": 0.0}, {\"height_advantage\": 0.0}, {\"height_advantage\": -1.0}, {\"height_advantage\": 1.0}, {\"height_advantage\": -5.0}, {\"height_advantage\": 2.0}, {\"height_advantage\": 2.0}, {\"height_advantage\": -1.0}, {\"height_advantage\": -1.0}, {\"height_advantage\": 1.0}, {\"height_advantage\": -5.0}, {\"height_advantage\": 2.0}, {\"height_advantage\": 0.0}, {\"height_advantage\": 4.0}, {\"height_advantage\": -2.0}, {\"height_advantage\": 1.0}, {\"height_advantage\": -3.0}, {\"height_advantage\": 0.0}, {\"height_advantage\": -7.0}, {\"height_advantage\": -1.0}, {\"height_advantage\": -1.0}, {\"height_advantage\": 1.0}, {\"height_advantage\": 0.0}, {\"height_advantage\": -2.0}, {\"height_advantage\": 1.0}, {\"height_advantage\": 2.0}, {\"height_advantage\": -6.0}, {\"height_advantage\": 2.0}, {\"height_advantage\": -1.0}, {\"height_advantage\": 0.0}, {\"height_advantage\": 0.0}, {\"height_advantage\": 3.0}, {\"height_advantage\": -2.0}, {\"height_advantage\": 2.0}, {\"height_advantage\": -1.0}, {\"height_advantage\": -2.0}, {\"height_advantage\": 2.0}, {\"height_advantage\": -1.0}, {\"height_advantage\": 6.0}, {\"height_advantage\": 5.0}, {\"height_advantage\": 4.0}, {\"height_advantage\": 5.0}, {\"height_advantage\": 3.0}, {\"height_advantage\": -2.0}, {\"height_advantage\": -1.0}, {\"height_advantage\": 3.0}, {\"height_advantage\": 2.0}, {\"height_advantage\": 3.0}, {\"height_advantage\": 0.0}, {\"height_advantage\": 4.0}, {\"height_advantage\": -1.0}, {\"height_advantage\": -1.0}, {\"height_advantage\": -4.0}, {\"height_advantage\": 1.0}, {\"height_advantage\": 2.0}, {\"height_advantage\": -5.0}, {\"height_advantage\": 3.0}, {\"height_advantage\": 0.0}, {\"height_advantage\": 2.0}, {\"height_advantage\": 4.0}, {\"height_advantage\": 0.0}, {\"height_advantage\": -1.0}, {\"height_advantage\": 0.0}, {\"height_advantage\": 3.0}, {\"height_advantage\": 0.0}, {\"height_advantage\": -2.0}, {\"height_advantage\": -1.0}, {\"height_advantage\": 1.0}, {\"height_advantage\": -1.0}, {\"height_advantage\": 2.0}, {\"height_advantage\": -3.0}, {\"height_advantage\": 0.0}, {\"height_advantage\": -1.0}, {\"height_advantage\": 1.0}, {\"height_advantage\": -3.0}, {\"height_advantage\": -1.0}, {\"height_advantage\": 0.0}, {\"height_advantage\": -1.0}, {\"height_advantage\": -1.0}, {\"height_advantage\": -1.0}, {\"height_advantage\": 2.0}, {\"height_advantage\": 2.0}, {\"height_advantage\": 0.0}, {\"height_advantage\": 1.0}, {\"height_advantage\": 1.0}, {\"height_advantage\": 1.0}, {\"height_advantage\": 0.0}, {\"height_advantage\": -2.0}, {\"height_advantage\": -4.0}, {\"height_advantage\": -2.0}, {\"height_advantage\": -2.0}, {\"height_advantage\": -3.0}, {\"height_advantage\": 0.0}, {\"height_advantage\": 0.0}, {\"height_advantage\": -1.0}, {\"height_advantage\": -2.0}, {\"height_advantage\": -4.0}, {\"height_advantage\": 1.0}, {\"height_advantage\": -3.0}, {\"height_advantage\": -4.0}, {\"height_advantage\": -4.0}, {\"height_advantage\": -1.0}, {\"height_advantage\": -2.0}, {\"height_advantage\": 0.0}, {\"height_advantage\": -2.0}, {\"height_advantage\": 0.0}, {\"height_advantage\": 2.0}, {\"height_advantage\": 1.0}, {\"height_advantage\": 6.0}, {\"height_advantage\": 4.0}, {\"height_advantage\": 1.0}, {\"height_advantage\": 1.0}, {\"height_advantage\": 1.0}, {\"height_advantage\": 0.0}, {\"height_advantage\": 2.0}, {\"height_advantage\": -3.0}, {\"height_advantage\": -4.0}, {\"height_advantage\": -7.0}, {\"height_advantage\": -5.0}, {\"height_advantage\": 2.0}, {\"height_advantage\": -3.0}, {\"height_advantage\": -2.0}, {\"height_advantage\": -2.0}, {\"height_advantage\": 0.0}, {\"height_advantage\": -2.0}, {\"height_advantage\": 0.0}, {\"height_advantage\": 0.0}, {\"height_advantage\": 1.0}, {\"height_advantage\": -5.0}, {\"height_advantage\": -2.0}, {\"height_advantage\": 3.0}, {\"height_advantage\": 1.0}, {\"height_advantage\": 0.0}, {\"height_advantage\": 2.0}, {\"height_advantage\": -3.0}, {\"height_advantage\": 0.0}, {\"height_advantage\": 1.0}, {\"height_advantage\": -2.0}, {\"height_advantage\": 1.0}, {\"height_advantage\": 0.0}, {\"height_advantage\": 1.0}, {\"height_advantage\": 1.0}, {\"height_advantage\": -1.0}, {\"height_advantage\": -1.0}, {\"height_advantage\": 3.0}, {\"height_advantage\": -2.0}, {\"height_advantage\": 1.0}, {\"height_advantage\": -2.0}, {\"height_advantage\": 1.0}, {\"height_advantage\": 0.0}, {\"height_advantage\": 5.0}, {\"height_advantage\": -1.0}, {\"height_advantage\": 0.0}, {\"height_advantage\": -1.0}, {\"height_advantage\": 0.0}, {\"height_advantage\": 3.0}, {\"height_advantage\": -2.0}, {\"height_advantage\": 2.0}, {\"height_advantage\": 0.0}, {\"height_advantage\": -1.0}, {\"height_advantage\": 1.0}, {\"height_advantage\": -1.0}, {\"height_advantage\": 0.0}, {\"height_advantage\": 0.0}, {\"height_advantage\": -3.0}, {\"height_advantage\": -8.0}, {\"height_advantage\": -1.0}, {\"height_advantage\": 1.0}, {\"height_advantage\": -3.0}, {\"height_advantage\": -1.0}, {\"height_advantage\": 0.0}, {\"height_advantage\": 0.0}, {\"height_advantage\": -2.0}, {\"height_advantage\": 1.0}, {\"height_advantage\": 0.0}, {\"height_advantage\": 3.0}, {\"height_advantage\": 2.0}, {\"height_advantage\": 6.0}, {\"height_advantage\": -2.0}, {\"height_advantage\": 1.0}, {\"height_advantage\": 7.0}, {\"height_advantage\": -2.0}, {\"height_advantage\": 4.0}, {\"height_advantage\": -4.0}, {\"height_advantage\": 3.0}, {\"height_advantage\": -3.0}, {\"height_advantage\": -2.0}, {\"height_advantage\": 3.0}, {\"height_advantage\": 1.0}, {\"height_advantage\": -1.0}, {\"height_advantage\": 0.0}, {\"height_advantage\": -1.0}, {\"height_advantage\": 0.0}, {\"height_advantage\": 3.0}, {\"height_advantage\": -3.0}, {\"height_advantage\": -3.0}, {\"height_advantage\": -1.0}, {\"height_advantage\": 2.0}, {\"height_advantage\": 3.0}, {\"height_advantage\": 1.0}, {\"height_advantage\": -1.0}, {\"height_advantage\": -1.0}, {\"height_advantage\": 0.0}, {\"height_advantage\": -4.0}, {\"height_advantage\": -1.0}, {\"height_advantage\": 0.0}, {\"height_advantage\": -3.0}, {\"height_advantage\": 0.0}, {\"height_advantage\": 2.0}, {\"height_advantage\": 0.0}, {\"height_advantage\": 1.0}, {\"height_advantage\": 3.0}, {\"height_advantage\": 1.0}, {\"height_advantage\": 3.0}, {\"height_advantage\": -6.0}, {\"height_advantage\": -2.0}, {\"height_advantage\": -1.0}, {\"height_advantage\": -2.0}, {\"height_advantage\": -1.0}, {\"height_advantage\": -3.0}, {\"height_advantage\": -2.0}, {\"height_advantage\": 3.0}, {\"height_advantage\": -1.0}, {\"height_advantage\": 5.0}, {\"height_advantage\": -2.0}, {\"height_advantage\": 0.0}, {\"height_advantage\": -2.0}, {\"height_advantage\": 0.0}, {\"height_advantage\": 4.0}, {\"height_advantage\": 4.0}, {\"height_advantage\": 2.0}, {\"height_advantage\": -4.0}, {\"height_advantage\": 0.0}, {\"height_advantage\": 1.0}, {\"height_advantage\": -1.0}, {\"height_advantage\": -1.0}, {\"height_advantage\": 1.0}, {\"height_advantage\": 1.0}, {\"height_advantage\": -3.0}, {\"height_advantage\": 1.0}, {\"height_advantage\": 5.0}, {\"height_advantage\": -1.0}, {\"height_advantage\": -5.0}, {\"height_advantage\": 2.0}, {\"height_advantage\": -4.0}, {\"height_advantage\": 2.0}, {\"height_advantage\": 5.0}, {\"height_advantage\": 1.0}, {\"height_advantage\": -1.0}, {\"height_advantage\": -4.0}, {\"height_advantage\": -2.0}, {\"height_advantage\": -1.0}, {\"height_advantage\": -2.0}, {\"height_advantage\": -5.0}, {\"height_advantage\": -1.0}, {\"height_advantage\": 3.0}, {\"height_advantage\": 6.0}, {\"height_advantage\": -4.0}, {\"height_advantage\": 0.0}, {\"height_advantage\": -1.0}, {\"height_advantage\": -3.0}, {\"height_advantage\": 2.0}, {\"height_advantage\": -1.0}, {\"height_advantage\": -1.0}, {\"height_advantage\": 0.0}, {\"height_advantage\": 1.0}, {\"height_advantage\": 0.0}, {\"height_advantage\": -1.0}, {\"height_advantage\": -2.0}, {\"height_advantage\": 2.0}, {\"height_advantage\": 4.0}, {\"height_advantage\": 4.0}, {\"height_advantage\": -1.0}, {\"height_advantage\": 2.0}, {\"height_advantage\": 0.0}, {\"height_advantage\": 3.0}, {\"height_advantage\": -3.0}, {\"height_advantage\": 0.0}, {\"height_advantage\": -2.0}, {\"height_advantage\": 0.0}, {\"height_advantage\": 1.0}, {\"height_advantage\": 3.0}, {\"height_advantage\": -1.0}, {\"height_advantage\": -2.0}, {\"height_advantage\": -2.0}, {\"height_advantage\": 1.0}, {\"height_advantage\": -1.0}, {\"height_advantage\": 2.0}, {\"height_advantage\": -1.0}, {\"height_advantage\": 1.0}, {\"height_advantage\": 4.0}, {\"height_advantage\": 0.0}, {\"height_advantage\": -2.0}, {\"height_advantage\": 0.0}, {\"height_advantage\": 3.0}, {\"height_advantage\": -1.0}, {\"height_advantage\": 6.0}, {\"height_advantage\": 0.0}, {\"height_advantage\": 2.0}, {\"height_advantage\": 5.0}, {\"height_advantage\": 2.0}, {\"height_advantage\": 0.0}, {\"height_advantage\": -2.0}, {\"height_advantage\": -3.0}, {\"height_advantage\": -1.0}, {\"height_advantage\": 1.0}, {\"height_advantage\": 0.0}, {\"height_advantage\": -1.0}, {\"height_advantage\": 1.0}, {\"height_advantage\": 0.0}, {\"height_advantage\": -1.0}, {\"height_advantage\": -1.0}, {\"height_advantage\": 2.0}, {\"height_advantage\": 2.0}, {\"height_advantage\": -3.0}, {\"height_advantage\": 7.0}, {\"height_advantage\": 0.0}, {\"height_advantage\": 1.0}, {\"height_advantage\": 0.0}, {\"height_advantage\": 2.0}, {\"height_advantage\": 0.0}, {\"height_advantage\": 3.0}, {\"height_advantage\": -2.0}, {\"height_advantage\": 4.0}, {\"height_advantage\": -2.0}, {\"height_advantage\": 3.0}, {\"height_advantage\": 4.0}, {\"height_advantage\": -1.0}, {\"height_advantage\": -4.0}, {\"height_advantage\": -1.0}, {\"height_advantage\": -4.0}, {\"height_advantage\": 2.0}, {\"height_advantage\": 0.0}, {\"height_advantage\": 0.0}, {\"height_advantage\": 0.0}, {\"height_advantage\": 0.0}, {\"height_advantage\": 4.0}, {\"height_advantage\": -3.0}, {\"height_advantage\": 0.0}, {\"height_advantage\": 0.0}, {\"height_advantage\": 0.0}, {\"height_advantage\": -3.0}, {\"height_advantage\": -7.0}, {\"height_advantage\": 1.0}, {\"height_advantage\": 3.0}, {\"height_advantage\": -2.0}, {\"height_advantage\": 3.0}, {\"height_advantage\": 0.0}, {\"height_advantage\": 4.0}, {\"height_advantage\": -3.0}, {\"height_advantage\": -2.0}, {\"height_advantage\": 0.0}, {\"height_advantage\": -1.0}, {\"height_advantage\": 1.0}, {\"height_advantage\": 1.0}, {\"height_advantage\": -2.0}, {\"height_advantage\": -2.0}, {\"height_advantage\": -1.0}, {\"height_advantage\": 1.0}, {\"height_advantage\": 2.0}, {\"height_advantage\": -2.0}, {\"height_advantage\": -4.0}, {\"height_advantage\": 1.0}, {\"height_advantage\": -2.0}, {\"height_advantage\": 5.0}, {\"height_advantage\": 0.0}, {\"height_advantage\": -1.0}, {\"height_advantage\": 2.0}, {\"height_advantage\": 1.0}, {\"height_advantage\": 3.0}, {\"height_advantage\": -3.0}, {\"height_advantage\": 3.0}, {\"height_advantage\": -1.0}, {\"height_advantage\": -3.0}, {\"height_advantage\": 1.0}, {\"height_advantage\": 2.0}, {\"height_advantage\": 0.0}, {\"height_advantage\": -1.0}, {\"height_advantage\": 3.0}, {\"height_advantage\": 4.0}, {\"height_advantage\": -2.0}, {\"height_advantage\": 1.0}, {\"height_advantage\": 2.0}, {\"height_advantage\": 1.0}, {\"height_advantage\": -4.0}, {\"height_advantage\": -1.0}, {\"height_advantage\": -2.0}, {\"height_advantage\": 0.0}, {\"height_advantage\": 0.0}, {\"height_advantage\": 0.0}, {\"height_advantage\": -1.0}, {\"height_advantage\": -2.0}, {\"height_advantage\": 2.0}, {\"height_advantage\": 4.0}, {\"height_advantage\": 0.0}, {\"height_advantage\": 4.0}, {\"height_advantage\": -1.0}, {\"height_advantage\": 0.0}, {\"height_advantage\": -2.0}, {\"height_advantage\": 2.0}, {\"height_advantage\": -1.0}, {\"height_advantage\": 1.0}, {\"height_advantage\": -1.0}, {\"height_advantage\": -3.0}, {\"height_advantage\": -1.0}, {\"height_advantage\": 0.0}, {\"height_advantage\": -3.0}, {\"height_advantage\": -5.0}, {\"height_advantage\": -2.0}, {\"height_advantage\": 5.0}, {\"height_advantage\": 1.0}, {\"height_advantage\": 3.0}, {\"height_advantage\": -3.0}, {\"height_advantage\": 0.0}, {\"height_advantage\": 2.0}, {\"height_advantage\": -3.0}, {\"height_advantage\": 0.0}, {\"height_advantage\": -1.0}, {\"height_advantage\": -1.0}, {\"height_advantage\": 1.0}, {\"height_advantage\": 0.0}, {\"height_advantage\": -3.0}, {\"height_advantage\": -1.0}, {\"height_advantage\": 4.0}, {\"height_advantage\": 5.0}, {\"height_advantage\": 2.0}, {\"height_advantage\": -3.0}, {\"height_advantage\": -3.0}, {\"height_advantage\": 0.0}, {\"height_advantage\": 1.0}, {\"height_advantage\": -1.0}, {\"height_advantage\": 0.0}, {\"height_advantage\": 2.0}, {\"height_advantage\": -1.0}, {\"height_advantage\": 0.0}, {\"height_advantage\": 1.0}, {\"height_advantage\": -2.0}, {\"height_advantage\": 0.0}, {\"height_advantage\": 0.0}, {\"height_advantage\": 5.0}, {\"height_advantage\": -3.0}, {\"height_advantage\": 5.0}, {\"height_advantage\": 1.0}, {\"height_advantage\": -1.0}, {\"height_advantage\": -2.0}, {\"height_advantage\": 2.0}, {\"height_advantage\": 1.0}, {\"height_advantage\": -1.0}, {\"height_advantage\": -1.0}, {\"height_advantage\": 1.0}, {\"height_advantage\": -1.0}, {\"height_advantage\": 1.0}, {\"height_advantage\": 0.0}, {\"height_advantage\": -2.0}, {\"height_advantage\": -1.0}, {\"height_advantage\": -3.0}, {\"height_advantage\": -2.0}, {\"height_advantage\": 4.0}, {\"height_advantage\": 2.0}, {\"height_advantage\": 0.0}, {\"height_advantage\": -2.0}, {\"height_advantage\": -2.0}, {\"height_advantage\": -4.0}, {\"height_advantage\": 3.0}, {\"height_advantage\": 2.0}, {\"height_advantage\": -1.0}, {\"height_advantage\": 1.0}, {\"height_advantage\": -2.0}, {\"height_advantage\": 5.0}, {\"height_advantage\": 0.0}, {\"height_advantage\": 1.0}, {\"height_advantage\": 0.0}, {\"height_advantage\": -2.0}, {\"height_advantage\": -1.0}, {\"height_advantage\": 1.0}, {\"height_advantage\": -5.0}, {\"height_advantage\": -1.0}, {\"height_advantage\": 1.0}, {\"height_advantage\": 1.0}, {\"height_advantage\": 5.0}, {\"height_advantage\": -2.0}, {\"height_advantage\": 0.0}, {\"height_advantage\": -3.0}, {\"height_advantage\": 2.0}, {\"height_advantage\": -3.0}, {\"height_advantage\": 4.0}, {\"height_advantage\": 0.0}, {\"height_advantage\": 2.0}, {\"height_advantage\": 1.0}, {\"height_advantage\": -1.0}, {\"height_advantage\": 0.0}, {\"height_advantage\": 2.0}, {\"height_advantage\": -2.0}, {\"height_advantage\": -2.0}, {\"height_advantage\": -2.0}, {\"height_advantage\": 0.0}, {\"height_advantage\": 0.0}, {\"height_advantage\": -4.0}, {\"height_advantage\": 1.0}, {\"height_advantage\": -1.0}, {\"height_advantage\": 0.0}, {\"height_advantage\": -2.0}, {\"height_advantage\": 0.0}, {\"height_advantage\": 3.0}, {\"height_advantage\": 0.0}, {\"height_advantage\": 2.0}, {\"height_advantage\": 6.0}, {\"height_advantage\": 0.0}, {\"height_advantage\": -2.0}, {\"height_advantage\": 6.0}, {\"height_advantage\": 1.0}, {\"height_advantage\": 4.0}, {\"height_advantage\": 2.0}, {\"height_advantage\": 2.0}, {\"height_advantage\": 0.0}, {\"height_advantage\": 0.0}, {\"height_advantage\": -3.0}, {\"height_advantage\": -1.0}, {\"height_advantage\": 0.0}, {\"height_advantage\": 2.0}, {\"height_advantage\": -6.0}, {\"height_advantage\": 1.0}, {\"height_advantage\": 0.0}, {\"height_advantage\": 0.0}, {\"height_advantage\": 1.0}, {\"height_advantage\": 0.0}, {\"height_advantage\": -2.0}, {\"height_advantage\": -2.0}, {\"height_advantage\": 1.0}, {\"height_advantage\": 1.0}, {\"height_advantage\": -3.0}, {\"height_advantage\": 2.0}, {\"height_advantage\": 3.0}, {\"height_advantage\": -3.0}, {\"height_advantage\": -2.0}, {\"height_advantage\": -1.0}, {\"height_advantage\": 3.0}, {\"height_advantage\": 0.0}, {\"height_advantage\": -2.0}, {\"height_advantage\": 0.0}, {\"height_advantage\": 3.0}, {\"height_advantage\": 3.0}, {\"height_advantage\": 3.0}, {\"height_advantage\": 0.0}, {\"height_advantage\": -1.0}, {\"height_advantage\": -3.0}, {\"height_advantage\": 1.0}, {\"height_advantage\": 1.0}, {\"height_advantage\": 0.0}, {\"height_advantage\": -1.0}, {\"height_advantage\": 4.0}, {\"height_advantage\": 2.0}, {\"height_advantage\": 1.0}, {\"height_advantage\": -1.0}, {\"height_advantage\": 2.0}, {\"height_advantage\": 2.0}, {\"height_advantage\": -1.0}, {\"height_advantage\": -3.0}, {\"height_advantage\": 0.0}, {\"height_advantage\": -1.0}, {\"height_advantage\": 0.0}, {\"height_advantage\": 4.0}, {\"height_advantage\": -3.0}, {\"height_advantage\": -3.0}, {\"height_advantage\": 3.0}, {\"height_advantage\": 1.0}, {\"height_advantage\": -3.0}, {\"height_advantage\": 1.0}, {\"height_advantage\": -2.0}, {\"height_advantage\": -2.0}, {\"height_advantage\": 1.0}, {\"height_advantage\": 2.0}, {\"height_advantage\": 3.0}, {\"height_advantage\": 0.0}, {\"height_advantage\": 1.0}, {\"height_advantage\": 0.0}, {\"height_advantage\": 0.0}, {\"height_advantage\": 0.0}, {\"height_advantage\": 1.0}, {\"height_advantage\": -2.0}, {\"height_advantage\": 0.0}, {\"height_advantage\": 5.0}, {\"height_advantage\": 0.0}, {\"height_advantage\": -4.0}, {\"height_advantage\": -3.0}, {\"height_advantage\": -1.0}, {\"height_advantage\": 1.0}, {\"height_advantage\": 1.0}, {\"height_advantage\": 0.0}, {\"height_advantage\": -1.0}, {\"height_advantage\": 0.0}, {\"height_advantage\": -5.0}, {\"height_advantage\": 1.0}, {\"height_advantage\": 2.0}, {\"height_advantage\": 0.0}, {\"height_advantage\": 3.0}, {\"height_advantage\": -3.0}, {\"height_advantage\": 1.0}, {\"height_advantage\": -2.0}, {\"height_advantage\": -4.0}, {\"height_advantage\": -6.0}, {\"height_advantage\": 0.0}, {\"height_advantage\": 3.0}, {\"height_advantage\": 2.0}, {\"height_advantage\": 3.0}, {\"height_advantage\": 2.0}, {\"height_advantage\": -1.0}, {\"height_advantage\": -2.0}, {\"height_advantage\": -1.0}, {\"height_advantage\": -4.0}, {\"height_advantage\": 2.0}, {\"height_advantage\": 2.0}, {\"height_advantage\": 2.0}, {\"height_advantage\": -1.0}, {\"height_advantage\": 2.0}, {\"height_advantage\": 0.0}, {\"height_advantage\": 2.0}, {\"height_advantage\": 2.0}, {\"height_advantage\": 0.0}, {\"height_advantage\": -1.0}, {\"height_advantage\": -4.0}, {\"height_advantage\": -1.0}, {\"height_advantage\": -5.0}, {\"height_advantage\": -1.0}, {\"height_advantage\": 0.0}, {\"height_advantage\": -3.0}, {\"height_advantage\": -1.0}, {\"height_advantage\": 1.0}, {\"height_advantage\": 2.0}, {\"height_advantage\": 0.0}, {\"height_advantage\": 4.0}, {\"height_advantage\": -2.0}, {\"height_advantage\": 0.0}, {\"height_advantage\": 4.0}, {\"height_advantage\": -6.0}, {\"height_advantage\": -2.0}, {\"height_advantage\": -1.0}, {\"height_advantage\": 0.0}, {\"height_advantage\": -3.0}, {\"height_advantage\": -1.0}, {\"height_advantage\": 0.0}, {\"height_advantage\": 1.0}, {\"height_advantage\": 1.0}, {\"height_advantage\": -2.0}, {\"height_advantage\": -1.0}, {\"height_advantage\": 5.0}, {\"height_advantage\": 2.0}, {\"height_advantage\": 6.0}, {\"height_advantage\": 0.0}, {\"height_advantage\": -5.0}, {\"height_advantage\": 2.0}, {\"height_advantage\": 2.0}, {\"height_advantage\": -1.0}, {\"height_advantage\": 6.0}, {\"height_advantage\": 9.0}, {\"height_advantage\": 0.0}, {\"height_advantage\": -1.0}, {\"height_advantage\": -3.0}, {\"height_advantage\": 2.0}, {\"height_advantage\": -2.0}, {\"height_advantage\": 3.0}, {\"height_advantage\": -1.0}, {\"height_advantage\": 0.0}, {\"height_advantage\": -1.0}, {\"height_advantage\": 0.0}, {\"height_advantage\": -1.0}, {\"height_advantage\": -1.0}, {\"height_advantage\": 0.0}, {\"height_advantage\": -1.0}, {\"height_advantage\": 1.0}, {\"height_advantage\": 2.0}, {\"height_advantage\": -3.0}, {\"height_advantage\": 0.0}, {\"height_advantage\": 4.0}, {\"height_advantage\": 1.0}, {\"height_advantage\": 0.0}, {\"height_advantage\": 0.0}, {\"height_advantage\": 4.0}, {\"height_advantage\": 1.0}, {\"height_advantage\": -2.0}, {\"height_advantage\": -2.0}, {\"height_advantage\": 0.0}, {\"height_advantage\": 2.0}, {\"height_advantage\": 2.0}, {\"height_advantage\": 2.0}, {\"height_advantage\": 0.0}, {\"height_advantage\": 1.0}, {\"height_advantage\": 2.0}, {\"height_advantage\": 0.0}, {\"height_advantage\": 1.0}, {\"height_advantage\": 2.0}, {\"height_advantage\": 1.0}, {\"height_advantage\": 1.0}, {\"height_advantage\": -2.0}, {\"height_advantage\": -6.0}, {\"height_advantage\": 5.0}, {\"height_advantage\": -1.0}, {\"height_advantage\": 0.0}, {\"height_advantage\": 0.0}, {\"height_advantage\": 3.0}, {\"height_advantage\": -1.0}, {\"height_advantage\": -1.0}, {\"height_advantage\": -6.0}, {\"height_advantage\": -1.0}, {\"height_advantage\": -1.0}, {\"height_advantage\": 1.0}, {\"height_advantage\": 3.0}, {\"height_advantage\": -2.0}, {\"height_advantage\": -5.0}, {\"height_advantage\": 3.0}, {\"height_advantage\": 3.0}, {\"height_advantage\": 0.0}, {\"height_advantage\": 1.0}, {\"height_advantage\": -1.0}, {\"height_advantage\": -1.0}, {\"height_advantage\": 0.0}, {\"height_advantage\": 2.0}, {\"height_advantage\": 2.0}, {\"height_advantage\": 3.0}, {\"height_advantage\": 0.0}, {\"height_advantage\": 0.0}, {\"height_advantage\": 0.0}, {\"height_advantage\": 1.0}, {\"height_advantage\": -1.0}, {\"height_advantage\": -3.0}, {\"height_advantage\": -2.0}, {\"height_advantage\": 2.0}, {\"height_advantage\": 1.0}, {\"height_advantage\": 1.0}, {\"height_advantage\": -1.0}, {\"height_advantage\": 0.0}, {\"height_advantage\": -1.0}, {\"height_advantage\": 2.0}, {\"height_advantage\": -1.0}, {\"height_advantage\": 2.0}, {\"height_advantage\": 2.0}, {\"height_advantage\": 1.0}, {\"height_advantage\": 0.0}, {\"height_advantage\": -1.0}, {\"height_advantage\": 1.0}, {\"height_advantage\": -2.0}, {\"height_advantage\": 0.0}, {\"height_advantage\": 2.0}, {\"height_advantage\": -1.0}, {\"height_advantage\": -6.0}, {\"height_advantage\": -1.0}, {\"height_advantage\": -10.0}, {\"height_advantage\": -1.0}, {\"height_advantage\": 1.0}, {\"height_advantage\": -1.0}, {\"height_advantage\": -1.0}, {\"height_advantage\": -4.0}, {\"height_advantage\": 0.0}, {\"height_advantage\": -1.0}, {\"height_advantage\": 6.0}, {\"height_advantage\": -2.0}, {\"height_advantage\": -1.0}, {\"height_advantage\": -3.0}, {\"height_advantage\": 1.0}, {\"height_advantage\": 2.0}, {\"height_advantage\": 0.0}, {\"height_advantage\": 1.0}, {\"height_advantage\": 2.0}, {\"height_advantage\": 3.0}, {\"height_advantage\": -6.0}, {\"height_advantage\": -2.0}, {\"height_advantage\": 0.0}, {\"height_advantage\": 2.0}, {\"height_advantage\": 1.0}, {\"height_advantage\": -4.0}, {\"height_advantage\": 3.0}, {\"height_advantage\": -1.0}, {\"height_advantage\": 0.0}, {\"height_advantage\": -5.0}, {\"height_advantage\": 3.0}, {\"height_advantage\": -1.0}, {\"height_advantage\": 0.0}, {\"height_advantage\": 1.0}, {\"height_advantage\": 5.0}, {\"height_advantage\": 2.0}, {\"height_advantage\": -1.0}, {\"height_advantage\": 7.0}, {\"height_advantage\": 0.0}, {\"height_advantage\": 0.0}, {\"height_advantage\": 1.0}, {\"height_advantage\": 2.0}, {\"height_advantage\": -1.0}, {\"height_advantage\": 0.0}, {\"height_advantage\": 1.0}, {\"height_advantage\": 1.0}, {\"height_advantage\": 1.0}, {\"height_advantage\": -4.0}, {\"height_advantage\": 3.0}, {\"height_advantage\": 3.0}, {\"height_advantage\": 5.0}, {\"height_advantage\": -1.0}, {\"height_advantage\": -4.0}, {\"height_advantage\": 1.0}, {\"height_advantage\": 1.0}, {\"height_advantage\": -2.0}, {\"height_advantage\": 1.0}, {\"height_advantage\": 2.0}, {\"height_advantage\": 0.0}, {\"height_advantage\": -6.0}, {\"height_advantage\": 0.0}, {\"height_advantage\": 3.0}, {\"height_advantage\": -1.0}, {\"height_advantage\": 2.0}, {\"height_advantage\": -2.0}, {\"height_advantage\": -2.0}, {\"height_advantage\": 1.0}, {\"height_advantage\": 2.0}, {\"height_advantage\": -2.0}, {\"height_advantage\": 0.0}, {\"height_advantage\": -2.0}, {\"height_advantage\": 0.0}, {\"height_advantage\": 1.0}, {\"height_advantage\": -1.0}, {\"height_advantage\": 2.0}, {\"height_advantage\": 1.0}, {\"height_advantage\": 1.0}, {\"height_advantage\": -2.0}, {\"height_advantage\": 0.0}, {\"height_advantage\": 0.0}, {\"height_advantage\": 2.0}, {\"height_advantage\": -3.0}, {\"height_advantage\": 1.0}, {\"height_advantage\": -2.0}, {\"height_advantage\": 0.0}, {\"height_advantage\": -1.0}, {\"height_advantage\": -1.0}, {\"height_advantage\": -1.0}, {\"height_advantage\": 3.0}, {\"height_advantage\": 2.0}, {\"height_advantage\": 1.0}, {\"height_advantage\": 4.0}, {\"height_advantage\": 0.0}, {\"height_advantage\": -4.0}, {\"height_advantage\": 3.0}, {\"height_advantage\": -4.0}, {\"height_advantage\": -1.0}, {\"height_advantage\": 2.0}, {\"height_advantage\": -5.0}, {\"height_advantage\": 1.0}, {\"height_advantage\": 0.0}, {\"height_advantage\": 1.0}, {\"height_advantage\": 0.0}, {\"height_advantage\": 1.0}, {\"height_advantage\": -5.0}, {\"height_advantage\": 0.0}, {\"height_advantage\": 0.0}, {\"height_advantage\": -1.0}, {\"height_advantage\": 1.0}, {\"height_advantage\": -1.0}, {\"height_advantage\": 1.0}, {\"height_advantage\": -1.0}, {\"height_advantage\": -2.0}, {\"height_advantage\": 3.0}, {\"height_advantage\": -2.0}, {\"height_advantage\": 3.0}, {\"height_advantage\": 0.0}, {\"height_advantage\": -1.0}, {\"height_advantage\": 3.0}, {\"height_advantage\": -1.0}, {\"height_advantage\": 2.0}, {\"height_advantage\": 3.0}, {\"height_advantage\": 3.0}, {\"height_advantage\": 0.0}, {\"height_advantage\": 2.0}, {\"height_advantage\": 1.0}, {\"height_advantage\": -1.0}, {\"height_advantage\": 3.0}, {\"height_advantage\": 2.0}, {\"height_advantage\": 4.0}, {\"height_advantage\": 2.0}, {\"height_advantage\": 4.0}, {\"height_advantage\": 1.0}, {\"height_advantage\": 2.0}, {\"height_advantage\": 0.0}, {\"height_advantage\": -2.0}]}}, {\"actions\": false, \"mode\": \"vega-lite\"});\n</script>",
      "text/plain": "alt.Chart(...)"
     },
     "metadata": {}
    }
   ]
  },
  {
   "cell_type": "code",
   "metadata": {
    "tags": [],
    "cell_id": "00013-b9d46189-13b2-42c5-a761-2ae50e933824",
    "deepnote_to_be_reexecuted": false,
    "source_hash": "c88894e0",
    "execution_start": 1627680817763,
    "execution_millis": 289,
    "deepnote_cell_type": "code"
   },
   "source": "display(plt.hist(height_adv,color = 'indianred',bins = 28))",
   "execution_count": 9,
   "outputs": [
    {
     "data": {
      "text/plain": "(array([  1.,   0.,   1.,   0.,   2.,   2.,   7.,  20.,  36.,  74., 123.,\n        238., 340., 526., 610., 518., 381., 259., 151.,  73.,  39.,  14.,\n          6.,   6.,   3.,   1.,   1.,   1.]),\n array([-14.        , -13.03571429, -12.07142857, -11.10714286,\n        -10.14285714,  -9.17857143,  -8.21428571,  -7.25      ,\n         -6.28571429,  -5.32142857,  -4.35714286,  -3.39285714,\n         -2.42857143,  -1.46428571,  -0.5       ,   0.46428571,\n          1.42857143,   2.39285714,   3.35714286,   4.32142857,\n          5.28571429,   6.25      ,   7.21428571,   8.17857143,\n          9.14285714,  10.10714286,  11.07142857,  12.03571429,\n         13.        ]),\n <BarContainer object of 28 artists>)"
     },
     "metadata": {},
     "output_type": "display_data"
    },
    {
     "data": {
      "text/plain": "<Figure size 432x288 with 1 Axes>",
      "image/png": "[encoded data removed]"
     },
     "metadata": {
      "needs_background": "light",
      "image/png": {
       "width": 375,
       "height": 248
      }
     },
     "output_type": "display_data"
    }
   ]
  },
  {
   "cell_type": "markdown",
   "source": "Mean height advantage (winners') is not that significant. And there is sizeable variation.",
   "metadata": {
    "tags": [],
    "cell_id": "00011-3576b150-f8c9-4d0f-9e7b-927341f36324",
    "deepnote_cell_type": "markdown"
   }
  },
  {
   "cell_type": "markdown",
   "source": "## Removing Outliers",
   "metadata": {
    "tags": [],
    "is_collapsed": false,
    "cell_id": "00010-6e709092-c016-4781-898d-cbebb4822622",
    "deepnote_cell_type": "text-cell-h2"
   }
  },
  {
   "cell_type": "code",
   "metadata": {
    "tags": [],
    "cell_id": "00010-3cebe0c3-0a69-438b-9c67-cc501d862056",
    "deepnote_to_be_reexecuted": false,
    "source_hash": "baa0c105",
    "execution_start": 1627680818059,
    "execution_millis": 81,
    "deepnote_cell_type": "code"
   },
   "source": "no_outliers = height_adv[(np.abs(stats.zscore(height_adv)) < 3).all(axis=1)]\n\n## Computes the z-score for each value.\n## Only returns True if z-score is below 3.\n## Result of condition used to index DataFrame.\n## .all() returns True if all elements of iterable are True.\n\ndisplay(no_outliers,no_outliers.describe())",
   "execution_count": 10,
   "outputs": [
    {
     "data": {
      "application/vnd.deepnote.dataframe.v2+json": {
       "row_count": 3402,
       "column_count": 1,
       "columns": [
        {
         "name": "height_advantage",
         "dtype": "float64",
         "stats": {
          "unique_count": 15,
          "nan_count": 0,
          "min": "-7.0",
          "max": "7.0",
          "histogram": [
           {
            "bin_start": -7,
            "bin_end": -5.6,
            "count": 56
           },
           {
            "bin_start": -5.6,
            "bin_end": -4.2,
            "count": 74
           },
           {
            "bin_start": -4.2,
            "bin_end": -2.8000000000000007,
            "count": 361
           },
           {
            "bin_start": -2.8000000000000007,
            "bin_end": -1.4000000000000004,
            "count": 340
           },
           {
            "bin_start": -1.4000000000000004,
            "bin_end": 0,
            "count": 526
           },
           {
            "bin_start": 0,
            "bin_end": 1.3999999999999986,
            "count": 1128
           },
           {
            "bin_start": 1.3999999999999986,
            "bin_end": 2.799999999999999,
            "count": 381
           },
           {
            "bin_start": 2.799999999999999,
            "bin_end": 4.199999999999999,
            "count": 410
           },
           {
            "bin_start": 4.199999999999999,
            "bin_end": 5.6,
            "count": 73
           },
           {
            "bin_start": 5.6,
            "bin_end": 7,
            "count": 53
           }
          ]
         }
        },
        {
         "name": "_deepnote_index_column",
         "dtype": "int64"
        }
       ],
       "rows_top": [
        {
         "height_advantage": -5,
         "_deepnote_index_column": 0
        },
        {
         "height_advantage": -3,
         "_deepnote_index_column": 1
        },
        {
         "height_advantage": -1,
         "_deepnote_index_column": 2
        },
        {
         "height_advantage": 1,
         "_deepnote_index_column": 3
        },
        {
         "height_advantage": -1,
         "_deepnote_index_column": 4
        },
        {
         "height_advantage": -1,
         "_deepnote_index_column": 5
        },
        {
         "height_advantage": -2,
         "_deepnote_index_column": 6
        },
        {
         "height_advantage": 3,
         "_deepnote_index_column": 7
        },
        {
         "height_advantage": -2,
         "_deepnote_index_column": 8
        },
        {
         "height_advantage": -2,
         "_deepnote_index_column": 9
        },
        {
         "height_advantage": 2,
         "_deepnote_index_column": 10
        },
        {
         "height_advantage": 1,
         "_deepnote_index_column": 11
        },
        {
         "height_advantage": 4,
         "_deepnote_index_column": 12
        },
        {
         "height_advantage": 0,
         "_deepnote_index_column": 13
        },
        {
         "height_advantage": 2,
         "_deepnote_index_column": 14
        },
        {
         "height_advantage": 5,
         "_deepnote_index_column": 15
        },
        {
         "height_advantage": -1,
         "_deepnote_index_column": 16
        },
        {
         "height_advantage": 6,
         "_deepnote_index_column": 17
        },
        {
         "height_advantage": -4,
         "_deepnote_index_column": 18
        },
        {
         "height_advantage": -1,
         "_deepnote_index_column": 19
        },
        {
         "height_advantage": -5,
         "_deepnote_index_column": 20
        },
        {
         "height_advantage": 2,
         "_deepnote_index_column": 22
        },
        {
         "height_advantage": -4,
         "_deepnote_index_column": 23
        },
        {
         "height_advantage": 2,
         "_deepnote_index_column": 24
        },
        {
         "height_advantage": -3,
         "_deepnote_index_column": 25
        },
        {
         "height_advantage": 5,
         "_deepnote_index_column": 26
        },
        {
         "height_advantage": 1,
         "_deepnote_index_column": 27
        },
        {
         "height_advantage": -2,
         "_deepnote_index_column": 29
        },
        {
         "height_advantage": 0,
         "_deepnote_index_column": 30
        },
        {
         "height_advantage": 1,
         "_deepnote_index_column": 31
        },
        {
         "height_advantage": 1,
         "_deepnote_index_column": 32
        },
        {
         "height_advantage": 4,
         "_deepnote_index_column": 33
        },
        {
         "height_advantage": -2,
         "_deepnote_index_column": 34
        },
        {
         "height_advantage": 7,
         "_deepnote_index_column": 35
        },
        {
         "height_advantage": 2,
         "_deepnote_index_column": 36
        },
        {
         "height_advantage": -3,
         "_deepnote_index_column": 37
        },
        {
         "height_advantage": 0,
         "_deepnote_index_column": 38
        },
        {
         "height_advantage": 2,
         "_deepnote_index_column": 39
        },
        {
         "height_advantage": 4,
         "_deepnote_index_column": 40
        },
        {
         "height_advantage": 1,
         "_deepnote_index_column": 41
        },
        {
         "height_advantage": 2,
         "_deepnote_index_column": 42
        },
        {
         "height_advantage": -4,
         "_deepnote_index_column": 43
        },
        {
         "height_advantage": 0,
         "_deepnote_index_column": 47
        },
        {
         "height_advantage": -1,
         "_deepnote_index_column": 48
        },
        {
         "height_advantage": 2,
         "_deepnote_index_column": 49
        },
        {
         "height_advantage": -2,
         "_deepnote_index_column": 51
        },
        {
         "height_advantage": 4,
         "_deepnote_index_column": 52
        },
        {
         "height_advantage": -2,
         "_deepnote_index_column": 54
        },
        {
         "height_advantage": 0,
         "_deepnote_index_column": 56
        },
        {
         "height_advantage": -7,
         "_deepnote_index_column": 57
        },
        {
         "height_advantage": -1,
         "_deepnote_index_column": 58
        },
        {
         "height_advantage": -1,
         "_deepnote_index_column": 60
        },
        {
         "height_advantage": -1,
         "_deepnote_index_column": 61
        },
        {
         "height_advantage": -2,
         "_deepnote_index_column": 62
        },
        {
         "height_advantage": 0,
         "_deepnote_index_column": 63
        },
        {
         "height_advantage": 4,
         "_deepnote_index_column": 64
        },
        {
         "height_advantage": -2,
         "_deepnote_index_column": 67
        },
        {
         "height_advantage": -2,
         "_deepnote_index_column": 68
        },
        {
         "height_advantage": 4,
         "_deepnote_index_column": 69
        },
        {
         "height_advantage": -2,
         "_deepnote_index_column": 70
        },
        {
         "height_advantage": 0,
         "_deepnote_index_column": 72
        },
        {
         "height_advantage": 0,
         "_deepnote_index_column": 74
        },
        {
         "height_advantage": 6,
         "_deepnote_index_column": 75
        },
        {
         "height_advantage": 1,
         "_deepnote_index_column": 76
        },
        {
         "height_advantage": 4,
         "_deepnote_index_column": 77
        },
        {
         "height_advantage": -7,
         "_deepnote_index_column": 78
        },
        {
         "height_advantage": -5,
         "_deepnote_index_column": 79
        },
        {
         "height_advantage": 6,
         "_deepnote_index_column": 80
        },
        {
         "height_advantage": 0,
         "_deepnote_index_column": 83
        },
        {
         "height_advantage": -2,
         "_deepnote_index_column": 84
        },
        {
         "height_advantage": -3,
         "_deepnote_index_column": 85
        },
        {
         "height_advantage": 6,
         "_deepnote_index_column": 86
        },
        {
         "height_advantage": 0,
         "_deepnote_index_column": 87
        },
        {
         "height_advantage": 0,
         "_deepnote_index_column": 88
        },
        {
         "height_advantage": 1,
         "_deepnote_index_column": 89
        },
        {
         "height_advantage": 4,
         "_deepnote_index_column": 90
        },
        {
         "height_advantage": -1,
         "_deepnote_index_column": 92
        },
        {
         "height_advantage": -3,
         "_deepnote_index_column": 93
        },
        {
         "height_advantage": -1,
         "_deepnote_index_column": 94
        },
        {
         "height_advantage": -3,
         "_deepnote_index_column": 95
        },
        {
         "height_advantage": 5,
         "_deepnote_index_column": 96
        },
        {
         "height_advantage": -2,
         "_deepnote_index_column": 97
        },
        {
         "height_advantage": -3,
         "_deepnote_index_column": 99
        },
        {
         "height_advantage": -3,
         "_deepnote_index_column": 100
        },
        {
         "height_advantage": -5,
         "_deepnote_index_column": 101
        },
        {
         "height_advantage": 2,
         "_deepnote_index_column": 102
        },
        {
         "height_advantage": -2,
         "_deepnote_index_column": 103
        },
        {
         "height_advantage": -1,
         "_deepnote_index_column": 105
        },
        {
         "height_advantage": 1,
         "_deepnote_index_column": 106
        },
        {
         "height_advantage": 1,
         "_deepnote_index_column": 107
        },
        {
         "height_advantage": 0,
         "_deepnote_index_column": 108
        },
        {
         "height_advantage": 1,
         "_deepnote_index_column": 109
        },
        {
         "height_advantage": -1,
         "_deepnote_index_column": 110
        },
        {
         "height_advantage": 1,
         "_deepnote_index_column": 111
        },
        {
         "height_advantage": 2,
         "_deepnote_index_column": 112
        },
        {
         "height_advantage": -2,
         "_deepnote_index_column": 113
        },
        {
         "height_advantage": -2,
         "_deepnote_index_column": 114
        },
        {
         "height_advantage": 3,
         "_deepnote_index_column": 115
        },
        {
         "height_advantage": -1,
         "_deepnote_index_column": 116
        },
        {
         "height_advantage": 0,
         "_deepnote_index_column": 119
        },
        {
         "height_advantage": 0,
         "_deepnote_index_column": 120
        },
        {
         "height_advantage": -1,
         "_deepnote_index_column": 121
        },
        {
         "height_advantage": -3,
         "_deepnote_index_column": 122
        },
        {
         "height_advantage": 1,
         "_deepnote_index_column": 125
        },
        {
         "height_advantage": 1,
         "_deepnote_index_column": 128
        },
        {
         "height_advantage": 2,
         "_deepnote_index_column": 129
        },
        {
         "height_advantage": -2,
         "_deepnote_index_column": 130
        },
        {
         "height_advantage": -3,
         "_deepnote_index_column": 131
        },
        {
         "height_advantage": 2,
         "_deepnote_index_column": 132
        },
        {
         "height_advantage": -3,
         "_deepnote_index_column": 133
        },
        {
         "height_advantage": -5,
         "_deepnote_index_column": 135
        },
        {
         "height_advantage": 2,
         "_deepnote_index_column": 137
        },
        {
         "height_advantage": 5,
         "_deepnote_index_column": 138
        },
        {
         "height_advantage": 1,
         "_deepnote_index_column": 139
        },
        {
         "height_advantage": -2,
         "_deepnote_index_column": 141
        },
        {
         "height_advantage": -3,
         "_deepnote_index_column": 142
        },
        {
         "height_advantage": -4,
         "_deepnote_index_column": 143
        },
        {
         "height_advantage": 2,
         "_deepnote_index_column": 144
        },
        {
         "height_advantage": 1,
         "_deepnote_index_column": 145
        },
        {
         "height_advantage": 5,
         "_deepnote_index_column": 146
        },
        {
         "height_advantage": -2,
         "_deepnote_index_column": 147
        },
        {
         "height_advantage": -6,
         "_deepnote_index_column": 148
        },
        {
         "height_advantage": 2,
         "_deepnote_index_column": 149
        },
        {
         "height_advantage": -3,
         "_deepnote_index_column": 150
        },
        {
         "height_advantage": 2,
         "_deepnote_index_column": 151
        },
        {
         "height_advantage": 4,
         "_deepnote_index_column": 152
        },
        {
         "height_advantage": 0,
         "_deepnote_index_column": 153
        },
        {
         "height_advantage": 1,
         "_deepnote_index_column": 154
        },
        {
         "height_advantage": -6,
         "_deepnote_index_column": 155
        },
        {
         "height_advantage": 1,
         "_deepnote_index_column": 156
        },
        {
         "height_advantage": -3,
         "_deepnote_index_column": 157
        },
        {
         "height_advantage": -1,
         "_deepnote_index_column": 159
        },
        {
         "height_advantage": 2,
         "_deepnote_index_column": 160
        },
        {
         "height_advantage": 1,
         "_deepnote_index_column": 161
        },
        {
         "height_advantage": -1,
         "_deepnote_index_column": 162
        },
        {
         "height_advantage": 2,
         "_deepnote_index_column": 163
        },
        {
         "height_advantage": 2,
         "_deepnote_index_column": 164
        },
        {
         "height_advantage": 0,
         "_deepnote_index_column": 165
        },
        {
         "height_advantage": 3,
         "_deepnote_index_column": 166
        },
        {
         "height_advantage": 1,
         "_deepnote_index_column": 167
        },
        {
         "height_advantage": 4,
         "_deepnote_index_column": 168
        },
        {
         "height_advantage": 4,
         "_deepnote_index_column": 169
        },
        {
         "height_advantage": 1,
         "_deepnote_index_column": 170
        },
        {
         "height_advantage": 1,
         "_deepnote_index_column": 171
        },
        {
         "height_advantage": -1,
         "_deepnote_index_column": 172
        },
        {
         "height_advantage": -4,
         "_deepnote_index_column": 173
        },
        {
         "height_advantage": 3,
         "_deepnote_index_column": 174
        },
        {
         "height_advantage": 1,
         "_deepnote_index_column": 175
        },
        {
         "height_advantage": 3,
         "_deepnote_index_column": 177
        },
        {
         "height_advantage": -1,
         "_deepnote_index_column": 178
        },
        {
         "height_advantage": 3,
         "_deepnote_index_column": 179
        },
        {
         "height_advantage": -1,
         "_deepnote_index_column": 180
        },
        {
         "height_advantage": 3,
         "_deepnote_index_column": 182
        },
        {
         "height_advantage": 1,
         "_deepnote_index_column": 184
        },
        {
         "height_advantage": 2,
         "_deepnote_index_column": 185
        },
        {
         "height_advantage": 1,
         "_deepnote_index_column": 186
        },
        {
         "height_advantage": -2,
         "_deepnote_index_column": 187
        },
        {
         "height_advantage": -2,
         "_deepnote_index_column": 188
        },
        {
         "height_advantage": 0,
         "_deepnote_index_column": 190
        },
        {
         "height_advantage": -2,
         "_deepnote_index_column": 191
        },
        {
         "height_advantage": -4,
         "_deepnote_index_column": 192
        },
        {
         "height_advantage": -1,
         "_deepnote_index_column": 193
        },
        {
         "height_advantage": -4,
         "_deepnote_index_column": 194
        },
        {
         "height_advantage": 5,
         "_deepnote_index_column": 195
        },
        {
         "height_advantage": 0,
         "_deepnote_index_column": 196
        },
        {
         "height_advantage": 6,
         "_deepnote_index_column": 197
        },
        {
         "height_advantage": -1,
         "_deepnote_index_column": 198
        },
        {
         "height_advantage": 2,
         "_deepnote_index_column": 199
        },
        {
         "height_advantage": 2,
         "_deepnote_index_column": 200
        },
        {
         "height_advantage": -1,
         "_deepnote_index_column": 201
        },
        {
         "height_advantage": 2,
         "_deepnote_index_column": 202
        },
        {
         "height_advantage": 1,
         "_deepnote_index_column": 203
        },
        {
         "height_advantage": -2,
         "_deepnote_index_column": 204
        },
        {
         "height_advantage": 4,
         "_deepnote_index_column": 205
        },
        {
         "height_advantage": 2,
         "_deepnote_index_column": 206
        },
        {
         "height_advantage": 1,
         "_deepnote_index_column": 207
        },
        {
         "height_advantage": 2,
         "_deepnote_index_column": 208
        },
        {
         "height_advantage": -3,
         "_deepnote_index_column": 209
        },
        {
         "height_advantage": 3,
         "_deepnote_index_column": 210
        },
        {
         "height_advantage": -3,
         "_deepnote_index_column": 211
        },
        {
         "height_advantage": -5,
         "_deepnote_index_column": 212
        },
        {
         "height_advantage": 0,
         "_deepnote_index_column": 213
        },
        {
         "height_advantage": -2,
         "_deepnote_index_column": 214
        },
        {
         "height_advantage": 1,
         "_deepnote_index_column": 215
        },
        {
         "height_advantage": 1,
         "_deepnote_index_column": 216
        },
        {
         "height_advantage": -2,
         "_deepnote_index_column": 217
        },
        {
         "height_advantage": 1,
         "_deepnote_index_column": 218
        },
        {
         "height_advantage": -1,
         "_deepnote_index_column": 219
        },
        {
         "height_advantage": 0,
         "_deepnote_index_column": 220
        },
        {
         "height_advantage": 5,
         "_deepnote_index_column": 221
        },
        {
         "height_advantage": -3,
         "_deepnote_index_column": 222
        },
        {
         "height_advantage": -3,
         "_deepnote_index_column": 223
        },
        {
         "height_advantage": -1,
         "_deepnote_index_column": 224
        },
        {
         "height_advantage": -4,
         "_deepnote_index_column": 225
        },
        {
         "height_advantage": 3,
         "_deepnote_index_column": 226
        },
        {
         "height_advantage": -2,
         "_deepnote_index_column": 227
        },
        {
         "height_advantage": -7,
         "_deepnote_index_column": 228
        },
        {
         "height_advantage": 1,
         "_deepnote_index_column": 229
        },
        {
         "height_advantage": -5,
         "_deepnote_index_column": 230
        },
        {
         "height_advantage": -6,
         "_deepnote_index_column": 231
        },
        {
         "height_advantage": 3,
         "_deepnote_index_column": 233
        },
        {
         "height_advantage": -1,
         "_deepnote_index_column": 234
        },
        {
         "height_advantage": 1,
         "_deepnote_index_column": 235
        },
        {
         "height_advantage": -4,
         "_deepnote_index_column": 236
        },
        {
         "height_advantage": 3,
         "_deepnote_index_column": 237
        },
        {
         "height_advantage": 0,
         "_deepnote_index_column": 238
        },
        {
         "height_advantage": 5,
         "_deepnote_index_column": 239
        },
        {
         "height_advantage": 2,
         "_deepnote_index_column": 240
        },
        {
         "height_advantage": 0,
         "_deepnote_index_column": 241
        },
        {
         "height_advantage": 6,
         "_deepnote_index_column": 242
        },
        {
         "height_advantage": 2,
         "_deepnote_index_column": 243
        },
        {
         "height_advantage": -2,
         "_deepnote_index_column": 244
        },
        {
         "height_advantage": -4,
         "_deepnote_index_column": 245
        },
        {
         "height_advantage": -4,
         "_deepnote_index_column": 246
        },
        {
         "height_advantage": 0,
         "_deepnote_index_column": 247
        },
        {
         "height_advantage": -1,
         "_deepnote_index_column": 248
        },
        {
         "height_advantage": 4,
         "_deepnote_index_column": 249
        },
        {
         "height_advantage": 3,
         "_deepnote_index_column": 250
        },
        {
         "height_advantage": 1,
         "_deepnote_index_column": 252
        },
        {
         "height_advantage": 4,
         "_deepnote_index_column": 253
        },
        {
         "height_advantage": 2,
         "_deepnote_index_column": 254
        },
        {
         "height_advantage": -1,
         "_deepnote_index_column": 255
        },
        {
         "height_advantage": 0,
         "_deepnote_index_column": 256
        },
        {
         "height_advantage": 1,
         "_deepnote_index_column": 258
        },
        {
         "height_advantage": -1,
         "_deepnote_index_column": 259
        },
        {
         "height_advantage": 2,
         "_deepnote_index_column": 260
        },
        {
         "height_advantage": 0,
         "_deepnote_index_column": 261
        },
        {
         "height_advantage": 4,
         "_deepnote_index_column": 262
        },
        {
         "height_advantage": 1,
         "_deepnote_index_column": 263
        },
        {
         "height_advantage": -2,
         "_deepnote_index_column": 264
        },
        {
         "height_advantage": 1,
         "_deepnote_index_column": 265
        },
        {
         "height_advantage": -4,
         "_deepnote_index_column": 266
        },
        {
         "height_advantage": 1,
         "_deepnote_index_column": 267
        },
        {
         "height_advantage": -3,
         "_deepnote_index_column": 268
        },
        {
         "height_advantage": 3,
         "_deepnote_index_column": 269
        },
        {
         "height_advantage": 1,
         "_deepnote_index_column": 270
        },
        {
         "height_advantage": 0,
         "_deepnote_index_column": 271
        },
        {
         "height_advantage": 1,
         "_deepnote_index_column": 272
        },
        {
         "height_advantage": 0,
         "_deepnote_index_column": 273
        },
        {
         "height_advantage": 2,
         "_deepnote_index_column": 274
        },
        {
         "height_advantage": 1,
         "_deepnote_index_column": 275
        },
        {
         "height_advantage": 2,
         "_deepnote_index_column": 276
        },
        {
         "height_advantage": 3,
         "_deepnote_index_column": 277
        },
        {
         "height_advantage": 0,
         "_deepnote_index_column": 278
        },
        {
         "height_advantage": -2,
         "_deepnote_index_column": 279
        },
        {
         "height_advantage": 7,
         "_deepnote_index_column": 280
        },
        {
         "height_advantage": 3,
         "_deepnote_index_column": 281
        },
        {
         "height_advantage": 5,
         "_deepnote_index_column": 282
        },
        {
         "height_advantage": 1,
         "_deepnote_index_column": 283
        },
        {
         "height_advantage": -2,
         "_deepnote_index_column": 284
        },
        {
         "height_advantage": 1,
         "_deepnote_index_column": 285
        },
        {
         "height_advantage": -4,
         "_deepnote_index_column": 286
        },
        {
         "height_advantage": 2,
         "_deepnote_index_column": 287
        },
        {
         "height_advantage": -3,
         "_deepnote_index_column": 288
        },
        {
         "height_advantage": 2,
         "_deepnote_index_column": 289
        },
        {
         "height_advantage": 2,
         "_deepnote_index_column": 290
        },
        {
         "height_advantage": -3,
         "_deepnote_index_column": 291
        },
        {
         "height_advantage": 0,
         "_deepnote_index_column": 292
        },
        {
         "height_advantage": -2,
         "_deepnote_index_column": 293
        },
        {
         "height_advantage": -3,
         "_deepnote_index_column": 294
        },
        {
         "height_advantage": 1,
         "_deepnote_index_column": 295
        },
        {
         "height_advantage": 5,
         "_deepnote_index_column": 296
        },
        {
         "height_advantage": 3,
         "_deepnote_index_column": 297
        },
        {
         "height_advantage": 0,
         "_deepnote_index_column": 298
        },
        {
         "height_advantage": -3,
         "_deepnote_index_column": 299
        },
        {
         "height_advantage": 0,
         "_deepnote_index_column": 300
        },
        {
         "height_advantage": 2,
         "_deepnote_index_column": 301
        },
        {
         "height_advantage": 2,
         "_deepnote_index_column": 302
        },
        {
         "height_advantage": 1,
         "_deepnote_index_column": 304
        },
        {
         "height_advantage": 1,
         "_deepnote_index_column": 305
        },
        {
         "height_advantage": -3,
         "_deepnote_index_column": 307
        },
        {
         "height_advantage": 0,
         "_deepnote_index_column": 308
        },
        {
         "height_advantage": -4,
         "_deepnote_index_column": 309
        },
        {
         "height_advantage": 6,
         "_deepnote_index_column": 310
        },
        {
         "height_advantage": 2,
         "_deepnote_index_column": 311
        },
        {
         "height_advantage": -3,
         "_deepnote_index_column": 312
        },
        {
         "height_advantage": -3,
         "_deepnote_index_column": 313
        },
        {
         "height_advantage": 1,
         "_deepnote_index_column": 314
        },
        {
         "height_advantage": 3,
         "_deepnote_index_column": 315
        },
        {
         "height_advantage": 5,
         "_deepnote_index_column": 316
        },
        {
         "height_advantage": 3,
         "_deepnote_index_column": 317
        },
        {
         "height_advantage": -2,
         "_deepnote_index_column": 318
        },
        {
         "height_advantage": -1,
         "_deepnote_index_column": 320
        },
        {
         "height_advantage": 0,
         "_deepnote_index_column": 321
        },
        {
         "height_advantage": -4,
         "_deepnote_index_column": 322
        },
        {
         "height_advantage": 1,
         "_deepnote_index_column": 323
        },
        {
         "height_advantage": 2,
         "_deepnote_index_column": 324
        },
        {
         "height_advantage": 0,
         "_deepnote_index_column": 325
        },
        {
         "height_advantage": 0,
         "_deepnote_index_column": 326
        },
        {
         "height_advantage": 1,
         "_deepnote_index_column": 327
        },
        {
         "height_advantage": 5,
         "_deepnote_index_column": 328
        },
        {
         "height_advantage": -2,
         "_deepnote_index_column": 329
        },
        {
         "height_advantage": -3,
         "_deepnote_index_column": 330
        },
        {
         "height_advantage": 4,
         "_deepnote_index_column": 331
        },
        {
         "height_advantage": 3,
         "_deepnote_index_column": 332
        },
        {
         "height_advantage": 3,
         "_deepnote_index_column": 333
        },
        {
         "height_advantage": 0,
         "_deepnote_index_column": 334
        },
        {
         "height_advantage": 3,
         "_deepnote_index_column": 335
        },
        {
         "height_advantage": 1,
         "_deepnote_index_column": 337
        },
        {
         "height_advantage": 3,
         "_deepnote_index_column": 338
        },
        {
         "height_advantage": -2,
         "_deepnote_index_column": 339
        },
        {
         "height_advantage": 0,
         "_deepnote_index_column": 340
        },
        {
         "height_advantage": 3,
         "_deepnote_index_column": 341
        },
        {
         "height_advantage": 1,
         "_deepnote_index_column": 342
        },
        {
         "height_advantage": 1,
         "_deepnote_index_column": 343
        },
        {
         "height_advantage": -1,
         "_deepnote_index_column": 344
        },
        {
         "height_advantage": -2,
         "_deepnote_index_column": 345
        },
        {
         "height_advantage": -1,
         "_deepnote_index_column": 346
        },
        {
         "height_advantage": 3,
         "_deepnote_index_column": 347
        },
        {
         "height_advantage": 3,
         "_deepnote_index_column": 348
        },
        {
         "height_advantage": 3,
         "_deepnote_index_column": 349
        },
        {
         "height_advantage": -6,
         "_deepnote_index_column": 350
        },
        {
         "height_advantage": -2,
         "_deepnote_index_column": 351
        },
        {
         "height_advantage": -1,
         "_deepnote_index_column": 352
        },
        {
         "height_advantage": -1,
         "_deepnote_index_column": 353
        },
        {
         "height_advantage": 3,
         "_deepnote_index_column": 354
        },
        {
         "height_advantage": -2,
         "_deepnote_index_column": 355
        },
        {
         "height_advantage": 1,
         "_deepnote_index_column": 356
        },
        {
         "height_advantage": 0,
         "_deepnote_index_column": 357
        },
        {
         "height_advantage": 0,
         "_deepnote_index_column": 358
        },
        {
         "height_advantage": 1,
         "_deepnote_index_column": 359
        },
        {
         "height_advantage": 3,
         "_deepnote_index_column": 360
        },
        {
         "height_advantage": -1,
         "_deepnote_index_column": 361
        },
        {
         "height_advantage": 1,
         "_deepnote_index_column": 362
        },
        {
         "height_advantage": 2,
         "_deepnote_index_column": 363
        },
        {
         "height_advantage": 3,
         "_deepnote_index_column": 364
        },
        {
         "height_advantage": 3,
         "_deepnote_index_column": 365
        },
        {
         "height_advantage": 0,
         "_deepnote_index_column": 366
        },
        {
         "height_advantage": -3,
         "_deepnote_index_column": 367
        },
        {
         "height_advantage": 2,
         "_deepnote_index_column": 368
        },
        {
         "height_advantage": -1,
         "_deepnote_index_column": 370
        },
        {
         "height_advantage": 0,
         "_deepnote_index_column": 371
        },
        {
         "height_advantage": 4,
         "_deepnote_index_column": 372
        },
        {
         "height_advantage": -6,
         "_deepnote_index_column": 373
        },
        {
         "height_advantage": -1,
         "_deepnote_index_column": 374
        },
        {
         "height_advantage": 0,
         "_deepnote_index_column": 375
        },
        {
         "height_advantage": 4,
         "_deepnote_index_column": 376
        },
        {
         "height_advantage": 0,
         "_deepnote_index_column": 377
        },
        {
         "height_advantage": 0,
         "_deepnote_index_column": 378
        },
        {
         "height_advantage": 1,
         "_deepnote_index_column": 379
        },
        {
         "height_advantage": 4,
         "_deepnote_index_column": 380
        },
        {
         "height_advantage": 1,
         "_deepnote_index_column": 381
        },
        {
         "height_advantage": 2,
         "_deepnote_index_column": 382
        },
        {
         "height_advantage": -6,
         "_deepnote_index_column": 383
        },
        {
         "height_advantage": 0,
         "_deepnote_index_column": 384
        },
        {
         "height_advantage": 3,
         "_deepnote_index_column": 385
        },
        {
         "height_advantage": -2,
         "_deepnote_index_column": 386
        },
        {
         "height_advantage": -1,
         "_deepnote_index_column": 387
        },
        {
         "height_advantage": -5,
         "_deepnote_index_column": 388
        },
        {
         "height_advantage": -4,
         "_deepnote_index_column": 389
        },
        {
         "height_advantage": 3,
         "_deepnote_index_column": 390
        },
        {
         "height_advantage": 0,
         "_deepnote_index_column": 391
        },
        {
         "height_advantage": -1,
         "_deepnote_index_column": 392
        },
        {
         "height_advantage": -1,
         "_deepnote_index_column": 393
        },
        {
         "height_advantage": 1,
         "_deepnote_index_column": 394
        },
        {
         "height_advantage": 0,
         "_deepnote_index_column": 395
        },
        {
         "height_advantage": 2,
         "_deepnote_index_column": 396
        },
        {
         "height_advantage": 0,
         "_deepnote_index_column": 397
        },
        {
         "height_advantage": -2,
         "_deepnote_index_column": 398
        },
        {
         "height_advantage": 0,
         "_deepnote_index_column": 399
        },
        {
         "height_advantage": -3,
         "_deepnote_index_column": 400
        },
        {
         "height_advantage": 0,
         "_deepnote_index_column": 401
        },
        {
         "height_advantage": 3,
         "_deepnote_index_column": 402
        },
        {
         "height_advantage": 0,
         "_deepnote_index_column": 403
        },
        {
         "height_advantage": -1,
         "_deepnote_index_column": 404
        },
        {
         "height_advantage": -5,
         "_deepnote_index_column": 405
        },
        {
         "height_advantage": 1,
         "_deepnote_index_column": 406
        },
        {
         "height_advantage": 0,
         "_deepnote_index_column": 407
        },
        {
         "height_advantage": 5,
         "_deepnote_index_column": 408
        },
        {
         "height_advantage": -4,
         "_deepnote_index_column": 409
        },
        {
         "height_advantage": 0,
         "_deepnote_index_column": 410
        },
        {
         "height_advantage": 2,
         "_deepnote_index_column": 411
        },
        {
         "height_advantage": 2,
         "_deepnote_index_column": 413
        },
        {
         "height_advantage": -1,
         "_deepnote_index_column": 414
        },
        {
         "height_advantage": 3,
         "_deepnote_index_column": 415
        },
        {
         "height_advantage": 2,
         "_deepnote_index_column": 416
        },
        {
         "height_advantage": 2,
         "_deepnote_index_column": 417
        },
        {
         "height_advantage": 0,
         "_deepnote_index_column": 418
        },
        {
         "height_advantage": 0,
         "_deepnote_index_column": 419
        },
        {
         "height_advantage": 0,
         "_deepnote_index_column": 420
        },
        {
         "height_advantage": 1,
         "_deepnote_index_column": 421
        },
        {
         "height_advantage": -1,
         "_deepnote_index_column": 422
        },
        {
         "height_advantage": -1,
         "_deepnote_index_column": 423
        },
        {
         "height_advantage": 3,
         "_deepnote_index_column": 424
        },
        {
         "height_advantage": -2,
         "_deepnote_index_column": 425
        },
        {
         "height_advantage": -4,
         "_deepnote_index_column": 426
        },
        {
         "height_advantage": 1,
         "_deepnote_index_column": 427
        },
        {
         "height_advantage": -3,
         "_deepnote_index_column": 428
        },
        {
         "height_advantage": 1,
         "_deepnote_index_column": 429
        },
        {
         "height_advantage": -2,
         "_deepnote_index_column": 430
        },
        {
         "height_advantage": -2,
         "_deepnote_index_column": 431
        },
        {
         "height_advantage": 0,
         "_deepnote_index_column": 432
        },
        {
         "height_advantage": 1,
         "_deepnote_index_column": 433
        },
        {
         "height_advantage": 2,
         "_deepnote_index_column": 434
        },
        {
         "height_advantage": 3,
         "_deepnote_index_column": 435
        },
        {
         "height_advantage": 4,
         "_deepnote_index_column": 436
        },
        {
         "height_advantage": 1,
         "_deepnote_index_column": 437
        },
        {
         "height_advantage": 0,
         "_deepnote_index_column": 438
        },
        {
         "height_advantage": 0,
         "_deepnote_index_column": 439
        },
        {
         "height_advantage": 3,
         "_deepnote_index_column": 440
        },
        {
         "height_advantage": 2,
         "_deepnote_index_column": 441
        },
        {
         "height_advantage": 5,
         "_deepnote_index_column": 442
        },
        {
         "height_advantage": 0,
         "_deepnote_index_column": 443
        },
        {
         "height_advantage": 0,
         "_deepnote_index_column": 444
        },
        {
         "height_advantage": 1,
         "_deepnote_index_column": 445
        },
        {
         "height_advantage": 1,
         "_deepnote_index_column": 446
        },
        {
         "height_advantage": 1,
         "_deepnote_index_column": 447
        },
        {
         "height_advantage": 3,
         "_deepnote_index_column": 448
        },
        {
         "height_advantage": 2,
         "_deepnote_index_column": 449
        },
        {
         "height_advantage": -1,
         "_deepnote_index_column": 450
        },
        {
         "height_advantage": 1,
         "_deepnote_index_column": 451
        },
        {
         "height_advantage": 6,
         "_deepnote_index_column": 452
        },
        {
         "height_advantage": -1,
         "_deepnote_index_column": 453
        },
        {
         "height_advantage": -2,
         "_deepnote_index_column": 454
        },
        {
         "height_advantage": 2,
         "_deepnote_index_column": 455
        },
        {
         "height_advantage": 0,
         "_deepnote_index_column": 456
        },
        {
         "height_advantage": -2,
         "_deepnote_index_column": 457
        },
        {
         "height_advantage": 0,
         "_deepnote_index_column": 459
        },
        {
         "height_advantage": -2,
         "_deepnote_index_column": 460
        },
        {
         "height_advantage": -2,
         "_deepnote_index_column": 461
        },
        {
         "height_advantage": 0,
         "_deepnote_index_column": 462
        },
        {
         "height_advantage": -3,
         "_deepnote_index_column": 463
        },
        {
         "height_advantage": 1,
         "_deepnote_index_column": 464
        },
        {
         "height_advantage": 1,
         "_deepnote_index_column": 465
        },
        {
         "height_advantage": 1,
         "_deepnote_index_column": 466
        },
        {
         "height_advantage": -1,
         "_deepnote_index_column": 467
        },
        {
         "height_advantage": 0,
         "_deepnote_index_column": 468
        },
        {
         "height_advantage": -1,
         "_deepnote_index_column": 469
        },
        {
         "height_advantage": 1,
         "_deepnote_index_column": 470
        },
        {
         "height_advantage": 4,
         "_deepnote_index_column": 471
        },
        {
         "height_advantage": 4,
         "_deepnote_index_column": 472
        },
        {
         "height_advantage": -3,
         "_deepnote_index_column": 473
        },
        {
         "height_advantage": -5,
         "_deepnote_index_column": 475
        },
        {
         "height_advantage": -2,
         "_deepnote_index_column": 476
        },
        {
         "height_advantage": 0,
         "_deepnote_index_column": 477
        },
        {
         "height_advantage": 1,
         "_deepnote_index_column": 478
        },
        {
         "height_advantage": 0,
         "_deepnote_index_column": 479
        },
        {
         "height_advantage": 1,
         "_deepnote_index_column": 480
        },
        {
         "height_advantage": -1,
         "_deepnote_index_column": 481
        },
        {
         "height_advantage": -3,
         "_deepnote_index_column": 482
        },
        {
         "height_advantage": 4,
         "_deepnote_index_column": 483
        },
        {
         "height_advantage": 1,
         "_deepnote_index_column": 484
        },
        {
         "height_advantage": 0,
         "_deepnote_index_column": 485
        },
        {
         "height_advantage": 1,
         "_deepnote_index_column": 486
        },
        {
         "height_advantage": 2,
         "_deepnote_index_column": 487
        },
        {
         "height_advantage": 7,
         "_deepnote_index_column": 488
        },
        {
         "height_advantage": 0,
         "_deepnote_index_column": 490
        },
        {
         "height_advantage": -2,
         "_deepnote_index_column": 491
        },
        {
         "height_advantage": 2,
         "_deepnote_index_column": 492
        },
        {
         "height_advantage": -2,
         "_deepnote_index_column": 493
        },
        {
         "height_advantage": -2,
         "_deepnote_index_column": 494
        },
        {
         "height_advantage": 4,
         "_deepnote_index_column": 495
        },
        {
         "height_advantage": 1,
         "_deepnote_index_column": 496
        },
        {
         "height_advantage": 1,
         "_deepnote_index_column": 497
        },
        {
         "height_advantage": 1,
         "_deepnote_index_column": 498
        },
        {
         "height_advantage": -2,
         "_deepnote_index_column": 499
        },
        {
         "height_advantage": -1,
         "_deepnote_index_column": 500
        },
        {
         "height_advantage": -2,
         "_deepnote_index_column": 501
        },
        {
         "height_advantage": 2,
         "_deepnote_index_column": 502
        },
        {
         "height_advantage": -5,
         "_deepnote_index_column": 503
        },
        {
         "height_advantage": 1,
         "_deepnote_index_column": 504
        },
        {
         "height_advantage": 1,
         "_deepnote_index_column": 505
        },
        {
         "height_advantage": 3,
         "_deepnote_index_column": 506
        },
        {
         "height_advantage": 1,
         "_deepnote_index_column": 507
        },
        {
         "height_advantage": 0,
         "_deepnote_index_column": 508
        },
        {
         "height_advantage": -2,
         "_deepnote_index_column": 509
        },
        {
         "height_advantage": 2,
         "_deepnote_index_column": 510
        },
        {
         "height_advantage": -5,
         "_deepnote_index_column": 511
        },
        {
         "height_advantage": 1,
         "_deepnote_index_column": 512
        },
        {
         "height_advantage": 1,
         "_deepnote_index_column": 513
        },
        {
         "height_advantage": -3,
         "_deepnote_index_column": 514
        },
        {
         "height_advantage": 4,
         "_deepnote_index_column": 515
        },
        {
         "height_advantage": 2,
         "_deepnote_index_column": 516
        },
        {
         "height_advantage": 0,
         "_deepnote_index_column": 517
        },
        {
         "height_advantage": 2,
         "_deepnote_index_column": 518
        },
        {
         "height_advantage": 1,
         "_deepnote_index_column": 519
        },
        {
         "height_advantage": 1,
         "_deepnote_index_column": 520
        },
        {
         "height_advantage": 1,
         "_deepnote_index_column": 521
        },
        {
         "height_advantage": 4,
         "_deepnote_index_column": 522
        },
        {
         "height_advantage": -7,
         "_deepnote_index_column": 523
        },
        {
         "height_advantage": -1,
         "_deepnote_index_column": 524
        },
        {
         "height_advantage": 2,
         "_deepnote_index_column": 525
        },
        {
         "height_advantage": -7,
         "_deepnote_index_column": 526
        },
        {
         "height_advantage": -3,
         "_deepnote_index_column": 527
        },
        {
         "height_advantage": 0,
         "_deepnote_index_column": 528
        },
        {
         "height_advantage": 3,
         "_deepnote_index_column": 529
        },
        {
         "height_advantage": 1,
         "_deepnote_index_column": 530
        },
        {
         "height_advantage": -3,
         "_deepnote_index_column": 531
        },
        {
         "height_advantage": 0,
         "_deepnote_index_column": 532
        },
        {
         "height_advantage": 0,
         "_deepnote_index_column": 533
        },
        {
         "height_advantage": 1,
         "_deepnote_index_column": 534
        },
        {
         "height_advantage": 1,
         "_deepnote_index_column": 535
        },
        {
         "height_advantage": 0,
         "_deepnote_index_column": 536
        },
        {
         "height_advantage": -3,
         "_deepnote_index_column": 537
        },
        {
         "height_advantage": -2,
         "_deepnote_index_column": 538
        },
        {
         "height_advantage": 1,
         "_deepnote_index_column": 540
        },
        {
         "height_advantage": 5,
         "_deepnote_index_column": 541
        },
        {
         "height_advantage": 4,
         "_deepnote_index_column": 542
        },
        {
         "height_advantage": 0,
         "_deepnote_index_column": 543
        },
        {
         "height_advantage": 6,
         "_deepnote_index_column": 544
        }
       ],
       "rows_bottom": [
        {
         "height_advantage": 3,
         "_deepnote_index_column": 2991
        },
        {
         "height_advantage": 4,
         "_deepnote_index_column": 2992
        },
        {
         "height_advantage": -2,
         "_deepnote_index_column": 2993
        },
        {
         "height_advantage": 1,
         "_deepnote_index_column": 2994
        },
        {
         "height_advantage": 2,
         "_deepnote_index_column": 2995
        },
        {
         "height_advantage": 1,
         "_deepnote_index_column": 2996
        },
        {
         "height_advantage": -4,
         "_deepnote_index_column": 2997
        },
        {
         "height_advantage": -1,
         "_deepnote_index_column": 2998
        },
        {
         "height_advantage": -2,
         "_deepnote_index_column": 2999
        },
        {
         "height_advantage": 0,
         "_deepnote_index_column": 3000
        },
        {
         "height_advantage": 0,
         "_deepnote_index_column": 3001
        },
        {
         "height_advantage": 0,
         "_deepnote_index_column": 3002
        },
        {
         "height_advantage": -1,
         "_deepnote_index_column": 3003
        },
        {
         "height_advantage": -2,
         "_deepnote_index_column": 3004
        },
        {
         "height_advantage": 2,
         "_deepnote_index_column": 3005
        },
        {
         "height_advantage": 4,
         "_deepnote_index_column": 3006
        },
        {
         "height_advantage": 0,
         "_deepnote_index_column": 3007
        },
        {
         "height_advantage": 4,
         "_deepnote_index_column": 3009
        },
        {
         "height_advantage": -1,
         "_deepnote_index_column": 3010
        },
        {
         "height_advantage": 0,
         "_deepnote_index_column": 3011
        },
        {
         "height_advantage": -2,
         "_deepnote_index_column": 3012
        },
        {
         "height_advantage": 2,
         "_deepnote_index_column": 3013
        },
        {
         "height_advantage": -1,
         "_deepnote_index_column": 3014
        },
        {
         "height_advantage": 1,
         "_deepnote_index_column": 3015
        },
        {
         "height_advantage": -1,
         "_deepnote_index_column": 3016
        },
        {
         "height_advantage": -3,
         "_deepnote_index_column": 3017
        },
        {
         "height_advantage": -1,
         "_deepnote_index_column": 3018
        },
        {
         "height_advantage": 0,
         "_deepnote_index_column": 3019
        },
        {
         "height_advantage": -3,
         "_deepnote_index_column": 3020
        },
        {
         "height_advantage": -5,
         "_deepnote_index_column": 3021
        },
        {
         "height_advantage": -2,
         "_deepnote_index_column": 3022
        },
        {
         "height_advantage": 5,
         "_deepnote_index_column": 3023
        },
        {
         "height_advantage": 1,
         "_deepnote_index_column": 3024
        },
        {
         "height_advantage": 3,
         "_deepnote_index_column": 3025
        },
        {
         "height_advantage": -3,
         "_deepnote_index_column": 3026
        },
        {
         "height_advantage": 0,
         "_deepnote_index_column": 3027
        },
        {
         "height_advantage": 2,
         "_deepnote_index_column": 3028
        },
        {
         "height_advantage": -3,
         "_deepnote_index_column": 3029
        },
        {
         "height_advantage": 0,
         "_deepnote_index_column": 3030
        },
        {
         "height_advantage": -1,
         "_deepnote_index_column": 3031
        },
        {
         "height_advantage": -1,
         "_deepnote_index_column": 3032
        },
        {
         "height_advantage": 1,
         "_deepnote_index_column": 3033
        },
        {
         "height_advantage": 0,
         "_deepnote_index_column": 3034
        },
        {
         "height_advantage": -3,
         "_deepnote_index_column": 3035
        },
        {
         "height_advantage": -1,
         "_deepnote_index_column": 3036
        },
        {
         "height_advantage": 4,
         "_deepnote_index_column": 3037
        },
        {
         "height_advantage": 5,
         "_deepnote_index_column": 3038
        },
        {
         "height_advantage": 2,
         "_deepnote_index_column": 3039
        },
        {
         "height_advantage": -3,
         "_deepnote_index_column": 3040
        },
        {
         "height_advantage": -3,
         "_deepnote_index_column": 3041
        },
        {
         "height_advantage": 0,
         "_deepnote_index_column": 3042
        },
        {
         "height_advantage": 1,
         "_deepnote_index_column": 3043
        },
        {
         "height_advantage": -1,
         "_deepnote_index_column": 3044
        },
        {
         "height_advantage": 0,
         "_deepnote_index_column": 3045
        },
        {
         "height_advantage": 2,
         "_deepnote_index_column": 3046
        },
        {
         "height_advantage": -1,
         "_deepnote_index_column": 3047
        },
        {
         "height_advantage": 0,
         "_deepnote_index_column": 3048
        },
        {
         "height_advantage": 1,
         "_deepnote_index_column": 3049
        },
        {
         "height_advantage": -2,
         "_deepnote_index_column": 3050
        },
        {
         "height_advantage": 0,
         "_deepnote_index_column": 3051
        },
        {
         "height_advantage": 0,
         "_deepnote_index_column": 3052
        },
        {
         "height_advantage": 5,
         "_deepnote_index_column": 3053
        },
        {
         "height_advantage": -3,
         "_deepnote_index_column": 3054
        },
        {
         "height_advantage": 5,
         "_deepnote_index_column": 3055
        },
        {
         "height_advantage": 1,
         "_deepnote_index_column": 3056
        },
        {
         "height_advantage": -1,
         "_deepnote_index_column": 3057
        },
        {
         "height_advantage": -2,
         "_deepnote_index_column": 3058
        },
        {
         "height_advantage": 2,
         "_deepnote_index_column": 3059
        },
        {
         "height_advantage": 1,
         "_deepnote_index_column": 3060
        },
        {
         "height_advantage": -1,
         "_deepnote_index_column": 3061
        },
        {
         "height_advantage": -1,
         "_deepnote_index_column": 3062
        },
        {
         "height_advantage": 1,
         "_deepnote_index_column": 3063
        },
        {
         "height_advantage": -1,
         "_deepnote_index_column": 3064
        },
        {
         "height_advantage": 1,
         "_deepnote_index_column": 3065
        },
        {
         "height_advantage": 0,
         "_deepnote_index_column": 3066
        },
        {
         "height_advantage": -2,
         "_deepnote_index_column": 3067
        },
        {
         "height_advantage": -1,
         "_deepnote_index_column": 3068
        },
        {
         "height_advantage": -3,
         "_deepnote_index_column": 3069
        },
        {
         "height_advantage": -2,
         "_deepnote_index_column": 3070
        },
        {
         "height_advantage": 4,
         "_deepnote_index_column": 3071
        },
        {
         "height_advantage": 2,
         "_deepnote_index_column": 3072
        },
        {
         "height_advantage": 0,
         "_deepnote_index_column": 3073
        },
        {
         "height_advantage": -2,
         "_deepnote_index_column": 3074
        },
        {
         "height_advantage": -2,
         "_deepnote_index_column": 3075
        },
        {
         "height_advantage": -4,
         "_deepnote_index_column": 3076
        },
        {
         "height_advantage": 3,
         "_deepnote_index_column": 3077
        },
        {
         "height_advantage": 2,
         "_deepnote_index_column": 3078
        },
        {
         "height_advantage": -1,
         "_deepnote_index_column": 3079
        },
        {
         "height_advantage": 1,
         "_deepnote_index_column": 3080
        },
        {
         "height_advantage": -2,
         "_deepnote_index_column": 3081
        },
        {
         "height_advantage": 5,
         "_deepnote_index_column": 3082
        },
        {
         "height_advantage": 0,
         "_deepnote_index_column": 3083
        },
        {
         "height_advantage": 1,
         "_deepnote_index_column": 3084
        },
        {
         "height_advantage": 0,
         "_deepnote_index_column": 3085
        },
        {
         "height_advantage": -2,
         "_deepnote_index_column": 3086
        },
        {
         "height_advantage": -1,
         "_deepnote_index_column": 3087
        },
        {
         "height_advantage": 1,
         "_deepnote_index_column": 3088
        },
        {
         "height_advantage": -5,
         "_deepnote_index_column": 3089
        },
        {
         "height_advantage": -1,
         "_deepnote_index_column": 3090
        },
        {
         "height_advantage": 1,
         "_deepnote_index_column": 3091
        },
        {
         "height_advantage": 1,
         "_deepnote_index_column": 3092
        },
        {
         "height_advantage": 5,
         "_deepnote_index_column": 3093
        },
        {
         "height_advantage": -2,
         "_deepnote_index_column": 3094
        },
        {
         "height_advantage": 0,
         "_deepnote_index_column": 3095
        },
        {
         "height_advantage": -3,
         "_deepnote_index_column": 3096
        },
        {
         "height_advantage": 2,
         "_deepnote_index_column": 3097
        },
        {
         "height_advantage": -3,
         "_deepnote_index_column": 3098
        },
        {
         "height_advantage": 4,
         "_deepnote_index_column": 3099
        },
        {
         "height_advantage": 0,
         "_deepnote_index_column": 3100
        },
        {
         "height_advantage": 2,
         "_deepnote_index_column": 3101
        },
        {
         "height_advantage": 1,
         "_deepnote_index_column": 3102
        },
        {
         "height_advantage": -1,
         "_deepnote_index_column": 3103
        },
        {
         "height_advantage": 0,
         "_deepnote_index_column": 3104
        },
        {
         "height_advantage": 2,
         "_deepnote_index_column": 3105
        },
        {
         "height_advantage": -2,
         "_deepnote_index_column": 3106
        },
        {
         "height_advantage": -2,
         "_deepnote_index_column": 3107
        },
        {
         "height_advantage": -2,
         "_deepnote_index_column": 3108
        },
        {
         "height_advantage": 0,
         "_deepnote_index_column": 3109
        },
        {
         "height_advantage": 0,
         "_deepnote_index_column": 3110
        },
        {
         "height_advantage": -4,
         "_deepnote_index_column": 3111
        },
        {
         "height_advantage": 1,
         "_deepnote_index_column": 3112
        },
        {
         "height_advantage": -1,
         "_deepnote_index_column": 3113
        },
        {
         "height_advantage": 0,
         "_deepnote_index_column": 3114
        },
        {
         "height_advantage": -2,
         "_deepnote_index_column": 3115
        },
        {
         "height_advantage": 0,
         "_deepnote_index_column": 3116
        },
        {
         "height_advantage": 3,
         "_deepnote_index_column": 3117
        },
        {
         "height_advantage": 0,
         "_deepnote_index_column": 3118
        },
        {
         "height_advantage": 2,
         "_deepnote_index_column": 3119
        },
        {
         "height_advantage": 6,
         "_deepnote_index_column": 3120
        },
        {
         "height_advantage": 0,
         "_deepnote_index_column": 3121
        },
        {
         "height_advantage": -2,
         "_deepnote_index_column": 3122
        },
        {
         "height_advantage": 6,
         "_deepnote_index_column": 3123
        },
        {
         "height_advantage": 1,
         "_deepnote_index_column": 3124
        },
        {
         "height_advantage": 4,
         "_deepnote_index_column": 3125
        },
        {
         "height_advantage": 2,
         "_deepnote_index_column": 3126
        },
        {
         "height_advantage": 2,
         "_deepnote_index_column": 3127
        },
        {
         "height_advantage": 0,
         "_deepnote_index_column": 3128
        },
        {
         "height_advantage": 0,
         "_deepnote_index_column": 3129
        },
        {
         "height_advantage": -3,
         "_deepnote_index_column": 3130
        },
        {
         "height_advantage": -1,
         "_deepnote_index_column": 3131
        },
        {
         "height_advantage": 0,
         "_deepnote_index_column": 3132
        },
        {
         "height_advantage": 2,
         "_deepnote_index_column": 3133
        },
        {
         "height_advantage": -6,
         "_deepnote_index_column": 3134
        },
        {
         "height_advantage": 1,
         "_deepnote_index_column": 3135
        },
        {
         "height_advantage": 0,
         "_deepnote_index_column": 3136
        },
        {
         "height_advantage": 0,
         "_deepnote_index_column": 3137
        },
        {
         "height_advantage": 1,
         "_deepnote_index_column": 3138
        },
        {
         "height_advantage": 0,
         "_deepnote_index_column": 3139
        },
        {
         "height_advantage": -2,
         "_deepnote_index_column": 3140
        },
        {
         "height_advantage": -2,
         "_deepnote_index_column": 3141
        },
        {
         "height_advantage": 1,
         "_deepnote_index_column": 3142
        },
        {
         "height_advantage": 1,
         "_deepnote_index_column": 3143
        },
        {
         "height_advantage": -3,
         "_deepnote_index_column": 3144
        },
        {
         "height_advantage": 2,
         "_deepnote_index_column": 3145
        },
        {
         "height_advantage": 3,
         "_deepnote_index_column": 3146
        },
        {
         "height_advantage": -3,
         "_deepnote_index_column": 3147
        },
        {
         "height_advantage": -2,
         "_deepnote_index_column": 3148
        },
        {
         "height_advantage": -1,
         "_deepnote_index_column": 3149
        },
        {
         "height_advantage": 3,
         "_deepnote_index_column": 3150
        },
        {
         "height_advantage": 0,
         "_deepnote_index_column": 3151
        },
        {
         "height_advantage": -2,
         "_deepnote_index_column": 3152
        },
        {
         "height_advantage": 0,
         "_deepnote_index_column": 3153
        },
        {
         "height_advantage": 3,
         "_deepnote_index_column": 3154
        },
        {
         "height_advantage": 3,
         "_deepnote_index_column": 3155
        },
        {
         "height_advantage": 3,
         "_deepnote_index_column": 3156
        },
        {
         "height_advantage": 0,
         "_deepnote_index_column": 3157
        },
        {
         "height_advantage": -1,
         "_deepnote_index_column": 3158
        },
        {
         "height_advantage": -3,
         "_deepnote_index_column": 3159
        },
        {
         "height_advantage": 1,
         "_deepnote_index_column": 3160
        },
        {
         "height_advantage": 1,
         "_deepnote_index_column": 3161
        },
        {
         "height_advantage": 0,
         "_deepnote_index_column": 3162
        },
        {
         "height_advantage": -1,
         "_deepnote_index_column": 3164
        },
        {
         "height_advantage": 4,
         "_deepnote_index_column": 3165
        },
        {
         "height_advantage": 2,
         "_deepnote_index_column": 3166
        },
        {
         "height_advantage": 1,
         "_deepnote_index_column": 3167
        },
        {
         "height_advantage": -1,
         "_deepnote_index_column": 3168
        },
        {
         "height_advantage": 2,
         "_deepnote_index_column": 3169
        },
        {
         "height_advantage": 2,
         "_deepnote_index_column": 3170
        },
        {
         "height_advantage": -1,
         "_deepnote_index_column": 3171
        },
        {
         "height_advantage": -3,
         "_deepnote_index_column": 3172
        },
        {
         "height_advantage": 0,
         "_deepnote_index_column": 3173
        },
        {
         "height_advantage": -1,
         "_deepnote_index_column": 3174
        },
        {
         "height_advantage": 0,
         "_deepnote_index_column": 3175
        },
        {
         "height_advantage": 4,
         "_deepnote_index_column": 3176
        },
        {
         "height_advantage": -3,
         "_deepnote_index_column": 3177
        },
        {
         "height_advantage": -3,
         "_deepnote_index_column": 3178
        },
        {
         "height_advantage": 3,
         "_deepnote_index_column": 3179
        },
        {
         "height_advantage": 1,
         "_deepnote_index_column": 3180
        },
        {
         "height_advantage": -3,
         "_deepnote_index_column": 3181
        },
        {
         "height_advantage": 1,
         "_deepnote_index_column": 3182
        },
        {
         "height_advantage": -2,
         "_deepnote_index_column": 3183
        },
        {
         "height_advantage": -2,
         "_deepnote_index_column": 3184
        },
        {
         "height_advantage": 1,
         "_deepnote_index_column": 3185
        },
        {
         "height_advantage": 2,
         "_deepnote_index_column": 3186
        },
        {
         "height_advantage": 3,
         "_deepnote_index_column": 3187
        },
        {
         "height_advantage": 0,
         "_deepnote_index_column": 3188
        },
        {
         "height_advantage": 1,
         "_deepnote_index_column": 3189
        },
        {
         "height_advantage": 0,
         "_deepnote_index_column": 3190
        },
        {
         "height_advantage": 0,
         "_deepnote_index_column": 3191
        },
        {
         "height_advantage": 0,
         "_deepnote_index_column": 3192
        },
        {
         "height_advantage": 1,
         "_deepnote_index_column": 3193
        },
        {
         "height_advantage": -2,
         "_deepnote_index_column": 3194
        },
        {
         "height_advantage": 0,
         "_deepnote_index_column": 3195
        },
        {
         "height_advantage": 5,
         "_deepnote_index_column": 3197
        },
        {
         "height_advantage": 0,
         "_deepnote_index_column": 3198
        },
        {
         "height_advantage": -4,
         "_deepnote_index_column": 3199
        },
        {
         "height_advantage": -3,
         "_deepnote_index_column": 3200
        },
        {
         "height_advantage": -1,
         "_deepnote_index_column": 3201
        },
        {
         "height_advantage": 1,
         "_deepnote_index_column": 3202
        },
        {
         "height_advantage": 1,
         "_deepnote_index_column": 3203
        },
        {
         "height_advantage": 0,
         "_deepnote_index_column": 3204
        },
        {
         "height_advantage": -1,
         "_deepnote_index_column": 3205
        },
        {
         "height_advantage": 0,
         "_deepnote_index_column": 3206
        },
        {
         "height_advantage": -5,
         "_deepnote_index_column": 3207
        },
        {
         "height_advantage": 1,
         "_deepnote_index_column": 3208
        },
        {
         "height_advantage": 2,
         "_deepnote_index_column": 3209
        },
        {
         "height_advantage": 0,
         "_deepnote_index_column": 3210
        },
        {
         "height_advantage": 3,
         "_deepnote_index_column": 3211
        },
        {
         "height_advantage": -3,
         "_deepnote_index_column": 3212
        },
        {
         "height_advantage": 1,
         "_deepnote_index_column": 3213
        },
        {
         "height_advantage": -2,
         "_deepnote_index_column": 3214
        },
        {
         "height_advantage": -4,
         "_deepnote_index_column": 3215
        },
        {
         "height_advantage": -6,
         "_deepnote_index_column": 3216
        },
        {
         "height_advantage": 0,
         "_deepnote_index_column": 3217
        },
        {
         "height_advantage": 3,
         "_deepnote_index_column": 3218
        },
        {
         "height_advantage": 2,
         "_deepnote_index_column": 3219
        },
        {
         "height_advantage": 3,
         "_deepnote_index_column": 3220
        },
        {
         "height_advantage": 2,
         "_deepnote_index_column": 3221
        },
        {
         "height_advantage": -1,
         "_deepnote_index_column": 3222
        },
        {
         "height_advantage": -2,
         "_deepnote_index_column": 3223
        },
        {
         "height_advantage": -1,
         "_deepnote_index_column": 3224
        },
        {
         "height_advantage": -4,
         "_deepnote_index_column": 3225
        },
        {
         "height_advantage": 2,
         "_deepnote_index_column": 3226
        },
        {
         "height_advantage": 2,
         "_deepnote_index_column": 3227
        },
        {
         "height_advantage": 2,
         "_deepnote_index_column": 3228
        },
        {
         "height_advantage": -1,
         "_deepnote_index_column": 3229
        },
        {
         "height_advantage": 2,
         "_deepnote_index_column": 3230
        },
        {
         "height_advantage": 0,
         "_deepnote_index_column": 3231
        },
        {
         "height_advantage": 2,
         "_deepnote_index_column": 3232
        },
        {
         "height_advantage": 2,
         "_deepnote_index_column": 3233
        },
        {
         "height_advantage": 0,
         "_deepnote_index_column": 3234
        },
        {
         "height_advantage": -1,
         "_deepnote_index_column": 3235
        },
        {
         "height_advantage": -4,
         "_deepnote_index_column": 3236
        },
        {
         "height_advantage": -1,
         "_deepnote_index_column": 3237
        },
        {
         "height_advantage": -5,
         "_deepnote_index_column": 3238
        },
        {
         "height_advantage": -1,
         "_deepnote_index_column": 3239
        },
        {
         "height_advantage": 0,
         "_deepnote_index_column": 3240
        },
        {
         "height_advantage": -3,
         "_deepnote_index_column": 3241
        },
        {
         "height_advantage": -1,
         "_deepnote_index_column": 3242
        },
        {
         "height_advantage": 1,
         "_deepnote_index_column": 3243
        },
        {
         "height_advantage": 2,
         "_deepnote_index_column": 3244
        },
        {
         "height_advantage": 0,
         "_deepnote_index_column": 3245
        },
        {
         "height_advantage": 4,
         "_deepnote_index_column": 3246
        },
        {
         "height_advantage": -2,
         "_deepnote_index_column": 3247
        },
        {
         "height_advantage": 0,
         "_deepnote_index_column": 3248
        },
        {
         "height_advantage": 4,
         "_deepnote_index_column": 3249
        },
        {
         "height_advantage": -6,
         "_deepnote_index_column": 3250
        },
        {
         "height_advantage": -2,
         "_deepnote_index_column": 3251
        },
        {
         "height_advantage": -1,
         "_deepnote_index_column": 3252
        },
        {
         "height_advantage": 0,
         "_deepnote_index_column": 3253
        },
        {
         "height_advantage": -3,
         "_deepnote_index_column": 3254
        },
        {
         "height_advantage": -1,
         "_deepnote_index_column": 3255
        },
        {
         "height_advantage": 0,
         "_deepnote_index_column": 3256
        },
        {
         "height_advantage": 1,
         "_deepnote_index_column": 3257
        },
        {
         "height_advantage": 1,
         "_deepnote_index_column": 3258
        },
        {
         "height_advantage": -2,
         "_deepnote_index_column": 3259
        },
        {
         "height_advantage": -1,
         "_deepnote_index_column": 3260
        },
        {
         "height_advantage": 5,
         "_deepnote_index_column": 3261
        },
        {
         "height_advantage": 2,
         "_deepnote_index_column": 3262
        },
        {
         "height_advantage": 6,
         "_deepnote_index_column": 3263
        },
        {
         "height_advantage": 0,
         "_deepnote_index_column": 3264
        },
        {
         "height_advantage": -5,
         "_deepnote_index_column": 3265
        },
        {
         "height_advantage": 2,
         "_deepnote_index_column": 3266
        },
        {
         "height_advantage": 2,
         "_deepnote_index_column": 3267
        },
        {
         "height_advantage": -1,
         "_deepnote_index_column": 3268
        },
        {
         "height_advantage": 6,
         "_deepnote_index_column": 3269
        },
        {
         "height_advantage": 0,
         "_deepnote_index_column": 3272
        },
        {
         "height_advantage": -1,
         "_deepnote_index_column": 3273
        },
        {
         "height_advantage": -3,
         "_deepnote_index_column": 3274
        },
        {
         "height_advantage": 2,
         "_deepnote_index_column": 3275
        },
        {
         "height_advantage": -2,
         "_deepnote_index_column": 3276
        },
        {
         "height_advantage": 3,
         "_deepnote_index_column": 3277
        },
        {
         "height_advantage": -1,
         "_deepnote_index_column": 3278
        },
        {
         "height_advantage": 0,
         "_deepnote_index_column": 3279
        },
        {
         "height_advantage": -1,
         "_deepnote_index_column": 3280
        },
        {
         "height_advantage": 0,
         "_deepnote_index_column": 3281
        },
        {
         "height_advantage": -1,
         "_deepnote_index_column": 3282
        },
        {
         "height_advantage": -1,
         "_deepnote_index_column": 3283
        },
        {
         "height_advantage": 0,
         "_deepnote_index_column": 3284
        },
        {
         "height_advantage": -1,
         "_deepnote_index_column": 3285
        },
        {
         "height_advantage": 1,
         "_deepnote_index_column": 3286
        },
        {
         "height_advantage": 2,
         "_deepnote_index_column": 3287
        },
        {
         "height_advantage": -3,
         "_deepnote_index_column": 3288
        },
        {
         "height_advantage": 0,
         "_deepnote_index_column": 3289
        },
        {
         "height_advantage": 4,
         "_deepnote_index_column": 3290
        },
        {
         "height_advantage": 1,
         "_deepnote_index_column": 3291
        },
        {
         "height_advantage": 0,
         "_deepnote_index_column": 3292
        },
        {
         "height_advantage": 0,
         "_deepnote_index_column": 3293
        },
        {
         "height_advantage": 4,
         "_deepnote_index_column": 3294
        },
        {
         "height_advantage": 1,
         "_deepnote_index_column": 3295
        },
        {
         "height_advantage": -2,
         "_deepnote_index_column": 3296
        },
        {
         "height_advantage": -2,
         "_deepnote_index_column": 3297
        },
        {
         "height_advantage": 0,
         "_deepnote_index_column": 3298
        },
        {
         "height_advantage": 2,
         "_deepnote_index_column": 3299
        },
        {
         "height_advantage": 2,
         "_deepnote_index_column": 3300
        },
        {
         "height_advantage": 2,
         "_deepnote_index_column": 3301
        },
        {
         "height_advantage": 0,
         "_deepnote_index_column": 3302
        },
        {
         "height_advantage": 1,
         "_deepnote_index_column": 3303
        },
        {
         "height_advantage": 2,
         "_deepnote_index_column": 3304
        },
        {
         "height_advantage": 0,
         "_deepnote_index_column": 3305
        },
        {
         "height_advantage": 1,
         "_deepnote_index_column": 3306
        },
        {
         "height_advantage": 2,
         "_deepnote_index_column": 3307
        },
        {
         "height_advantage": 1,
         "_deepnote_index_column": 3308
        },
        {
         "height_advantage": 1,
         "_deepnote_index_column": 3309
        },
        {
         "height_advantage": -2,
         "_deepnote_index_column": 3310
        },
        {
         "height_advantage": -6,
         "_deepnote_index_column": 3311
        },
        {
         "height_advantage": 5,
         "_deepnote_index_column": 3312
        },
        {
         "height_advantage": -1,
         "_deepnote_index_column": 3313
        },
        {
         "height_advantage": 0,
         "_deepnote_index_column": 3314
        },
        {
         "height_advantage": 0,
         "_deepnote_index_column": 3315
        },
        {
         "height_advantage": 3,
         "_deepnote_index_column": 3316
        },
        {
         "height_advantage": -1,
         "_deepnote_index_column": 3317
        },
        {
         "height_advantage": -1,
         "_deepnote_index_column": 3318
        },
        {
         "height_advantage": -6,
         "_deepnote_index_column": 3319
        },
        {
         "height_advantage": -1,
         "_deepnote_index_column": 3320
        },
        {
         "height_advantage": -1,
         "_deepnote_index_column": 3321
        },
        {
         "height_advantage": 1,
         "_deepnote_index_column": 3322
        },
        {
         "height_advantage": 3,
         "_deepnote_index_column": 3323
        },
        {
         "height_advantage": -2,
         "_deepnote_index_column": 3324
        },
        {
         "height_advantage": -5,
         "_deepnote_index_column": 3325
        },
        {
         "height_advantage": 3,
         "_deepnote_index_column": 3326
        },
        {
         "height_advantage": 3,
         "_deepnote_index_column": 3327
        },
        {
         "height_advantage": 0,
         "_deepnote_index_column": 3328
        },
        {
         "height_advantage": 1,
         "_deepnote_index_column": 3329
        },
        {
         "height_advantage": -1,
         "_deepnote_index_column": 3330
        },
        {
         "height_advantage": -1,
         "_deepnote_index_column": 3331
        },
        {
         "height_advantage": 0,
         "_deepnote_index_column": 3332
        },
        {
         "height_advantage": 2,
         "_deepnote_index_column": 3333
        },
        {
         "height_advantage": 2,
         "_deepnote_index_column": 3334
        },
        {
         "height_advantage": 3,
         "_deepnote_index_column": 3335
        },
        {
         "height_advantage": 0,
         "_deepnote_index_column": 3336
        },
        {
         "height_advantage": 0,
         "_deepnote_index_column": 3337
        },
        {
         "height_advantage": 0,
         "_deepnote_index_column": 3338
        },
        {
         "height_advantage": 1,
         "_deepnote_index_column": 3339
        },
        {
         "height_advantage": -1,
         "_deepnote_index_column": 3340
        },
        {
         "height_advantage": -3,
         "_deepnote_index_column": 3341
        },
        {
         "height_advantage": -2,
         "_deepnote_index_column": 3342
        },
        {
         "height_advantage": 2,
         "_deepnote_index_column": 3343
        },
        {
         "height_advantage": 1,
         "_deepnote_index_column": 3344
        },
        {
         "height_advantage": 1,
         "_deepnote_index_column": 3345
        },
        {
         "height_advantage": -1,
         "_deepnote_index_column": 3346
        },
        {
         "height_advantage": 0,
         "_deepnote_index_column": 3347
        },
        {
         "height_advantage": -1,
         "_deepnote_index_column": 3348
        },
        {
         "height_advantage": 2,
         "_deepnote_index_column": 3349
        },
        {
         "height_advantage": -1,
         "_deepnote_index_column": 3350
        },
        {
         "height_advantage": 2,
         "_deepnote_index_column": 3351
        },
        {
         "height_advantage": 2,
         "_deepnote_index_column": 3352
        },
        {
         "height_advantage": 1,
         "_deepnote_index_column": 3353
        },
        {
         "height_advantage": 0,
         "_deepnote_index_column": 3354
        },
        {
         "height_advantage": -1,
         "_deepnote_index_column": 3355
        },
        {
         "height_advantage": 1,
         "_deepnote_index_column": 3356
        },
        {
         "height_advantage": -2,
         "_deepnote_index_column": 3357
        },
        {
         "height_advantage": 0,
         "_deepnote_index_column": 3358
        },
        {
         "height_advantage": 2,
         "_deepnote_index_column": 3359
        },
        {
         "height_advantage": -1,
         "_deepnote_index_column": 3360
        },
        {
         "height_advantage": -6,
         "_deepnote_index_column": 3361
        },
        {
         "height_advantage": -1,
         "_deepnote_index_column": 3362
        },
        {
         "height_advantage": -1,
         "_deepnote_index_column": 3364
        },
        {
         "height_advantage": 1,
         "_deepnote_index_column": 3365
        },
        {
         "height_advantage": -1,
         "_deepnote_index_column": 3366
        },
        {
         "height_advantage": -1,
         "_deepnote_index_column": 3367
        },
        {
         "height_advantage": -4,
         "_deepnote_index_column": 3368
        },
        {
         "height_advantage": 0,
         "_deepnote_index_column": 3369
        },
        {
         "height_advantage": -1,
         "_deepnote_index_column": 3371
        },
        {
         "height_advantage": 6,
         "_deepnote_index_column": 3372
        },
        {
         "height_advantage": -2,
         "_deepnote_index_column": 3373
        },
        {
         "height_advantage": -1,
         "_deepnote_index_column": 3374
        },
        {
         "height_advantage": -3,
         "_deepnote_index_column": 3376
        },
        {
         "height_advantage": 1,
         "_deepnote_index_column": 3377
        },
        {
         "height_advantage": 2,
         "_deepnote_index_column": 3378
        },
        {
         "height_advantage": 0,
         "_deepnote_index_column": 3379
        },
        {
         "height_advantage": 1,
         "_deepnote_index_column": 3380
        },
        {
         "height_advantage": 2,
         "_deepnote_index_column": 3381
        },
        {
         "height_advantage": 3,
         "_deepnote_index_column": 3382
        },
        {
         "height_advantage": -6,
         "_deepnote_index_column": 3384
        },
        {
         "height_advantage": -2,
         "_deepnote_index_column": 3385
        },
        {
         "height_advantage": 0,
         "_deepnote_index_column": 3386
        },
        {
         "height_advantage": 2,
         "_deepnote_index_column": 3387
        },
        {
         "height_advantage": 1,
         "_deepnote_index_column": 3388
        },
        {
         "height_advantage": -4,
         "_deepnote_index_column": 3389
        },
        {
         "height_advantage": 3,
         "_deepnote_index_column": 3390
        },
        {
         "height_advantage": -1,
         "_deepnote_index_column": 3391
        },
        {
         "height_advantage": 0,
         "_deepnote_index_column": 3392
        },
        {
         "height_advantage": -5,
         "_deepnote_index_column": 3393
        },
        {
         "height_advantage": 3,
         "_deepnote_index_column": 3394
        },
        {
         "height_advantage": -1,
         "_deepnote_index_column": 3395
        },
        {
         "height_advantage": 0,
         "_deepnote_index_column": 3396
        },
        {
         "height_advantage": 1,
         "_deepnote_index_column": 3397
        },
        {
         "height_advantage": 5,
         "_deepnote_index_column": 3398
        },
        {
         "height_advantage": 2,
         "_deepnote_index_column": 3399
        },
        {
         "height_advantage": -1,
         "_deepnote_index_column": 3400
        },
        {
         "height_advantage": 7,
         "_deepnote_index_column": 3401
        },
        {
         "height_advantage": 0,
         "_deepnote_index_column": 3402
        },
        {
         "height_advantage": 0,
         "_deepnote_index_column": 3403
        },
        {
         "height_advantage": 1,
         "_deepnote_index_column": 3404
        },
        {
         "height_advantage": 2,
         "_deepnote_index_column": 3405
        },
        {
         "height_advantage": -1,
         "_deepnote_index_column": 3406
        },
        {
         "height_advantage": 0,
         "_deepnote_index_column": 3407
        },
        {
         "height_advantage": 1,
         "_deepnote_index_column": 3408
        },
        {
         "height_advantage": 1,
         "_deepnote_index_column": 3409
        },
        {
         "height_advantage": 1,
         "_deepnote_index_column": 3410
        },
        {
         "height_advantage": -4,
         "_deepnote_index_column": 3411
        },
        {
         "height_advantage": 3,
         "_deepnote_index_column": 3412
        },
        {
         "height_advantage": 3,
         "_deepnote_index_column": 3413
        },
        {
         "height_advantage": 5,
         "_deepnote_index_column": 3414
        },
        {
         "height_advantage": -1,
         "_deepnote_index_column": 3415
        },
        {
         "height_advantage": -4,
         "_deepnote_index_column": 3416
        },
        {
         "height_advantage": 1,
         "_deepnote_index_column": 3417
        },
        {
         "height_advantage": 1,
         "_deepnote_index_column": 3418
        },
        {
         "height_advantage": -2,
         "_deepnote_index_column": 3419
        },
        {
         "height_advantage": 1,
         "_deepnote_index_column": 3420
        },
        {
         "height_advantage": 2,
         "_deepnote_index_column": 3421
        },
        {
         "height_advantage": 0,
         "_deepnote_index_column": 3422
        },
        {
         "height_advantage": -6,
         "_deepnote_index_column": 3423
        },
        {
         "height_advantage": 0,
         "_deepnote_index_column": 3424
        },
        {
         "height_advantage": 3,
         "_deepnote_index_column": 3425
        },
        {
         "height_advantage": -1,
         "_deepnote_index_column": 3426
        },
        {
         "height_advantage": 2,
         "_deepnote_index_column": 3427
        },
        {
         "height_advantage": -2,
         "_deepnote_index_column": 3428
        },
        {
         "height_advantage": -2,
         "_deepnote_index_column": 3429
        },
        {
         "height_advantage": 1,
         "_deepnote_index_column": 3430
        },
        {
         "height_advantage": 2,
         "_deepnote_index_column": 3431
        },
        {
         "height_advantage": -2,
         "_deepnote_index_column": 3432
        },
        {
         "height_advantage": 0,
         "_deepnote_index_column": 3433
        },
        {
         "height_advantage": -2,
         "_deepnote_index_column": 3434
        },
        {
         "height_advantage": 0,
         "_deepnote_index_column": 3435
        },
        {
         "height_advantage": 1,
         "_deepnote_index_column": 3436
        },
        {
         "height_advantage": -1,
         "_deepnote_index_column": 3437
        },
        {
         "height_advantage": 2,
         "_deepnote_index_column": 3438
        },
        {
         "height_advantage": 1,
         "_deepnote_index_column": 3439
        },
        {
         "height_advantage": 1,
         "_deepnote_index_column": 3440
        },
        {
         "height_advantage": -2,
         "_deepnote_index_column": 3441
        },
        {
         "height_advantage": 0,
         "_deepnote_index_column": 3442
        },
        {
         "height_advantage": 0,
         "_deepnote_index_column": 3443
        },
        {
         "height_advantage": 2,
         "_deepnote_index_column": 3444
        },
        {
         "height_advantage": -3,
         "_deepnote_index_column": 3445
        },
        {
         "height_advantage": 1,
         "_deepnote_index_column": 3446
        },
        {
         "height_advantage": -2,
         "_deepnote_index_column": 3447
        },
        {
         "height_advantage": 0,
         "_deepnote_index_column": 3448
        },
        {
         "height_advantage": -1,
         "_deepnote_index_column": 3449
        },
        {
         "height_advantage": -1,
         "_deepnote_index_column": 3450
        },
        {
         "height_advantage": -1,
         "_deepnote_index_column": 3451
        },
        {
         "height_advantage": 3,
         "_deepnote_index_column": 3452
        },
        {
         "height_advantage": 2,
         "_deepnote_index_column": 3453
        },
        {
         "height_advantage": 1,
         "_deepnote_index_column": 3454
        },
        {
         "height_advantage": 4,
         "_deepnote_index_column": 3455
        },
        {
         "height_advantage": 0,
         "_deepnote_index_column": 3456
        },
        {
         "height_advantage": -4,
         "_deepnote_index_column": 3457
        },
        {
         "height_advantage": 3,
         "_deepnote_index_column": 3458
        },
        {
         "height_advantage": -4,
         "_deepnote_index_column": 3459
        },
        {
         "height_advantage": -1,
         "_deepnote_index_column": 3460
        },
        {
         "height_advantage": 2,
         "_deepnote_index_column": 3461
        },
        {
         "height_advantage": -5,
         "_deepnote_index_column": 3462
        },
        {
         "height_advantage": 1,
         "_deepnote_index_column": 3463
        },
        {
         "height_advantage": 0,
         "_deepnote_index_column": 3464
        },
        {
         "height_advantage": 1,
         "_deepnote_index_column": 3465
        },
        {
         "height_advantage": 0,
         "_deepnote_index_column": 3466
        },
        {
         "height_advantage": 1,
         "_deepnote_index_column": 3467
        },
        {
         "height_advantage": -5,
         "_deepnote_index_column": 3468
        },
        {
         "height_advantage": 0,
         "_deepnote_index_column": 3469
        },
        {
         "height_advantage": 0,
         "_deepnote_index_column": 3470
        },
        {
         "height_advantage": -1,
         "_deepnote_index_column": 3471
        },
        {
         "height_advantage": 1,
         "_deepnote_index_column": 3472
        },
        {
         "height_advantage": -1,
         "_deepnote_index_column": 3473
        },
        {
         "height_advantage": 1,
         "_deepnote_index_column": 3474
        },
        {
         "height_advantage": -1,
         "_deepnote_index_column": 3475
        },
        {
         "height_advantage": -2,
         "_deepnote_index_column": 3476
        },
        {
         "height_advantage": 3,
         "_deepnote_index_column": 3478
        },
        {
         "height_advantage": -2,
         "_deepnote_index_column": 3479
        },
        {
         "height_advantage": 3,
         "_deepnote_index_column": 3480
        },
        {
         "height_advantage": 0,
         "_deepnote_index_column": 3481
        },
        {
         "height_advantage": -1,
         "_deepnote_index_column": 3482
        },
        {
         "height_advantage": 3,
         "_deepnote_index_column": 3483
        },
        {
         "height_advantage": -1,
         "_deepnote_index_column": 3484
        },
        {
         "height_advantage": 2,
         "_deepnote_index_column": 3485
        },
        {
         "height_advantage": 3,
         "_deepnote_index_column": 3486
        },
        {
         "height_advantage": 3,
         "_deepnote_index_column": 3489
        },
        {
         "height_advantage": 0,
         "_deepnote_index_column": 3490
        },
        {
         "height_advantage": 2,
         "_deepnote_index_column": 3491
        },
        {
         "height_advantage": 1,
         "_deepnote_index_column": 3492
        },
        {
         "height_advantage": -1,
         "_deepnote_index_column": 3493
        },
        {
         "height_advantage": 3,
         "_deepnote_index_column": 3494
        },
        {
         "height_advantage": 2,
         "_deepnote_index_column": 3495
        },
        {
         "height_advantage": 4,
         "_deepnote_index_column": 3496
        },
        {
         "height_advantage": 2,
         "_deepnote_index_column": 3497
        },
        {
         "height_advantage": 4,
         "_deepnote_index_column": 3498
        },
        {
         "height_advantage": 1,
         "_deepnote_index_column": 3499
        },
        {
         "height_advantage": 2,
         "_deepnote_index_column": 3500
        },
        {
         "height_advantage": 0,
         "_deepnote_index_column": 3501
        },
        {
         "height_advantage": -2,
         "_deepnote_index_column": 3502
        }
       ]
      },
      "text/plain": "      height_advantage\n0                 -5.0\n1                 -3.0\n2                 -1.0\n3                  1.0\n4                 -1.0\n...                ...\n3498               4.0\n3499               1.0\n3500               2.0\n3501               0.0\n3502              -2.0\n\n[3402 rows x 1 columns]",
      "text/html": "<div>\n<style scoped>\n    .dataframe tbody tr th:only-of-type {\n        vertical-align: middle;\n    }\n\n    .dataframe tbody tr th {\n        vertical-align: top;\n    }\n\n    .dataframe thead th {\n        text-align: right;\n    }\n</style>\n<table border=\"1\" class=\"dataframe\">\n  <thead>\n    <tr style=\"text-align: right;\">\n      <th></th>\n      <th>height_advantage</th>\n    </tr>\n  </thead>\n  <tbody>\n    <tr>\n      <th>0</th>\n      <td>-5.0</td>\n    </tr>\n    <tr>\n      <th>1</th>\n      <td>-3.0</td>\n    </tr>\n    <tr>\n      <th>2</th>\n      <td>-1.0</td>\n    </tr>\n    <tr>\n      <th>3</th>\n      <td>1.0</td>\n    </tr>\n    <tr>\n      <th>4</th>\n      <td>-1.0</td>\n    </tr>\n    <tr>\n      <th>...</th>\n      <td>...</td>\n    </tr>\n    <tr>\n      <th>3498</th>\n      <td>4.0</td>\n    </tr>\n    <tr>\n      <th>3499</th>\n      <td>1.0</td>\n    </tr>\n    <tr>\n      <th>3500</th>\n      <td>2.0</td>\n    </tr>\n    <tr>\n      <th>3501</th>\n      <td>0.0</td>\n    </tr>\n    <tr>\n      <th>3502</th>\n      <td>-2.0</td>\n    </tr>\n  </tbody>\n</table>\n<p>3402 rows × 1 columns</p>\n</div>"
     },
     "metadata": {},
     "output_type": "display_data"
    },
    {
     "data": {
      "application/vnd.deepnote.dataframe.v2+json": {
       "row_count": 8,
       "column_count": 1,
       "columns": [
        {
         "name": "height_advantage",
         "dtype": "float64",
         "stats": {
          "unique_count": 8,
          "nan_count": 0,
          "min": "-7.0",
          "max": "3402.0",
          "histogram": [
           {
            "bin_start": -7,
            "bin_end": 333.9,
            "count": 7
           },
           {
            "bin_start": 333.9,
            "bin_end": 674.8,
            "count": 0
           },
           {
            "bin_start": 674.8,
            "bin_end": 1015.6999999999999,
            "count": 0
           },
           {
            "bin_start": 1015.6999999999999,
            "bin_end": 1356.6,
            "count": 0
           },
           {
            "bin_start": 1356.6,
            "bin_end": 1697.5,
            "count": 0
           },
           {
            "bin_start": 1697.5,
            "bin_end": 2038.3999999999999,
            "count": 0
           },
           {
            "bin_start": 2038.3999999999999,
            "bin_end": 2379.2999999999997,
            "count": 0
           },
           {
            "bin_start": 2379.2999999999997,
            "bin_end": 2720.2,
            "count": 0
           },
           {
            "bin_start": 2720.2,
            "bin_end": 3061.1,
            "count": 0
           },
           {
            "bin_start": 3061.1,
            "bin_end": 3402,
            "count": 1
           }
          ]
         }
        },
        {
         "name": "_deepnote_index_column",
         "dtype": "object"
        }
       ],
       "rows_top": [
        {
         "height_advantage": 3402,
         "_deepnote_index_column": "count"
        },
        {
         "height_advantage": 0.06466784244562022,
         "_deepnote_index_column": "mean"
        },
        {
         "height_advantage": 2.4737238994688315,
         "_deepnote_index_column": "std"
        },
        {
         "height_advantage": -7,
         "_deepnote_index_column": "min"
        },
        {
         "height_advantage": -1,
         "_deepnote_index_column": "25%"
        },
        {
         "height_advantage": 0,
         "_deepnote_index_column": "50%"
        },
        {
         "height_advantage": 2,
         "_deepnote_index_column": "75%"
        },
        {
         "height_advantage": 7,
         "_deepnote_index_column": "max"
        }
       ],
       "rows_bottom": null
      },
      "text/plain": "       height_advantage\ncount       3402.000000\nmean           0.064668\nstd            2.473724\nmin           -7.000000\n25%           -1.000000\n50%            0.000000\n75%            2.000000\nmax            7.000000",
      "text/html": "<div>\n<style scoped>\n    .dataframe tbody tr th:only-of-type {\n        vertical-align: middle;\n    }\n\n    .dataframe tbody tr th {\n        vertical-align: top;\n    }\n\n    .dataframe thead th {\n        text-align: right;\n    }\n</style>\n<table border=\"1\" class=\"dataframe\">\n  <thead>\n    <tr style=\"text-align: right;\">\n      <th></th>\n      <th>height_advantage</th>\n    </tr>\n  </thead>\n  <tbody>\n    <tr>\n      <th>count</th>\n      <td>3402.000000</td>\n    </tr>\n    <tr>\n      <th>mean</th>\n      <td>0.064668</td>\n    </tr>\n    <tr>\n      <th>std</th>\n      <td>2.473724</td>\n    </tr>\n    <tr>\n      <th>min</th>\n      <td>-7.000000</td>\n    </tr>\n    <tr>\n      <th>25%</th>\n      <td>-1.000000</td>\n    </tr>\n    <tr>\n      <th>50%</th>\n      <td>0.000000</td>\n    </tr>\n    <tr>\n      <th>75%</th>\n      <td>2.000000</td>\n    </tr>\n    <tr>\n      <th>max</th>\n      <td>7.000000</td>\n    </tr>\n  </tbody>\n</table>\n</div>"
     },
     "metadata": {},
     "output_type": "display_data"
    }
   ]
  },
  {
   "cell_type": "code",
   "metadata": {
    "tags": [],
    "cell_id": "00016-0bb05f9b-3365-41d5-b39a-a920fafa7cfb",
    "deepnote_to_be_reexecuted": false,
    "source_hash": "ef3a2ddb",
    "execution_start": 1627680818135,
    "execution_millis": 243,
    "deepnote_cell_type": "code"
   },
   "source": "plt.hist(no_outliers,color = 'indianred',bins = 15)",
   "execution_count": 11,
   "outputs": [
    {
     "output_type": "execute_result",
     "execution_count": 11,
     "data": {
      "text/plain": "(array([ 20.,  36.,  74., 123., 238., 340., 526., 610., 518., 381., 259.,\n        151.,  73.,  39.,  14.]),\n array([-7.        , -6.06666667, -5.13333333, -4.2       , -3.26666667,\n        -2.33333333, -1.4       , -0.46666667,  0.46666667,  1.4       ,\n         2.33333333,  3.26666667,  4.2       ,  5.13333333,  6.06666667,\n         7.        ]),\n <BarContainer object of 15 artists>)"
     },
     "metadata": {}
    },
    {
     "data": {
      "text/plain": "<Figure size 432x288 with 1 Axes>",
      "image/png": "[encoded data removed]"
     },
     "metadata": {
      "needs_background": "light",
      "image/png": {
       "width": 375,
       "height": 248
      }
     },
     "output_type": "display_data"
    }
   ]
  },
  {
   "cell_type": "markdown",
   "source": "Removing outliers does not have any significant effect on the correlatino between height advantage and winning. In fact, mean height advantage is lower by a tiny amount.",
   "metadata": {
    "tags": [],
    "cell_id": "00017-c719658b-7278-4ca4-940e-59cb8866a9c0",
    "deepnote_cell_type": "markdown"
   }
  },
  {
   "cell_type": "markdown",
   "source": "<a style='text-decoration:none;line-height:16px;display:flex;color:#5B5B62;padding:10px;justify-content:end;' href='https://deepnote.com?utm_source=created-in-deepnote-cell&projectId=657be62d-1fc1-4dd5-8bf1-c3b3098a89d0' target=\"_blank\">\n<img alt='Created in deepnote.com' style='display:inline;max-height:16px;margin:0px;margin-right:7.5px;' src='data:image/svg+xml;base64,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' > </img>\nCreated in <span style='font-weight:600;margin-left:4px;'>Deepnote</span></a>",
   "metadata": {
    "tags": [],
    "created_in_deepnote_cell": true,
    "deepnote_cell_type": "markdown"
   }
  }
 ],
 "nbformat": 4,
 "nbformat_minor": 2,
 "metadata": {
  "orig_nbformat": 2,
  "deepnote": {
   "is_reactive": false
  },
  "deepnote_notebook_id": "240de233-a08e-42c1-9a4b-1f23a12bb098",
  "deepnote_execution_queue": []
 }
}
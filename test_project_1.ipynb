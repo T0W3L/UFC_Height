{
 "cells": [
  {
   "cell_type": "markdown",
   "source": "## Importing Data and Libraries",
   "metadata": {
    "tags": [],
    "is_collapsed": false,
    "cell_id": "00001-0418e4c4-1ea2-43be-a3ee-f6cce7b74c54",
    "deepnote_cell_type": "text-cell-h2"
   }
  },
  {
   "cell_type": "code",
   "metadata": {
    "tags": [],
    "cell_id": "00000-45275e5f-6709-4998-b966-48a56e3736af",
    "deepnote_to_be_reexecuted": false,
    "source_hash": "cac3e50f",
    "execution_start": 1627638401020,
    "execution_millis": 5,
    "deepnote_cell_type": "code"
   },
   "source": "import numpy as np\n\nimport pandas as pd\n\nfrom pandas import DataFrame, Series",
   "execution_count": 1,
   "outputs": []
  },
  {
   "cell_type": "code",
   "metadata": {
    "tags": [],
    "cell_id": "00001-427db178-f037-4966-9844-1743f5fcb7f6",
    "deepnote_to_be_reexecuted": false,
    "source_hash": "9e37558b",
    "execution_start": 1627638401045,
    "execution_millis": 142,
    "deepnote_cell_type": "code"
   },
   "source": "##spec_cols = [9,10,11,12,15]\nspec_cols = [9,10,11,12]\n\n# Specify desired columns.\n\nufc_fights = pd.read_excel('ufc_fights.xlsx',usecols = spec_cols)\n\n# Reading spreadsheet containing list of all fights.\n\nufc_fights",
   "execution_count": 2,
   "outputs": [
    {
     "output_type": "error",
     "ename": "ImportError",
     "evalue": "Missing optional dependency 'xlrd'. Install xlrd >= 1.0.0 for Excel support Use pip or conda to install xlrd.",
     "traceback": [
      "\u001b[0;31m---------------------------------------------------------------------------\u001b[0m",
      "\u001b[0;31mImportError\u001b[0m                               Traceback (most recent call last)",
      "\u001b[0;32m/tmp/ipykernel_127/2234237641.py\u001b[0m in \u001b[0;36m<module>\u001b[0;34m\u001b[0m\n\u001b[1;32m      4\u001b[0m \u001b[0;31m# Specify desired columns.\u001b[0m\u001b[0;34m\u001b[0m\u001b[0;34m\u001b[0m\u001b[0;34m\u001b[0m\u001b[0m\n\u001b[1;32m      5\u001b[0m \u001b[0;34m\u001b[0m\u001b[0m\n\u001b[0;32m----> 6\u001b[0;31m \u001b[0mufc_fights\u001b[0m \u001b[0;34m=\u001b[0m \u001b[0mpd\u001b[0m\u001b[0;34m.\u001b[0m\u001b[0mread_excel\u001b[0m\u001b[0;34m(\u001b[0m\u001b[0;34m'ufc_fights.xlsx'\u001b[0m\u001b[0;34m,\u001b[0m\u001b[0musecols\u001b[0m \u001b[0;34m=\u001b[0m \u001b[0mspec_cols\u001b[0m\u001b[0;34m)\u001b[0m\u001b[0;34m\u001b[0m\u001b[0;34m\u001b[0m\u001b[0m\n\u001b[0m\u001b[1;32m      7\u001b[0m \u001b[0;34m\u001b[0m\u001b[0m\n\u001b[1;32m      8\u001b[0m \u001b[0;31m# Reading spreadsheet containing list of all fights.\u001b[0m\u001b[0;34m\u001b[0m\u001b[0;34m\u001b[0m\u001b[0;34m\u001b[0m\u001b[0m\n",
      "\u001b[0;32m/shared-libs/python3.7/py/lib/python3.7/site-packages/pandas/util/_decorators.py\u001b[0m in \u001b[0;36mwrapper\u001b[0;34m(*args, **kwargs)\u001b[0m\n\u001b[1;32m    297\u001b[0m                 )\n\u001b[1;32m    298\u001b[0m                 \u001b[0mwarnings\u001b[0m\u001b[0;34m.\u001b[0m\u001b[0mwarn\u001b[0m\u001b[0;34m(\u001b[0m\u001b[0mmsg\u001b[0m\u001b[0;34m,\u001b[0m \u001b[0mFutureWarning\u001b[0m\u001b[0;34m,\u001b[0m \u001b[0mstacklevel\u001b[0m\u001b[0;34m=\u001b[0m\u001b[0mstacklevel\u001b[0m\u001b[0;34m)\u001b[0m\u001b[0;34m\u001b[0m\u001b[0;34m\u001b[0m\u001b[0m\n\u001b[0;32m--> 299\u001b[0;31m             \u001b[0;32mreturn\u001b[0m \u001b[0mfunc\u001b[0m\u001b[0;34m(\u001b[0m\u001b[0;34m*\u001b[0m\u001b[0margs\u001b[0m\u001b[0;34m,\u001b[0m \u001b[0;34m**\u001b[0m\u001b[0mkwargs\u001b[0m\u001b[0;34m)\u001b[0m\u001b[0;34m\u001b[0m\u001b[0;34m\u001b[0m\u001b[0m\n\u001b[0m\u001b[1;32m    300\u001b[0m \u001b[0;34m\u001b[0m\u001b[0m\n\u001b[1;32m    301\u001b[0m         \u001b[0;32mreturn\u001b[0m \u001b[0mwrapper\u001b[0m\u001b[0;34m\u001b[0m\u001b[0;34m\u001b[0m\u001b[0m\n",
      "\u001b[0;32m/shared-libs/python3.7/py/lib/python3.7/site-packages/pandas/io/excel/_base.py\u001b[0m in \u001b[0;36mread_excel\u001b[0;34m(io, sheet_name, header, names, index_col, usecols, squeeze, dtype, engine, converters, true_values, false_values, skiprows, nrows, na_values, keep_default_na, na_filter, verbose, parse_dates, date_parser, thousands, comment, skipfooter, convert_float, mangle_dupe_cols, storage_options)\u001b[0m\n\u001b[1;32m    334\u001b[0m     \u001b[0;32mif\u001b[0m \u001b[0;32mnot\u001b[0m \u001b[0misinstance\u001b[0m\u001b[0;34m(\u001b[0m\u001b[0mio\u001b[0m\u001b[0;34m,\u001b[0m \u001b[0mExcelFile\u001b[0m\u001b[0;34m)\u001b[0m\u001b[0;34m:\u001b[0m\u001b[0;34m\u001b[0m\u001b[0;34m\u001b[0m\u001b[0m\n\u001b[1;32m    335\u001b[0m         \u001b[0mshould_close\u001b[0m \u001b[0;34m=\u001b[0m \u001b[0;32mTrue\u001b[0m\u001b[0;34m\u001b[0m\u001b[0;34m\u001b[0m\u001b[0m\n\u001b[0;32m--> 336\u001b[0;31m         \u001b[0mio\u001b[0m \u001b[0;34m=\u001b[0m \u001b[0mExcelFile\u001b[0m\u001b[0;34m(\u001b[0m\u001b[0mio\u001b[0m\u001b[0;34m,\u001b[0m \u001b[0mstorage_options\u001b[0m\u001b[0;34m=\u001b[0m\u001b[0mstorage_options\u001b[0m\u001b[0;34m,\u001b[0m \u001b[0mengine\u001b[0m\u001b[0;34m=\u001b[0m\u001b[0mengine\u001b[0m\u001b[0;34m)\u001b[0m\u001b[0;34m\u001b[0m\u001b[0;34m\u001b[0m\u001b[0m\n\u001b[0m\u001b[1;32m    337\u001b[0m     \u001b[0;32melif\u001b[0m \u001b[0mengine\u001b[0m \u001b[0;32mand\u001b[0m \u001b[0mengine\u001b[0m \u001b[0;34m!=\u001b[0m \u001b[0mio\u001b[0m\u001b[0;34m.\u001b[0m\u001b[0mengine\u001b[0m\u001b[0;34m:\u001b[0m\u001b[0;34m\u001b[0m\u001b[0;34m\u001b[0m\u001b[0m\n\u001b[1;32m    338\u001b[0m         raise ValueError(\n",
      "\u001b[0;32m/shared-libs/python3.7/py/lib/python3.7/site-packages/pandas/io/excel/_base.py\u001b[0m in \u001b[0;36m__init__\u001b[0;34m(self, path_or_buffer, engine, storage_options)\u001b[0m\n\u001b[1;32m   1138\u001b[0m         \u001b[0mself\u001b[0m\u001b[0;34m.\u001b[0m\u001b[0mstorage_options\u001b[0m \u001b[0;34m=\u001b[0m \u001b[0mstorage_options\u001b[0m\u001b[0;34m\u001b[0m\u001b[0;34m\u001b[0m\u001b[0m\n\u001b[1;32m   1139\u001b[0m \u001b[0;34m\u001b[0m\u001b[0m\n\u001b[0;32m-> 1140\u001b[0;31m         \u001b[0mself\u001b[0m\u001b[0;34m.\u001b[0m\u001b[0m_reader\u001b[0m \u001b[0;34m=\u001b[0m \u001b[0mself\u001b[0m\u001b[0;34m.\u001b[0m\u001b[0m_engines\u001b[0m\u001b[0;34m[\u001b[0m\u001b[0mengine\u001b[0m\u001b[0;34m]\u001b[0m\u001b[0;34m(\u001b[0m\u001b[0mself\u001b[0m\u001b[0;34m.\u001b[0m\u001b[0m_io\u001b[0m\u001b[0;34m,\u001b[0m \u001b[0mstorage_options\u001b[0m\u001b[0;34m=\u001b[0m\u001b[0mstorage_options\u001b[0m\u001b[0;34m)\u001b[0m\u001b[0;34m\u001b[0m\u001b[0;34m\u001b[0m\u001b[0m\n\u001b[0m\u001b[1;32m   1141\u001b[0m \u001b[0;34m\u001b[0m\u001b[0m\n\u001b[1;32m   1142\u001b[0m     \u001b[0;32mdef\u001b[0m \u001b[0m__fspath__\u001b[0m\u001b[0;34m(\u001b[0m\u001b[0mself\u001b[0m\u001b[0;34m)\u001b[0m\u001b[0;34m:\u001b[0m\u001b[0;34m\u001b[0m\u001b[0;34m\u001b[0m\u001b[0m\n",
      "\u001b[0;32m/shared-libs/python3.7/py/lib/python3.7/site-packages/pandas/io/excel/_xlrd.py\u001b[0m in \u001b[0;36m__init__\u001b[0;34m(self, filepath_or_buffer, storage_options)\u001b[0m\n\u001b[1;32m     22\u001b[0m         \"\"\"\n\u001b[1;32m     23\u001b[0m         \u001b[0merr_msg\u001b[0m \u001b[0;34m=\u001b[0m \u001b[0;34m\"Install xlrd >= 1.0.0 for Excel support\"\u001b[0m\u001b[0;34m\u001b[0m\u001b[0;34m\u001b[0m\u001b[0m\n\u001b[0;32m---> 24\u001b[0;31m         \u001b[0mimport_optional_dependency\u001b[0m\u001b[0;34m(\u001b[0m\u001b[0;34m\"xlrd\"\u001b[0m\u001b[0;34m,\u001b[0m \u001b[0mextra\u001b[0m\u001b[0;34m=\u001b[0m\u001b[0merr_msg\u001b[0m\u001b[0;34m)\u001b[0m\u001b[0;34m\u001b[0m\u001b[0;34m\u001b[0m\u001b[0m\n\u001b[0m\u001b[1;32m     25\u001b[0m         \u001b[0msuper\u001b[0m\u001b[0;34m(\u001b[0m\u001b[0;34m)\u001b[0m\u001b[0;34m.\u001b[0m\u001b[0m__init__\u001b[0m\u001b[0;34m(\u001b[0m\u001b[0mfilepath_or_buffer\u001b[0m\u001b[0;34m,\u001b[0m \u001b[0mstorage_options\u001b[0m\u001b[0;34m=\u001b[0m\u001b[0mstorage_options\u001b[0m\u001b[0;34m)\u001b[0m\u001b[0;34m\u001b[0m\u001b[0;34m\u001b[0m\u001b[0m\n\u001b[1;32m     26\u001b[0m \u001b[0;34m\u001b[0m\u001b[0m\n",
      "\u001b[0;32m/shared-libs/python3.7/py/lib/python3.7/site-packages/pandas/compat/_optional.py\u001b[0m in \u001b[0;36mimport_optional_dependency\u001b[0;34m(name, extra, raise_on_missing, on_version)\u001b[0m\n\u001b[1;32m    107\u001b[0m     \u001b[0;32mexcept\u001b[0m \u001b[0mImportError\u001b[0m\u001b[0;34m:\u001b[0m\u001b[0;34m\u001b[0m\u001b[0;34m\u001b[0m\u001b[0m\n\u001b[1;32m    108\u001b[0m         \u001b[0;32mif\u001b[0m \u001b[0mraise_on_missing\u001b[0m\u001b[0;34m:\u001b[0m\u001b[0;34m\u001b[0m\u001b[0;34m\u001b[0m\u001b[0m\n\u001b[0;32m--> 109\u001b[0;31m             \u001b[0;32mraise\u001b[0m \u001b[0mImportError\u001b[0m\u001b[0;34m(\u001b[0m\u001b[0mmsg\u001b[0m\u001b[0;34m)\u001b[0m \u001b[0;32mfrom\u001b[0m \u001b[0;32mNone\u001b[0m\u001b[0;34m\u001b[0m\u001b[0;34m\u001b[0m\u001b[0m\n\u001b[0m\u001b[1;32m    110\u001b[0m         \u001b[0;32melse\u001b[0m\u001b[0;34m:\u001b[0m\u001b[0;34m\u001b[0m\u001b[0;34m\u001b[0m\u001b[0m\n\u001b[1;32m    111\u001b[0m             \u001b[0;32mreturn\u001b[0m \u001b[0;32mNone\u001b[0m\u001b[0;34m\u001b[0m\u001b[0;34m\u001b[0m\u001b[0m\n",
      "\u001b[0;31mImportError\u001b[0m: Missing optional dependency 'xlrd'. Install xlrd >= 1.0.0 for Excel support Use pip or conda to install xlrd."
     ]
    }
   ]
  },
  {
   "cell_type": "code",
   "metadata": {
    "tags": [],
    "cell_id": "00002-2e4890b6-fbf6-4c03-9e28-92dd0aa48636",
    "deepnote_to_be_reexecuted": true,
    "source_hash": "137b784b",
    "execution_start": 1627605602238,
    "execution_millis": 694,
    "deepnote_cell_type": "code"
   },
   "source": " spec_cols2 = [2,5]\n\nufc_fighters = pd.read_excel('ufc_fighters.xlsx',usecols = spec_cols2)\n\nufc_fighters",
   "execution_count": null,
   "outputs": [
    {
     "output_type": "execute_result",
     "execution_count": 3,
     "data": {
      "application/vnd.deepnote.dataframe.v2+json": {
       "row_count": 1526,
       "column_count": 2,
       "columns": [
        {
         "name": "name",
         "dtype": "object",
         "stats": {
          "unique_count": 1525,
          "nan_count": 1,
          "categories": [
           {
            "name": "Conor McGregor",
            "count": 1
           },
           {
            "name": "1524 others",
            "count": 1524
           },
           {
            "name": "Missing",
            "count": 1
           }
          ]
         }
        },
        {
         "name": "height",
         "dtype": "float64",
         "stats": {
          "unique_count": 24,
          "nan_count": 54,
          "min": "61.0",
          "max": "84.0",
          "histogram": [
           {
            "bin_start": 61,
            "bin_end": 63.3,
            "count": 28
           },
           {
            "bin_start": 63.3,
            "bin_end": 65.6,
            "count": 62
           },
           {
            "bin_start": 65.6,
            "bin_end": 67.9,
            "count": 157
           },
           {
            "bin_start": 67.9,
            "bin_end": 70.2,
            "count": 451
           },
           {
            "bin_start": 70.2,
            "bin_end": 72.5,
            "count": 356
           },
           {
            "bin_start": 72.5,
            "bin_end": 74.8,
            "count": 251
           },
           {
            "bin_start": 74.8,
            "bin_end": 77.1,
            "count": 142
           },
           {
            "bin_start": 77.1,
            "bin_end": 79.4,
            "count": 14
           },
           {
            "bin_start": 79.4,
            "bin_end": 81.7,
            "count": 8
           },
           {
            "bin_start": 81.7,
            "bin_end": 84,
            "count": 3
           }
          ]
         }
        },
        {
         "name": "_deepnote_index_column",
         "dtype": "int64"
        }
       ],
       "rows_top": [
        {
         "name": "Conor McGregor",
         "height": 68,
         "_deepnote_index_column": 0
        },
        {
         "name": "Jon Jones",
         "height": 76,
         "_deepnote_index_column": 1
        },
        {
         "name": "Holly Holm",
         "height": 68,
         "_deepnote_index_column": 2
        },
        {
         "name": "Dominick Cruz",
         "height": 68,
         "_deepnote_index_column": 3
        },
        {
         "name": "Demetrious Johnson",
         "height": 63,
         "_deepnote_index_column": 4
        },
        {
         "name": "Ronda Rousey",
         "height": 66,
         "_deepnote_index_column": 5
        },
        {
         "name": "Fabricio Werdum",
         "height": 76,
         "_deepnote_index_column": 6
        },
        {
         "name": "Robbie Lawler",
         "height": 71,
         "_deepnote_index_column": 7
        },
        {
         "name": "Jose Aldo",
         "height": 67,
         "_deepnote_index_column": 8
        },
        {
         "name": "Chad Mendes",
         "height": 66,
         "_deepnote_index_column": 9
        },
        {
         "name": "Dustin Poirier",
         "height": 69,
         "_deepnote_index_column": 10
        },
        {
         "name": "Marcus Brimage",
         "height": 64,
         "_deepnote_index_column": 11
        },
        {
         "name": "Diego Brandao",
         "height": 67,
         "_deepnote_index_column": 12
        },
        {
         "name": "Max Holloway",
         "height": 71,
         "_deepnote_index_column": 13
        },
        {
         "name": "Joseph Duffy",
         "height": 70,
         "_deepnote_index_column": 14
        },
        {
         "name": "Kevin Randleman",
         "height": 70,
         "_deepnote_index_column": 15
        },
        {
         "name": "Vitor Belfort",
         "height": 72,
         "_deepnote_index_column": 16
        },
        {
         "name": "Rashad Evans",
         "height": 71,
         "_deepnote_index_column": 17
        },
        {
         "name": "Ryan Bader",
         "height": 74,
         "_deepnote_index_column": 18
        },
        {
         "name": "Michael Bisping",
         "height": 74,
         "_deepnote_index_column": 19
        },
        {
         "name": "Alexander Gustafsson",
         "height": 76,
         "_deepnote_index_column": 20
        },
        {
         "name": "Vladimir Matyushenko",
         "height": 73,
         "_deepnote_index_column": 21
        },
        {
         "name": "Lyoto Machida",
         "height": 73,
         "_deepnote_index_column": 22
        },
        {
         "name": "Quinton Jackson",
         "height": 73,
         "_deepnote_index_column": 23
        },
        {
         "name": "Brandon Vera",
         "height": 74,
         "_deepnote_index_column": 24
        },
        {
         "name": "Mauricio Rua",
         "height": 73,
         "_deepnote_index_column": 25
        },
        {
         "name": "Stephan Bonnar",
         "height": 75,
         "_deepnote_index_column": 26
        },
        {
         "name": "Mark Kerr",
         "height": 75,
         "_deepnote_index_column": 27
        },
        {
         "name": "James Toney",
         "height": 70,
         "_deepnote_index_column": 28
        },
        {
         "name": "Randy Couture",
         "height": 73,
         "_deepnote_index_column": 29
        },
        {
         "name": "Marion Reneau",
         "height": 66,
         "_deepnote_index_column": 30
        },
        {
         "name": "Anthony Pettis",
         "height": 69,
         "_deepnote_index_column": 31
        },
        {
         "name": "Miesha Tate",
         "height": 66,
         "_deepnote_index_column": 32
        },
        {
         "name": "Donald Cerrone",
         "height": 71,
         "_deepnote_index_column": 33
        },
        {
         "name": "Raquel Pennington",
         "height": 67,
         "_deepnote_index_column": 34
        },
        {
         "name": "Alex Oliveira",
         "height": 71,
         "_deepnote_index_column": 35
        },
        {
         "name": "Urijah Faber",
         "height": 66,
         "_deepnote_index_column": 36
        },
        {
         "name": "Scott Jorgensen",
         "height": 65,
         "_deepnote_index_column": 37
        },
        {
         "name": "Ian McCall",
         "height": 65,
         "_deepnote_index_column": 38
        },
        {
         "name": "Chris Weidman",
         "height": 74,
         "_deepnote_index_column": 39
        },
        {
         "name": "Paul Bradley",
         "height": 69,
         "_deepnote_index_column": 40
        },
        {
         "name": "Tim Boetsch",
         "height": 71,
         "_deepnote_index_column": 41
        },
        {
         "name": "Ronaldo Souza",
         "height": 72,
         "_deepnote_index_column": 42
        },
        {
         "name": "Junior dos Santos",
         "height": 76,
         "_deepnote_index_column": 43
        },
        {
         "name": "Jesse Taylor",
         "height": 73,
         "_deepnote_index_column": 44
        },
        {
         "name": "Stephen Thompson",
         "height": 72,
         "_deepnote_index_column": 45
        },
        {
         "name": "Keith Jardine",
         "height": 74,
         "_deepnote_index_column": 46
        },
        {
         "name": "Dan Henderson",
         "height": 73,
         "_deepnote_index_column": 47
        },
        {
         "name": "Kevin Ferguson",
         "height": 74,
         "_deepnote_index_column": 48
        },
        {
         "name": "Ken Shamrock",
         "height": 73,
         "_deepnote_index_column": 49
        },
        {
         "name": "Anthony Johnson",
         "height": 74,
         "_deepnote_index_column": 50
        },
        {
         "name": "Antonio Rodrigo Nogueira",
         "height": 75,
         "_deepnote_index_column": 51
        },
        {
         "name": "Joe Doerksen",
         "height": 72,
         "_deepnote_index_column": 52
        },
        {
         "name": "Carlos Condit",
         "height": 73,
         "_deepnote_index_column": 53
        },
        {
         "name": "Tim Hague",
         "height": 76,
         "_deepnote_index_column": 54
        },
        {
         "name": "Houston Alexander",
         "height": 72,
         "_deepnote_index_column": 55
        },
        {
         "name": "Jared Cannonier",
         "height": 75,
         "_deepnote_index_column": 56
        },
        {
         "name": "Shamil Abdurakhimov",
         "height": 75,
         "_deepnote_index_column": 57
        },
        {
         "name": "Jeremy Horn",
         "height": 73,
         "_deepnote_index_column": 58
        },
        {
         "name": "Ilir Latifi",
         "height": 68,
         "_deepnote_index_column": 59
        },
        {
         "name": "Alexey Oleinik",
         "height": 73,
         "_deepnote_index_column": 60
        },
        {
         "name": "Darrill Schoonover",
         "height": 74,
         "_deepnote_index_column": 61
        },
        {
         "name": "Jason Lambert",
         "height": 70,
         "_deepnote_index_column": 62
        },
        {
         "name": "Jeff Monson",
         "height": 69,
         "_deepnote_index_column": 63
        },
        {
         "name": "Mike Kyle",
         "height": 75,
         "_deepnote_index_column": 64
        },
        {
         "name": "Joey Beltran",
         "height": 73,
         "_deepnote_index_column": 65
        },
        {
         "name": "Wes Combs",
         "height": 74,
         "_deepnote_index_column": 66
        },
        {
         "name": "Kyle Kingsbury",
         "height": 76,
         "_deepnote_index_column": 67
        },
        {
         "name": "Justin Levens",
         "height": 70,
         "_deepnote_index_column": 68
        },
        {
         "name": "Benson Henderson",
         "height": 69,
         "_deepnote_index_column": 69
        },
        {
         "name": "Kamal Shalorus",
         "height": 68,
         "_deepnote_index_column": 70
        },
        {
         "name": "Anthony Hamilton",
         "height": 77,
         "_deepnote_index_column": 71
        },
        {
         "name": "Clay Guida",
         "height": 67,
         "_deepnote_index_column": 72
        },
        {
         "name": "Jason High",
         "height": 69,
         "_deepnote_index_column": 73
        },
        {
         "name": "Khabib Nurmagomedov",
         "height": 70,
         "_deepnote_index_column": 74
        },
        {
         "name": "Jeremy Stephens",
         "height": 69,
         "_deepnote_index_column": 75
        },
        {
         "name": "Anthony Njokuani",
         "height": 72,
         "_deepnote_index_column": 76
        },
        {
         "name": "Robert Emerson",
         "height": 70,
         "_deepnote_index_column": 77
        },
        {
         "name": "Henry Cejudo",
         "height": 64,
         "_deepnote_index_column": 78
        },
        {
         "name": "John Dodson",
         "height": 63,
         "_deepnote_index_column": 79
        },
        {
         "name": "Chris Cariaso",
         "height": 63,
         "_deepnote_index_column": 80
        },
        {
         "name": "Ali Bagautinov",
         "height": 64,
         "_deepnote_index_column": 81
        },
        {
         "name": "Norifumi Yamamoto",
         "height": 64,
         "_deepnote_index_column": 82
        },
        {
         "name": "Damacio Page",
         "height": 66,
         "_deepnote_index_column": 83
        },
        {
         "name": "Brad Pickett",
         "height": 66,
         "_deepnote_index_column": 84
        },
        {
         "name": "Cat Zingano",
         "height": 66,
         "_deepnote_index_column": 85
        },
        {
         "name": "Alexis Davis",
         "height": 65,
         "_deepnote_index_column": 86
        },
        {
         "name": "Liz Carmouche",
         "height": 66,
         "_deepnote_index_column": 87
        },
        {
         "name": "Roy Nelson",
         "height": 72,
         "_deepnote_index_column": 88
        },
        {
         "name": "Alistair Overeem",
         "height": 77,
         "_deepnote_index_column": 89
        },
        {
         "name": "Gabriel Gonzaga",
         "height": 74,
         "_deepnote_index_column": 90
        },
        {
         "name": "Andrei Arlovski",
         "height": 76,
         "_deepnote_index_column": 91
        },
        {
         "name": "Travis Browne",
         "height": 79,
         "_deepnote_index_column": 92
        },
        {
         "name": "James Zikic",
         "height": 74,
         "_deepnote_index_column": 93
        },
        {
         "name": "Mark Hunt",
         "height": 70,
         "_deepnote_index_column": 94
        },
        {
         "name": "John Olav Einemo",
         "height": 78,
         "_deepnote_index_column": 95
        },
        {
         "name": "Kristof Midoux",
         "height": 73,
         "_deepnote_index_column": 96
        },
        {
         "name": "Antonio Silva",
         "height": 76,
         "_deepnote_index_column": 97
        },
        {
         "name": "Ebenezer Fontes Braga",
         "height": 72,
         "_deepnote_index_column": 98
        },
        {
         "name": "Valerie Letourneau",
         "height": 67,
         "_deepnote_index_column": 99
        },
        {
         "name": "Rosi Sexton",
         "height": 63,
         "_deepnote_index_column": 100
        },
        {
         "name": "Juliana Lima",
         "height": 65,
         "_deepnote_index_column": 101
        },
        {
         "name": "Claudia Gadelha",
         "height": 63,
         "_deepnote_index_column": 102
        },
        {
         "name": "Carla Esparza",
         "height": 61,
         "_deepnote_index_column": 103
        },
        {
         "name": "Johny Hendricks",
         "height": 69,
         "_deepnote_index_column": 104
        },
        {
         "name": "Jake Ellenberger",
         "height": 69,
         "_deepnote_index_column": 105
        },
        {
         "name": "Matt Brown",
         "height": 72,
         "_deepnote_index_column": 106
        },
        {
         "name": "Jessica Aguilar",
         "height": 64,
         "_deepnote_index_column": 107
        },
        {
         "name": "Renato Sobral",
         "height": 72,
         "_deepnote_index_column": 108
        },
        {
         "name": "Lorenz Larkin",
         "height": 71,
         "_deepnote_index_column": 109
        },
        {
         "name": "Rory MacDonald",
         "height": 71,
         "_deepnote_index_column": 110
        },
        {
         "name": "Adlan Amagov",
         "height": 71,
         "_deepnote_index_column": 111
        },
        {
         "name": "Bobby Voelker",
         "height": 72,
         "_deepnote_index_column": 112
        },
        {
         "name": "Jason Miller",
         "height": 72,
         "_deepnote_index_column": 113
        },
        {
         "name": "Josh Koscheck",
         "height": 70,
         "_deepnote_index_column": 114
        },
        {
         "name": "Scott Smith",
         "height": 72,
         "_deepnote_index_column": 115
        },
        {
         "name": "Matt Lindland",
         "height": 72,
         "_deepnote_index_column": 116
        },
        {
         "name": "Frank Trigg",
         "height": 68,
         "_deepnote_index_column": 117
        },
        {
         "name": "Falaniko Vitale",
         "height": 70,
         "_deepnote_index_column": 118
        },
        {
         "name": "Pete Spratt",
         "height": 69,
         "_deepnote_index_column": 119
        },
        {
         "name": "Chris Lytle",
         "height": 71,
         "_deepnote_index_column": 120
        },
        {
         "name": "Steve Berger",
         "height": 70,
         "_deepnote_index_column": 121
        },
        {
         "name": "Chris Leben",
         "height": 71,
         "_deepnote_index_column": 122
        },
        {
         "name": "Dean Lister",
         "height": 73,
         "_deepnote_index_column": 123
        },
        {
         "name": "Danillo Villefort",
         "height": 73,
         "_deepnote_index_column": 124
        },
        {
         "name": "Ronald Jhun",
         "height": 71,
         "_deepnote_index_column": 125
        },
        {
         "name": "Phil Baroni",
         "height": 69,
         "_deepnote_index_column": 126
        },
        {
         "name": "David Loiseau",
         "height": 72,
         "_deepnote_index_column": 127
        },
        {
         "name": "Jorge Santiago",
         "height": 73,
         "_deepnote_index_column": 128
        },
        {
         "name": "Tim Credeur",
         "height": 75,
         "_deepnote_index_column": 129
        },
        {
         "name": "David Terrell",
         "height": 72,
         "_deepnote_index_column": 130
        },
        {
         "name": "Julie Kedzie",
         "height": 65,
         "_deepnote_index_column": 131
        },
        {
         "name": "Seth Petruzelli",
         "height": 72,
         "_deepnote_index_column": 132
        },
        {
         "name": "Todd Medina",
         "height": 70,
         "_deepnote_index_column": 133
        },
        {
         "name": "Jorge Rivera",
         "height": 73,
         "_deepnote_index_column": 134
        },
        {
         "name": "Steven Ray",
         "height": 70,
         "_deepnote_index_column": 135
        },
        {
         "name": "Mairbek Taisumov",
         "height": 69,
         "_deepnote_index_column": 136
        },
        {
         "name": "Chan Sung Jung",
         "height": 69,
         "_deepnote_index_column": 137
        },
        {
         "name": "Ricardo Lamas",
         "height": 68,
         "_deepnote_index_column": 138
        },
        {
         "name": "Kenny Florian",
         "height": 70,
         "_deepnote_index_column": 139
        },
        {
         "name": "Frankie Edgar",
         "height": 66,
         "_deepnote_index_column": 140
        },
        {
         "name": "Manny Gamburyan",
         "height": 65,
         "_deepnote_index_column": 141
        },
        {
         "name": "Mark Hominick",
         "height": 68,
         "_deepnote_index_column": 142
        },
        {
         "name": "Phil Harris",
         "height": 65,
         "_deepnote_index_column": 143
        },
        {
         "name": "Michihiro Omigawa",
         "height": 66,
         "_deepnote_index_column": 144
        },
        {
         "name": "Cody McKenzie",
         "height": 72,
         "_deepnote_index_column": 145
        },
        {
         "name": "Darren Elkins",
         "height": 70,
         "_deepnote_index_column": 146
        },
        {
         "name": "Nik Lentz",
         "height": 68,
         "_deepnote_index_column": 147
        },
        {
         "name": "Javier Vazquez",
         "height": 67,
         "_deepnote_index_column": 148
        },
        {
         "name": "Erik Koch",
         "height": 70,
         "_deepnote_index_column": 149
        },
        {
         "name": "Steven Siler",
         "height": 71,
         "_deepnote_index_column": 150
        },
        {
         "name": "Pablo Garza",
         "height": 73,
         "_deepnote_index_column": 151
        },
        {
         "name": "Yancy Medeiros",
         "height": 70,
         "_deepnote_index_column": 152
        },
        {
         "name": "Jason Young",
         "height": 69,
         "_deepnote_index_column": 153
        },
        {
         "name": "Danny Castillo",
         "height": 69,
         "_deepnote_index_column": 154
        },
        {
         "name": "Josh Grispi",
         "height": 71,
         "_deepnote_index_column": 155
        },
        {
         "name": "Paul Felder",
         "height": 70,
         "_deepnote_index_column": 156
        },
        {
         "name": "Kyle Noke",
         "height": 73,
         "_deepnote_index_column": 157
        },
        {
         "name": "Tatsuya Kawajiri",
         "height": 67,
         "_deepnote_index_column": 158
        },
        {
         "name": "Hacran Dias",
         "height": 68,
         "_deepnote_index_column": 159
        },
        {
         "name": "Charles Rosa",
         "height": 70,
         "_deepnote_index_column": 160
        },
        {
         "name": "Ross Pearson",
         "height": 68,
         "_deepnote_index_column": 161
        },
        {
         "name": "Daron Cruickshank",
         "height": 68,
         "_deepnote_index_column": 162
        },
        {
         "name": "Diego Nunes",
         "height": 66,
         "_deepnote_index_column": 163
        },
        {
         "name": "Matt Wiman",
         "height": 70,
         "_deepnote_index_column": 164
        },
        {
         "name": "Paul Kelly",
         "height": 69,
         "_deepnote_index_column": 165
        },
        {
         "name": "Gray Maynard",
         "height": 68,
         "_deepnote_index_column": 166
        },
        {
         "name": "B.J. Penn",
         "height": 69,
         "_deepnote_index_column": 167
        },
        {
         "name": "Artem Lobov",
         "height": 69,
         "_deepnote_index_column": 168
        },
        {
         "name": "Tom Niinimaki",
         "height": 69,
         "_deepnote_index_column": 169
        },
        {
         "name": "Jimmie Rivera",
         "height": 64,
         "_deepnote_index_column": 170
        },
        {
         "name": "Cody Garbrandt",
         "height": 67,
         "_deepnote_index_column": 171
        },
        {
         "name": "Maximo Blanco",
         "height": 68,
         "_deepnote_index_column": 172
        },
        {
         "name": "Jumabieke Tuerxun",
         "height": 66,
         "_deepnote_index_column": 173
        },
        {
         "name": "Jim Hettes",
         "height": 69,
         "_deepnote_index_column": 174
        },
        {
         "name": "Stephen Bass",
         "height": 69,
         "_deepnote_index_column": 175
        },
        {
         "name": "Rose Namajunas",
         "height": 65,
         "_deepnote_index_column": 176
        },
        {
         "name": "Joanne Calderwood",
         "height": 66,
         "_deepnote_index_column": 177
        },
        {
         "name": "Paige VanZant",
         "height": 64,
         "_deepnote_index_column": 178
        },
        {
         "name": "Daniel Pineda",
         "height": 67,
         "_deepnote_index_column": 179
        },
        {
         "name": "Augusto Mendes",
         "height": 66,
         "_deepnote_index_column": 180
        },
        {
         "name": "Dennis Bermudez",
         "height": 66,
         "_deepnote_index_column": 181
        },
        {
         "name": "Iuri Alcantara",
         "height": 69,
         "_deepnote_index_column": 182
        },
        {
         "name": "Levan Makashvili",
         "height": 68,
         "_deepnote_index_column": 183
        },
        {
         "name": "Joey Gambino",
         "height": 67,
         "_deepnote_index_column": 184
        },
        {
         "name": "Brian Ortega",
         "height": 69,
         "_deepnote_index_column": 185
        },
        {
         "name": "Chas Skelly",
         "height": 71,
         "_deepnote_index_column": 186
        },
        {
         "name": "Andre Fili",
         "height": 70,
         "_deepnote_index_column": 187
        },
        {
         "name": "Clay Collard",
         "height": 71,
         "_deepnote_index_column": 188
        },
        {
         "name": "Justin Lawrence",
         "height": 68,
         "_deepnote_index_column": 189
        },
        {
         "name": "Charles Oliveira",
         "height": 71,
         "_deepnote_index_column": 190
        },
        {
         "name": "Pat Schilling",
         "height": 68,
         "_deepnote_index_column": 191
        },
        {
         "name": "Leonard Garcia",
         "height": 69,
         "_deepnote_index_column": 192
        },
        {
         "name": "Will Chope",
         "height": 76,
         "_deepnote_index_column": 193
        },
        {
         "name": "Cole Miller",
         "height": 73,
         "_deepnote_index_column": 194
        },
        {
         "name": "Norman Parke",
         "height": 71,
         "_deepnote_index_column": 195
        },
        {
         "name": "Jake Lindsey",
         "height": 71,
         "_deepnote_index_column": 196
        },
        {
         "name": "Paul Daley",
         "height": 69,
         "_deepnote_index_column": 197
        },
        {
         "name": "Ivan Jorge",
         "height": 70,
         "_deepnote_index_column": 198
        },
        {
         "name": "Abel Trujillo",
         "height": 68,
         "_deepnote_index_column": 199
        },
        {
         "name": "Tony Sims",
         "height": 71,
         "_deepnote_index_column": 200
        },
        {
         "name": "Leigh Remedios",
         "height": 67,
         "_deepnote_index_column": 201
        },
        {
         "name": "Curt Warburton",
         "height": 72,
         "_deepnote_index_column": 202
        },
        {
         "name": "Maciej Jewtuszko",
         "height": 72,
         "_deepnote_index_column": 203
        },
        {
         "name": "Joe Riggs",
         "height": 72,
         "_deepnote_index_column": 204
        },
        {
         "name": "Tito Ortiz",
         "height": 74,
         "_deepnote_index_column": 205
        },
        {
         "name": "Georges St. Pierre",
         "height": 70,
         "_deepnote_index_column": 206
        },
        {
         "name": "David Mitchell",
         "height": 72,
         "_deepnote_index_column": 207
        },
        {
         "name": "Neil Seery",
         "height": 66,
         "_deepnote_index_column": 208
        },
        {
         "name": "Patrick Holohan",
         "height": 69,
         "_deepnote_index_column": 209
        },
        {
         "name": "Chuck Liddell",
         "height": 74,
         "_deepnote_index_column": 210
        },
        {
         "name": "Ron Waterman",
         "height": 74,
         "_deepnote_index_column": 211
        },
        {
         "name": "Mike Whitehead",
         "height": 73,
         "_deepnote_index_column": 212
        },
        {
         "name": "Kazuhiro Nakamura",
         "height": 71,
         "_deepnote_index_column": 213
        },
        {
         "name": "Mirko Filipovic",
         "height": 74,
         "_deepnote_index_column": 214
        },
        {
         "name": "Pedro Rizzo",
         "height": 73,
         "_deepnote_index_column": 215
        },
        {
         "name": "Maurice Smith",
         "height": 74,
         "_deepnote_index_column": 216
        },
        {
         "name": "Josh Barnett",
         "height": 75,
         "_deepnote_index_column": 217
        },
        {
         "name": "Mario Neto",
         "height": 72,
         "_deepnote_index_column": 218
        },
        {
         "name": "Pete Williams",
         "height": 75,
         "_deepnote_index_column": 219
        },
        {
         "name": "Dan Bobish",
         "height": 73,
         "_deepnote_index_column": 220
        },
        {
         "name": "Patrick Cummins",
         "height": 74,
         "_deepnote_index_column": 221
        },
        {
         "name": "Soa Palelei",
         "height": 76,
         "_deepnote_index_column": 222
        },
        {
         "name": "James Vick",
         "height": 75,
         "_deepnote_index_column": 223
        },
        {
         "name": "Phil Davis",
         "height": 74,
         "_deepnote_index_column": 224
        },
        {
         "name": "Glaico Franca",
         "height": 72,
         "_deepnote_index_column": 225
        },
        {
         "name": "Marvin Eastman",
         "height": 69,
         "_deepnote_index_column": 226
        },
        {
         "name": "Antonio Mendes",
         "height": 75,
         "_deepnote_index_column": 227
        },
        {
         "name": "Ovince St. Preux",
         "height": 75,
         "_deepnote_index_column": 228
        },
        {
         "name": "Marcio Cruz",
         "height": 76,
         "_deepnote_index_column": 229
        },
        {
         "name": "Fabio Maldonado",
         "height": 73,
         "_deepnote_index_column": 230
        },
        {
         "name": "Rameau Thierry Sokoudjou",
         "height": 70,
         "_deepnote_index_column": 231
        },
        {
         "name": "Ricco Rodriguez",
         "height": 76,
         "_deepnote_index_column": 232
        },
        {
         "name": "Ed Herman",
         "height": 74,
         "_deepnote_index_column": 233
        },
        {
         "name": "Bryan Barberena",
         "height": 72,
         "_deepnote_index_column": 234
        },
        {
         "name": "Antonio Rogerio Nogueira",
         "height": 74,
         "_deepnote_index_column": 235
        },
        {
         "name": "Matt Horwich",
         "height": 71,
         "_deepnote_index_column": 236
        },
        {
         "name": "Chad Griggs",
         "height": 75,
         "_deepnote_index_column": 237
        },
        {
         "name": "Sage Northcutt",
         "height": 72,
         "_deepnote_index_column": 238
        },
        {
         "name": "Masio Fullen",
         "height": 70,
         "_deepnote_index_column": 239
        },
        {
         "name": "Alex Caceres",
         "height": 69,
         "_deepnote_index_column": 240
        },
        {
         "name": "Alexander Yakovlev",
         "height": 73,
         "_deepnote_index_column": 241
        },
        {
         "name": "Kevin Casey",
         "height": 71,
         "_deepnote_index_column": 242
        },
        {
         "name": "Olivier Aubin-Mercier",
         "height": 69,
         "_deepnote_index_column": 243
        },
        {
         "name": "Rafael Natal",
         "height": 72,
         "_deepnote_index_column": 244
        },
        {
         "name": "Myles Jury",
         "height": 71,
         "_deepnote_index_column": 245
        },
        {
         "name": "Matt Serra",
         "height": 66,
         "_deepnote_index_column": 246
        },
        {
         "name": "Anderson Silva",
         "height": 74,
         "_deepnote_index_column": 247
        },
        {
         "name": "Yoel Romero",
         "height": 70,
         "_deepnote_index_column": 248
        },
        {
         "name": "Luke Sanders",
         "height": 67,
         "_deepnote_index_column": 249
        }
       ],
       "rows_bottom": [
        {
         "name": "Vinc Pichel",
         "height": 70,
         "_deepnote_index_column": 1276
        },
        {
         "name": "Ryan Hall",
         "height": 70,
         "_deepnote_index_column": 1277
        },
        {
         "name": "Johnny Rees",
         "height": 72,
         "_deepnote_index_column": 1278
        },
        {
         "name": "Mike Stumpf",
         "height": 70,
         "_deepnote_index_column": 1279
        },
        {
         "name": "Keith Berish",
         "height": 72,
         "_deepnote_index_column": 1280
        },
        {
         "name": "Jake Collier",
         "height": 75,
         "_deepnote_index_column": 1281
        },
        {
         "name": "Joe Veres",
         "height": 66,
         "_deepnote_index_column": 1282
        },
        {
         "name": "Igor Araujo",
         "height": 73,
         "_deepnote_index_column": 1283
        },
        {
         "name": "Michinori Tanaka",
         "height": 65,
         "_deepnote_index_column": 1284
        },
        {
         "name": "Aaron Riley",
         "height": 69,
         "_deepnote_index_column": 1285
        },
        {
         "name": "Joao Roque",
         "height": 66,
         "_deepnote_index_column": 1286
        },
        {
         "name": "Joey Gilbert",
         "height": 65,
         "_deepnote_index_column": 1287
        },
        {
         "name": "Shane Primm",
         "height": 76,
         "_deepnote_index_column": 1288
        },
        {
         "name": "Romie Aram",
         "height": 70,
         "_deepnote_index_column": 1289
        },
        {
         "name": "Joseph Sandoval",
         "height": 66,
         "_deepnote_index_column": 1290
        },
        {
         "name": "Joey Gomez",
         "height": 68,
         "_deepnote_index_column": 1291
        },
        {
         "name": "Yaotzin Meza",
         "height": 69,
         "_deepnote_index_column": 1292
        },
        {
         "name": "Jordan Radev",
         "height": 67,
         "_deepnote_index_column": 1293
        },
        {
         "name": "Teemu Packalen",
         "height": 73,
         "_deepnote_index_column": 1294
        },
        {
         "name": "Ron Faircloth",
         "height": 69,
         "_deepnote_index_column": 1295
        },
        {
         "name": "Brendan Loughnane",
         "height": 70,
         "_deepnote_index_column": 1296
        },
        {
         "name": "Jessica Rakoczy",
         "height": 67,
         "_deepnote_index_column": 1297
        },
        {
         "name": "Kalib Starnes",
         "height": 75,
         "_deepnote_index_column": 1298
        },
        {
         "name": "Garett Whiteley",
         "height": 72,
         "_deepnote_index_column": 1299
        },
        {
         "name": "T.J. Waldburger",
         "height": 71,
         "_deepnote_index_column": 1300
        },
        {
         "name": "Josh Shockley",
         "height": 73,
         "_deepnote_index_column": 1301
        },
        {
         "name": "Henry Martinez",
         "height": 67,
         "_deepnote_index_column": 1302
        },
        {
         "name": "Aaron Brink",
         "height": 75,
         "_deepnote_index_column": 1303
        },
        {
         "name": "Niklas Backstrom",
         "height": 72,
         "_deepnote_index_column": 1304
        },
        {
         "name": "Cale Yarbrough",
         "height": 74,
         "_deepnote_index_column": 1305
        },
        {
         "name": "Michael Patt",
         "height": 72,
         "_deepnote_index_column": 1306
        },
        {
         "name": "Sean Alvarez",
         "height": 72,
         "_deepnote_index_column": 1307
        },
        {
         "name": "Assuerio Silva",
         "height": 73,
         "_deepnote_index_column": 1308
        },
        {
         "name": "Mark Hughes",
         "height": 68,
         "_deepnote_index_column": 1309
        },
        {
         "name": "Gideon Ray",
         "height": 70,
         "_deepnote_index_column": 1310
        },
        {
         "name": "Jan Blachowicz",
         "height": 74,
         "_deepnote_index_column": 1311
        },
        {
         "name": "Mats Nilsson",
         "height": 73,
         "_deepnote_index_column": 1312
        },
        {
         "name": "Rick Davis",
         "height": "nan",
         "_deepnote_index_column": 1313
        },
        {
         "name": "Luke Cummo",
         "height": 72,
         "_deepnote_index_column": 1314
        },
        {
         "name": "Justin James",
         "height": 70,
         "_deepnote_index_column": 1315
        },
        {
         "name": "Nick Agallar",
         "height": "nan",
         "_deepnote_index_column": 1316
        },
        {
         "name": "Jeremy Larsen",
         "height": 70,
         "_deepnote_index_column": 1317
        },
        {
         "name": "War Machine",
         "height": 71,
         "_deepnote_index_column": 1318
        },
        {
         "name": "James Giboo",
         "height": 71,
         "_deepnote_index_column": 1319
        },
        {
         "name": "Kelly Dullanty",
         "height": 68,
         "_deepnote_index_column": 1320
        },
        {
         "name": "Rob Yundt",
         "height": "nan",
         "_deepnote_index_column": 1321
        },
        {
         "name": "Cristiano Marcello",
         "height": 70,
         "_deepnote_index_column": 1322
        },
        {
         "name": "Magomed Mustafaev",
         "height": 69,
         "_deepnote_index_column": 1323
        },
        {
         "name": "Jason Gilliam",
         "height": 72,
         "_deepnote_index_column": 1324
        },
        {
         "name": "Paul Georgieff",
         "height": "nan",
         "_deepnote_index_column": 1325
        },
        {
         "name": "Joe Vedepo",
         "height": 72,
         "_deepnote_index_column": 1326
        },
        {
         "name": "Crafton Wallace",
         "height": 72,
         "_deepnote_index_column": 1327
        },
        {
         "name": "Tom Murphy",
         "height": 74,
         "_deepnote_index_column": 1328
        },
        {
         "name": "Yusuke Kasuya",
         "height": 67,
         "_deepnote_index_column": 1329
        },
        {
         "name": "Tiki Ghosn",
         "height": 70,
         "_deepnote_index_column": 1330
        },
        {
         "name": "Brad Gumm",
         "height": 71,
         "_deepnote_index_column": 1331
        },
        {
         "name": "Andre Roberts",
         "height": 74,
         "_deepnote_index_column": 1332
        },
        {
         "name": "Dan Evensen",
         "height": "nan",
         "_deepnote_index_column": 1333
        },
        {
         "name": "Greg Soto",
         "height": 71,
         "_deepnote_index_column": 1334
        },
        {
         "name": "Ross Pointon",
         "height": 68,
         "_deepnote_index_column": 1335
        },
        {
         "name": "Paulo Santos",
         "height": "nan",
         "_deepnote_index_column": 1336
        },
        {
         "name": "Rodrigo Ruas",
         "height": "nan",
         "_deepnote_index_column": 1337
        },
        {
         "name": "Jason Tan",
         "height": 70,
         "_deepnote_index_column": 1338
        },
        {
         "name": "Tom Breese",
         "height": 75,
         "_deepnote_index_column": 1339
        },
        {
         "name": "David Hood",
         "height": 72,
         "_deepnote_index_column": 1340
        },
        {
         "name": "Bobby Southworth",
         "height": 73,
         "_deepnote_index_column": 1341
        },
        {
         "name": "Luiz Jorge Dutra Jr.",
         "height": 71,
         "_deepnote_index_column": 1342
        },
        {
         "name": "Mickey Gall",
         "height": "nan",
         "_deepnote_index_column": 1343
        },
        {
         "name": "Jules Bruchez",
         "height": 72,
         "_deepnote_index_column": 1344
        },
        {
         "name": "Jason Reinhardt",
         "height": 66,
         "_deepnote_index_column": 1345
        },
        {
         "name": "Jesse Sanders",
         "height": 73,
         "_deepnote_index_column": 1346
        },
        {
         "name": "Justin Martin",
         "height": 72,
         "_deepnote_index_column": 1347
        },
        {
         "name": "Kit Cope",
         "height": 72,
         "_deepnote_index_column": 1348
        },
        {
         "name": "Byron Bloodworth",
         "height": 69,
         "_deepnote_index_column": 1349
        },
        {
         "name": "Albert Cheng",
         "height": 71,
         "_deepnote_index_column": 1350
        },
        {
         "name": "Jianping Yang",
         "height": 68,
         "_deepnote_index_column": 1351
        },
        {
         "name": "Mostapha Al-Turk",
         "height": 74,
         "_deepnote_index_column": 1352
        },
        {
         "name": "Nate Schroeder",
         "height": 73,
         "_deepnote_index_column": 1353
        },
        {
         "name": "Matt Dwyer",
         "height": 76,
         "_deepnote_index_column": 1354
        },
        {
         "name": "Colin Robinson",
         "height": 76,
         "_deepnote_index_column": 1355
        },
        {
         "name": "Hans Stringer",
         "height": 74,
         "_deepnote_index_column": 1356
        },
        {
         "name": "Jocelyn Jones-Lybarger",
         "height": 67,
         "_deepnote_index_column": 1357
        },
        {
         "name": "Timothy Johnson",
         "height": 75,
         "_deepnote_index_column": 1358
        },
        {
         "name": "Yuri Villefort",
         "height": 71,
         "_deepnote_index_column": 1359
        },
        {
         "name": "Jason Thacker",
         "height": 72,
         "_deepnote_index_column": 1360
        },
        {
         "name": "Tom Blackledge",
         "height": 72,
         "_deepnote_index_column": 1361
        },
        {
         "name": "Rolles Gracie",
         "height": 76,
         "_deepnote_index_column": 1362
        },
        {
         "name": "Kailin Curran",
         "height": 63,
         "_deepnote_index_column": 1363
        },
        {
         "name": "Sultan Aliev",
         "height": 72,
         "_deepnote_index_column": 1364
        },
        {
         "name": "John Kolosci",
         "height": 71,
         "_deepnote_index_column": 1365
        },
        {
         "name": "Thiago de Oliveira Perpetuo",
         "height": 70,
         "_deepnote_index_column": 1366
        },
        {
         "name": "Izabela Badurek",
         "height": 64,
         "_deepnote_index_column": 1367
        },
        {
         "name": "Bartosz Fabinski",
         "height": 72,
         "_deepnote_index_column": 1368
        },
        {
         "name": "Kelly Faszholz",
         "height": 68,
         "_deepnote_index_column": 1369
        },
        {
         "name": "Viktor Pesta",
         "height": 75,
         "_deepnote_index_column": 1370
        },
        {
         "name": "Anthony Christodoulou",
         "height": 69,
         "_deepnote_index_column": 1371
        },
        {
         "name": "Nikita Krylov",
         "height": 75,
         "_deepnote_index_column": 1372
        },
        {
         "name": "Darrell Gholar",
         "height": 68,
         "_deepnote_index_column": 1373
        },
        {
         "name": "Tedd Williams",
         "height": 72,
         "_deepnote_index_column": 1374
        },
        {
         "name": "Larissa Pacheco",
         "height": 68,
         "_deepnote_index_column": 1375
        },
        {
         "name": "Daniel Kelly",
         "height": 72,
         "_deepnote_index_column": 1376
        },
        {
         "name": "Scott Askham",
         "height": 75,
         "_deepnote_index_column": 1377
        },
        {
         "name": "Rex Holman",
         "height": 75,
         "_deepnote_index_column": 1378
        },
        {
         "name": "Andrew Holbrook",
         "height": 71,
         "_deepnote_index_column": 1379
        },
        {
         "name": "Joe Merritt",
         "height": 72,
         "_deepnote_index_column": 1380
        },
        {
         "name": "Wagner Prado",
         "height": 73,
         "_deepnote_index_column": 1381
        },
        {
         "name": "Nate Loughran",
         "height": 74,
         "_deepnote_index_column": 1382
        },
        {
         "name": "Adriano Santos",
         "height": "nan",
         "_deepnote_index_column": 1383
        },
        {
         "name": "Joey Roberts",
         "height": 74,
         "_deepnote_index_column": 1384
        },
        {
         "name": "Noe Hernandez",
         "height": "nan",
         "_deepnote_index_column": 1385
        },
        {
         "name": "Matt Andersen",
         "height": 74,
         "_deepnote_index_column": 1386
        },
        {
         "name": "Dieuseul Berto",
         "height": 69,
         "_deepnote_index_column": 1387
        },
        {
         "name": "Ansar Chalangov",
         "height": 69,
         "_deepnote_index_column": 1388
        },
        {
         "name": "Ivan Serati",
         "height": 73,
         "_deepnote_index_column": 1389
        },
        {
         "name": "Cory Walmsley",
         "height": 72,
         "_deepnote_index_column": 1390
        },
        {
         "name": "Andre Gusmao",
         "height": 74,
         "_deepnote_index_column": 1391
        },
        {
         "name": "Icho Larenas",
         "height": 73,
         "_deepnote_index_column": 1392
        },
        {
         "name": "Joe Pardo",
         "height": 73,
         "_deepnote_index_column": 1393
        },
        {
         "name": "Felix Mitchell",
         "height": 71,
         "_deepnote_index_column": 1394
        },
        {
         "name": "Tony Halme",
         "height": 76,
         "_deepnote_index_column": 1395
        },
        {
         "name": "Steve Judson",
         "height": 73,
         "_deepnote_index_column": 1396
        },
        {
         "name": "John Dowdy",
         "height": "nan",
         "_deepnote_index_column": 1397
        },
        {
         "name": "Chris Spang",
         "height": 74,
         "_deepnote_index_column": 1398
        },
        {
         "name": "Mike King",
         "height": 75,
         "_deepnote_index_column": 1399
        },
        {
         "name": "Todd Butler",
         "height": 73,
         "_deepnote_index_column": 1400
        },
        {
         "name": "Tai Bowden",
         "height": "nan",
         "_deepnote_index_column": 1401
        },
        {
         "name": "Harry Moskowitz",
         "height": 77,
         "_deepnote_index_column": 1402
        },
        {
         "name": "Harold Howard",
         "height": 74,
         "_deepnote_index_column": 1403
        },
        {
         "name": "Jim Mullen",
         "height": 73,
         "_deepnote_index_column": 1404
        },
        {
         "name": "Sam Fulton",
         "height": 74,
         "_deepnote_index_column": 1405
        },
        {
         "name": "Melton Bowen",
         "height": 72,
         "_deepnote_index_column": 1406
        },
        {
         "name": "Bob Gilstrap",
         "height": 75,
         "_deepnote_index_column": 1407
        },
        {
         "name": "Keith Mielke",
         "height": 69,
         "_deepnote_index_column": 1408
        },
        {
         "name": "Justin Eilers",
         "height": 73,
         "_deepnote_index_column": 1409
        },
        {
         "name": "Jeff Newton",
         "height": 74,
         "_deepnote_index_column": 1410
        },
        {
         "name": "Koji Kitao",
         "height": 79,
         "_deepnote_index_column": 1411
        },
        {
         "name": "Yuri Vaulin",
         "height": 76,
         "_deepnote_index_column": 1412
        },
        {
         "name": "Paul Herrera",
         "height": "nan",
         "_deepnote_index_column": 1413
        },
        {
         "name": "Misha Cirkunov",
         "height": 75,
         "_deepnote_index_column": 1414
        },
        {
         "name": "Nick Sanzo",
         "height": 69,
         "_deepnote_index_column": 1415
        },
        {
         "name": "Rainy Martinez",
         "height": 72,
         "_deepnote_index_column": 1416
        },
        {
         "name": "Dwayne Cason",
         "height": 70,
         "_deepnote_index_column": 1417
        },
        {
         "name": "Krzysztof Jotko",
         "height": 73,
         "_deepnote_index_column": 1418
        },
        {
         "name": "Zhikui Yao",
         "height": 67,
         "_deepnote_index_column": 1419
        },
        {
         "name": "Eliot Marshall",
         "height": 75,
         "_deepnote_index_column": 1420
        },
        {
         "name": "Jon Madsen",
         "height": 72,
         "_deepnote_index_column": 1421
        },
        {
         "name": "Lowell Anderson",
         "height": 66,
         "_deepnote_index_column": 1422
        },
        {
         "name": "Reginaldo Vieira",
         "height": 66,
         "_deepnote_index_column": 1423
        },
        {
         "name": "Jason Saggo",
         "height": 71,
         "_deepnote_index_column": 1424
        },
        {
         "name": "Marco Polo Reyes",
         "height": "nan",
         "_deepnote_index_column": 1425
        },
        {
         "name": "Steve Byrnes",
         "height": "nan",
         "_deepnote_index_column": 1426
        },
        {
         "name": "Joaquim Silva",
         "height": 68,
         "_deepnote_index_column": 1427
        },
        {
         "name": "Darren Till",
         "height": 72,
         "_deepnote_index_column": 1428
        },
        {
         "name": "Steven Lynch",
         "height": 70,
         "_deepnote_index_column": 1429
        },
        {
         "name": "Ren&#233; van de Zande",
         "height": "nan",
         "_deepnote_index_column": 1430
        },
        {
         "name": "Lars Nor&#233;n",
         "height": "nan",
         "_deepnote_index_column": 1431
        },
        {
         "name": "Arnold Allen",
         "height": 69,
         "_deepnote_index_column": 1432
        },
        {
         "name": "Damian Stasiak",
         "height": 68,
         "_deepnote_index_column": 1433
        },
        {
         "name": "Danny Abbadi",
         "height": 71,
         "_deepnote_index_column": 1434
        },
        {
         "name": "Alan Omer",
         "height": 69,
         "_deepnote_index_column": 1435
        },
        {
         "name": "Daniel Barrera",
         "height": "nan",
         "_deepnote_index_column": 1436
        },
        {
         "name": "Jack Nilson",
         "height": "nan",
         "_deepnote_index_column": 1437
        },
        {
         "name": "Erick Montano",
         "height": "nan",
         "_deepnote_index_column": 1438
        },
        {
         "name": "Aleksandra Albu",
         "height": 62,
         "_deepnote_index_column": 1439
        },
        {
         "name": "Sean Gannon",
         "height": 75,
         "_deepnote_index_column": 1440
        },
        {
         "name": "Freddy Serrano",
         "height": 62,
         "_deepnote_index_column": 1441
        },
        {
         "name": "Troy Mandaloniz",
         "height": 69,
         "_deepnote_index_column": 1442
        },
        {
         "name": "Ironman 238",
         "height": "nan",
         "_deepnote_index_column": 1443
        },
        {
         "name": "Dave Galera",
         "height": 71,
         "_deepnote_index_column": 1444
        },
        {
         "name": "Mike Jackson",
         "height": 74,
         "_deepnote_index_column": 1445
        },
        {
         "name": "Matheus Nicolau Pereira",
         "height": 66,
         "_deepnote_index_column": 1446
        },
        {
         "name": "Alex Nicholson",
         "height": 76,
         "_deepnote_index_column": 1447
        },
        {
         "name": "Eric Martin",
         "height": "nan",
         "_deepnote_index_column": 1448
        },
        {
         "name": "Leonardo Morales",
         "height": 71,
         "_deepnote_index_column": 1449
        },
        {
         "name": "Anying Wang",
         "height": 72,
         "_deepnote_index_column": 1450
        },
        {
         "name": "Randy Brown",
         "height": 74,
         "_deepnote_index_column": 1451
        },
        {
         "name": "Dileno Lopes",
         "height": "nan",
         "_deepnote_index_column": 1452
        },
        {
         "name": "Alvaro Herrera",
         "height": 72,
         "_deepnote_index_column": 1453
        },
        {
         "name": "Chris Indich",
         "height": 70,
         "_deepnote_index_column": 1454
        },
        {
         "name": "Alex Torres",
         "height": 70,
         "_deepnote_index_column": 1455
        },
        {
         "name": "Lance Benoist",
         "height": 71,
         "_deepnote_index_column": 1456
        },
        {
         "name": "Daniel Omielanczuk",
         "height": 72,
         "_deepnote_index_column": 1457
        },
        {
         "name": "Luis Henrique Barbosa de Oliveira",
         "height": 75,
         "_deepnote_index_column": 1458
        },
        {
         "name": "Matt Arroyo",
         "height": 72,
         "_deepnote_index_column": 1459
        },
        {
         "name": "Christophe Leninger",
         "height": 72,
         "_deepnote_index_column": 1460
        },
        {
         "name": "Kyle Bochniak",
         "height": 69,
         "_deepnote_index_column": 1461
        },
        {
         "name": "Richie Hightower",
         "height": "nan",
         "_deepnote_index_column": 1462
        },
        {
         "name": "Chris Sanford",
         "height": 71,
         "_deepnote_index_column": 1463
        },
        {
         "name": "Derek Brunson",
         "height": 73,
         "_deepnote_index_column": 1464
        },
        {
         "name": "Diego Rivas",
         "height": "nan",
         "_deepnote_index_column": 1465
        },
        {
         "name": "Francis Ngannou",
         "height": 76,
         "_deepnote_index_column": 1466
        },
        {
         "name": "Brendan O'Reilly",
         "height": 68,
         "_deepnote_index_column": 1467
        },
        {
         "name": "Justine Kish",
         "height": 65,
         "_deepnote_index_column": 1468
        },
        {
         "name": "Jason Knight",
         "height": 71,
         "_deepnote_index_column": 1469
        },
        {
         "name": "Efrain Escudero",
         "height": 69,
         "_deepnote_index_column": 1470
        },
        {
         "name": "Ericka Almeida",
         "height": 66,
         "_deepnote_index_column": 1471
        },
        {
         "name": "Enrique Barzola",
         "height": 67,
         "_deepnote_index_column": 1472
        },
        {
         "name": "Bruno Rodrigues",
         "height": 66,
         "_deepnote_index_column": 1473
        },
        {
         "name": "Vernon Ramos",
         "height": 69,
         "_deepnote_index_column": 1474
        },
        {
         "name": "Horacio Gutierrez",
         "height": 70,
         "_deepnote_index_column": 1475
        },
        {
         "name": "Chris de la Rocha",
         "height": 75,
         "_deepnote_index_column": 1476
        },
        {
         "name": "Kyoji Horiguchi",
         "height": 65,
         "_deepnote_index_column": 1477
        },
        {
         "name": "Rocky Lee",
         "height": 69,
         "_deepnote_index_column": 1478
        },
        {
         "name": "Royston Wee",
         "height": 67,
         "_deepnote_index_column": 1479
        },
        {
         "name": "Tateki Matsuda",
         "height": 67,
         "_deepnote_index_column": 1480
        },
        {
         "name": "Humberto Brown Morrison",
         "height": 69,
         "_deepnote_index_column": 1481
        },
        {
         "name": "Matt Hobar",
         "height": 70,
         "_deepnote_index_column": 1482
        },
        {
         "name": "Ian Entwistle",
         "height": 68,
         "_deepnote_index_column": 1483
        },
        {
         "name": "Philip De Fries",
         "height": 76,
         "_deepnote_index_column": 1484
        },
        {
         "name": "Ryo Chonan",
         "height": 69,
         "_deepnote_index_column": 1485
        },
        {
         "name": "Ken Stone",
         "height": 68,
         "_deepnote_index_column": 1486
        },
        {
         "name": "Dale Hartt",
         "height": 70,
         "_deepnote_index_column": 1487
        },
        {
         "name": "Clay Harvison",
         "height": 73,
         "_deepnote_index_column": 1488
        },
        {
         "name": "Marcus Jones",
         "height": 78,
         "_deepnote_index_column": 1489
        },
        {
         "name": "Scott Adams",
         "height": 72,
         "_deepnote_index_column": 1490
        },
        {
         "name": "Chris Condo",
         "height": "nan",
         "_deepnote_index_column": 1491
        },
        {
         "name": "Paul Creighton",
         "height": 66,
         "_deepnote_index_column": 1492
        },
        {
         "name": "Sione Latu",
         "height": "nan",
         "_deepnote_index_column": 1493
        },
        {
         "name": "Townsend Saunders",
         "height": 65,
         "_deepnote_index_column": 1494
        },
        {
         "name": "Courtney Turner",
         "height": 74,
         "_deepnote_index_column": 1495
        },
        {
         "name": "Steven Graham",
         "height": 73,
         "_deepnote_index_column": 1496
        },
        {
         "name": "Alex Hunter",
         "height": 69,
         "_deepnote_index_column": 1497
        },
        {
         "name": "Saeed Hosseini",
         "height": "nan",
         "_deepnote_index_column": 1498
        },
        {
         "name": "Donnie Chappell",
         "height": "nan",
         "_deepnote_index_column": 1499
        },
        {
         "name": "Dmitri Stepanov",
         "height": "nan",
         "_deepnote_index_column": 1500
        },
        {
         "name": "Wes Albritton",
         "height": "nan",
         "_deepnote_index_column": 1501
        },
        {
         "name": "John Campetella",
         "height": 69,
         "_deepnote_index_column": 1502
        },
        {
         "name": "Reza Nasri",
         "height": 71,
         "_deepnote_index_column": 1503
        },
        {
         "name": "Scott Fiedler",
         "height": 76,
         "_deepnote_index_column": 1504
        },
        {
         "name": "Jackie Lee",
         "height": "nan",
         "_deepnote_index_column": 1505
        },
        {
         "name": "Dave Berry",
         "height": "nan",
         "_deepnote_index_column": 1506
        },
        {
         "name": "Julian Sanchez",
         "height": 75,
         "_deepnote_index_column": 1507
        },
        {
         "name": "Mark Schultz",
         "height": 70,
         "_deepnote_index_column": 1508
        },
        {
         "name": "Rafael Carino",
         "height": 80,
         "_deepnote_index_column": 1509
        },
        {
         "name": "Larry Cureton",
         "height": 74,
         "_deepnote_index_column": 1510
        },
        {
         "name": "Thomas Ramirez",
         "height": 73,
         "_deepnote_index_column": 1511
        },
        {
         "name": "Onassis Parungao",
         "height": "nan",
         "_deepnote_index_column": 1512
        },
        {
         "name": "Francesco Maturi",
         "height": 75,
         "_deepnote_index_column": 1513
        },
        {
         "name": "Roland Payne",
         "height": 69,
         "_deepnote_index_column": 1514
        },
        {
         "name": "Alberto Cerra Leon",
         "height": 68,
         "_deepnote_index_column": 1515
        },
        {
         "name": "Ernie Verdicia",
         "height": 70,
         "_deepnote_index_column": 1516
        },
        {
         "name": "He-Man Ali Gipson",
         "height": "nan",
         "_deepnote_index_column": 1517
        },
        {
         "name": "Andy Anderson",
         "height": 69,
         "_deepnote_index_column": 1518
        },
        {
         "name": "Eldo Dias Xavier",
         "height": 71,
         "_deepnote_index_column": 1519
        },
        {
         "name": "Robert Lucarelli",
         "height": 74,
         "_deepnote_index_column": 1520
        },
        {
         "name": "Thaddeus Luster",
         "height": 75,
         "_deepnote_index_column": 1521
        },
        {
         "name": "Frank Hamaker",
         "height": 74,
         "_deepnote_index_column": 1522
        },
        {
         "name": "Ryan Parker",
         "height": 75,
         "_deepnote_index_column": 1523
        },
        {
         "name": "Marcus Davis",
         "height": 68,
         "_deepnote_index_column": 1524
        },
        {
         "name": "John Alessio",
         "height": 70,
         "_deepnote_index_column": 1525
        }
       ]
      },
      "text/plain": "                    name  height\n0         Conor McGregor    68.0\n1              Jon Jones    76.0\n2             Holly Holm    68.0\n3          Dominick Cruz    68.0\n4     Demetrious Johnson    63.0\n...                  ...     ...\n1521     Thaddeus Luster    75.0\n1522       Frank Hamaker    74.0\n1523         Ryan Parker    75.0\n1524        Marcus Davis    68.0\n1525        John Alessio    70.0\n\n[1526 rows x 2 columns]",
      "text/html": "<div>\n<style scoped>\n    .dataframe tbody tr th:only-of-type {\n        vertical-align: middle;\n    }\n\n    .dataframe tbody tr th {\n        vertical-align: top;\n    }\n\n    .dataframe thead th {\n        text-align: right;\n    }\n</style>\n<table border=\"1\" class=\"dataframe\">\n  <thead>\n    <tr style=\"text-align: right;\">\n      <th></th>\n      <th>name</th>\n      <th>height</th>\n    </tr>\n  </thead>\n  <tbody>\n    <tr>\n      <th>0</th>\n      <td>Conor McGregor</td>\n      <td>68.0</td>\n    </tr>\n    <tr>\n      <th>1</th>\n      <td>Jon Jones</td>\n      <td>76.0</td>\n    </tr>\n    <tr>\n      <th>2</th>\n      <td>Holly Holm</td>\n      <td>68.0</td>\n    </tr>\n    <tr>\n      <th>3</th>\n      <td>Dominick Cruz</td>\n      <td>68.0</td>\n    </tr>\n    <tr>\n      <th>4</th>\n      <td>Demetrious Johnson</td>\n      <td>63.0</td>\n    </tr>\n    <tr>\n      <th>...</th>\n      <td>...</td>\n      <td>...</td>\n    </tr>\n    <tr>\n      <th>1521</th>\n      <td>Thaddeus Luster</td>\n      <td>75.0</td>\n    </tr>\n    <tr>\n      <th>1522</th>\n      <td>Frank Hamaker</td>\n      <td>74.0</td>\n    </tr>\n    <tr>\n      <th>1523</th>\n      <td>Ryan Parker</td>\n      <td>75.0</td>\n    </tr>\n    <tr>\n      <th>1524</th>\n      <td>Marcus Davis</td>\n      <td>68.0</td>\n    </tr>\n    <tr>\n      <th>1525</th>\n      <td>John Alessio</td>\n      <td>70.0</td>\n    </tr>\n  </tbody>\n</table>\n<p>1526 rows × 2 columns</p>\n</div>"
     },
     "metadata": {}
    }
   ]
  },
  {
   "cell_type": "markdown",
   "source": "## Merging Data",
   "metadata": {
    "tags": [],
    "is_collapsed": false,
    "cell_id": "00004-1a181ff4-2db0-48da-bef5-bff48e9b16e3",
    "deepnote_cell_type": "text-cell-h2"
   }
  },
  {
   "cell_type": "code",
   "metadata": {
    "tags": [],
    "cell_id": "00008-a9b1ee21-1651-4228-8fff-cc2d897acd2a",
    "deepnote_to_be_reexecuted": true,
    "source_hash": "3668e637",
    "execution_start": 1627637983482,
    "execution_millis": 637,
    "deepnote_cell_type": "code"
   },
   "source": "pd.merge(ufc_fights,ufc_fighters,left_on = 'f1name',right_on = 'name').drop('name',axis = 1)",
   "outputs": [
    {
     "output_type": "error",
     "ename": "NameError",
     "evalue": "name 'pd' is not defined",
     "traceback": [
      "\u001b[0;31m---------------------------------------------------------------------------\u001b[0m",
      "\u001b[0;31mNameError\u001b[0m                                 Traceback (most recent call last)",
      "\u001b[0;32m/tmp/ipykernel_79/3266793816.py\u001b[0m in \u001b[0;36m<module>\u001b[0;34m\u001b[0m\n\u001b[0;32m----> 1\u001b[0;31m \u001b[0mpd\u001b[0m\u001b[0;34m.\u001b[0m\u001b[0mmerge\u001b[0m\u001b[0;34m(\u001b[0m\u001b[0mufc_fights\u001b[0m\u001b[0;34m,\u001b[0m\u001b[0mufc_fighters\u001b[0m\u001b[0;34m,\u001b[0m\u001b[0mleft_on\u001b[0m \u001b[0;34m=\u001b[0m \u001b[0;34m'f1name'\u001b[0m\u001b[0;34m,\u001b[0m\u001b[0mright_on\u001b[0m \u001b[0;34m=\u001b[0m \u001b[0;34m'name'\u001b[0m\u001b[0;34m)\u001b[0m\u001b[0;34m.\u001b[0m\u001b[0mdrop\u001b[0m\u001b[0;34m(\u001b[0m\u001b[0;34m'name'\u001b[0m\u001b[0;34m,\u001b[0m\u001b[0maxis\u001b[0m \u001b[0;34m=\u001b[0m \u001b[0;36m1\u001b[0m\u001b[0;34m)\u001b[0m\u001b[0;34m\u001b[0m\u001b[0;34m\u001b[0m\u001b[0m\n\u001b[0m",
      "\u001b[0;31mNameError\u001b[0m: name 'pd' is not defined"
     ]
    }
   ],
   "execution_count": null
  },
  {
   "cell_type": "code",
   "source": "",
   "metadata": {
    "tags": [],
    "cell_id": "00006-f883d631-71d4-4d9d-bc93-ef7c83758708",
    "deepnote_to_be_reexecuted": true,
    "source_hash": "b623e53d",
    "deepnote_cell_type": "code"
   },
   "outputs": [],
   "execution_count": null
  },
  {
   "cell_type": "markdown",
   "source": "<a style='text-decoration:none;line-height:16px;display:flex;color:#5B5B62;padding:10px;justify-content:end;' href='https://deepnote.com?utm_source=created-in-deepnote-cell&projectId=657be62d-1fc1-4dd5-8bf1-c3b3098a89d0' target=\"_blank\">\n<img alt='Created in deepnote.com' style='display:inline;max-height:16px;margin:0px;margin-right:7.5px;' src='data:image/svg+xml;base64,PD94bWwgdmVyc2lvbj0iMS4wIiBlbmNvZGluZz0iVVRGLTgiPz4KPHN2ZyB3aWR0aD0iODBweCIgaGVpZ2h0PSI4MHB4IiB2aWV3Qm94PSIwIDAgODAgODAiIHZlcnNpb249IjEuMSIgeG1sbnM9Imh0dHA6Ly93d3cudzMub3JnLzIwMDAvc3ZnIiB4bWxuczp4bGluaz0iaHR0cDovL3d3dy53My5vcmcvMTk5OS94bGluayI+CiAgICA8IS0tIEdlbmVyYXRvcjogU2tldGNoIDU0LjEgKDc2NDkwKSAtIGh0dHBzOi8vc2tldGNoYXBwLmNvbSAtLT4KICAgIDx0aXRsZT5Hcm91cCAzPC90aXRsZT4KICAgIDxkZXNjPkNyZWF0ZWQgd2l0aCBTa2V0Y2guPC9kZXNjPgogICAgPGcgaWQ9IkxhbmRpbmciIHN0cm9rZT0ibm9uZSIgc3Ryb2tlLXdpZHRoPSIxIiBmaWxsPSJub25lIiBmaWxsLXJ1bGU9ImV2ZW5vZGQiPgogICAgICAgIDxnIGlkPSJBcnRib2FyZCIgdHJhbnNmb3JtPSJ0cmFuc2xhdGUoLTEyMzUuMDAwMDAwLCAtNzkuMDAwMDAwKSI+CiAgICAgICAgICAgIDxnIGlkPSJHcm91cC0zIiB0cmFuc2Zvcm09InRyYW5zbGF0ZSgxMjM1LjAwMDAwMCwgNzkuMDAwMDAwKSI+CiAgICAgICAgICAgICAgICA8cG9seWdvbiBpZD0iUGF0aC0yMCIgZmlsbD0iIzAyNjVCNCIgcG9pbnRzPSIyLjM3NjIzNzYyIDgwIDM4LjA0NzY2NjcgODAgNTcuODIxNzgyMiA3My44MDU3NTkyIDU3LjgyMTc4MjIgMzIuNzU5MjczOSAzOS4xNDAyMjc4IDMxLjY4MzE2ODMiPjwvcG9seWdvbj4KICAgICAgICAgICAgICAgIDxwYXRoIGQ9Ik0zNS4wMDc3MTgsODAgQzQyLjkwNjIwMDcsNzYuNDU0OTM1OCA0Ny41NjQ5MTY3LDcxLjU0MjI2NzEgNDguOTgzODY2LDY1LjI2MTk5MzkgQzUxLjExMjI4OTksNTUuODQxNTg0MiA0MS42NzcxNzk1LDQ5LjIxMjIyODQgMjUuNjIzOTg0Niw0OS4yMTIyMjg0IEMyNS40ODQ5Mjg5LDQ5LjEyNjg0NDggMjkuODI2MTI5Niw0My4yODM4MjQ4IDM4LjY0NzU4NjksMzEuNjgzMTY4MyBMNzIuODcxMjg3MSwzMi41NTQ0MjUgTDY1LjI4MDk3Myw2Ny42NzYzNDIxIEw1MS4xMTIyODk5LDc3LjM3NjE0NCBMMzUuMDA3NzE4LDgwIFoiIGlkPSJQYXRoLTIyIiBmaWxsPSIjMDAyODY4Ij48L3BhdGg+CiAgICAgICAgICAgICAgICA8cGF0aCBkPSJNMCwzNy43MzA0NDA1IEwyNy4xMTQ1MzcsMC4yNTcxMTE0MzYgQzYyLjM3MTUxMjMsLTEuOTkwNzE3MDEgODAsMTAuNTAwMzkyNyA4MCwzNy43MzA0NDA1IEM4MCw2NC45NjA0ODgyIDY0Ljc3NjUwMzgsNzkuMDUwMzQxNCAzNC4zMjk1MTEzLDgwIEM0Ny4wNTUzNDg5LDc3LjU2NzA4MDggNTMuNDE4MjY3Nyw3MC4zMTM2MTAzIDUzLjQxODI2NzcsNTguMjM5NTg4NSBDNTMuNDE4MjY3Nyw0MC4xMjg1NTU3IDM2LjMwMzk1NDQsMzcuNzMwNDQwNSAyNS4yMjc0MTcsMzcuNzMwNDQwNSBDMTcuODQzMDU4NiwzNy43MzA0NDA1IDkuNDMzOTE5NjYsMzcuNzMwNDQwNSAwLDM3LjczMDQ0MDUgWiIgaWQ9IlBhdGgtMTkiIGZpbGw9IiMzNzkzRUYiPjwvcGF0aD4KICAgICAgICAgICAgPC9nPgogICAgICAgIDwvZz4KICAgIDwvZz4KPC9zdmc+' > </img>\nCreated in <span style='font-weight:600;margin-left:4px;'>Deepnote</span></a>",
   "metadata": {
    "tags": [],
    "created_in_deepnote_cell": true,
    "deepnote_cell_type": "markdown"
   }
  }
 ],
 "nbformat": 4,
 "nbformat_minor": 2,
 "metadata": {
  "orig_nbformat": 2,
  "deepnote": {
   "is_reactive": false
  },
  "deepnote_notebook_id": "240de233-a08e-42c1-9a4b-1f23a12bb098",
  "deepnote_execution_queue": []
 }
}
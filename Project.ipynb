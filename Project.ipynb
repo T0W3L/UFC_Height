{
 "cells": [
  {
   "cell_type": "code",
   "metadata": {
    "tags": [],
    "cell_id": "00000-45275e5f-6709-4998-b966-48a56e3736af",
    "deepnote_to_be_reexecuted": false,
    "source_hash": "cac3e50f",
    "execution_start": 1626939952774,
    "execution_millis": 5,
    "deepnote_cell_type": "code"
   },
   "source": "import numpy as np\n\nimport pandas as pd\n\nfrom pandas import DataFrame, Series",
   "execution_count": 1,
   "outputs": []
  },
  {
   "cell_type": "code",
   "metadata": {
    "tags": [],
    "cell_id": "00001-427db178-f037-4966-9844-1743f5fcb7f6",
    "deepnote_to_be_reexecuted": false,
    "source_hash": "7f5bad9",
    "execution_start": 1626939952829,
    "execution_millis": 1892,
    "deepnote_cell_type": "code"
   },
   "source": "spec_cols = [9,10,11,12,15]\n\n# Specify desired columns.\n\nufc_fights = pd.read_excel('ufc_fights.xlsx',usecols = spec_cols)\n\n# Reading spreadsheet containing list of all fights.\n\nufc_fights",
   "execution_count": 2,
   "outputs": [
    {
     "output_type": "execute_result",
     "execution_count": 2,
     "data": {
      "application/vnd.deepnote.dataframe.v2+json": {
       "row_count": 3569,
       "column_count": 5,
       "columns": [
        {
         "name": "f1name",
         "dtype": "object",
         "stats": {
          "unique_count": 986,
          "nan_count": 0,
          "categories": [
           {
            "name": "Georges St. Pierre",
            "count": 19
           },
           {
            "name": "Matt Hughes",
            "count": 18
           },
           {
            "name": "984 others",
            "count": 3532
           }
          ]
         }
        },
        {
         "name": "f2name",
         "dtype": "object",
         "stats": {
          "unique_count": 1415,
          "nan_count": 0,
          "categories": [
           {
            "name": "Tito Ortiz",
            "count": 12
           },
           {
            "name": "Yves Edwards",
            "count": 11
           },
           {
            "name": "1413 others",
            "count": 3546
           }
          ]
         }
        },
        {
         "name": "f1result",
         "dtype": "object",
         "stats": {
          "unique_count": 3,
          "nan_count": 0,
          "categories": [
           {
            "name": "win",
            "count": 3510
           },
           {
            "name": "NC",
            "count": 38
           },
           {
            "name": "draw",
            "count": 21
           }
          ]
         }
        },
        {
         "name": "f2result",
         "dtype": "object",
         "stats": {
          "unique_count": 3,
          "nan_count": 0,
          "categories": [
           {
            "name": "loss",
            "count": 3510
           },
           {
            "name": "NC",
            "count": 38
           },
           {
            "name": "draw",
            "count": 21
           }
          ]
         }
        },
        {
         "name": "method",
         "dtype": "object",
         "stats": {
          "unique_count": 14,
          "nan_count": 0,
          "categories": [
           {
            "name": "Decision",
            "count": 1470
           },
           {
            "name": "TKO",
            "count": 779
           },
           {
            "name": "12 others",
            "count": 1320
           }
          ]
         }
        },
        {
         "name": "_deepnote_index_column",
         "dtype": "int64"
        }
       ],
       "rows_top": [
        {
         "f1name": "Royce Gracie",
         "f2name": "Gerard Gordeau",
         "f1result": "win",
         "f2result": "loss",
         "method": "Submission",
         "_deepnote_index_column": 0
        },
        {
         "f1name": "Jason DeLucia",
         "f2name": "Trent Jenkins",
         "f1result": "win",
         "f2result": "loss",
         "method": "Submission",
         "_deepnote_index_column": 1
        },
        {
         "f1name": "Royce Gracie",
         "f2name": "Ken Shamrock",
         "f1result": "win",
         "f2result": "loss",
         "method": "Submission",
         "_deepnote_index_column": 2
        },
        {
         "f1name": "Gerard Gordeau",
         "f2name": "Kevin Rosier",
         "f1result": "win",
         "f2result": "loss",
         "method": "TKO",
         "_deepnote_index_column": 3
        },
        {
         "f1name": "Ken Shamrock",
         "f2name": "Patrick Smith",
         "f1result": "win",
         "f2result": "loss",
         "method": "Submission",
         "_deepnote_index_column": 4
        },
        {
         "f1name": "Royce Gracie",
         "f2name": "Art Jimmerson",
         "f1result": "win",
         "f2result": "loss",
         "method": "Submission",
         "_deepnote_index_column": 5
        },
        {
         "f1name": "Kevin Rosier",
         "f2name": "Zane Frazier",
         "f1result": "win",
         "f2result": "loss",
         "method": "TKO",
         "_deepnote_index_column": 6
        },
        {
         "f1name": "Gerard Gordeau",
         "f2name": "Teila Tuli",
         "f1result": "win",
         "f2result": "loss",
         "method": "TKO",
         "_deepnote_index_column": 7
        },
        {
         "f1name": "Royce Gracie",
         "f2name": "Patrick Smith",
         "f1result": "win",
         "f2result": "loss",
         "method": "Submission",
         "_deepnote_index_column": 8
        },
        {
         "f1name": "Royce Gracie",
         "f2name": "Remco Pardoel",
         "f1result": "win",
         "f2result": "loss",
         "method": "Submission",
         "_deepnote_index_column": 9
        },
        {
         "f1name": "Patrick Smith",
         "f2name": "Johnny Rhodes",
         "f1result": "win",
         "f2result": "loss",
         "method": "Submission",
         "_deepnote_index_column": 10
        },
        {
         "f1name": "Royce Gracie",
         "f2name": "Jason DeLucia",
         "f1result": "win",
         "f2result": "loss",
         "method": "Submission",
         "_deepnote_index_column": 11
        },
        {
         "f1name": "Remco Pardoel",
         "f2name": "Orlando Wiet",
         "f1result": "win",
         "f2result": "loss",
         "method": "KO",
         "_deepnote_index_column": 12
        },
        {
         "f1name": "Johnny Rhodes",
         "f2name": "Fred Ettish",
         "f1result": "win",
         "f2result": "loss",
         "method": "Submission",
         "_deepnote_index_column": 13
        },
        {
         "f1name": "Patrick Smith",
         "f2name": "Scott Morris",
         "f1result": "win",
         "f2result": "loss",
         "method": "KO",
         "_deepnote_index_column": 14
        },
        {
         "f1name": "Royce Gracie",
         "f2name": "Minoki Ichihara",
         "f1result": "win",
         "f2result": "loss",
         "method": "Submission",
         "_deepnote_index_column": 15
        },
        {
         "f1name": "Jason DeLucia",
         "f2name": "Scott Baker",
         "f1result": "win",
         "f2result": "loss",
         "method": "Submission",
         "_deepnote_index_column": 16
        },
        {
         "f1name": "Remco Pardoel",
         "f2name": "Alberto Cerra Leon",
         "f1result": "win",
         "f2result": "loss",
         "method": "Submission",
         "_deepnote_index_column": 17
        },
        {
         "f1name": "Orlando Wiet",
         "f2name": "Robert Lucarelli",
         "f1result": "win",
         "f2result": "loss",
         "method": "TKO",
         "_deepnote_index_column": 18
        },
        {
         "f1name": "Frank Hamaker",
         "f2name": "Thaddeus Luster",
         "f1result": "win",
         "f2result": "loss",
         "method": "TKO",
         "_deepnote_index_column": 19
        },
        {
         "f1name": "Johnny Rhodes",
         "f2name": "David Levicki",
         "f1result": "win",
         "f2result": "loss",
         "method": "Submission",
         "_deepnote_index_column": 20
        },
        {
         "f1name": "Patrick Smith",
         "f2name": "Ray Wizard",
         "f1result": "win",
         "f2result": "loss",
         "method": "Submission",
         "_deepnote_index_column": 21
        },
        {
         "f1name": "Scott Morris",
         "f2name": "Sean Daugherty",
         "f1result": "win",
         "f2result": "loss",
         "method": "Submission",
         "_deepnote_index_column": 22
        },
        {
         "f1name": "Steve Jennum",
         "f2name": "Harold Howard",
         "f1result": "win",
         "f2result": "loss",
         "method": "Submission",
         "_deepnote_index_column": 23
        },
        {
         "f1name": "Ken Shamrock",
         "f2name": "Felix Mitchell",
         "f1result": "win",
         "f2result": "loss",
         "method": "Submission",
         "_deepnote_index_column": 24
        },
        {
         "f1name": "Royce Gracie",
         "f2name": "Kimo Leopoldo",
         "f1result": "win",
         "f2result": "loss",
         "method": "Submission",
         "_deepnote_index_column": 25
        },
        {
         "f1name": "Harold Howard",
         "f2name": "Roland Payne",
         "f1result": "win",
         "f2result": "loss",
         "method": "KO",
         "_deepnote_index_column": 26
        },
        {
         "f1name": "Ken Shamrock",
         "f2name": "Christophe Leninger",
         "f1result": "win",
         "f2result": "loss",
         "method": "Submission",
         "_deepnote_index_column": 27
        },
        {
         "f1name": "Keith Hackney",
         "f2name": "Emmanuel Yarborough",
         "f1result": "win",
         "f2result": "loss",
         "method": "TKO",
         "_deepnote_index_column": 28
        },
        {
         "f1name": "Royce Gracie",
         "f2name": "Dan Severn",
         "f1result": "win",
         "f2result": "loss",
         "method": "Submission",
         "_deepnote_index_column": 29
        },
        {
         "f1name": "Guy Mezger",
         "f2name": "Jason Fairn",
         "f1result": "win",
         "f2result": "loss",
         "method": "TKO",
         "_deepnote_index_column": 30
        },
        {
         "f1name": "Dan Severn",
         "f2name": "Marcus Bossett",
         "f1result": "win",
         "f2result": "loss",
         "method": "Submission",
         "_deepnote_index_column": 31
        },
        {
         "f1name": "Royce Gracie",
         "f2name": "Keith Hackney",
         "f1result": "win",
         "f2result": "loss",
         "method": "Submission",
         "_deepnote_index_column": 32
        },
        {
         "f1name": "Dan Severn",
         "f2name": "Anthony Macias",
         "f1result": "win",
         "f2result": "loss",
         "method": "Submission",
         "_deepnote_index_column": 33
        },
        {
         "f1name": "Steve Jennum",
         "f2name": "Melton Bowen",
         "f1result": "win",
         "f2result": "loss",
         "method": "Submission",
         "_deepnote_index_column": 34
        },
        {
         "f1name": "Keith Hackney",
         "f2name": "Joe Son",
         "f1result": "win",
         "f2result": "loss",
         "method": "Submission",
         "_deepnote_index_column": 35
        },
        {
         "f1name": "Royce Gracie",
         "f2name": "Ron van Clief",
         "f1result": "win",
         "f2result": "loss",
         "method": "Submission",
         "_deepnote_index_column": 36
        },
        {
         "f1name": "Marcus Bossett",
         "f2name": "Eldo Dias Xavier",
         "f1result": "win",
         "f2result": "loss",
         "method": "KO",
         "_deepnote_index_column": 37
        },
        {
         "f1name": "Joe Charles",
         "f2name": "Kevin Rosier",
         "f1result": "win",
         "f2result": "loss",
         "method": "Submission",
         "_deepnote_index_column": 38
        },
        {
         "f1name": "Dan Severn",
         "f2name": "Dave Beneteau",
         "f1result": "win",
         "f2result": "loss",
         "method": "Submission",
         "_deepnote_index_column": 39
        },
        {
         "f1name": "Ken Shamrock",
         "f2name": "Royce Gracie",
         "f1result": "draw",
         "f2result": "draw",
         "method": "Draw",
         "_deepnote_index_column": 40
        },
        {
         "f1name": "Dan Severn",
         "f2name": "Oleg Taktarov",
         "f1result": "win",
         "f2result": "loss",
         "method": "TKO",
         "_deepnote_index_column": 41
        },
        {
         "f1name": "Dave Beneteau",
         "f2name": "Todd Medina",
         "f1result": "win",
         "f2result": "loss",
         "method": "TKO",
         "_deepnote_index_column": 42
        },
        {
         "f1name": "Dan Severn",
         "f2name": "Joe Charles",
         "f1result": "win",
         "f2result": "loss",
         "method": "Submission",
         "_deepnote_index_column": 43
        },
        {
         "f1name": "Oleg Taktarov",
         "f2name": "Ernie Verdicia",
         "f1result": "win",
         "f2result": "loss",
         "method": "Submission",
         "_deepnote_index_column": 44
        },
        {
         "f1name": "Todd Medina",
         "f2name": "Larry Cureton",
         "f1result": "win",
         "f2result": "loss",
         "method": "TKO",
         "_deepnote_index_column": 45
        },
        {
         "f1name": "Jon Hess",
         "f2name": "Andy Anderson",
         "f1result": "win",
         "f2result": "loss",
         "method": "TKO",
         "_deepnote_index_column": 46
        },
        {
         "f1name": "Guy Mezger",
         "f2name": "John Dowdy",
         "f1result": "win",
         "f2result": "loss",
         "method": "TKO",
         "_deepnote_index_column": 47
        },
        {
         "f1name": "Dave Beneteau",
         "f2name": "Asbel Cancio",
         "f1result": "win",
         "f2result": "loss",
         "method": "TKO",
         "_deepnote_index_column": 48
        },
        {
         "f1name": "Oleg Taktarov",
         "f2name": "David Abbott",
         "f1result": "win",
         "f2result": "loss",
         "method": "Submission",
         "_deepnote_index_column": 49
        },
        {
         "f1name": "Ken Shamrock",
         "f2name": "Dan Severn",
         "f1result": "win",
         "f2result": "loss",
         "method": "Submission",
         "_deepnote_index_column": 50
        },
        {
         "f1name": "Oleg Taktarov",
         "f2name": "Anthony Macias",
         "f1result": "win",
         "f2result": "loss",
         "method": "Submission",
         "_deepnote_index_column": 51
        },
        {
         "f1name": "David Abbott",
         "f2name": "Paul Varelans",
         "f1result": "win",
         "f2result": "loss",
         "method": "TKO",
         "_deepnote_index_column": 52
        },
        {
         "f1name": "Oleg Taktarov",
         "f2name": "Dave Beneteau",
         "f1result": "win",
         "f2result": "loss",
         "method": "Submission",
         "_deepnote_index_column": 53
        },
        {
         "f1name": "Patrick Smith",
         "f2name": "Rudyard Moncayo",
         "f1result": "win",
         "f2result": "loss",
         "method": "Submission",
         "_deepnote_index_column": 54
        },
        {
         "f1name": "Paul Varelans",
         "f2name": "Cal Worsham",
         "f1result": "win",
         "f2result": "loss",
         "method": "KO",
         "_deepnote_index_column": 55
        },
        {
         "f1name": "David Abbott",
         "f2name": "John Matua",
         "f1result": "win",
         "f2result": "loss",
         "method": "KO",
         "_deepnote_index_column": 56
        },
        {
         "f1name": "Anthony Macias",
         "f2name": "He-Man Ali Gipson",
         "f1result": "win",
         "f2result": "loss",
         "method": "Submission",
         "_deepnote_index_column": 57
        },
        {
         "f1name": "Joel Sutton",
         "f2name": "Jack McLaughlin",
         "f1result": "win",
         "f2result": "loss",
         "method": "Submission",
         "_deepnote_index_column": 58
        },
        {
         "f1name": "Marco Ruas",
         "f2name": "Paul Varelans",
         "f1result": "win",
         "f2result": "loss",
         "method": "TKO",
         "_deepnote_index_column": 59
        },
        {
         "f1name": "Ken Shamrock",
         "f2name": "Oleg Taktarov",
         "f1result": "draw",
         "f2result": "draw",
         "method": "Draw",
         "_deepnote_index_column": 60
        },
        {
         "f1name": "Marco Ruas",
         "f2name": "Remco Pardoel",
         "f1result": "win",
         "f2result": "loss",
         "method": "Submission",
         "_deepnote_index_column": 61
        },
        {
         "f1name": "Paul Varelans",
         "f2name": "Mark Hall",
         "f1result": "win",
         "f2result": "loss",
         "method": "Submission",
         "_deepnote_index_column": 62
        },
        {
         "f1name": "Marco Ruas",
         "f2name": "Larry Cureton",
         "f1result": "win",
         "f2result": "loss",
         "method": "Submission",
         "_deepnote_index_column": 63
        },
        {
         "f1name": "Remco Pardoel",
         "f2name": "Ryan Parker",
         "f1result": "win",
         "f2result": "loss",
         "method": "Submission",
         "_deepnote_index_column": 64
        },
        {
         "f1name": "Mark Hall",
         "f2name": "Harold Howard",
         "f1result": "win",
         "f2result": "loss",
         "method": "Submission",
         "_deepnote_index_column": 65
        },
        {
         "f1name": "Paul Varelans",
         "f2name": "Gerry Harris",
         "f1result": "win",
         "f2result": "loss",
         "method": "Submission",
         "_deepnote_index_column": 66
        },
        {
         "f1name": "Scott Bessac",
         "f2name": "David Hood",
         "f1result": "win",
         "f2result": "loss",
         "method": "Submission",
         "_deepnote_index_column": 67
        },
        {
         "f1name": "Onassis Parungao",
         "f2name": "Francesco Maturi",
         "f1result": "win",
         "f2result": "loss",
         "method": "Submission",
         "_deepnote_index_column": 68
        },
        {
         "f1name": "Joel Sutton",
         "f2name": "Geza Kalman",
         "f1result": "win",
         "f2result": "loss",
         "method": "TKO",
         "_deepnote_index_column": 69
        },
        {
         "f1name": "Don Frye",
         "f2name": "Gary Goodridge",
         "f1result": "win",
         "f2result": "loss",
         "method": "Submission",
         "_deepnote_index_column": 70
        },
        {
         "f1name": "Ken Shamrock",
         "f2name": "Kimo Leopoldo",
         "f1result": "win",
         "f2result": "loss",
         "method": "Submission",
         "_deepnote_index_column": 71
        },
        {
         "f1name": "Gary Goodridge",
         "f2name": "Jerry Bohlander",
         "f1result": "win",
         "f2result": "loss",
         "method": "TKO",
         "_deepnote_index_column": 72
        },
        {
         "f1name": "Don Frye",
         "f2name": "Sam Adkins",
         "f1result": "win",
         "f2result": "loss",
         "method": "TKO",
         "_deepnote_index_column": 73
        },
        {
         "f1name": "Gary Goodridge",
         "f2name": "Paul Herrera",
         "f1result": "win",
         "f2result": "loss",
         "method": "KO",
         "_deepnote_index_column": 74
        },
        {
         "f1name": "Jerry Bohlander",
         "f2name": "Scott Ferrozzo",
         "f1result": "win",
         "f2result": "loss",
         "method": "Submission",
         "_deepnote_index_column": 75
        },
        {
         "f1name": "Paul Varelans",
         "f2name": "Joe Moreira",
         "f1result": "win",
         "f2result": "loss",
         "method": "Decision",
         "_deepnote_index_column": 76
        },
        {
         "f1name": "Don Frye",
         "f2name": "Thomas Ramirez",
         "f1result": "win",
         "f2result": "loss",
         "method": "KO",
         "_deepnote_index_column": 77
        },
        {
         "f1name": "Sam Adkins",
         "f2name": "Keith Mielke",
         "f1result": "win",
         "f2result": "loss",
         "method": "Submission",
         "_deepnote_index_column": 78
        },
        {
         "f1name": "Dan Severn",
         "f2name": "Ken Shamrock",
         "f1result": "win",
         "f2result": "loss",
         "method": "Decision",
         "_deepnote_index_column": 79
        },
        {
         "f1name": "Don Frye",
         "f2name": "Amaury Bitetti",
         "f1result": "win",
         "f2result": "loss",
         "method": "TKO",
         "_deepnote_index_column": 80
        },
        {
         "f1name": "Mark Hall",
         "f2name": "Koji Kitao",
         "f1result": "win",
         "f2result": "loss",
         "method": "TKO",
         "_deepnote_index_column": 81
        },
        {
         "f1name": "Mark Schultz",
         "f2name": "Gary Goodridge",
         "f1result": "win",
         "f2result": "loss",
         "method": "TKO",
         "_deepnote_index_column": 82
        },
        {
         "f1name": "Rafael Carino",
         "f2name": "Matt Andersen",
         "f1result": "win",
         "f2result": "loss",
         "method": "TKO",
         "_deepnote_index_column": 83
        },
        {
         "f1name": "Cal Worsham",
         "f2name": "Zane Frazier",
         "f1result": "win",
         "f2result": "loss",
         "method": "TKO",
         "_deepnote_index_column": 84
        },
        {
         "f1name": "Steve Nelmark",
         "f2name": "Tai Bowden",
         "f1result": "win",
         "f2result": "loss",
         "method": "TKO",
         "_deepnote_index_column": 85
        },
        {
         "f1name": "Mark Coleman",
         "f2name": "Don Frye",
         "f1result": "win",
         "f2result": "loss",
         "method": "TKO",
         "_deepnote_index_column": 86
        },
        {
         "f1name": "Mark Coleman",
         "f2name": "Gary Goodridge",
         "f1result": "win",
         "f2result": "loss",
         "method": "Submission",
         "_deepnote_index_column": 87
        },
        {
         "f1name": "Don Frye",
         "f2name": "Brian Johnston",
         "f1result": "win",
         "f2result": "loss",
         "method": "Submission",
         "_deepnote_index_column": 88
        },
        {
         "f1name": "Gary Goodridge",
         "f2name": "John Campetella",
         "f1result": "win",
         "f2result": "loss",
         "method": "KO",
         "_deepnote_index_column": 89
        },
        {
         "f1name": "Mark Coleman",
         "f2name": "Moti Horenstein",
         "f1result": "win",
         "f2result": "loss",
         "method": "Submission",
         "_deepnote_index_column": 90
        },
        {
         "f1name": "Brian Johnston",
         "f2name": "Scott Fiedler",
         "f1result": "win",
         "f2result": "loss",
         "method": "Submission",
         "_deepnote_index_column": 91
        },
        {
         "f1name": "Don Frye",
         "f2name": "Mark Hall",
         "f1result": "win",
         "f2result": "loss",
         "method": "TKO",
         "_deepnote_index_column": 92
        },
        {
         "f1name": "Sam Adkins",
         "f2name": "Felix Mitchell",
         "f1result": "win",
         "f2result": "loss",
         "method": "Decision",
         "_deepnote_index_column": 93
        },
        {
         "f1name": "Geza Kalman",
         "f2name": "Dieuseul Berto",
         "f1result": "win",
         "f2result": "loss",
         "method": "TKO",
         "_deepnote_index_column": 94
        },
        {
         "f1name": "Scott Ferrozzo",
         "f2name": "David Abbott",
         "f1result": "win",
         "f2result": "loss",
         "method": "Decision",
         "_deepnote_index_column": 95
        },
        {
         "f1name": "Mark Coleman",
         "f2name": "Brian Johnston",
         "f1result": "win",
         "f2result": "loss",
         "method": "Submission",
         "_deepnote_index_column": 96
        },
        {
         "f1name": "Jerry Bohlander",
         "f2name": "Fabio Gurgel",
         "f1result": "win",
         "f2result": "loss",
         "method": "Decision",
         "_deepnote_index_column": 97
        },
        {
         "f1name": "David Abbott",
         "f2name": "Sam Adkins",
         "f1result": "win",
         "f2result": "loss",
         "method": "Submission",
         "_deepnote_index_column": 98
        },
        {
         "f1name": "Brian Johnston",
         "f2name": "Reza Nasri",
         "f1result": "win",
         "f2result": "loss",
         "method": "TKO",
         "_deepnote_index_column": 99
        }
       ],
       "rows_bottom": [
        {
         "f1name": "Danny Roberts",
         "f2name": "Nathan Coy",
         "f1result": "win",
         "f2result": "loss",
         "method": "Technical",
         "_deepnote_index_column": 3469
        },
        {
         "f1name": "Zubaira Tukhugov",
         "f2name": "Phillipe Nover",
         "f1result": "win",
         "f2result": "loss",
         "method": "Decision",
         "_deepnote_index_column": 3470
        },
        {
         "f1name": "Frankie Edgar",
         "f2name": "Chad Mendes",
         "f1result": "win",
         "f2result": "loss",
         "method": "KO",
         "_deepnote_index_column": 3471
        },
        {
         "f1name": "Ryan Hall",
         "f2name": "Artem Lobov",
         "f1result": "win",
         "f2result": "loss",
         "method": "Decision",
         "_deepnote_index_column": 3472
        },
        {
         "f1name": "Tony Ferguson",
         "f2name": "Edson Barboza",
         "f1result": "win",
         "f2result": "loss",
         "method": "Submission",
         "_deepnote_index_column": 3473
        },
        {
         "f1name": "Evan Dunham",
         "f2name": "Joe Lauzon",
         "f1result": "win",
         "f2result": "loss",
         "method": "Decision",
         "_deepnote_index_column": 3474
        },
        {
         "f1name": "Tatsuya Kawajiri",
         "f2name": "Jason Knight",
         "f1result": "win",
         "f2result": "loss",
         "method": "Decision",
         "_deepnote_index_column": 3475
        },
        {
         "f1name": "Julian Erosa",
         "f2name": "Marcin Wrzosek",
         "f1result": "win",
         "f2result": "loss",
         "method": "Decision",
         "_deepnote_index_column": 3476
        },
        {
         "f1name": "Gabriel Gonzaga",
         "f2name": "Konstantin Erokhin",
         "f1result": "win",
         "f2result": "loss",
         "method": "Decision",
         "_deepnote_index_column": 3477
        },
        {
         "f1name": "Ryan LaFlare",
         "f2name": "Mike Pierce",
         "f1result": "win",
         "f2result": "loss",
         "method": "Decision",
         "_deepnote_index_column": 3478
        },
        {
         "f1name": "Geane Herrera",
         "f2name": "Joby Sanchez",
         "f1result": "win",
         "f2result": "loss",
         "method": "TKO",
         "_deepnote_index_column": 3479
        },
        {
         "f1name": "Chris Gruetzemacher",
         "f2name": "Abner Lloveras",
         "f1result": "win",
         "f2result": "loss",
         "method": "Decision",
         "_deepnote_index_column": 3480
        },
        {
         "f1name": "Conor McGregor",
         "f2name": "Jose Aldo",
         "f1result": "win",
         "f2result": "loss",
         "method": "KO",
         "_deepnote_index_column": 3481
        },
        {
         "f1name": "Luke Rockhold",
         "f2name": "Chris Weidman",
         "f1result": "win",
         "f2result": "loss",
         "method": "TKO",
         "_deepnote_index_column": 3482
        },
        {
         "f1name": "Yoel Romero",
         "f2name": "Ronaldo Souza",
         "f1result": "win",
         "f2result": "loss",
         "method": "Decision",
         "_deepnote_index_column": 3483
        },
        {
         "f1name": "Demian Maia",
         "f2name": "Gunnar Nelson",
         "f1result": "win",
         "f2result": "loss",
         "method": "Decision",
         "_deepnote_index_column": 3484
        },
        {
         "f1name": "Max Holloway",
         "f2name": "Jeremy Stephens",
         "f1result": "win",
         "f2result": "loss",
         "method": "Decision",
         "_deepnote_index_column": 3485
        },
        {
         "f1name": "Urijah Faber",
         "f2name": "Frankie Saenz",
         "f1result": "win",
         "f2result": "loss",
         "method": "Decision",
         "_deepnote_index_column": 3486
        },
        {
         "f1name": "Tecia Torres",
         "f2name": "Jocelyn Jones-Lybarger",
         "f1result": "win",
         "f2result": "loss",
         "method": "Decision",
         "_deepnote_index_column": 3487
        },
        {
         "f1name": "Warlley Alves",
         "f2name": "Colby Covington",
         "f1result": "win",
         "f2result": "loss",
         "method": "Submission",
         "_deepnote_index_column": 3488
        },
        {
         "f1name": "Leonardo Santos",
         "f2name": "Kevin Lee",
         "f1result": "win",
         "f2result": "loss",
         "method": "TKO",
         "_deepnote_index_column": 3489
        },
        {
         "f1name": "Magomed Mustafaev",
         "f2name": "Joe Proctor",
         "f1result": "win",
         "f2result": "loss",
         "method": "TKO",
         "_deepnote_index_column": 3490
        },
        {
         "f1name": "Yancy Medeiros",
         "f2name": "John Makdessi",
         "f1result": "win",
         "f2result": "loss",
         "method": "Decision",
         "_deepnote_index_column": 3491
        },
        {
         "f1name": "Court McGee",
         "f2name": "Marcio Alexandre Jr.",
         "f1result": "win",
         "f2result": "loss",
         "method": "Decision",
         "_deepnote_index_column": 3492
        },
        {
         "f1name": "Rafael dos Anjos",
         "f2name": "Donald Cerrone",
         "f1result": "win",
         "f2result": "loss",
         "method": "TKO",
         "_deepnote_index_column": 3493
        },
        {
         "f1name": "Alistair Overeem",
         "f2name": "Junior dos Santos",
         "f1result": "win",
         "f2result": "loss",
         "method": "TKO",
         "_deepnote_index_column": 3494
        },
        {
         "f1name": "Nate Diaz",
         "f2name": "Michael Johnson",
         "f1result": "win",
         "f2result": "loss",
         "method": "Decision",
         "_deepnote_index_column": 3495
        },
        {
         "f1name": "Karolina Kowalkiewicz",
         "f2name": "Randa Markos",
         "f1result": "win",
         "f2result": "loss",
         "method": "Decision",
         "_deepnote_index_column": 3496
        },
        {
         "f1name": "Charles Oliveira",
         "f2name": "Myles Jury",
         "f1result": "win",
         "f2result": "loss",
         "method": "Submission",
         "_deepnote_index_column": 3497
        },
        {
         "f1name": "Nate Marquardt",
         "f2name": "C.B. Dollaway",
         "f1result": "win",
         "f2result": "loss",
         "method": "KO",
         "_deepnote_index_column": 3498
        },
        {
         "f1name": "Valentina Shevchenko",
         "f2name": "Sarah Kaufman",
         "f1result": "win",
         "f2result": "loss",
         "method": "Decision",
         "_deepnote_index_column": 3499
        },
        {
         "f1name": "Tamdan McCrory",
         "f2name": "Josh Samman",
         "f1result": "win",
         "f2result": "loss",
         "method": "Submission",
         "_deepnote_index_column": 3500
        },
        {
         "f1name": "Nik Lentz",
         "f2name": "Danny Castillo",
         "f1result": "win",
         "f2result": "loss",
         "method": "Decision",
         "_deepnote_index_column": 3501
        },
        {
         "f1name": "Cole Miller",
         "f2name": "Jim Alers",
         "f1result": "NC",
         "f2result": "NC",
         "method": "NC",
         "_deepnote_index_column": 3502
        },
        {
         "f1name": "Kamaru Usman",
         "f2name": "Leon Edwards",
         "f1result": "win",
         "f2result": "loss",
         "method": "Decision",
         "_deepnote_index_column": 3503
        },
        {
         "f1name": "Vicente Luque",
         "f2name": "Hayder Hassan",
         "f1result": "win",
         "f2result": "loss",
         "method": "Technical",
         "_deepnote_index_column": 3504
        },
        {
         "f1name": "Francis Ngannou",
         "f2name": "Luis Henrique Barbosa de Oliveira",
         "f1result": "win",
         "f2result": "loss",
         "method": "KO",
         "_deepnote_index_column": 3505
        },
        {
         "f1name": "Robbie Lawler",
         "f2name": "Carlos Condit",
         "f1result": "win",
         "f2result": "loss",
         "method": "Decision",
         "_deepnote_index_column": 3506
        },
        {
         "f1name": "Stipe Miocic",
         "f2name": "Andrei Arlovski",
         "f1result": "win",
         "f2result": "loss",
         "method": "TKO",
         "_deepnote_index_column": 3507
        },
        {
         "f1name": "Albert Tumenov",
         "f2name": "Lorenz Larkin",
         "f1result": "win",
         "f2result": "loss",
         "method": "Decision",
         "_deepnote_index_column": 3508
        },
        {
         "f1name": "Brian Ortega",
         "f2name": "Diego Brandao",
         "f1result": "win",
         "f2result": "loss",
         "method": "Submission",
         "_deepnote_index_column": 3509
        },
        {
         "f1name": "Abel Trujillo",
         "f2name": "Tony Sims",
         "f1result": "win",
         "f2result": "loss",
         "method": "Submission",
         "_deepnote_index_column": 3510
        },
        {
         "f1name": "Michael McDonald",
         "f2name": "Masanori Kanehara",
         "f1result": "win",
         "f2result": "loss",
         "method": "Submission",
         "_deepnote_index_column": 3511
        },
        {
         "f1name": "Alex Morono",
         "f2name": "Kyle Noke",
         "f1result": "win",
         "f2result": "loss",
         "method": "Decision",
         "_deepnote_index_column": 3512
        },
        {
         "f1name": "Justine Kish",
         "f2name": "Nina Ansaroff",
         "f1result": "win",
         "f2result": "loss",
         "method": "Decision",
         "_deepnote_index_column": 3513
        },
        {
         "f1name": "Drew Dober",
         "f2name": "Scott Holtzman",
         "f1result": "win",
         "f2result": "loss",
         "method": "Decision",
         "_deepnote_index_column": 3514
        },
        {
         "f1name": "Dustin Poirier",
         "f2name": "Joseph Duffy",
         "f1result": "win",
         "f2result": "loss",
         "method": "Decision",
         "_deepnote_index_column": 3515
        },
        {
         "f1name": "Michinori Tanaka",
         "f2name": "Joe Soto",
         "f1result": "win",
         "f2result": "loss",
         "method": "Decision",
         "_deepnote_index_column": 3516
        },
        {
         "f1name": "Sheldon Westcott",
         "f2name": "Edgar Garcia",
         "f1result": "win",
         "f2result": "loss",
         "method": "TKO",
         "_deepnote_index_column": 3517
        },
        {
         "f1name": "Dominick Cruz",
         "f2name": "T.J. Dillashaw",
         "f1result": "win",
         "f2result": "loss",
         "method": "Decision",
         "_deepnote_index_column": 3518
        },
        {
         "f1name": "Eddie Alvarez",
         "f2name": "Anthony Pettis",
         "f1result": "win",
         "f2result": "loss",
         "method": "Decision",
         "_deepnote_index_column": 3519
        },
        {
         "f1name": "Travis Browne",
         "f2name": "Matt Mitrione",
         "f1result": "win",
         "f2result": "loss",
         "method": "TKO",
         "_deepnote_index_column": 3520
        },
        {
         "f1name": "Francisco Trinaldo",
         "f2name": "Ross Pearson",
         "f1result": "win",
         "f2result": "loss",
         "method": "Decision",
         "_deepnote_index_column": 3521
        },
        {
         "f1name": "Patrick Cote",
         "f2name": "Ben Saunders",
         "f1result": "win",
         "f2result": "loss",
         "method": "TKO",
         "_deepnote_index_column": 3522
        },
        {
         "f1name": "Ed Herman",
         "f2name": "Tim Boetsch",
         "f1result": "win",
         "f2result": "loss",
         "method": "KO",
         "_deepnote_index_column": 3523
        },
        {
         "f1name": "Chris Wade",
         "f2name": "Mehdi Baghdad",
         "f1result": "win",
         "f2result": "loss",
         "method": "Submission",
         "_deepnote_index_column": 3524
        },
        {
         "f1name": "Luke Sanders",
         "f2name": "Maximo Blanco",
         "f1result": "win",
         "f2result": "loss",
         "method": "Submission",
         "_deepnote_index_column": 3525
        },
        {
         "f1name": "Paul Felder",
         "f2name": "Daron Cruickshank",
         "f1result": "win",
         "f2result": "loss",
         "method": "Submission",
         "_deepnote_index_column": 3526
        },
        {
         "f1name": "Ilir Latifi",
         "f2name": "Sean O'Connell",
         "f1result": "win",
         "f2result": "loss",
         "method": "TKO",
         "_deepnote_index_column": 3527
        },
        {
         "f1name": "Charles Rosa",
         "f2name": "Kyle Bochniak",
         "f1result": "win",
         "f2result": "loss",
         "method": "Decision",
         "_deepnote_index_column": 3528
        },
        {
         "f1name": "Rob Font",
         "f2name": "Joey Gomez",
         "f1result": "win",
         "f2result": "loss",
         "method": "TKO",
         "_deepnote_index_column": 3529
        },
        {
         "f1name": "Francimar Barroso",
         "f2name": "Elvis Mutapcic",
         "f1result": "win",
         "f2result": "loss",
         "method": "Decision",
         "_deepnote_index_column": 3530
        },
        {
         "f1name": "Anthony Johnson",
         "f2name": "Ryan Bader",
         "f1result": "win",
         "f2result": "loss",
         "method": "KO",
         "_deepnote_index_column": 3531
        },
        {
         "f1name": "Ben Rothwell",
         "f2name": "Josh Barnett",
         "f1result": "win",
         "f2result": "loss",
         "method": "Submission",
         "_deepnote_index_column": 3532
        },
        {
         "f1name": "Jimmie Rivera",
         "f2name": "Iuri Alcantara",
         "f1result": "win",
         "f2result": "loss",
         "method": "Decision",
         "_deepnote_index_column": 3533
        },
        {
         "f1name": "Bryan Barberena",
         "f2name": "Sage Northcutt",
         "f1result": "win",
         "f2result": "loss",
         "method": "Submission",
         "_deepnote_index_column": 3534
        },
        {
         "f1name": "Tarec Saffiedine",
         "f2name": "Jake Ellenberger",
         "f1result": "win",
         "f2result": "loss",
         "method": "Decision",
         "_deepnote_index_column": 3535
        },
        {
         "f1name": "Carlos Diego Ferreira",
         "f2name": "Olivier Aubin-Mercier",
         "f1result": "win",
         "f2result": "loss",
         "method": "Decision",
         "_deepnote_index_column": 3536
        },
        {
         "f1name": "Rafael Natal",
         "f2name": "Kevin Casey",
         "f1result": "win",
         "f2result": "loss",
         "method": "TKO",
         "_deepnote_index_column": 3537
        },
        {
         "f1name": "Wilson Reis",
         "f2name": "Dustin Ortiz",
         "f1result": "win",
         "f2result": "loss",
         "method": "Decision",
         "_deepnote_index_column": 3538
        },
        {
         "f1name": "Alexander Yakovlev",
         "f2name": "George Sullivan",
         "f1result": "win",
         "f2result": "loss",
         "method": "KO",
         "_deepnote_index_column": 3539
        },
        {
         "f1name": "Alex Caceres",
         "f2name": "Masio Fullen",
         "f1result": "win",
         "f2result": "loss",
         "method": "Decision",
         "_deepnote_index_column": 3540
        },
        {
         "f1name": "Randy Brown",
         "f2name": "Matt Dwyer",
         "f1result": "win",
         "f2result": "loss",
         "method": "Decision",
         "_deepnote_index_column": 3541
        },
        {
         "f1name": "Damon Jackson",
         "f2name": "Levan Makashvili",
         "f1result": "draw",
         "f2result": "draw",
         "method": "Draw",
         "_deepnote_index_column": 3542
        },
        {
         "f1name": "Tony Martin",
         "f2name": "Felipe Olivieri",
         "f1result": "win",
         "f2result": "loss",
         "method": "Technical",
         "_deepnote_index_column": 3543
        },
        {
         "f1name": "Stephen Thompson",
         "f2name": "Johny Hendricks",
         "f1result": "win",
         "f2result": "loss",
         "method": "TKO",
         "_deepnote_index_column": 3544
        },
        {
         "f1name": "Roy Nelson",
         "f2name": "Jared Rosholt",
         "f1result": "win",
         "f2result": "loss",
         "method": "Decision",
         "_deepnote_index_column": 3545
        },
        {
         "f1name": "Ovince St. Preux",
         "f2name": "Rafael Cavalcante",
         "f1result": "win",
         "f2result": "loss",
         "method": "Decision",
         "_deepnote_index_column": 3546
        },
        {
         "f1name": "Joseph Benavidez",
         "f2name": "Zach Makovsky",
         "f1result": "win",
         "f2result": "loss",
         "method": "Decision",
         "_deepnote_index_column": 3547
        },
        {
         "f1name": "Misha Cirkunov",
         "f2name": "Alex Nicholson",
         "f1result": "win",
         "f2result": "loss",
         "method": "Submission",
         "_deepnote_index_column": 3548
        },
        {
         "f1name": "Mike Pyle",
         "f2name": "Sean Spencer",
         "f1result": "win",
         "f2result": "loss",
         "method": "TKO",
         "_deepnote_index_column": 3549
        },
        {
         "f1name": "Joshua Burkman",
         "f2name": "K.J. Noons",
         "f1result": "win",
         "f2result": "loss",
         "method": "Decision",
         "_deepnote_index_column": 3550
        },
        {
         "f1name": "Derrick Lewis",
         "f2name": "Damian Grabowski",
         "f1result": "win",
         "f2result": "loss",
         "method": "TKO",
         "_deepnote_index_column": 3551
        },
        {
         "f1name": "Justin Scoggins",
         "f2name": "Ray Borg",
         "f1result": "win",
         "f2result": "loss",
         "method": "Decision",
         "_deepnote_index_column": 3552
        },
        {
         "f1name": "Diego Rivas",
         "f2name": "Noad Lahat",
         "f1result": "win",
         "f2result": "loss",
         "method": "KO",
         "_deepnote_index_column": 3553
        },
        {
         "f1name": "Mickey Gall",
         "f2name": "Mike Jackson",
         "f1result": "win",
         "f2result": "loss",
         "method": "Submission",
         "_deepnote_index_column": 3554
        },
        {
         "f1name": "Alex White",
         "f2name": "Artem Lobov",
         "f1result": "win",
         "f2result": "loss",
         "method": "Decision",
         "_deepnote_index_column": 3555
        },
        {
         "f1name": "Donald Cerrone",
         "f2name": "Alex Oliveira",
         "f1result": "win",
         "f2result": "loss",
         "method": "Submission",
         "_deepnote_index_column": 3556
        },
        {
         "f1name": "Derek Brunson",
         "f2name": "Roan Carneiro",
         "f1result": "win",
         "f2result": "loss",
         "method": "KO",
         "_deepnote_index_column": 3557
        },
        {
         "f1name": "Cody Garbrandt",
         "f2name": "Augusto Mendes",
         "f1result": "win",
         "f2result": "loss",
         "method": "KO",
         "_deepnote_index_column": 3558
        },
        {
         "f1name": "Dennis Bermudez",
         "f2name": "Tatsuya Kawajiri",
         "f1result": "win",
         "f2result": "loss",
         "method": "Decision",
         "_deepnote_index_column": 3559
        },
        {
         "f1name": "Chris Camozzi",
         "f2name": "Joe Riggs",
         "f1result": "win",
         "f2result": "loss",
         "method": "TKO",
         "_deepnote_index_column": 3560
        },
        {
         "f1name": "James Krause",
         "f2name": "Shane Campbell",
         "f1result": "win",
         "f2result": "loss",
         "method": "Decision",
         "_deepnote_index_column": 3561
        },
        {
         "f1name": "Sean Strickland",
         "f2name": "Alex Garcia",
         "f1result": "win",
         "f2result": "loss",
         "method": "TKO",
         "_deepnote_index_column": 3562
        },
        {
         "f1name": "Oluwale Bamgbose",
         "f2name": "Daniel Sarafian",
         "f1result": "win",
         "f2result": "loss",
         "method": "KO",
         "_deepnote_index_column": 3563
        },
        {
         "f1name": "Anthony Smith",
         "f2name": "Leonardo Guimaraes",
         "f1result": "win",
         "f2result": "loss",
         "method": "Decision",
         "_deepnote_index_column": 3564
        },
        {
         "f1name": "Nathan Coy",
         "f2name": "Jonavin Webb",
         "f1result": "win",
         "f2result": "loss",
         "method": "Decision",
         "_deepnote_index_column": 3565
        },
        {
         "f1name": "Ashlee Evans-Smith",
         "f2name": "Marion Reneau",
         "f1result": "win",
         "f2result": "loss",
         "method": "Decision",
         "_deepnote_index_column": 3566
        },
        {
         "f1name": "Lauren Murphy",
         "f2name": "Kelly Faszholz",
         "f1result": "win",
         "f2result": "loss",
         "method": "TKO",
         "_deepnote_index_column": 3567
        },
        {
         "f1name": "Shamil Abdurakhimov",
         "f2name": "Anthony Hamilton",
         "f1result": "win",
         "f2result": "loss",
         "method": "Decision",
         "_deepnote_index_column": 3568
        }
       ]
      },
      "text/plain": "                   f1name              f2name f1result f2result      method\n0            Royce Gracie      Gerard Gordeau      win     loss  Submission\n1           Jason DeLucia       Trent Jenkins      win     loss  Submission\n2            Royce Gracie        Ken Shamrock      win     loss  Submission\n3          Gerard Gordeau        Kevin Rosier      win     loss         TKO\n4            Ken Shamrock       Patrick Smith      win     loss  Submission\n...                   ...                 ...      ...      ...         ...\n3564        Anthony Smith  Leonardo Guimaraes      win     loss    Decision\n3565           Nathan Coy        Jonavin Webb      win     loss    Decision\n3566   Ashlee Evans-Smith       Marion Reneau      win     loss    Decision\n3567        Lauren Murphy      Kelly Faszholz      win     loss         TKO\n3568  Shamil Abdurakhimov    Anthony Hamilton      win     loss    Decision\n\n[3569 rows x 5 columns]",
      "text/html": "<div>\n<style scoped>\n    .dataframe tbody tr th:only-of-type {\n        vertical-align: middle;\n    }\n\n    .dataframe tbody tr th {\n        vertical-align: top;\n    }\n\n    .dataframe thead th {\n        text-align: right;\n    }\n</style>\n<table border=\"1\" class=\"dataframe\">\n  <thead>\n    <tr style=\"text-align: right;\">\n      <th></th>\n      <th>f1name</th>\n      <th>f2name</th>\n      <th>f1result</th>\n      <th>f2result</th>\n      <th>method</th>\n    </tr>\n  </thead>\n  <tbody>\n    <tr>\n      <th>0</th>\n      <td>Royce Gracie</td>\n      <td>Gerard Gordeau</td>\n      <td>win</td>\n      <td>loss</td>\n      <td>Submission</td>\n    </tr>\n    <tr>\n      <th>1</th>\n      <td>Jason DeLucia</td>\n      <td>Trent Jenkins</td>\n      <td>win</td>\n      <td>loss</td>\n      <td>Submission</td>\n    </tr>\n    <tr>\n      <th>2</th>\n      <td>Royce Gracie</td>\n      <td>Ken Shamrock</td>\n      <td>win</td>\n      <td>loss</td>\n      <td>Submission</td>\n    </tr>\n    <tr>\n      <th>3</th>\n      <td>Gerard Gordeau</td>\n      <td>Kevin Rosier</td>\n      <td>win</td>\n      <td>loss</td>\n      <td>TKO</td>\n    </tr>\n    <tr>\n      <th>4</th>\n      <td>Ken Shamrock</td>\n      <td>Patrick Smith</td>\n      <td>win</td>\n      <td>loss</td>\n      <td>Submission</td>\n    </tr>\n    <tr>\n      <th>...</th>\n      <td>...</td>\n      <td>...</td>\n      <td>...</td>\n      <td>...</td>\n      <td>...</td>\n    </tr>\n    <tr>\n      <th>3564</th>\n      <td>Anthony Smith</td>\n      <td>Leonardo Guimaraes</td>\n      <td>win</td>\n      <td>loss</td>\n      <td>Decision</td>\n    </tr>\n    <tr>\n      <th>3565</th>\n      <td>Nathan Coy</td>\n      <td>Jonavin Webb</td>\n      <td>win</td>\n      <td>loss</td>\n      <td>Decision</td>\n    </tr>\n    <tr>\n      <th>3566</th>\n      <td>Ashlee Evans-Smith</td>\n      <td>Marion Reneau</td>\n      <td>win</td>\n      <td>loss</td>\n      <td>Decision</td>\n    </tr>\n    <tr>\n      <th>3567</th>\n      <td>Lauren Murphy</td>\n      <td>Kelly Faszholz</td>\n      <td>win</td>\n      <td>loss</td>\n      <td>TKO</td>\n    </tr>\n    <tr>\n      <th>3568</th>\n      <td>Shamil Abdurakhimov</td>\n      <td>Anthony Hamilton</td>\n      <td>win</td>\n      <td>loss</td>\n      <td>Decision</td>\n    </tr>\n  </tbody>\n</table>\n<p>3569 rows × 5 columns</p>\n</div>"
     },
     "metadata": {}
    }
   ]
  },
  {
   "cell_type": "code",
   "metadata": {
    "tags": [],
    "cell_id": "00002-2e4890b6-fbf6-4c03-9e28-92dd0aa48636",
    "deepnote_to_be_reexecuted": false,
    "source_hash": "af09d140",
    "execution_start": 1626939954719,
    "execution_millis": 625,
    "deepnote_cell_type": "code"
   },
   "source": "spec_cols2 = [2,5]\n\nufc_fighters = pd.read_excel('ufc_fighters.xlsx',)\n\nufc_fighters",
   "execution_count": 3,
   "outputs": [
    {
     "output_type": "execute_result",
     "execution_count": 3,
     "data": {
      "application/vnd.deepnote.dataframe.v2+json": {
       "row_count": 1561,
       "column_count": 11,
       "columns": [
        {
         "name": "url",
         "dtype": "object",
         "stats": {
          "unique_count": 1561,
          "nan_count": 0,
          "categories": [
           {
            "name": "/fighter/Conor-McGregor-29688",
            "count": 1
           },
           {
            "name": "/fighter/Jon-Jones-27944",
            "count": 1
           },
           {
            "name": "1559 others",
            "count": 1559
           }
          ]
         }
        },
        {
         "name": "fid",
         "dtype": "int64",
         "stats": {
          "unique_count": 1522,
          "nan_count": 0,
          "min": "4",
          "max": "172941",
          "histogram": [
           {
            "bin_start": 4,
            "bin_end": 17297.7,
            "count": 833
           },
           {
            "bin_start": 17297.7,
            "bin_end": 34591.4,
            "count": 276
           },
           {
            "bin_start": 34591.4,
            "bin_end": 51885.100000000006,
            "count": 157
           },
           {
            "bin_start": 51885.100000000006,
            "bin_end": 69178.8,
            "count": 129
           },
           {
            "bin_start": 69178.8,
            "bin_end": 86472.5,
            "count": 90
           },
           {
            "bin_start": 86472.5,
            "bin_end": 103766.20000000001,
            "count": 34
           },
           {
            "bin_start": 103766.20000000001,
            "bin_end": 121059.90000000001,
            "count": 16
           },
           {
            "bin_start": 121059.90000000001,
            "bin_end": 138353.6,
            "count": 11
           },
           {
            "bin_start": 138353.6,
            "bin_end": 155647.30000000002,
            "count": 10
           },
           {
            "bin_start": 155647.30000000002,
            "bin_end": 172941,
            "count": 5
           }
          ]
         }
        },
        {
         "name": "name",
         "dtype": "object",
         "stats": {
          "unique_count": 1525,
          "nan_count": 1,
          "categories": [
           {
            "name": "Renan Barao",
            "count": 3
           },
           {
            "name": "1524 others",
            "count": 1557
           },
           {
            "name": "Missing",
            "count": 1
           }
          ]
         }
        },
        {
         "name": "nick",
         "dtype": "object",
         "stats": {
          "unique_count": 888,
          "nan_count": 509,
          "categories": [
           {
            "name": "The Hammer",
            "count": 8
           },
           {
            "name": "887 others",
            "count": 1044
           },
           {
            "name": "Missing",
            "count": 509
           }
          ]
         }
        },
        {
         "name": "birth_date",
         "dtype": "datetime64[ns]",
         "stats": {
          "unique_count": 1204,
          "nan_count": 209,
          "min": "1955-03-30 00:00:00",
          "max": "1996-03-01 00:00:00",
          "histogram": [
           {
            "bin_start": -465782400000000000,
            "bin_end": -336640320000000000,
            "count": 5
           },
           {
            "bin_start": -336640320000000000,
            "bin_end": -207498240000000000,
            "count": 8
           },
           {
            "bin_start": -207498240000000000,
            "bin_end": -78356160000000000,
            "count": 39
           },
           {
            "bin_start": -78356160000000000,
            "bin_end": 50785920000000000,
            "count": 69
           },
           {
            "bin_start": 50785920000000000,
            "bin_end": 179928000000000000,
            "count": 101
           },
           {
            "bin_start": 179928000000000000,
            "bin_end": 309070080000000000,
            "count": 210
           },
           {
            "bin_start": 309070080000000000,
            "bin_end": 438212160000000000,
            "count": 371
           },
           {
            "bin_start": 438212160000000000,
            "bin_end": 567354240000000000,
            "count": 353
           },
           {
            "bin_start": 567354240000000000,
            "bin_end": 696496320000000000,
            "count": 175
           },
           {
            "bin_start": 696496320000000000,
            "bin_end": 825638400000000000,
            "count": 21
           }
          ]
         }
        },
        {
         "name": "height",
         "dtype": "float64",
         "stats": {
          "unique_count": 24,
          "nan_count": 55,
          "min": "61.0",
          "max": "84.0",
          "histogram": [
           {
            "bin_start": 61,
            "bin_end": 63.3,
            "count": 28
           },
           {
            "bin_start": 63.3,
            "bin_end": 65.6,
            "count": 64
           },
           {
            "bin_start": 65.6,
            "bin_end": 67.9,
            "count": 163
           },
           {
            "bin_start": 67.9,
            "bin_end": 70.2,
            "count": 460
           },
           {
            "bin_start": 70.2,
            "bin_end": 72.5,
            "count": 364
           },
           {
            "bin_start": 72.5,
            "bin_end": 74.8,
            "count": 258
           },
           {
            "bin_start": 74.8,
            "bin_end": 77.1,
            "count": 144
           },
           {
            "bin_start": 77.1,
            "bin_end": 79.4,
            "count": 14
           },
           {
            "bin_start": 79.4,
            "bin_end": 81.7,
            "count": 8
           },
           {
            "bin_start": 81.7,
            "bin_end": 84,
            "count": 3
           }
          ]
         }
        },
        {
         "name": "weight",
         "dtype": "float64",
         "stats": {
          "unique_count": 136,
          "nan_count": 28,
          "min": "105.0",
          "max": "600.0",
          "histogram": [
           {
            "bin_start": 105,
            "bin_end": 154.5,
            "count": 405
           },
           {
            "bin_start": 154.5,
            "bin_end": 204,
            "count": 785
           },
           {
            "bin_start": 204,
            "bin_end": 253.5,
            "count": 280
           },
           {
            "bin_start": 253.5,
            "bin_end": 303,
            "count": 53
           },
           {
            "bin_start": 303,
            "bin_end": 352.5,
            "count": 5
           },
           {
            "bin_start": 352.5,
            "bin_end": 402,
            "count": 2
           },
           {
            "bin_start": 402,
            "bin_end": 451.5,
            "count": 2
           },
           {
            "bin_start": 451.5,
            "bin_end": 501,
            "count": 0
           },
           {
            "bin_start": 501,
            "bin_end": 550.5,
            "count": 0
           },
           {
            "bin_start": 550.5,
            "bin_end": 600,
            "count": 1
           }
          ]
         }
        },
        {
         "name": "association",
         "dtype": "object",
         "stats": {
          "unique_count": 651,
          "nan_count": 195,
          "categories": [
           {
            "name": "American Top Team",
            "count": 55
           },
           {
            "name": "650 others",
            "count": 1311
           },
           {
            "name": "Missing",
            "count": 195
           }
          ]
         }
        },
        {
         "name": "class",
         "dtype": "object",
         "stats": {
          "unique_count": 11,
          "nan_count": 35,
          "categories": [
           {
            "name": "Welterweight",
            "count": 293
           },
           {
            "name": "10 others",
            "count": 1233
           },
           {
            "name": "Missing",
            "count": 35
           }
          ]
         }
        },
        {
         "name": "locality",
         "dtype": "object",
         "stats": {
          "unique_count": 810,
          "nan_count": 63,
          "categories": [
           {
            "name": "Rio de Janeiro",
            "count": 27
           },
           {
            "name": "809 others",
            "count": 1471
           },
           {
            "name": "Missing",
            "count": 63
           }
          ]
         }
        },
        {
         "name": "country",
         "dtype": "object",
         "stats": {
          "unique_count": 63,
          "nan_count": 28,
          "categories": [
           {
            "name": "United States",
            "count": 878
           },
           {
            "name": "62 others",
            "count": 655
           },
           {
            "name": "Missing",
            "count": 28
           }
          ]
         }
        },
        {
         "name": "_deepnote_index_column",
         "dtype": "int64"
        }
       ],
       "rows_top": [
        {
         "url": "/fighter/Conor-McGregor-29688",
         "fid": 29688,
         "name": "Conor McGregor",
         "nick": "Notorious",
         "birth_date": "1988-07-14T00:00:00.000000",
         "height": 68,
         "weight": 145,
         "association": "SBG Ireland",
         "class": "Featherweight",
         "locality": "Dublin",
         "country": "Ireland",
         "_deepnote_index_column": 0
        },
        {
         "url": "/fighter/Jon-Jones-27944",
         "fid": 27944,
         "name": "Jon Jones",
         "nick": "Bones",
         "birth_date": "1987-07-19T00:00:00.000000",
         "height": 76,
         "weight": 205,
         "association": "Jackson-Wink MMA",
         "class": "Light Heavyweight",
         "locality": "Rochester, New York",
         "country": "United States",
         "_deepnote_index_column": 1
        },
        {
         "url": "/fighter/Holly-Holm-75125",
         "fid": 75125,
         "name": "Holly Holm",
         "nick": "The Preacher's Daughter",
         "birth_date": "1981-10-17T00:00:00.000000",
         "height": 68,
         "weight": 135,
         "association": "Jackson-Wink MMA",
         "class": "Bantamweight",
         "locality": "Albuquerque, New Mexico",
         "country": "United States",
         "_deepnote_index_column": 2
        },
        {
         "url": "/fighter/Dominick-Cruz-12107",
         "fid": 12107,
         "name": "Dominick Cruz",
         "nick": "The Dominator",
         "birth_date": "1985-09-03T00:00:00.000000",
         "height": 68,
         "weight": 134,
         "association": "Alliance MMA",
         "class": "Bantamweight",
         "locality": "San Diego, California",
         "country": "United States",
         "_deepnote_index_column": 3
        },
        {
         "url": "/fighter/Demetrious-Johnson-45452",
         "fid": 45452,
         "name": "Demetrious Johnson",
         "nick": "Mighty Mouse",
         "birth_date": "1986-08-13T00:00:00.000000",
         "height": 63,
         "weight": 125,
         "association": "AMC Pankration",
         "class": "Flyweight",
         "locality": "Kirkland, Washington",
         "country": "United States",
         "_deepnote_index_column": 4
        },
        {
         "url": "/fighter/Ronda-Rousey-73073",
         "fid": 73073,
         "name": "Ronda Rousey",
         "nick": "Rowdy",
         "birth_date": "1987-02-01T00:00:00.000000",
         "height": 66,
         "weight": 135,
         "association": "Team Hayastan",
         "class": "Bantamweight",
         "locality": "Santa Monica, California",
         "country": "United States",
         "_deepnote_index_column": 5
        },
        {
         "url": "/fighter/Fabricio-Werdum-8390",
         "fid": 8390,
         "name": "Fabricio Werdum",
         "nick": "Vai Cavalo",
         "birth_date": "1977-07-30T00:00:00.000000",
         "height": 76,
         "weight": 242,
         "association": "Werdum Combat Team",
         "class": "Heavyweight",
         "locality": "Porto Alegre, Rio Grande do Sul",
         "country": "Brazil",
         "_deepnote_index_column": 6
        },
        {
         "url": "/fighter/Robbie-Lawler-2245",
         "fid": 2245,
         "name": "Robbie Lawler",
         "nick": "Ruthless",
         "birth_date": "1982-03-20T00:00:00.000000",
         "height": 71,
         "weight": 170,
         "association": "American Top Team",
         "class": "Welterweight",
         "locality": "Granite City, Illinois",
         "country": "United States",
         "_deepnote_index_column": 7
        },
        {
         "url": "/fighter/Jose-Aldo-11506",
         "fid": 11506,
         "name": "Jose Aldo",
         "nick": "Scarface",
         "birth_date": "1986-09-09T00:00:00.000000",
         "height": 67,
         "weight": 145,
         "association": "Nova Uniao",
         "class": "Featherweight",
         "locality": "Manaus, Amazonas",
         "country": "Brazil",
         "_deepnote_index_column": 8
        },
        {
         "url": "/fighter/Chad-Mendes-38393",
         "fid": 38393,
         "name": "Chad Mendes",
         "nick": "Money",
         "birth_date": "1985-05-01T00:00:00.000000",
         "height": 66,
         "weight": 145,
         "association": "Team Alpha Male",
         "class": "Featherweight",
         "locality": "Hanford, California",
         "country": "United States",
         "_deepnote_index_column": 9
        },
        {
         "url": "/fighter/Dustin-Poirier-50529",
         "fid": 50529,
         "name": "Dustin Poirier",
         "nick": "The Diamond",
         "birth_date": "1989-01-19T00:00:00.000000",
         "height": 69,
         "weight": 155,
         "association": "American Top Team",
         "class": "Lightweight",
         "locality": "Carencro, Louisiana",
         "country": "United States",
         "_deepnote_index_column": 10
        },
        {
         "url": "/fighter/Marcus-Brimage-21618",
         "fid": 21618,
         "name": "Marcus Brimage",
         "nick": "The Bama Beast",
         "birth_date": "1985-04-06T00:00:00.000000",
         "height": 64,
         "weight": 135,
         "association": "American Top Team",
         "class": "Bantamweight",
         "locality": "Birmingham, Alabama",
         "country": "United States",
         "_deepnote_index_column": 11
        },
        {
         "url": "/fighter/Diego-Brandao-25097",
         "fid": 25097,
         "name": "Diego Brandao",
         "nick": "DB",
         "birth_date": "1987-05-27T00:00:00.000000",
         "height": 67,
         "weight": 145,
         "association": "Jackson-Wink MMA",
         "class": "Featherweight",
         "locality": "Fortaleza, Ceara",
         "country": "Brazil",
         "_deepnote_index_column": 12
        },
        {
         "url": "/fighter/Max-Holloway-38671",
         "fid": 38671,
         "name": "Max Holloway",
         "nick": "Blessed",
         "birth_date": "1991-12-04T00:00:00.000000",
         "height": 71,
         "weight": 145,
         "association": "Gracie Technics",
         "class": "Featherweight",
         "locality": "Waianae, Hawaii",
         "country": "United States",
         "_deepnote_index_column": 13
        },
        {
         "url": "/fighter/Joseph-Duffy-17052",
         "fid": 17052,
         "name": "Joseph Duffy",
         "nick": "Irish Joe",
         "birth_date": "1988-02-18T00:00:00.000000",
         "height": 70,
         "weight": 155,
         "association": "The MMA Clinic",
         "class": "Lightweight",
         "locality": "Donegal",
         "country": "Ireland",
         "_deepnote_index_column": 14
        },
        {
         "url": "/fighter/Kevin-Randleman-162",
         "fid": 162,
         "name": "Kevin Randleman",
         "nick": "The Monster",
         "birth_date": "1971-08-10T00:00:00.000000",
         "height": 70,
         "weight": 205,
         "association": "Tapout Training Center",
         "class": "Light Heavyweight",
         "locality": "Columbus, Ohio",
         "country": "United States",
         "_deepnote_index_column": 15
        },
        {
         "url": "/fighter/Vitor-Belfort-156",
         "fid": 156,
         "name": "Vitor Belfort",
         "nick": "The Phenom",
         "birth_date": "1977-04-01T00:00:00.000000",
         "height": 72,
         "weight": 185,
         "association": "Blackzilians",
         "class": "Middleweight",
         "locality": "Rio de Janeiro",
         "country": "Brazil",
         "_deepnote_index_column": 16
        },
        {
         "url": "/fighter/Rashad-Evans-10200",
         "fid": 10200,
         "name": "Rashad Evans",
         "nick": "Suga",
         "birth_date": "1979-09-25T00:00:00.000000",
         "height": 71,
         "weight": 205,
         "association": "Blackzilians",
         "class": "Light Heavyweight",
         "locality": "Niagara Falls, New York",
         "country": "United States",
         "_deepnote_index_column": 17
        },
        {
         "url": "/fighter/Ryan-Bader-22858",
         "fid": 22858,
         "name": "Ryan Bader",
         "nick": "Darth",
         "birth_date": "1983-06-07T00:00:00.000000",
         "height": 74,
         "weight": 205,
         "association": "Power MMA Team",
         "class": "Light Heavyweight",
         "locality": "Tempe, Arizona",
         "country": "United States",
         "_deepnote_index_column": 18
        },
        {
         "url": "/fighter/Michael-Bisping-10196",
         "fid": 10196,
         "name": "Michael Bisping",
         "nick": "The Count",
         "birth_date": "1979-02-28T00:00:00.000000",
         "height": 74,
         "weight": 185,
         "association": "HB Ultimate",
         "class": "Middleweight",
         "locality": "Manchester",
         "country": "England",
         "_deepnote_index_column": 19
        },
        {
         "url": "/fighter/Alexander-Gustafsson-26162",
         "fid": 26162,
         "name": "Alexander Gustafsson",
         "nick": "The Mauler",
         "birth_date": "1987-01-15T00:00:00.000000",
         "height": 76,
         "weight": 205,
         "association": "Allstars Training Center",
         "class": "Light Heavyweight",
         "locality": "Stockholm, Stockholm County",
         "country": "Sweden",
         "_deepnote_index_column": 20
        },
        {
         "url": "/fighter/Vladimir-Matyushenko-435",
         "fid": 435,
         "name": "Vladimir Matyushenko",
         "nick": "The Janitor",
         "birth_date": "1971-01-04T00:00:00.000000",
         "height": 73,
         "weight": 205,
         "association": "VMAT",
         "class": "Light Heavyweight",
         "locality": "Retchisa",
         "country": "Belarus",
         "_deepnote_index_column": 21
        },
        {
         "url": "/fighter/Lyoto-Machida-7513",
         "fid": 7513,
         "name": "Lyoto Machida",
         "nick": "The Dragon",
         "birth_date": "1978-05-30T00:00:00.000000",
         "height": 73,
         "weight": 185,
         "association": "APAM",
         "class": "Middleweight",
         "locality": "Belem, Para",
         "country": "Brazil",
         "_deepnote_index_column": 22
        },
        {
         "url": "/fighter/Quinton-Jackson-348",
         "fid": 348,
         "name": "Quinton Jackson",
         "nick": "Rampage",
         "birth_date": "1978-06-20T00:00:00.000000",
         "height": 73,
         "weight": 206,
         "association": "Wolfslair Academy",
         "class": "Light Heavyweight",
         "locality": "Memphis, Tennessee",
         "country": "United States",
         "_deepnote_index_column": 23
        },
        {
         "url": "/fighter/Brandon-Vera-4886",
         "fid": 4886,
         "name": "Brandon Vera",
         "nick": "The Truth",
         "birth_date": "1977-10-10T00:00:00.000000",
         "height": 74,
         "weight": 205,
         "association": "Alliance MMA",
         "class": "Light Heavyweight",
         "locality": "San Diego, California",
         "country": "United States",
         "_deepnote_index_column": 24
        },
        {
         "url": "/fighter/Mauricio-Rua-5707",
         "fid": 5707,
         "name": "Mauricio Rua",
         "nick": "Shogun",
         "birth_date": "1981-11-25T00:00:00.000000",
         "height": 73,
         "weight": 205,
         "association": "Universidade da Luta",
         "class": "Light Heavyweight",
         "locality": "Curitiba, Parana",
         "country": "Brazil",
         "_deepnote_index_column": 25
        },
        {
         "url": "/fighter/Stephan-Bonnar-3014",
         "fid": 3014,
         "name": "Stephan Bonnar",
         "nick": "The American Psycho",
         "birth_date": "1977-04-04T00:00:00.000000",
         "height": 75,
         "weight": 205,
         "association": "One Kick's Gym",
         "class": "Light Heavyweight",
         "locality": "Hammond, Indiana",
         "country": "United States",
         "_deepnote_index_column": 26
        },
        {
         "url": "/fighter/Mark-Kerr-71",
         "fid": 71,
         "name": "Mark Kerr",
         "nick": "The Smashing Machine",
         "birth_date": "1968-12-21T00:00:00.000000",
         "height": 75,
         "weight": 255,
         "association": "Team Kerr",
         "class": "Heavyweight",
         "locality": "Phoenix, Arizona",
         "country": "United States",
         "_deepnote_index_column": 27
        },
        {
         "url": "/fighter/James-Toney-60940",
         "fid": 60940,
         "name": "James Toney",
         "nick": "Lights Out",
         "birth_date": "1968-08-24T00:00:00.000000",
         "height": 70,
         "weight": 237,
         "association": "M-1 Global Training Center",
         "class": "Heavyweight",
         "locality": "Grand Rapids, Michigan",
         "country": "United States",
         "_deepnote_index_column": 28
        },
        {
         "url": "/fighter/Randy-Couture-166",
         "fid": 166,
         "name": "Randy Couture",
         "nick": "The Natural",
         "birth_date": "1963-06-22T00:00:00.000000",
         "height": 73,
         "weight": 203,
         "association": "Xtreme Couture",
         "class": "Light Heavyweight",
         "locality": "Corvallis, Oregon",
         "country": "United States",
         "_deepnote_index_column": 29
        },
        {
         "url": "/fighter/Marion-Reneau-61266",
         "fid": 61266,
         "name": "Marion Reneau",
         "nick": "The Bruiser",
         "birth_date": "1977-06-20T00:00:00.000000",
         "height": 66,
         "weight": 135,
         "association": "Elite Team",
         "class": "Bantamweight",
         "locality": "Visalia, California",
         "country": "United States",
         "_deepnote_index_column": 30
        },
        {
         "url": "/fighter/Anthony-Pettis-26627",
         "fid": 26627,
         "name": "Anthony Pettis",
         "nick": "Showtime",
         "birth_date": "1987-01-27T00:00:00.000000",
         "height": 69,
         "weight": 155,
         "association": "Roufusport",
         "class": "Lightweight",
         "locality": "Milwaukee, Wisconsin",
         "country": "United States",
         "_deepnote_index_column": 31
        },
        {
         "url": "/fighter/Miesha-Tate-26252",
         "fid": 26252,
         "name": "Miesha Tate",
         "nick": "Cupcake",
         "birth_date": "1986-08-18T00:00:00.000000",
         "height": 66,
         "weight": 135,
         "association": "Xtreme Couture",
         "class": "Bantamweight",
         "locality": "Tacoma, Washington",
         "country": "United States",
         "_deepnote_index_column": 32
        },
        {
         "url": "/fighter/Donald-Cerrone-15105",
         "fid": 15105,
         "name": "Donald Cerrone",
         "nick": "Cowboy",
         "birth_date": "1983-03-29T00:00:00.000000",
         "height": 71,
         "weight": 155,
         "association": "Jackson-Wink MMA",
         "class": "Lightweight",
         "locality": "Broomfield, Colorado",
         "country": "United States",
         "_deepnote_index_column": 33
        },
        {
         "url": "/fighter/Raquel-Pennington-75564",
         "fid": 75564,
         "name": "Raquel Pennington",
         "nick": "Rocky",
         "birth_date": "1988-09-05T00:00:00.000000",
         "height": 67,
         "weight": 135,
         "association": "Altitude MMA",
         "class": "Bantamweight",
         "locality": "Colorado Springs, Colorado",
         "country": "United States",
         "_deepnote_index_column": 34
        },
        {
         "url": "/fighter/Alex-Oliveira-110143",
         "fid": 110143,
         "name": "Alex Oliveira",
         "nick": "Cowboy",
         "birth_date": "1988-02-21T00:00:00.000000",
         "height": 71,
         "weight": 155,
         "association": "Tata Fight Team",
         "class": "Lightweight",
         "locality": "Tres Rios, Rio de Janeiro",
         "country": "Brazil",
         "_deepnote_index_column": 35
        },
        {
         "url": "/fighter/Urijah-Faber-8847",
         "fid": 8847,
         "name": "Urijah Faber",
         "nick": "The California Kid",
         "birth_date": "1979-05-14T00:00:00.000000",
         "height": 66,
         "weight": 135,
         "association": "Team Alpha Male",
         "class": "Bantamweight",
         "locality": "Sacramento, California",
         "country": "United States",
         "_deepnote_index_column": 36
        },
        {
         "url": "/fighter/Scott-Jorgensen-16852",
         "fid": 16852,
         "name": "Scott Jorgensen",
         "nick": "Young Guns",
         "birth_date": "1982-09-17T00:00:00.000000",
         "height": 65,
         "weight": 135,
         "association": "Twisted Genetiks",
         "class": "Bantamweight",
         "locality": "Boise, Idaho",
         "country": "United States",
         "_deepnote_index_column": 37
        },
        {
         "url": "/fighter/Ian-McCall-5001",
         "fid": 5001,
         "name": "Ian McCall",
         "nick": "Uncle Creepy",
         "birth_date": "1984-07-05T00:00:00.000000",
         "height": 65,
         "weight": 125,
         "association": "Team Oyama",
         "class": "Flyweight",
         "locality": "Dana Point, California",
         "country": "United States",
         "_deepnote_index_column": 38
        },
        {
         "url": "/fighter/Chris-Weidman-42804",
         "fid": 42804,
         "name": "Chris Weidman",
         "nick": "All-American",
         "birth_date": "1984-06-17T00:00:00.000000",
         "height": 74,
         "weight": 185,
         "association": "Serra-Longo Fight Team",
         "class": "Middleweight",
         "locality": "Baldwin, New York",
         "country": "United States",
         "_deepnote_index_column": 39
        },
        {
         "url": "/fighter/Paul-Bradley-19726",
         "fid": 19726,
         "name": "Paul Bradley",
         "nick": "The Gentleman",
         "birth_date": "1983-05-17T00:00:00.000000",
         "height": 69,
         "weight": 170,
         "association": "Alliance MMA",
         "class": "Welterweight",
         "locality": "San Diego, California",
         "country": "United States",
         "_deepnote_index_column": 40
        },
        {
         "url": "/fighter/Tim-Boetsch-19544",
         "fid": 19544,
         "name": "Tim Boetsch",
         "nick": "The Barbarian",
         "birth_date": "1981-01-28T00:00:00.000000",
         "height": 71,
         "weight": 205,
         "association": "Team Irish",
         "class": "Light Heavyweight",
         "locality": "Lincolnville, Maine",
         "country": "United States",
         "_deepnote_index_column": 41
        },
        {
         "url": "/fighter/Ronaldo-Souza-8394",
         "fid": 8394,
         "name": "Ronaldo Souza",
         "nick": "Jacare",
         "birth_date": "1979-12-07T00:00:00.000000",
         "height": 72,
         "weight": 184,
         "association": "X-Gym",
         "class": "Middleweight",
         "locality": "Manaus, Amazonas",
         "country": "Brazil",
         "_deepnote_index_column": 42
        },
        {
         "url": "/fighter/Junior-dos-Santos-17272",
         "fid": 17272,
         "name": "Junior dos Santos",
         "nick": "Cigano",
         "birth_date": "1984-01-30T00:00:00.000000",
         "height": 76,
         "weight": 239,
         "association": "Champion Team",
         "class": "Heavyweight",
         "locality": "Cacadores, Santa Catarina",
         "country": "Brazil",
         "_deepnote_index_column": 43
        },
        {
         "url": "/fighter/Jesse-Taylor-17389",
         "fid": 17389,
         "name": "Jesse Taylor",
         "nick": "JT Money",
         "birth_date": "1984-01-02T00:00:00.000000",
         "height": 73,
         "weight": 185,
         "association": "The Arena",
         "class": "Middleweight",
         "locality": "Poway, California",
         "country": "United States",
         "_deepnote_index_column": 44
        }
       ],
       "rows_bottom": [
        {
         "url": "/fighter/Humberto-Brown-Morrison-45721",
         "fid": 45721,
         "name": "Humberto Brown Morrison",
         "nick": "nan",
         "birth_date": "1984-11-03 00:00:00",
         "height": 69,
         "weight": 145,
         "association": "Alley Cat Fight Team",
         "class": "Featherweight",
         "locality": "nan",
         "country": "Panama",
         "_deepnote_index_column": 1516
        },
        {
         "url": "/fighter/Matt-Hobar-59713",
         "fid": 59713,
         "name": "Matt Hobar",
         "nick": "The Crowbar",
         "birth_date": "1987-01-07 00:00:00",
         "height": 70,
         "weight": 135,
         "association": "Octagon MMA",
         "class": "Bantamweight",
         "locality": "Dallas, Texas",
         "country": "United States",
         "_deepnote_index_column": 1517
        },
        {
         "url": "/fighter/Ian-Entwistle-50588",
         "fid": 50588,
         "name": "Ian Entwistle",
         "nick": "Enty",
         "birth_date": "1986-11-19 00:00:00",
         "height": 68,
         "weight": 136,
         "association": "Apex MMA",
         "class": "Bantamweight",
         "locality": "Accrington",
         "country": "England",
         "_deepnote_index_column": 1518
        },
        {
         "url": "/fighter/Philip-De-Fries-46202",
         "fid": 46202,
         "name": "Philip De Fries",
         "nick": "nan",
         "birth_date": "1986-04-21 00:00:00",
         "height": 76,
         "weight": 248,
         "association": "Alliance MMA",
         "class": "Heavyweight",
         "locality": "Sunderland, Tyne and Wear",
         "country": "England",
         "_deepnote_index_column": 1519
        },
        {
         "url": "/fighter/Ryo-Chonan-1831",
         "fid": 1831,
         "name": "Ryo Chonan",
         "nick": "Piranha",
         "birth_date": "1976-10-08 00:00:00",
         "height": 69,
         "weight": 169,
         "association": "Tribe Tokyo MMA",
         "class": "Welterweight",
         "locality": "nan",
         "country": "Japan",
         "_deepnote_index_column": 1520
        },
        {
         "url": "/fighter/Ken-Stone-24913",
         "fid": 24913,
         "name": "Ken Stone",
         "nick": "nan",
         "birth_date": "1982-10-08 00:00:00",
         "height": 68,
         "weight": 135,
         "association": "American Top Team",
         "class": "Bantamweight",
         "locality": "Coconut Creek, Florida",
         "country": "United States",
         "_deepnote_index_column": 1521
        },
        {
         "url": "/fighter/Dale-Hartt-11970",
         "fid": 11970,
         "name": "Dale Hartt",
         "nick": "nan",
         "birth_date": "NaT",
         "height": 70,
         "weight": 155,
         "association": "Team Sityodtong",
         "class": "Lightweight",
         "locality": "Bangor, Maine",
         "country": "United States",
         "_deepnote_index_column": 1522
        },
        {
         "url": "/fighter/Clay-Harvison-21131",
         "fid": 21131,
         "name": "Clay Harvison",
         "nick": "Heavy Metal",
         "birth_date": "1980-09-25 00:00:00",
         "height": 73,
         "weight": 160,
         "association": "Madhouse Training",
         "class": "Welterweight",
         "locality": "Marietta, Georgia",
         "country": "United States",
         "_deepnote_index_column": 1523
        },
        {
         "url": "/fighter/Marcus-Jones-25912",
         "fid": 25912,
         "name": "Marcus Jones",
         "nick": "Big Baby",
         "birth_date": "1973-08-15 00:00:00",
         "height": 78,
         "weight": 265,
         "association": "nan",
         "class": "Heavyweight",
         "locality": "Tampa, Florida",
         "country": "United States",
         "_deepnote_index_column": 1524
        },
        {
         "url": "/fighter/Scott-Adams-241",
         "fid": 241,
         "name": "Scott Adams",
         "nick": "nan",
         "birth_date": "1974-07-16 00:00:00",
         "height": 72,
         "weight": 225,
         "association": "The Pit",
         "class": "Heavyweight",
         "locality": "San Luis Obispo, California",
         "country": "nan",
         "_deepnote_index_column": 1525
        },
        {
         "url": "/fighter/Chris-Condo-287",
         "fid": 287,
         "name": "Chris Condo",
         "nick": "nan",
         "birth_date": "NaT",
         "height": "nan",
         "weight": "nan",
         "association": "nan",
         "class": "nan",
         "locality": "nan",
         "country": "nan",
         "_deepnote_index_column": 1526
        },
        {
         "url": "/fighter/Paul-Creighton-4441",
         "fid": 4441,
         "name": "Paul Creighton",
         "nick": "nan",
         "birth_date": "1970-04-07 00:00:00",
         "height": 66,
         "weight": 155,
         "association": "nan",
         "class": "Lightweight",
         "locality": "Manhattan, New York",
         "country": "USA",
         "_deepnote_index_column": 1527
        },
        {
         "url": "/fighter/Sione-Latu-9977",
         "fid": 9977,
         "name": "Sione Latu",
         "nick": "nan",
         "birth_date": "NaT",
         "height": "nan",
         "weight": "nan",
         "association": "nan",
         "class": "nan",
         "locality": "nan",
         "country": "nan",
         "_deepnote_index_column": 1528
        },
        {
         "url": "/fighter/Townsend-Saunders-189",
         "fid": 189,
         "name": "Townsend Saunders",
         "nick": "nan",
         "birth_date": "1968-07-16 00:00:00",
         "height": 65,
         "weight": 170,
         "association": "nan",
         "class": "Welterweight",
         "locality": "White Sands, New Mexico",
         "country": "United States",
         "_deepnote_index_column": 1529
        },
        {
         "url": "/fighter/Courtney-Turner-285",
         "fid": 285,
         "name": "Courtney Turner",
         "nick": "nan",
         "birth_date": "NaT",
         "height": 74,
         "weight": 175,
         "association": "nan",
         "class": "Middleweight",
         "locality": "Metairie, Louisiana",
         "country": "USA",
         "_deepnote_index_column": 1530
        },
        {
         "url": "/fighter/Steven-Graham-164",
         "fid": 164,
         "name": "Steven Graham",
         "nick": "nan",
         "birth_date": "NaT",
         "height": 73,
         "weight": 290,
         "association": "nan",
         "class": "Super Heavyweight",
         "locality": "Fayettsville, North Carolina",
         "country": "USA",
         "_deepnote_index_column": 1531
        },
        {
         "url": "/fighter/Alex-Hunter-170",
         "fid": 170,
         "name": "Alex Hunter",
         "nick": "nan",
         "birth_date": "NaT",
         "height": 69,
         "weight": 226,
         "association": "nan",
         "class": "Heavyweight",
         "locality": "Tarpon Springs, Florida",
         "country": "USA",
         "_deepnote_index_column": 1532
        },
        {
         "url": "/fighter/Saeed-Hosseini-160",
         "fid": 160,
         "name": "Saeed Hosseini",
         "nick": "nan",
         "birth_date": "NaT",
         "height": "nan",
         "weight": "nan",
         "association": "nan",
         "class": "nan",
         "locality": "nan",
         "country": "nan",
         "_deepnote_index_column": 1533
        },
        {
         "url": "/fighter/Donnie-Chappell-169",
         "fid": 169,
         "name": "Donnie Chappell",
         "nick": "nan",
         "birth_date": "NaT",
         "height": "nan",
         "weight": "nan",
         "association": "nan",
         "class": "nan",
         "locality": "nan",
         "country": "nan",
         "_deepnote_index_column": 1534
        },
        {
         "url": "/fighter/Dmitri-Stepanov-165",
         "fid": 165,
         "name": "Dmitri Stepanov",
         "nick": "nan",
         "birth_date": "NaT",
         "height": "nan",
         "weight": "nan",
         "association": "nan",
         "class": "nan",
         "locality": "nan",
         "country": "nan",
         "_deepnote_index_column": 1535
        },
        {
         "url": "/fighter/Wes-Albritton-159",
         "fid": 159,
         "name": "Wes Albritton",
         "nick": "nan",
         "birth_date": "NaT",
         "height": "nan",
         "weight": "nan",
         "association": "nan",
         "class": "nan",
         "locality": "nan",
         "country": "nan",
         "_deepnote_index_column": 1536
        },
        {
         "url": "/fighter/John-Campetella-140",
         "fid": 140,
         "name": "John Campetella",
         "nick": "nan",
         "birth_date": "NaT",
         "height": 69,
         "weight": 235,
         "association": "nan",
         "class": "Heavyweight",
         "locality": "New York City, New York",
         "country": "USA",
         "_deepnote_index_column": 1537
        },
        {
         "url": "/fighter/Reza-Nasri-145",
         "fid": 145,
         "name": "Reza Nasri",
         "nick": "nan",
         "birth_date": "NaT",
         "height": 71,
         "weight": 205,
         "association": "nan",
         "class": "Light Heavyweight",
         "locality": "Isfahan",
         "country": "Iran, Islamic Republic of",
         "_deepnote_index_column": 1538
        },
        {
         "url": "/fighter/Scott-Fiedler-138",
         "fid": 138,
         "name": "Scott Fiedler",
         "nick": "nan",
         "birth_date": "NaT",
         "height": 76,
         "weight": 235,
         "association": "nan",
         "class": "Heavyweight",
         "locality": "Pacific, Missouri",
         "country": "United States",
         "_deepnote_index_column": 1539
        },
        {
         "url": "/fighter/Jackie-Lee-149",
         "fid": 149,
         "name": "Jackie Lee",
         "nick": "nan",
         "birth_date": "NaT",
         "height": "nan",
         "weight": "nan",
         "association": "nan",
         "class": "nan",
         "locality": "nan",
         "country": "nan",
         "_deepnote_index_column": 1540
        },
        {
         "url": "/fighter/Dave-Berry-143",
         "fid": 143,
         "name": "Dave Berry",
         "nick": "nan",
         "birth_date": "NaT",
         "height": "nan",
         "weight": "nan",
         "association": "nan",
         "class": "nan",
         "locality": "nan",
         "country": "nan",
         "_deepnote_index_column": 1541
        },
        {
         "url": "/fighter/Julian-Sanchez-144",
         "fid": 144,
         "name": "Julian Sanchez",
         "nick": "nan",
         "birth_date": "NaT",
         "height": 75,
         "weight": 300,
         "association": "nan",
         "class": "Super Heavyweight",
         "locality": "San Antonio, Texas",
         "country": "United States",
         "_deepnote_index_column": 1542
        },
        {
         "url": "/fighter/Mark-Schultz-133",
         "fid": 133,
         "name": "Mark Schultz",
         "nick": "nan",
         "birth_date": "1960-10-26 00:00:00",
         "height": 70,
         "weight": 203,
         "association": "nan",
         "class": "Light Heavyweight",
         "locality": "Lindon, Utah",
         "country": "United States",
         "_deepnote_index_column": 1543
        },
        {
         "url": "/fighter/Rafael-Carino-131",
         "fid": 131,
         "name": "Rafael Carino",
         "nick": "Earthquake",
         "birth_date": "1973-07-16 00:00:00",
         "height": 80,
         "weight": 245,
         "association": "Nova Uniao",
         "class": "Heavyweight",
         "locality": "Rio De Janeiro",
         "country": "Brazil",
         "_deepnote_index_column": 1544
        },
        {
         "url": "/fighter/Larry-Cureton-62",
         "fid": 62,
         "name": "Larry Cureton",
         "nick": "nan",
         "birth_date": "NaT",
         "height": 74,
         "weight": 248,
         "association": "nan",
         "class": "Heavyweight",
         "locality": "Jersey City, New Jersey",
         "country": "United States",
         "_deepnote_index_column": 1545
        },
        {
         "url": "/fighter/Thomas-Ramirez-125",
         "fid": 125,
         "name": "Thomas Ramirez",
         "nick": "nan",
         "birth_date": "NaT",
         "height": 73,
         "weight": 410,
         "association": "nan",
         "class": "Super Heavyweight",
         "locality": "Bayamon",
         "country": "Puerto Rico",
         "_deepnote_index_column": 1546
        },
        {
         "url": "/fighter/Onassis-Parungao-116",
         "fid": 116,
         "name": "Onassis Parungao",
         "nick": "nan",
         "birth_date": "NaT",
         "height": "nan",
         "weight": "nan",
         "association": "nan",
         "class": "nan",
         "locality": "nan",
         "country": "nan",
         "_deepnote_index_column": 1547
        },
        {
         "url": "/fighter/Francesco-Maturi-117",
         "fid": 117,
         "name": "Francesco Maturi",
         "nick": "Fang",
         "birth_date": "NaT",
         "height": 75,
         "weight": 235,
         "association": "nan",
         "class": "Heavyweight",
         "locality": "Moorehead, Minnesota",
         "country": "United States",
         "_deepnote_index_column": 1548
        },
        {
         "url": "/fighter/Roland-Payne-42",
         "fid": 42,
         "name": "Roland Payne",
         "nick": "nan",
         "birth_date": "1964-07-16 00:00:00",
         "height": 69,
         "weight": 205,
         "association": "nan",
         "class": "Light Heavyweight",
         "locality": "Charlotte, North Carolina",
         "country": "United States",
         "_deepnote_index_column": 1549
        },
        {
         "url": "/fighter/Alberto-Cerra-Leon-37",
         "fid": 37,
         "name": "Alberto Cerra Leon",
         "nick": "nan",
         "birth_date": "NaT",
         "height": 68,
         "weight": 231,
         "association": "nan",
         "class": "Heavyweight",
         "locality": "Lemoa",
         "country": "Spain",
         "_deepnote_index_column": 1550
        },
        {
         "url": "/fighter/Ernie-Verdicia-63",
         "fid": 63,
         "name": "Ernie Verdicia",
         "nick": "nan",
         "birth_date": "NaT",
         "height": 70,
         "weight": 219,
         "association": "nan",
         "class": "Heavyweight",
         "locality": "Miami, Florida",
         "country": "United States",
         "_deepnote_index_column": 1551
        },
        {
         "url": "/fighter/HeMan-Ali-Gipson-109",
         "fid": 109,
         "name": "He-Man Ali Gipson",
         "nick": "nan",
         "birth_date": "1973-03-01 00:00:00",
         "height": "nan",
         "weight": 216,
         "association": "nan",
         "class": "Heavyweight",
         "locality": "Las Vegas, Nevada",
         "country": "United States",
         "_deepnote_index_column": 1552
        },
        {
         "url": "/fighter/Andy-Anderson-60",
         "fid": 60,
         "name": "Andy Anderson",
         "nick": "The Hammer",
         "birth_date": "1964-07-16 00:00:00",
         "height": 69,
         "weight": 240,
         "association": "nan",
         "class": "Heavyweight",
         "locality": "Arlington, Texas",
         "country": "United States",
         "_deepnote_index_column": 1553
        },
        {
         "url": "/fighter/Eldo-Dias-Xavier-55",
         "fid": 55,
         "name": "Eldo Dias Xavier",
         "nick": "nan",
         "birth_date": "1964-07-16 00:00:00",
         "height": 71,
         "weight": 180,
         "association": "nan",
         "class": "Middleweight",
         "locality": "nan",
         "country": "Brazil",
         "_deepnote_index_column": 1554
        },
        {
         "url": "/fighter/Robert-Lucarelli-32",
         "fid": 32,
         "name": "Robert Lucarelli",
         "nick": "nan",
         "birth_date": "NaT",
         "height": 74,
         "weight": 245,
         "association": "nan",
         "class": "Heavyweight",
         "locality": "Schenectady, New York",
         "country": "United States",
         "_deepnote_index_column": 1555
        },
        {
         "url": "/fighter/Thaddeus-Luster-30",
         "fid": 30,
         "name": "Thaddeus Luster",
         "nick": "nan",
         "birth_date": "NaT",
         "height": 75,
         "weight": 200,
         "association": "nan",
         "class": "Light Heavyweight",
         "locality": "Van Nuys, California",
         "country": "United States",
         "_deepnote_index_column": 1556
        },
        {
         "url": "/fighter/Frank-Hamaker-29",
         "fid": 29,
         "name": "Frank Hamaker",
         "nick": "nan",
         "birth_date": "NaT",
         "height": 74,
         "weight": 245,
         "association": "nan",
         "class": "Heavyweight",
         "locality": "Amsterdam",
         "country": "Netherlands",
         "_deepnote_index_column": 1557
        },
        {
         "url": "/fighter/Ryan-Parker-119",
         "fid": 119,
         "name": "Ryan Parker",
         "nick": "nan",
         "birth_date": "NaT",
         "height": 75,
         "weight": 235,
         "association": "nan",
         "class": "Heavyweight",
         "locality": "Moorehead, Minnesota",
         "country": "United States",
         "_deepnote_index_column": 1558
        },
        {
         "url": "/fighter/Marcus-Davis-8592",
         "fid": 8592,
         "name": "Marcus Davis",
         "nick": "The Irish Hand Grenade",
         "birth_date": "1973-08-24 00:00:00",
         "height": 68,
         "weight": 170,
         "association": "Team Irish",
         "class": "Welterweight",
         "locality": "Bangor, Maine",
         "country": "United States",
         "_deepnote_index_column": 1559
        },
        {
         "url": "/fighter/John-Alessio-259",
         "fid": 259,
         "name": "John Alessio",
         "nick": "The Natural",
         "birth_date": "1979-07-05 00:00:00",
         "height": 70,
         "weight": 155,
         "association": "Xtreme Couture",
         "class": "Lightweight",
         "locality": "Vancouver, British Columbia",
         "country": "Canada",
         "_deepnote_index_column": 1560
        }
       ]
      },
      "text/plain": "                                    url    fid                name  \\\n0         /fighter/Conor-McGregor-29688  29688      Conor McGregor   \n1              /fighter/Jon-Jones-27944  27944           Jon Jones   \n2             /fighter/Holly-Holm-75125  75125          Holly Holm   \n3          /fighter/Dominick-Cruz-12107  12107       Dominick Cruz   \n4     /fighter/Demetrious-Johnson-45452  45452  Demetrious Johnson   \n...                                 ...    ...                 ...   \n1556        /fighter/Thaddeus-Luster-30     30     Thaddeus Luster   \n1557          /fighter/Frank-Hamaker-29     29       Frank Hamaker   \n1558           /fighter/Ryan-Parker-119    119         Ryan Parker   \n1559         /fighter/Marcus-Davis-8592   8592        Marcus Davis   \n1560          /fighter/John-Alessio-259    259        John Alessio   \n\n                         nick birth_date  height  weight       association  \\\n0                   Notorious 1988-07-14    68.0   145.0       SBG Ireland   \n1                       Bones 1987-07-19    76.0   205.0  Jackson-Wink MMA   \n2     The Preacher's Daughter 1981-10-17    68.0   135.0  Jackson-Wink MMA   \n3               The Dominator 1985-09-03    68.0   134.0      Alliance MMA   \n4                Mighty Mouse 1986-08-13    63.0   125.0    AMC Pankration   \n...                       ...        ...     ...     ...               ...   \n1556                      NaN        NaT    75.0   200.0               NaN   \n1557                      NaN        NaT    74.0   245.0               NaN   \n1558                      NaN        NaT    75.0   235.0               NaN   \n1559   The Irish Hand Grenade 1973-08-24    68.0   170.0        Team Irish   \n1560              The Natural 1979-07-05    70.0   155.0    Xtreme Couture   \n\n                  class                     locality        country  \n0         Featherweight                       Dublin        Ireland  \n1     Light Heavyweight          Rochester, New York  United States  \n2          Bantamweight      Albuquerque, New Mexico  United States  \n3          Bantamweight        San Diego, California  United States  \n4             Flyweight         Kirkland, Washington  United States  \n...                 ...                          ...            ...  \n1556  Light Heavyweight         Van Nuys, California  United States  \n1557        Heavyweight                    Amsterdam    Netherlands  \n1558        Heavyweight         Moorehead, Minnesota  United States  \n1559       Welterweight                Bangor, Maine  United States  \n1560        Lightweight  Vancouver, British Columbia         Canada  \n\n[1561 rows x 11 columns]",
      "text/html": "<div>\n<style scoped>\n    .dataframe tbody tr th:only-of-type {\n        vertical-align: middle;\n    }\n\n    .dataframe tbody tr th {\n        vertical-align: top;\n    }\n\n    .dataframe thead th {\n        text-align: right;\n    }\n</style>\n<table border=\"1\" class=\"dataframe\">\n  <thead>\n    <tr style=\"text-align: right;\">\n      <th></th>\n      <th>url</th>\n      <th>fid</th>\n      <th>name</th>\n      <th>nick</th>\n      <th>birth_date</th>\n      <th>height</th>\n      <th>weight</th>\n      <th>association</th>\n      <th>class</th>\n      <th>locality</th>\n      <th>country</th>\n    </tr>\n  </thead>\n  <tbody>\n    <tr>\n      <th>0</th>\n      <td>/fighter/Conor-McGregor-29688</td>\n      <td>29688</td>\n      <td>Conor McGregor</td>\n      <td>Notorious</td>\n      <td>1988-07-14</td>\n      <td>68.0</td>\n      <td>145.0</td>\n      <td>SBG Ireland</td>\n      <td>Featherweight</td>\n      <td>Dublin</td>\n      <td>Ireland</td>\n    </tr>\n    <tr>\n      <th>1</th>\n      <td>/fighter/Jon-Jones-27944</td>\n      <td>27944</td>\n      <td>Jon Jones</td>\n      <td>Bones</td>\n      <td>1987-07-19</td>\n      <td>76.0</td>\n      <td>205.0</td>\n      <td>Jackson-Wink MMA</td>\n      <td>Light Heavyweight</td>\n      <td>Rochester, New York</td>\n      <td>United States</td>\n    </tr>\n    <tr>\n      <th>2</th>\n      <td>/fighter/Holly-Holm-75125</td>\n      <td>75125</td>\n      <td>Holly Holm</td>\n      <td>The Preacher's Daughter</td>\n      <td>1981-10-17</td>\n      <td>68.0</td>\n      <td>135.0</td>\n      <td>Jackson-Wink MMA</td>\n      <td>Bantamweight</td>\n      <td>Albuquerque, New Mexico</td>\n      <td>United States</td>\n    </tr>\n    <tr>\n      <th>3</th>\n      <td>/fighter/Dominick-Cruz-12107</td>\n      <td>12107</td>\n      <td>Dominick Cruz</td>\n      <td>The Dominator</td>\n      <td>1985-09-03</td>\n      <td>68.0</td>\n      <td>134.0</td>\n      <td>Alliance MMA</td>\n      <td>Bantamweight</td>\n      <td>San Diego, California</td>\n      <td>United States</td>\n    </tr>\n    <tr>\n      <th>4</th>\n      <td>/fighter/Demetrious-Johnson-45452</td>\n      <td>45452</td>\n      <td>Demetrious Johnson</td>\n      <td>Mighty Mouse</td>\n      <td>1986-08-13</td>\n      <td>63.0</td>\n      <td>125.0</td>\n      <td>AMC Pankration</td>\n      <td>Flyweight</td>\n      <td>Kirkland, Washington</td>\n      <td>United States</td>\n    </tr>\n    <tr>\n      <th>...</th>\n      <td>...</td>\n      <td>...</td>\n      <td>...</td>\n      <td>...</td>\n      <td>...</td>\n      <td>...</td>\n      <td>...</td>\n      <td>...</td>\n      <td>...</td>\n      <td>...</td>\n      <td>...</td>\n    </tr>\n    <tr>\n      <th>1556</th>\n      <td>/fighter/Thaddeus-Luster-30</td>\n      <td>30</td>\n      <td>Thaddeus Luster</td>\n      <td>NaN</td>\n      <td>NaT</td>\n      <td>75.0</td>\n      <td>200.0</td>\n      <td>NaN</td>\n      <td>Light Heavyweight</td>\n      <td>Van Nuys, California</td>\n      <td>United States</td>\n    </tr>\n    <tr>\n      <th>1557</th>\n      <td>/fighter/Frank-Hamaker-29</td>\n      <td>29</td>\n      <td>Frank Hamaker</td>\n      <td>NaN</td>\n      <td>NaT</td>\n      <td>74.0</td>\n      <td>245.0</td>\n      <td>NaN</td>\n      <td>Heavyweight</td>\n      <td>Amsterdam</td>\n      <td>Netherlands</td>\n    </tr>\n    <tr>\n      <th>1558</th>\n      <td>/fighter/Ryan-Parker-119</td>\n      <td>119</td>\n      <td>Ryan Parker</td>\n      <td>NaN</td>\n      <td>NaT</td>\n      <td>75.0</td>\n      <td>235.0</td>\n      <td>NaN</td>\n      <td>Heavyweight</td>\n      <td>Moorehead, Minnesota</td>\n      <td>United States</td>\n    </tr>\n    <tr>\n      <th>1559</th>\n      <td>/fighter/Marcus-Davis-8592</td>\n      <td>8592</td>\n      <td>Marcus Davis</td>\n      <td>The Irish Hand Grenade</td>\n      <td>1973-08-24</td>\n      <td>68.0</td>\n      <td>170.0</td>\n      <td>Team Irish</td>\n      <td>Welterweight</td>\n      <td>Bangor, Maine</td>\n      <td>United States</td>\n    </tr>\n    <tr>\n      <th>1560</th>\n      <td>/fighter/John-Alessio-259</td>\n      <td>259</td>\n      <td>John Alessio</td>\n      <td>The Natural</td>\n      <td>1979-07-05</td>\n      <td>70.0</td>\n      <td>155.0</td>\n      <td>Xtreme Couture</td>\n      <td>Lightweight</td>\n      <td>Vancouver, British Columbia</td>\n      <td>Canada</td>\n    </tr>\n  </tbody>\n</table>\n<p>1561 rows × 11 columns</p>\n</div>"
     },
     "metadata": {}
    }
   ]
  },
  {
   "cell_type": "code",
   "metadata": {
    "tags": [],
    "cell_id": "00003-08917fe7-0b9e-4e34-b702-1d7a6638c895",
    "deepnote_to_be_reexecuted": false,
    "source_hash": "b623e53d",
    "execution_start": 1626939955340,
    "execution_millis": 1,
    "deepnote_cell_type": "code"
   },
   "source": "",
   "execution_count": 3,
   "outputs": []
  },
  {
   "cell_type": "markdown",
   "source": "<a style='text-decoration:none;line-height:16px;display:flex;color:#5B5B62;padding:10px;justify-content:end;' href='https://deepnote.com?utm_source=created-in-deepnote-cell&projectId=657be62d-1fc1-4dd5-8bf1-c3b3098a89d0' target=\"_blank\">\n<img alt='Created in deepnote.com' style='display:inline;max-height:16px;margin:0px;margin-right:7.5px;' src='data:image/svg+xml;base64,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' > </img>\nCreated in <span style='font-weight:600;margin-left:4px;'>Deepnote</span></a>",
   "metadata": {
    "tags": [],
    "created_in_deepnote_cell": true,
    "deepnote_cell_type": "markdown"
   }
  }
 ],
 "nbformat": 4,
 "nbformat_minor": 2,
 "metadata": {
  "orig_nbformat": 2,
  "deepnote": {
   "is_reactive": false
  },
  "deepnote_notebook_id": "240de233-a08e-42c1-9a4b-1f23a12bb098",
  "deepnote_execution_queue": []
 }
}
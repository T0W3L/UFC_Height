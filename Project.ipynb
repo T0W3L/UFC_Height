{
 "cells": [
  {
   "cell_type": "code",
   "metadata": {
    "tags": [],
    "cell_id": "00000-45275e5f-6709-4998-b966-48a56e3736af",
    "deepnote_to_be_reexecuted": false,
    "source_hash": "cac3e50f",
    "execution_start": 1626983545362,
    "execution_millis": 1,
    "deepnote_cell_type": "code"
   },
   "source": "import numpy as np\n\nimport pandas as pd\n\nfrom pandas import DataFrame, Series",
   "execution_count": 1,
   "outputs": []
  },
  {
   "cell_type": "code",
   "metadata": {
    "tags": [],
    "cell_id": "00001-427db178-f037-4966-9844-1743f5fcb7f6",
    "deepnote_to_be_reexecuted": false,
    "source_hash": "7f5bad9",
    "execution_start": 1626983545405,
    "execution_millis": 3298,
    "deepnote_cell_type": "code"
   },
   "source": "spec_cols = [9,10,11,12,15]\n\n# Specify desired columns.\n\nufc_fights = pd.read_excel('ufc_fights.xlsx',usecols = spec_cols)\n\n# Reading spreadsheet containing list of all fights.\n\nufc_fights",
   "execution_count": 2,
   "outputs": [
    {
     "output_type": "execute_result",
     "execution_count": 2,
     "data": {
      "application/vnd.deepnote.dataframe.v2+json": {
       "row_count": 3569,
       "column_count": 5,
       "columns": [
        {
         "name": "f1name",
         "dtype": "object",
         "stats": {
          "unique_count": 986,
          "nan_count": 0,
          "categories": [
           {
            "name": "Georges St. Pierre",
            "count": 19
           },
           {
            "name": "Matt Hughes",
            "count": 18
           },
           {
            "name": "984 others",
            "count": 3532
           }
          ]
         }
        },
        {
         "name": "f2name",
         "dtype": "object",
         "stats": {
          "unique_count": 1415,
          "nan_count": 0,
          "categories": [
           {
            "name": "Tito Ortiz",
            "count": 12
           },
           {
            "name": "Yves Edwards",
            "count": 11
           },
           {
            "name": "1413 others",
            "count": 3546
           }
          ]
         }
        },
        {
         "name": "f1result",
         "dtype": "object",
         "stats": {
          "unique_count": 3,
          "nan_count": 0,
          "categories": [
           {
            "name": "win",
            "count": 3510
           },
           {
            "name": "NC",
            "count": 38
           },
           {
            "name": "draw",
            "count": 21
           }
          ]
         }
        },
        {
         "name": "f2result",
         "dtype": "object",
         "stats": {
          "unique_count": 3,
          "nan_count": 0,
          "categories": [
           {
            "name": "loss",
            "count": 3510
           },
           {
            "name": "NC",
            "count": 38
           },
           {
            "name": "draw",
            "count": 21
           }
          ]
         }
        },
        {
         "name": "method",
         "dtype": "object",
         "stats": {
          "unique_count": 14,
          "nan_count": 0,
          "categories": [
           {
            "name": "Decision",
            "count": 1470
           },
           {
            "name": "TKO",
            "count": 779
           },
           {
            "name": "12 others",
            "count": 1320
           }
          ]
         }
        },
        {
         "name": "_deepnote_index_column",
         "dtype": "int64"
        }
       ],
       "rows_top": [
        {
         "f1name": "Royce Gracie",
         "f2name": "Gerard Gordeau",
         "f1result": "win",
         "f2result": "loss",
         "method": "Submission",
         "_deepnote_index_column": 0
        },
        {
         "f1name": "Jason DeLucia",
         "f2name": "Trent Jenkins",
         "f1result": "win",
         "f2result": "loss",
         "method": "Submission",
         "_deepnote_index_column": 1
        },
        {
         "f1name": "Royce Gracie",
         "f2name": "Ken Shamrock",
         "f1result": "win",
         "f2result": "loss",
         "method": "Submission",
         "_deepnote_index_column": 2
        },
        {
         "f1name": "Gerard Gordeau",
         "f2name": "Kevin Rosier",
         "f1result": "win",
         "f2result": "loss",
         "method": "TKO",
         "_deepnote_index_column": 3
        },
        {
         "f1name": "Ken Shamrock",
         "f2name": "Patrick Smith",
         "f1result": "win",
         "f2result": "loss",
         "method": "Submission",
         "_deepnote_index_column": 4
        },
        {
         "f1name": "Royce Gracie",
         "f2name": "Art Jimmerson",
         "f1result": "win",
         "f2result": "loss",
         "method": "Submission",
         "_deepnote_index_column": 5
        },
        {
         "f1name": "Kevin Rosier",
         "f2name": "Zane Frazier",
         "f1result": "win",
         "f2result": "loss",
         "method": "TKO",
         "_deepnote_index_column": 6
        },
        {
         "f1name": "Gerard Gordeau",
         "f2name": "Teila Tuli",
         "f1result": "win",
         "f2result": "loss",
         "method": "TKO",
         "_deepnote_index_column": 7
        },
        {
         "f1name": "Royce Gracie",
         "f2name": "Patrick Smith",
         "f1result": "win",
         "f2result": "loss",
         "method": "Submission",
         "_deepnote_index_column": 8
        },
        {
         "f1name": "Royce Gracie",
         "f2name": "Remco Pardoel",
         "f1result": "win",
         "f2result": "loss",
         "method": "Submission",
         "_deepnote_index_column": 9
        },
        {
         "f1name": "Patrick Smith",
         "f2name": "Johnny Rhodes",
         "f1result": "win",
         "f2result": "loss",
         "method": "Submission",
         "_deepnote_index_column": 10
        },
        {
         "f1name": "Royce Gracie",
         "f2name": "Jason DeLucia",
         "f1result": "win",
         "f2result": "loss",
         "method": "Submission",
         "_deepnote_index_column": 11
        },
        {
         "f1name": "Remco Pardoel",
         "f2name": "Orlando Wiet",
         "f1result": "win",
         "f2result": "loss",
         "method": "KO",
         "_deepnote_index_column": 12
        },
        {
         "f1name": "Johnny Rhodes",
         "f2name": "Fred Ettish",
         "f1result": "win",
         "f2result": "loss",
         "method": "Submission",
         "_deepnote_index_column": 13
        },
        {
         "f1name": "Patrick Smith",
         "f2name": "Scott Morris",
         "f1result": "win",
         "f2result": "loss",
         "method": "KO",
         "_deepnote_index_column": 14
        },
        {
         "f1name": "Royce Gracie",
         "f2name": "Minoki Ichihara",
         "f1result": "win",
         "f2result": "loss",
         "method": "Submission",
         "_deepnote_index_column": 15
        },
        {
         "f1name": "Jason DeLucia",
         "f2name": "Scott Baker",
         "f1result": "win",
         "f2result": "loss",
         "method": "Submission",
         "_deepnote_index_column": 16
        },
        {
         "f1name": "Remco Pardoel",
         "f2name": "Alberto Cerra Leon",
         "f1result": "win",
         "f2result": "loss",
         "method": "Submission",
         "_deepnote_index_column": 17
        },
        {
         "f1name": "Orlando Wiet",
         "f2name": "Robert Lucarelli",
         "f1result": "win",
         "f2result": "loss",
         "method": "TKO",
         "_deepnote_index_column": 18
        },
        {
         "f1name": "Frank Hamaker",
         "f2name": "Thaddeus Luster",
         "f1result": "win",
         "f2result": "loss",
         "method": "TKO",
         "_deepnote_index_column": 19
        },
        {
         "f1name": "Johnny Rhodes",
         "f2name": "David Levicki",
         "f1result": "win",
         "f2result": "loss",
         "method": "Submission",
         "_deepnote_index_column": 20
        },
        {
         "f1name": "Patrick Smith",
         "f2name": "Ray Wizard",
         "f1result": "win",
         "f2result": "loss",
         "method": "Submission",
         "_deepnote_index_column": 21
        },
        {
         "f1name": "Scott Morris",
         "f2name": "Sean Daugherty",
         "f1result": "win",
         "f2result": "loss",
         "method": "Submission",
         "_deepnote_index_column": 22
        },
        {
         "f1name": "Steve Jennum",
         "f2name": "Harold Howard",
         "f1result": "win",
         "f2result": "loss",
         "method": "Submission",
         "_deepnote_index_column": 23
        },
        {
         "f1name": "Ken Shamrock",
         "f2name": "Felix Mitchell",
         "f1result": "win",
         "f2result": "loss",
         "method": "Submission",
         "_deepnote_index_column": 24
        },
        {
         "f1name": "Royce Gracie",
         "f2name": "Kimo Leopoldo",
         "f1result": "win",
         "f2result": "loss",
         "method": "Submission",
         "_deepnote_index_column": 25
        },
        {
         "f1name": "Harold Howard",
         "f2name": "Roland Payne",
         "f1result": "win",
         "f2result": "loss",
         "method": "KO",
         "_deepnote_index_column": 26
        },
        {
         "f1name": "Ken Shamrock",
         "f2name": "Christophe Leninger",
         "f1result": "win",
         "f2result": "loss",
         "method": "Submission",
         "_deepnote_index_column": 27
        },
        {
         "f1name": "Keith Hackney",
         "f2name": "Emmanuel Yarborough",
         "f1result": "win",
         "f2result": "loss",
         "method": "TKO",
         "_deepnote_index_column": 28
        },
        {
         "f1name": "Royce Gracie",
         "f2name": "Dan Severn",
         "f1result": "win",
         "f2result": "loss",
         "method": "Submission",
         "_deepnote_index_column": 29
        },
        {
         "f1name": "Guy Mezger",
         "f2name": "Jason Fairn",
         "f1result": "win",
         "f2result": "loss",
         "method": "TKO",
         "_deepnote_index_column": 30
        },
        {
         "f1name": "Dan Severn",
         "f2name": "Marcus Bossett",
         "f1result": "win",
         "f2result": "loss",
         "method": "Submission",
         "_deepnote_index_column": 31
        },
        {
         "f1name": "Royce Gracie",
         "f2name": "Keith Hackney",
         "f1result": "win",
         "f2result": "loss",
         "method": "Submission",
         "_deepnote_index_column": 32
        },
        {
         "f1name": "Dan Severn",
         "f2name": "Anthony Macias",
         "f1result": "win",
         "f2result": "loss",
         "method": "Submission",
         "_deepnote_index_column": 33
        },
        {
         "f1name": "Steve Jennum",
         "f2name": "Melton Bowen",
         "f1result": "win",
         "f2result": "loss",
         "method": "Submission",
         "_deepnote_index_column": 34
        },
        {
         "f1name": "Keith Hackney",
         "f2name": "Joe Son",
         "f1result": "win",
         "f2result": "loss",
         "method": "Submission",
         "_deepnote_index_column": 35
        },
        {
         "f1name": "Royce Gracie",
         "f2name": "Ron van Clief",
         "f1result": "win",
         "f2result": "loss",
         "method": "Submission",
         "_deepnote_index_column": 36
        },
        {
         "f1name": "Marcus Bossett",
         "f2name": "Eldo Dias Xavier",
         "f1result": "win",
         "f2result": "loss",
         "method": "KO",
         "_deepnote_index_column": 37
        },
        {
         "f1name": "Joe Charles",
         "f2name": "Kevin Rosier",
         "f1result": "win",
         "f2result": "loss",
         "method": "Submission",
         "_deepnote_index_column": 38
        },
        {
         "f1name": "Dan Severn",
         "f2name": "Dave Beneteau",
         "f1result": "win",
         "f2result": "loss",
         "method": "Submission",
         "_deepnote_index_column": 39
        },
        {
         "f1name": "Ken Shamrock",
         "f2name": "Royce Gracie",
         "f1result": "draw",
         "f2result": "draw",
         "method": "Draw",
         "_deepnote_index_column": 40
        },
        {
         "f1name": "Dan Severn",
         "f2name": "Oleg Taktarov",
         "f1result": "win",
         "f2result": "loss",
         "method": "TKO",
         "_deepnote_index_column": 41
        },
        {
         "f1name": "Dave Beneteau",
         "f2name": "Todd Medina",
         "f1result": "win",
         "f2result": "loss",
         "method": "TKO",
         "_deepnote_index_column": 42
        },
        {
         "f1name": "Dan Severn",
         "f2name": "Joe Charles",
         "f1result": "win",
         "f2result": "loss",
         "method": "Submission",
         "_deepnote_index_column": 43
        },
        {
         "f1name": "Oleg Taktarov",
         "f2name": "Ernie Verdicia",
         "f1result": "win",
         "f2result": "loss",
         "method": "Submission",
         "_deepnote_index_column": 44
        },
        {
         "f1name": "Todd Medina",
         "f2name": "Larry Cureton",
         "f1result": "win",
         "f2result": "loss",
         "method": "TKO",
         "_deepnote_index_column": 45
        },
        {
         "f1name": "Jon Hess",
         "f2name": "Andy Anderson",
         "f1result": "win",
         "f2result": "loss",
         "method": "TKO",
         "_deepnote_index_column": 46
        },
        {
         "f1name": "Guy Mezger",
         "f2name": "John Dowdy",
         "f1result": "win",
         "f2result": "loss",
         "method": "TKO",
         "_deepnote_index_column": 47
        },
        {
         "f1name": "Dave Beneteau",
         "f2name": "Asbel Cancio",
         "f1result": "win",
         "f2result": "loss",
         "method": "TKO",
         "_deepnote_index_column": 48
        },
        {
         "f1name": "Oleg Taktarov",
         "f2name": "David Abbott",
         "f1result": "win",
         "f2result": "loss",
         "method": "Submission",
         "_deepnote_index_column": 49
        },
        {
         "f1name": "Ken Shamrock",
         "f2name": "Dan Severn",
         "f1result": "win",
         "f2result": "loss",
         "method": "Submission",
         "_deepnote_index_column": 50
        },
        {
         "f1name": "Oleg Taktarov",
         "f2name": "Anthony Macias",
         "f1result": "win",
         "f2result": "loss",
         "method": "Submission",
         "_deepnote_index_column": 51
        },
        {
         "f1name": "David Abbott",
         "f2name": "Paul Varelans",
         "f1result": "win",
         "f2result": "loss",
         "method": "TKO",
         "_deepnote_index_column": 52
        },
        {
         "f1name": "Oleg Taktarov",
         "f2name": "Dave Beneteau",
         "f1result": "win",
         "f2result": "loss",
         "method": "Submission",
         "_deepnote_index_column": 53
        },
        {
         "f1name": "Patrick Smith",
         "f2name": "Rudyard Moncayo",
         "f1result": "win",
         "f2result": "loss",
         "method": "Submission",
         "_deepnote_index_column": 54
        },
        {
         "f1name": "Paul Varelans",
         "f2name": "Cal Worsham",
         "f1result": "win",
         "f2result": "loss",
         "method": "KO",
         "_deepnote_index_column": 55
        },
        {
         "f1name": "David Abbott",
         "f2name": "John Matua",
         "f1result": "win",
         "f2result": "loss",
         "method": "KO",
         "_deepnote_index_column": 56
        },
        {
         "f1name": "Anthony Macias",
         "f2name": "He-Man Ali Gipson",
         "f1result": "win",
         "f2result": "loss",
         "method": "Submission",
         "_deepnote_index_column": 57
        },
        {
         "f1name": "Joel Sutton",
         "f2name": "Jack McLaughlin",
         "f1result": "win",
         "f2result": "loss",
         "method": "Submission",
         "_deepnote_index_column": 58
        },
        {
         "f1name": "Marco Ruas",
         "f2name": "Paul Varelans",
         "f1result": "win",
         "f2result": "loss",
         "method": "TKO",
         "_deepnote_index_column": 59
        },
        {
         "f1name": "Ken Shamrock",
         "f2name": "Oleg Taktarov",
         "f1result": "draw",
         "f2result": "draw",
         "method": "Draw",
         "_deepnote_index_column": 60
        },
        {
         "f1name": "Marco Ruas",
         "f2name": "Remco Pardoel",
         "f1result": "win",
         "f2result": "loss",
         "method": "Submission",
         "_deepnote_index_column": 61
        },
        {
         "f1name": "Paul Varelans",
         "f2name": "Mark Hall",
         "f1result": "win",
         "f2result": "loss",
         "method": "Submission",
         "_deepnote_index_column": 62
        },
        {
         "f1name": "Marco Ruas",
         "f2name": "Larry Cureton",
         "f1result": "win",
         "f2result": "loss",
         "method": "Submission",
         "_deepnote_index_column": 63
        },
        {
         "f1name": "Remco Pardoel",
         "f2name": "Ryan Parker",
         "f1result": "win",
         "f2result": "loss",
         "method": "Submission",
         "_deepnote_index_column": 64
        },
        {
         "f1name": "Mark Hall",
         "f2name": "Harold Howard",
         "f1result": "win",
         "f2result": "loss",
         "method": "Submission",
         "_deepnote_index_column": 65
        },
        {
         "f1name": "Paul Varelans",
         "f2name": "Gerry Harris",
         "f1result": "win",
         "f2result": "loss",
         "method": "Submission",
         "_deepnote_index_column": 66
        },
        {
         "f1name": "Scott Bessac",
         "f2name": "David Hood",
         "f1result": "win",
         "f2result": "loss",
         "method": "Submission",
         "_deepnote_index_column": 67
        },
        {
         "f1name": "Onassis Parungao",
         "f2name": "Francesco Maturi",
         "f1result": "win",
         "f2result": "loss",
         "method": "Submission",
         "_deepnote_index_column": 68
        },
        {
         "f1name": "Joel Sutton",
         "f2name": "Geza Kalman",
         "f1result": "win",
         "f2result": "loss",
         "method": "TKO",
         "_deepnote_index_column": 69
        },
        {
         "f1name": "Don Frye",
         "f2name": "Gary Goodridge",
         "f1result": "win",
         "f2result": "loss",
         "method": "Submission",
         "_deepnote_index_column": 70
        },
        {
         "f1name": "Ken Shamrock",
         "f2name": "Kimo Leopoldo",
         "f1result": "win",
         "f2result": "loss",
         "method": "Submission",
         "_deepnote_index_column": 71
        },
        {
         "f1name": "Gary Goodridge",
         "f2name": "Jerry Bohlander",
         "f1result": "win",
         "f2result": "loss",
         "method": "TKO",
         "_deepnote_index_column": 72
        },
        {
         "f1name": "Don Frye",
         "f2name": "Sam Adkins",
         "f1result": "win",
         "f2result": "loss",
         "method": "TKO",
         "_deepnote_index_column": 73
        },
        {
         "f1name": "Gary Goodridge",
         "f2name": "Paul Herrera",
         "f1result": "win",
         "f2result": "loss",
         "method": "KO",
         "_deepnote_index_column": 74
        },
        {
         "f1name": "Jerry Bohlander",
         "f2name": "Scott Ferrozzo",
         "f1result": "win",
         "f2result": "loss",
         "method": "Submission",
         "_deepnote_index_column": 75
        },
        {
         "f1name": "Paul Varelans",
         "f2name": "Joe Moreira",
         "f1result": "win",
         "f2result": "loss",
         "method": "Decision",
         "_deepnote_index_column": 76
        },
        {
         "f1name": "Don Frye",
         "f2name": "Thomas Ramirez",
         "f1result": "win",
         "f2result": "loss",
         "method": "KO",
         "_deepnote_index_column": 77
        },
        {
         "f1name": "Sam Adkins",
         "f2name": "Keith Mielke",
         "f1result": "win",
         "f2result": "loss",
         "method": "Submission",
         "_deepnote_index_column": 78
        },
        {
         "f1name": "Dan Severn",
         "f2name": "Ken Shamrock",
         "f1result": "win",
         "f2result": "loss",
         "method": "Decision",
         "_deepnote_index_column": 79
        },
        {
         "f1name": "Don Frye",
         "f2name": "Amaury Bitetti",
         "f1result": "win",
         "f2result": "loss",
         "method": "TKO",
         "_deepnote_index_column": 80
        },
        {
         "f1name": "Mark Hall",
         "f2name": "Koji Kitao",
         "f1result": "win",
         "f2result": "loss",
         "method": "TKO",
         "_deepnote_index_column": 81
        },
        {
         "f1name": "Mark Schultz",
         "f2name": "Gary Goodridge",
         "f1result": "win",
         "f2result": "loss",
         "method": "TKO",
         "_deepnote_index_column": 82
        },
        {
         "f1name": "Rafael Carino",
         "f2name": "Matt Andersen",
         "f1result": "win",
         "f2result": "loss",
         "method": "TKO",
         "_deepnote_index_column": 83
        },
        {
         "f1name": "Cal Worsham",
         "f2name": "Zane Frazier",
         "f1result": "win",
         "f2result": "loss",
         "method": "TKO",
         "_deepnote_index_column": 84
        },
        {
         "f1name": "Steve Nelmark",
         "f2name": "Tai Bowden",
         "f1result": "win",
         "f2result": "loss",
         "method": "TKO",
         "_deepnote_index_column": 85
        },
        {
         "f1name": "Mark Coleman",
         "f2name": "Don Frye",
         "f1result": "win",
         "f2result": "loss",
         "method": "TKO",
         "_deepnote_index_column": 86
        },
        {
         "f1name": "Mark Coleman",
         "f2name": "Gary Goodridge",
         "f1result": "win",
         "f2result": "loss",
         "method": "Submission",
         "_deepnote_index_column": 87
        },
        {
         "f1name": "Don Frye",
         "f2name": "Brian Johnston",
         "f1result": "win",
         "f2result": "loss",
         "method": "Submission",
         "_deepnote_index_column": 88
        },
        {
         "f1name": "Gary Goodridge",
         "f2name": "John Campetella",
         "f1result": "win",
         "f2result": "loss",
         "method": "KO",
         "_deepnote_index_column": 89
        },
        {
         "f1name": "Mark Coleman",
         "f2name": "Moti Horenstein",
         "f1result": "win",
         "f2result": "loss",
         "method": "Submission",
         "_deepnote_index_column": 90
        },
        {
         "f1name": "Brian Johnston",
         "f2name": "Scott Fiedler",
         "f1result": "win",
         "f2result": "loss",
         "method": "Submission",
         "_deepnote_index_column": 91
        },
        {
         "f1name": "Don Frye",
         "f2name": "Mark Hall",
         "f1result": "win",
         "f2result": "loss",
         "method": "TKO",
         "_deepnote_index_column": 92
        },
        {
         "f1name": "Sam Adkins",
         "f2name": "Felix Mitchell",
         "f1result": "win",
         "f2result": "loss",
         "method": "Decision",
         "_deepnote_index_column": 93
        },
        {
         "f1name": "Geza Kalman",
         "f2name": "Dieuseul Berto",
         "f1result": "win",
         "f2result": "loss",
         "method": "TKO",
         "_deepnote_index_column": 94
        },
        {
         "f1name": "Scott Ferrozzo",
         "f2name": "David Abbott",
         "f1result": "win",
         "f2result": "loss",
         "method": "Decision",
         "_deepnote_index_column": 95
        },
        {
         "f1name": "Mark Coleman",
         "f2name": "Brian Johnston",
         "f1result": "win",
         "f2result": "loss",
         "method": "Submission",
         "_deepnote_index_column": 96
        },
        {
         "f1name": "Jerry Bohlander",
         "f2name": "Fabio Gurgel",
         "f1result": "win",
         "f2result": "loss",
         "method": "Decision",
         "_deepnote_index_column": 97
        },
        {
         "f1name": "David Abbott",
         "f2name": "Sam Adkins",
         "f1result": "win",
         "f2result": "loss",
         "method": "Submission",
         "_deepnote_index_column": 98
        },
        {
         "f1name": "Brian Johnston",
         "f2name": "Reza Nasri",
         "f1result": "win",
         "f2result": "loss",
         "method": "TKO",
         "_deepnote_index_column": 99
        }
       ],
       "rows_bottom": [
        {
         "f1name": "Danny Roberts",
         "f2name": "Nathan Coy",
         "f1result": "win",
         "f2result": "loss",
         "method": "Technical",
         "_deepnote_index_column": 3469
        },
        {
         "f1name": "Zubaira Tukhugov",
         "f2name": "Phillipe Nover",
         "f1result": "win",
         "f2result": "loss",
         "method": "Decision",
         "_deepnote_index_column": 3470
        },
        {
         "f1name": "Frankie Edgar",
         "f2name": "Chad Mendes",
         "f1result": "win",
         "f2result": "loss",
         "method": "KO",
         "_deepnote_index_column": 3471
        },
        {
         "f1name": "Ryan Hall",
         "f2name": "Artem Lobov",
         "f1result": "win",
         "f2result": "loss",
         "method": "Decision",
         "_deepnote_index_column": 3472
        },
        {
         "f1name": "Tony Ferguson",
         "f2name": "Edson Barboza",
         "f1result": "win",
         "f2result": "loss",
         "method": "Submission",
         "_deepnote_index_column": 3473
        },
        {
         "f1name": "Evan Dunham",
         "f2name": "Joe Lauzon",
         "f1result": "win",
         "f2result": "loss",
         "method": "Decision",
         "_deepnote_index_column": 3474
        },
        {
         "f1name": "Tatsuya Kawajiri",
         "f2name": "Jason Knight",
         "f1result": "win",
         "f2result": "loss",
         "method": "Decision",
         "_deepnote_index_column": 3475
        },
        {
         "f1name": "Julian Erosa",
         "f2name": "Marcin Wrzosek",
         "f1result": "win",
         "f2result": "loss",
         "method": "Decision",
         "_deepnote_index_column": 3476
        },
        {
         "f1name": "Gabriel Gonzaga",
         "f2name": "Konstantin Erokhin",
         "f1result": "win",
         "f2result": "loss",
         "method": "Decision",
         "_deepnote_index_column": 3477
        },
        {
         "f1name": "Ryan LaFlare",
         "f2name": "Mike Pierce",
         "f1result": "win",
         "f2result": "loss",
         "method": "Decision",
         "_deepnote_index_column": 3478
        },
        {
         "f1name": "Geane Herrera",
         "f2name": "Joby Sanchez",
         "f1result": "win",
         "f2result": "loss",
         "method": "TKO",
         "_deepnote_index_column": 3479
        },
        {
         "f1name": "Chris Gruetzemacher",
         "f2name": "Abner Lloveras",
         "f1result": "win",
         "f2result": "loss",
         "method": "Decision",
         "_deepnote_index_column": 3480
        },
        {
         "f1name": "Conor McGregor",
         "f2name": "Jose Aldo",
         "f1result": "win",
         "f2result": "loss",
         "method": "KO",
         "_deepnote_index_column": 3481
        },
        {
         "f1name": "Luke Rockhold",
         "f2name": "Chris Weidman",
         "f1result": "win",
         "f2result": "loss",
         "method": "TKO",
         "_deepnote_index_column": 3482
        },
        {
         "f1name": "Yoel Romero",
         "f2name": "Ronaldo Souza",
         "f1result": "win",
         "f2result": "loss",
         "method": "Decision",
         "_deepnote_index_column": 3483
        },
        {
         "f1name": "Demian Maia",
         "f2name": "Gunnar Nelson",
         "f1result": "win",
         "f2result": "loss",
         "method": "Decision",
         "_deepnote_index_column": 3484
        },
        {
         "f1name": "Max Holloway",
         "f2name": "Jeremy Stephens",
         "f1result": "win",
         "f2result": "loss",
         "method": "Decision",
         "_deepnote_index_column": 3485
        },
        {
         "f1name": "Urijah Faber",
         "f2name": "Frankie Saenz",
         "f1result": "win",
         "f2result": "loss",
         "method": "Decision",
         "_deepnote_index_column": 3486
        },
        {
         "f1name": "Tecia Torres",
         "f2name": "Jocelyn Jones-Lybarger",
         "f1result": "win",
         "f2result": "loss",
         "method": "Decision",
         "_deepnote_index_column": 3487
        },
        {
         "f1name": "Warlley Alves",
         "f2name": "Colby Covington",
         "f1result": "win",
         "f2result": "loss",
         "method": "Submission",
         "_deepnote_index_column": 3488
        },
        {
         "f1name": "Leonardo Santos",
         "f2name": "Kevin Lee",
         "f1result": "win",
         "f2result": "loss",
         "method": "TKO",
         "_deepnote_index_column": 3489
        },
        {
         "f1name": "Magomed Mustafaev",
         "f2name": "Joe Proctor",
         "f1result": "win",
         "f2result": "loss",
         "method": "TKO",
         "_deepnote_index_column": 3490
        },
        {
         "f1name": "Yancy Medeiros",
         "f2name": "John Makdessi",
         "f1result": "win",
         "f2result": "loss",
         "method": "Decision",
         "_deepnote_index_column": 3491
        },
        {
         "f1name": "Court McGee",
         "f2name": "Marcio Alexandre Jr.",
         "f1result": "win",
         "f2result": "loss",
         "method": "Decision",
         "_deepnote_index_column": 3492
        },
        {
         "f1name": "Rafael dos Anjos",
         "f2name": "Donald Cerrone",
         "f1result": "win",
         "f2result": "loss",
         "method": "TKO",
         "_deepnote_index_column": 3493
        },
        {
         "f1name": "Alistair Overeem",
         "f2name": "Junior dos Santos",
         "f1result": "win",
         "f2result": "loss",
         "method": "TKO",
         "_deepnote_index_column": 3494
        },
        {
         "f1name": "Nate Diaz",
         "f2name": "Michael Johnson",
         "f1result": "win",
         "f2result": "loss",
         "method": "Decision",
         "_deepnote_index_column": 3495
        },
        {
         "f1name": "Karolina Kowalkiewicz",
         "f2name": "Randa Markos",
         "f1result": "win",
         "f2result": "loss",
         "method": "Decision",
         "_deepnote_index_column": 3496
        },
        {
         "f1name": "Charles Oliveira",
         "f2name": "Myles Jury",
         "f1result": "win",
         "f2result": "loss",
         "method": "Submission",
         "_deepnote_index_column": 3497
        },
        {
         "f1name": "Nate Marquardt",
         "f2name": "C.B. Dollaway",
         "f1result": "win",
         "f2result": "loss",
         "method": "KO",
         "_deepnote_index_column": 3498
        },
        {
         "f1name": "Valentina Shevchenko",
         "f2name": "Sarah Kaufman",
         "f1result": "win",
         "f2result": "loss",
         "method": "Decision",
         "_deepnote_index_column": 3499
        },
        {
         "f1name": "Tamdan McCrory",
         "f2name": "Josh Samman",
         "f1result": "win",
         "f2result": "loss",
         "method": "Submission",
         "_deepnote_index_column": 3500
        },
        {
         "f1name": "Nik Lentz",
         "f2name": "Danny Castillo",
         "f1result": "win",
         "f2result": "loss",
         "method": "Decision",
         "_deepnote_index_column": 3501
        },
        {
         "f1name": "Cole Miller",
         "f2name": "Jim Alers",
         "f1result": "NC",
         "f2result": "NC",
         "method": "NC",
         "_deepnote_index_column": 3502
        },
        {
         "f1name": "Kamaru Usman",
         "f2name": "Leon Edwards",
         "f1result": "win",
         "f2result": "loss",
         "method": "Decision",
         "_deepnote_index_column": 3503
        },
        {
         "f1name": "Vicente Luque",
         "f2name": "Hayder Hassan",
         "f1result": "win",
         "f2result": "loss",
         "method": "Technical",
         "_deepnote_index_column": 3504
        },
        {
         "f1name": "Francis Ngannou",
         "f2name": "Luis Henrique Barbosa de Oliveira",
         "f1result": "win",
         "f2result": "loss",
         "method": "KO",
         "_deepnote_index_column": 3505
        },
        {
         "f1name": "Robbie Lawler",
         "f2name": "Carlos Condit",
         "f1result": "win",
         "f2result": "loss",
         "method": "Decision",
         "_deepnote_index_column": 3506
        },
        {
         "f1name": "Stipe Miocic",
         "f2name": "Andrei Arlovski",
         "f1result": "win",
         "f2result": "loss",
         "method": "TKO",
         "_deepnote_index_column": 3507
        },
        {
         "f1name": "Albert Tumenov",
         "f2name": "Lorenz Larkin",
         "f1result": "win",
         "f2result": "loss",
         "method": "Decision",
         "_deepnote_index_column": 3508
        },
        {
         "f1name": "Brian Ortega",
         "f2name": "Diego Brandao",
         "f1result": "win",
         "f2result": "loss",
         "method": "Submission",
         "_deepnote_index_column": 3509
        },
        {
         "f1name": "Abel Trujillo",
         "f2name": "Tony Sims",
         "f1result": "win",
         "f2result": "loss",
         "method": "Submission",
         "_deepnote_index_column": 3510
        },
        {
         "f1name": "Michael McDonald",
         "f2name": "Masanori Kanehara",
         "f1result": "win",
         "f2result": "loss",
         "method": "Submission",
         "_deepnote_index_column": 3511
        },
        {
         "f1name": "Alex Morono",
         "f2name": "Kyle Noke",
         "f1result": "win",
         "f2result": "loss",
         "method": "Decision",
         "_deepnote_index_column": 3512
        },
        {
         "f1name": "Justine Kish",
         "f2name": "Nina Ansaroff",
         "f1result": "win",
         "f2result": "loss",
         "method": "Decision",
         "_deepnote_index_column": 3513
        },
        {
         "f1name": "Drew Dober",
         "f2name": "Scott Holtzman",
         "f1result": "win",
         "f2result": "loss",
         "method": "Decision",
         "_deepnote_index_column": 3514
        },
        {
         "f1name": "Dustin Poirier",
         "f2name": "Joseph Duffy",
         "f1result": "win",
         "f2result": "loss",
         "method": "Decision",
         "_deepnote_index_column": 3515
        },
        {
         "f1name": "Michinori Tanaka",
         "f2name": "Joe Soto",
         "f1result": "win",
         "f2result": "loss",
         "method": "Decision",
         "_deepnote_index_column": 3516
        },
        {
         "f1name": "Sheldon Westcott",
         "f2name": "Edgar Garcia",
         "f1result": "win",
         "f2result": "loss",
         "method": "TKO",
         "_deepnote_index_column": 3517
        },
        {
         "f1name": "Dominick Cruz",
         "f2name": "T.J. Dillashaw",
         "f1result": "win",
         "f2result": "loss",
         "method": "Decision",
         "_deepnote_index_column": 3518
        },
        {
         "f1name": "Eddie Alvarez",
         "f2name": "Anthony Pettis",
         "f1result": "win",
         "f2result": "loss",
         "method": "Decision",
         "_deepnote_index_column": 3519
        },
        {
         "f1name": "Travis Browne",
         "f2name": "Matt Mitrione",
         "f1result": "win",
         "f2result": "loss",
         "method": "TKO",
         "_deepnote_index_column": 3520
        },
        {
         "f1name": "Francisco Trinaldo",
         "f2name": "Ross Pearson",
         "f1result": "win",
         "f2result": "loss",
         "method": "Decision",
         "_deepnote_index_column": 3521
        },
        {
         "f1name": "Patrick Cote",
         "f2name": "Ben Saunders",
         "f1result": "win",
         "f2result": "loss",
         "method": "TKO",
         "_deepnote_index_column": 3522
        },
        {
         "f1name": "Ed Herman",
         "f2name": "Tim Boetsch",
         "f1result": "win",
         "f2result": "loss",
         "method": "KO",
         "_deepnote_index_column": 3523
        },
        {
         "f1name": "Chris Wade",
         "f2name": "Mehdi Baghdad",
         "f1result": "win",
         "f2result": "loss",
         "method": "Submission",
         "_deepnote_index_column": 3524
        },
        {
         "f1name": "Luke Sanders",
         "f2name": "Maximo Blanco",
         "f1result": "win",
         "f2result": "loss",
         "method": "Submission",
         "_deepnote_index_column": 3525
        },
        {
         "f1name": "Paul Felder",
         "f2name": "Daron Cruickshank",
         "f1result": "win",
         "f2result": "loss",
         "method": "Submission",
         "_deepnote_index_column": 3526
        },
        {
         "f1name": "Ilir Latifi",
         "f2name": "Sean O'Connell",
         "f1result": "win",
         "f2result": "loss",
         "method": "TKO",
         "_deepnote_index_column": 3527
        },
        {
         "f1name": "Charles Rosa",
         "f2name": "Kyle Bochniak",
         "f1result": "win",
         "f2result": "loss",
         "method": "Decision",
         "_deepnote_index_column": 3528
        },
        {
         "f1name": "Rob Font",
         "f2name": "Joey Gomez",
         "f1result": "win",
         "f2result": "loss",
         "method": "TKO",
         "_deepnote_index_column": 3529
        },
        {
         "f1name": "Francimar Barroso",
         "f2name": "Elvis Mutapcic",
         "f1result": "win",
         "f2result": "loss",
         "method": "Decision",
         "_deepnote_index_column": 3530
        },
        {
         "f1name": "Anthony Johnson",
         "f2name": "Ryan Bader",
         "f1result": "win",
         "f2result": "loss",
         "method": "KO",
         "_deepnote_index_column": 3531
        },
        {
         "f1name": "Ben Rothwell",
         "f2name": "Josh Barnett",
         "f1result": "win",
         "f2result": "loss",
         "method": "Submission",
         "_deepnote_index_column": 3532
        },
        {
         "f1name": "Jimmie Rivera",
         "f2name": "Iuri Alcantara",
         "f1result": "win",
         "f2result": "loss",
         "method": "Decision",
         "_deepnote_index_column": 3533
        },
        {
         "f1name": "Bryan Barberena",
         "f2name": "Sage Northcutt",
         "f1result": "win",
         "f2result": "loss",
         "method": "Submission",
         "_deepnote_index_column": 3534
        },
        {
         "f1name": "Tarec Saffiedine",
         "f2name": "Jake Ellenberger",
         "f1result": "win",
         "f2result": "loss",
         "method": "Decision",
         "_deepnote_index_column": 3535
        },
        {
         "f1name": "Carlos Diego Ferreira",
         "f2name": "Olivier Aubin-Mercier",
         "f1result": "win",
         "f2result": "loss",
         "method": "Decision",
         "_deepnote_index_column": 3536
        },
        {
         "f1name": "Rafael Natal",
         "f2name": "Kevin Casey",
         "f1result": "win",
         "f2result": "loss",
         "method": "TKO",
         "_deepnote_index_column": 3537
        },
        {
         "f1name": "Wilson Reis",
         "f2name": "Dustin Ortiz",
         "f1result": "win",
         "f2result": "loss",
         "method": "Decision",
         "_deepnote_index_column": 3538
        },
        {
         "f1name": "Alexander Yakovlev",
         "f2name": "George Sullivan",
         "f1result": "win",
         "f2result": "loss",
         "method": "KO",
         "_deepnote_index_column": 3539
        },
        {
         "f1name": "Alex Caceres",
         "f2name": "Masio Fullen",
         "f1result": "win",
         "f2result": "loss",
         "method": "Decision",
         "_deepnote_index_column": 3540
        },
        {
         "f1name": "Randy Brown",
         "f2name": "Matt Dwyer",
         "f1result": "win",
         "f2result": "loss",
         "method": "Decision",
         "_deepnote_index_column": 3541
        },
        {
         "f1name": "Damon Jackson",
         "f2name": "Levan Makashvili",
         "f1result": "draw",
         "f2result": "draw",
         "method": "Draw",
         "_deepnote_index_column": 3542
        },
        {
         "f1name": "Tony Martin",
         "f2name": "Felipe Olivieri",
         "f1result": "win",
         "f2result": "loss",
         "method": "Technical",
         "_deepnote_index_column": 3543
        },
        {
         "f1name": "Stephen Thompson",
         "f2name": "Johny Hendricks",
         "f1result": "win",
         "f2result": "loss",
         "method": "TKO",
         "_deepnote_index_column": 3544
        },
        {
         "f1name": "Roy Nelson",
         "f2name": "Jared Rosholt",
         "f1result": "win",
         "f2result": "loss",
         "method": "Decision",
         "_deepnote_index_column": 3545
        },
        {
         "f1name": "Ovince St. Preux",
         "f2name": "Rafael Cavalcante",
         "f1result": "win",
         "f2result": "loss",
         "method": "Decision",
         "_deepnote_index_column": 3546
        },
        {
         "f1name": "Joseph Benavidez",
         "f2name": "Zach Makovsky",
         "f1result": "win",
         "f2result": "loss",
         "method": "Decision",
         "_deepnote_index_column": 3547
        },
        {
         "f1name": "Misha Cirkunov",
         "f2name": "Alex Nicholson",
         "f1result": "win",
         "f2result": "loss",
         "method": "Submission",
         "_deepnote_index_column": 3548
        },
        {
         "f1name": "Mike Pyle",
         "f2name": "Sean Spencer",
         "f1result": "win",
         "f2result": "loss",
         "method": "TKO",
         "_deepnote_index_column": 3549
        },
        {
         "f1name": "Joshua Burkman",
         "f2name": "K.J. Noons",
         "f1result": "win",
         "f2result": "loss",
         "method": "Decision",
         "_deepnote_index_column": 3550
        },
        {
         "f1name": "Derrick Lewis",
         "f2name": "Damian Grabowski",
         "f1result": "win",
         "f2result": "loss",
         "method": "TKO",
         "_deepnote_index_column": 3551
        },
        {
         "f1name": "Justin Scoggins",
         "f2name": "Ray Borg",
         "f1result": "win",
         "f2result": "loss",
         "method": "Decision",
         "_deepnote_index_column": 3552
        },
        {
         "f1name": "Diego Rivas",
         "f2name": "Noad Lahat",
         "f1result": "win",
         "f2result": "loss",
         "method": "KO",
         "_deepnote_index_column": 3553
        },
        {
         "f1name": "Mickey Gall",
         "f2name": "Mike Jackson",
         "f1result": "win",
         "f2result": "loss",
         "method": "Submission",
         "_deepnote_index_column": 3554
        },
        {
         "f1name": "Alex White",
         "f2name": "Artem Lobov",
         "f1result": "win",
         "f2result": "loss",
         "method": "Decision",
         "_deepnote_index_column": 3555
        },
        {
         "f1name": "Donald Cerrone",
         "f2name": "Alex Oliveira",
         "f1result": "win",
         "f2result": "loss",
         "method": "Submission",
         "_deepnote_index_column": 3556
        },
        {
         "f1name": "Derek Brunson",
         "f2name": "Roan Carneiro",
         "f1result": "win",
         "f2result": "loss",
         "method": "KO",
         "_deepnote_index_column": 3557
        },
        {
         "f1name": "Cody Garbrandt",
         "f2name": "Augusto Mendes",
         "f1result": "win",
         "f2result": "loss",
         "method": "KO",
         "_deepnote_index_column": 3558
        },
        {
         "f1name": "Dennis Bermudez",
         "f2name": "Tatsuya Kawajiri",
         "f1result": "win",
         "f2result": "loss",
         "method": "Decision",
         "_deepnote_index_column": 3559
        },
        {
         "f1name": "Chris Camozzi",
         "f2name": "Joe Riggs",
         "f1result": "win",
         "f2result": "loss",
         "method": "TKO",
         "_deepnote_index_column": 3560
        },
        {
         "f1name": "James Krause",
         "f2name": "Shane Campbell",
         "f1result": "win",
         "f2result": "loss",
         "method": "Decision",
         "_deepnote_index_column": 3561
        },
        {
         "f1name": "Sean Strickland",
         "f2name": "Alex Garcia",
         "f1result": "win",
         "f2result": "loss",
         "method": "TKO",
         "_deepnote_index_column": 3562
        },
        {
         "f1name": "Oluwale Bamgbose",
         "f2name": "Daniel Sarafian",
         "f1result": "win",
         "f2result": "loss",
         "method": "KO",
         "_deepnote_index_column": 3563
        },
        {
         "f1name": "Anthony Smith",
         "f2name": "Leonardo Guimaraes",
         "f1result": "win",
         "f2result": "loss",
         "method": "Decision",
         "_deepnote_index_column": 3564
        },
        {
         "f1name": "Nathan Coy",
         "f2name": "Jonavin Webb",
         "f1result": "win",
         "f2result": "loss",
         "method": "Decision",
         "_deepnote_index_column": 3565
        },
        {
         "f1name": "Ashlee Evans-Smith",
         "f2name": "Marion Reneau",
         "f1result": "win",
         "f2result": "loss",
         "method": "Decision",
         "_deepnote_index_column": 3566
        },
        {
         "f1name": "Lauren Murphy",
         "f2name": "Kelly Faszholz",
         "f1result": "win",
         "f2result": "loss",
         "method": "TKO",
         "_deepnote_index_column": 3567
        },
        {
         "f1name": "Shamil Abdurakhimov",
         "f2name": "Anthony Hamilton",
         "f1result": "win",
         "f2result": "loss",
         "method": "Decision",
         "_deepnote_index_column": 3568
        }
       ]
      },
      "text/plain": "                   f1name              f2name f1result f2result      method\n0            Royce Gracie      Gerard Gordeau      win     loss  Submission\n1           Jason DeLucia       Trent Jenkins      win     loss  Submission\n2            Royce Gracie        Ken Shamrock      win     loss  Submission\n3          Gerard Gordeau        Kevin Rosier      win     loss         TKO\n4            Ken Shamrock       Patrick Smith      win     loss  Submission\n...                   ...                 ...      ...      ...         ...\n3564        Anthony Smith  Leonardo Guimaraes      win     loss    Decision\n3565           Nathan Coy        Jonavin Webb      win     loss    Decision\n3566   Ashlee Evans-Smith       Marion Reneau      win     loss    Decision\n3567        Lauren Murphy      Kelly Faszholz      win     loss         TKO\n3568  Shamil Abdurakhimov    Anthony Hamilton      win     loss    Decision\n\n[3569 rows x 5 columns]",
      "text/html": "<div>\n<style scoped>\n    .dataframe tbody tr th:only-of-type {\n        vertical-align: middle;\n    }\n\n    .dataframe tbody tr th {\n        vertical-align: top;\n    }\n\n    .dataframe thead th {\n        text-align: right;\n    }\n</style>\n<table border=\"1\" class=\"dataframe\">\n  <thead>\n    <tr style=\"text-align: right;\">\n      <th></th>\n      <th>f1name</th>\n      <th>f2name</th>\n      <th>f1result</th>\n      <th>f2result</th>\n      <th>method</th>\n    </tr>\n  </thead>\n  <tbody>\n    <tr>\n      <th>0</th>\n      <td>Royce Gracie</td>\n      <td>Gerard Gordeau</td>\n      <td>win</td>\n      <td>loss</td>\n      <td>Submission</td>\n    </tr>\n    <tr>\n      <th>1</th>\n      <td>Jason DeLucia</td>\n      <td>Trent Jenkins</td>\n      <td>win</td>\n      <td>loss</td>\n      <td>Submission</td>\n    </tr>\n    <tr>\n      <th>2</th>\n      <td>Royce Gracie</td>\n      <td>Ken Shamrock</td>\n      <td>win</td>\n      <td>loss</td>\n      <td>Submission</td>\n    </tr>\n    <tr>\n      <th>3</th>\n      <td>Gerard Gordeau</td>\n      <td>Kevin Rosier</td>\n      <td>win</td>\n      <td>loss</td>\n      <td>TKO</td>\n    </tr>\n    <tr>\n      <th>4</th>\n      <td>Ken Shamrock</td>\n      <td>Patrick Smith</td>\n      <td>win</td>\n      <td>loss</td>\n      <td>Submission</td>\n    </tr>\n    <tr>\n      <th>...</th>\n      <td>...</td>\n      <td>...</td>\n      <td>...</td>\n      <td>...</td>\n      <td>...</td>\n    </tr>\n    <tr>\n      <th>3564</th>\n      <td>Anthony Smith</td>\n      <td>Leonardo Guimaraes</td>\n      <td>win</td>\n      <td>loss</td>\n      <td>Decision</td>\n    </tr>\n    <tr>\n      <th>3565</th>\n      <td>Nathan Coy</td>\n      <td>Jonavin Webb</td>\n      <td>win</td>\n      <td>loss</td>\n      <td>Decision</td>\n    </tr>\n    <tr>\n      <th>3566</th>\n      <td>Ashlee Evans-Smith</td>\n      <td>Marion Reneau</td>\n      <td>win</td>\n      <td>loss</td>\n      <td>Decision</td>\n    </tr>\n    <tr>\n      <th>3567</th>\n      <td>Lauren Murphy</td>\n      <td>Kelly Faszholz</td>\n      <td>win</td>\n      <td>loss</td>\n      <td>TKO</td>\n    </tr>\n    <tr>\n      <th>3568</th>\n      <td>Shamil Abdurakhimov</td>\n      <td>Anthony Hamilton</td>\n      <td>win</td>\n      <td>loss</td>\n      <td>Decision</td>\n    </tr>\n  </tbody>\n</table>\n<p>3569 rows × 5 columns</p>\n</div>"
     },
     "metadata": {}
    }
   ]
  },
  {
   "cell_type": "code",
   "metadata": {
    "tags": [],
    "cell_id": "00002-2e4890b6-fbf6-4c03-9e28-92dd0aa48636",
    "deepnote_to_be_reexecuted": false,
    "source_hash": "4af58934",
    "execution_start": 1626983600231,
    "execution_millis": 903,
    "deepnote_cell_type": "code"
   },
   "source": "spec_cols2 = [2,5]\n\nufc_fighters = pd.read_excel('ufc_fighters.xlsx',usecols = spec_cols2)\n\nufc_fighters",
   "execution_count": 4,
   "outputs": [
    {
     "output_type": "execute_result",
     "execution_count": 4,
     "data": {
      "application/vnd.deepnote.dataframe.v2+json": {
       "row_count": 1561,
       "column_count": 2,
       "columns": [
        {
         "name": "name",
         "dtype": "object",
         "stats": {
          "unique_count": 1525,
          "nan_count": 1,
          "categories": [
           {
            "name": "Renan Barao",
            "count": 3
           },
           {
            "name": "1524 others",
            "count": 1557
           },
           {
            "name": "Missing",
            "count": 1
           }
          ]
         }
        },
        {
         "name": "height",
         "dtype": "float64",
         "stats": {
          "unique_count": 24,
          "nan_count": 55,
          "min": "61.0",
          "max": "84.0",
          "histogram": [
           {
            "bin_start": 61,
            "bin_end": 63.3,
            "count": 28
           },
           {
            "bin_start": 63.3,
            "bin_end": 65.6,
            "count": 64
           },
           {
            "bin_start": 65.6,
            "bin_end": 67.9,
            "count": 163
           },
           {
            "bin_start": 67.9,
            "bin_end": 70.2,
            "count": 460
           },
           {
            "bin_start": 70.2,
            "bin_end": 72.5,
            "count": 364
           },
           {
            "bin_start": 72.5,
            "bin_end": 74.8,
            "count": 258
           },
           {
            "bin_start": 74.8,
            "bin_end": 77.1,
            "count": 144
           },
           {
            "bin_start": 77.1,
            "bin_end": 79.4,
            "count": 14
           },
           {
            "bin_start": 79.4,
            "bin_end": 81.7,
            "count": 8
           },
           {
            "bin_start": 81.7,
            "bin_end": 84,
            "count": 3
           }
          ]
         }
        },
        {
         "name": "_deepnote_index_column",
         "dtype": "int64"
        }
       ],
       "rows_top": [
        {
         "name": "Conor McGregor",
         "height": 68,
         "_deepnote_index_column": 0
        },
        {
         "name": "Jon Jones",
         "height": 76,
         "_deepnote_index_column": 1
        },
        {
         "name": "Holly Holm",
         "height": 68,
         "_deepnote_index_column": 2
        },
        {
         "name": "Dominick Cruz",
         "height": 68,
         "_deepnote_index_column": 3
        },
        {
         "name": "Demetrious Johnson",
         "height": 63,
         "_deepnote_index_column": 4
        },
        {
         "name": "Ronda Rousey",
         "height": 66,
         "_deepnote_index_column": 5
        },
        {
         "name": "Fabricio Werdum",
         "height": 76,
         "_deepnote_index_column": 6
        },
        {
         "name": "Robbie Lawler",
         "height": 71,
         "_deepnote_index_column": 7
        },
        {
         "name": "Jose Aldo",
         "height": 67,
         "_deepnote_index_column": 8
        },
        {
         "name": "Chad Mendes",
         "height": 66,
         "_deepnote_index_column": 9
        },
        {
         "name": "Dustin Poirier",
         "height": 69,
         "_deepnote_index_column": 10
        },
        {
         "name": "Marcus Brimage",
         "height": 64,
         "_deepnote_index_column": 11
        },
        {
         "name": "Diego Brandao",
         "height": 67,
         "_deepnote_index_column": 12
        },
        {
         "name": "Max Holloway",
         "height": 71,
         "_deepnote_index_column": 13
        },
        {
         "name": "Joseph Duffy",
         "height": 70,
         "_deepnote_index_column": 14
        },
        {
         "name": "Kevin Randleman",
         "height": 70,
         "_deepnote_index_column": 15
        },
        {
         "name": "Vitor Belfort",
         "height": 72,
         "_deepnote_index_column": 16
        },
        {
         "name": "Rashad Evans",
         "height": 71,
         "_deepnote_index_column": 17
        },
        {
         "name": "Ryan Bader",
         "height": 74,
         "_deepnote_index_column": 18
        },
        {
         "name": "Michael Bisping",
         "height": 74,
         "_deepnote_index_column": 19
        },
        {
         "name": "Alexander Gustafsson",
         "height": 76,
         "_deepnote_index_column": 20
        },
        {
         "name": "Vladimir Matyushenko",
         "height": 73,
         "_deepnote_index_column": 21
        },
        {
         "name": "Lyoto Machida",
         "height": 73,
         "_deepnote_index_column": 22
        },
        {
         "name": "Quinton Jackson",
         "height": 73,
         "_deepnote_index_column": 23
        },
        {
         "name": "Brandon Vera",
         "height": 74,
         "_deepnote_index_column": 24
        },
        {
         "name": "Mauricio Rua",
         "height": 73,
         "_deepnote_index_column": 25
        },
        {
         "name": "Stephan Bonnar",
         "height": 75,
         "_deepnote_index_column": 26
        },
        {
         "name": "Mark Kerr",
         "height": 75,
         "_deepnote_index_column": 27
        },
        {
         "name": "James Toney",
         "height": 70,
         "_deepnote_index_column": 28
        },
        {
         "name": "Randy Couture",
         "height": 73,
         "_deepnote_index_column": 29
        },
        {
         "name": "Marion Reneau",
         "height": 66,
         "_deepnote_index_column": 30
        },
        {
         "name": "Anthony Pettis",
         "height": 69,
         "_deepnote_index_column": 31
        },
        {
         "name": "Miesha Tate",
         "height": 66,
         "_deepnote_index_column": 32
        },
        {
         "name": "Donald Cerrone",
         "height": 71,
         "_deepnote_index_column": 33
        },
        {
         "name": "Raquel Pennington",
         "height": 67,
         "_deepnote_index_column": 34
        },
        {
         "name": "Alex Oliveira",
         "height": 71,
         "_deepnote_index_column": 35
        },
        {
         "name": "Urijah Faber",
         "height": 66,
         "_deepnote_index_column": 36
        },
        {
         "name": "Scott Jorgensen",
         "height": 65,
         "_deepnote_index_column": 37
        },
        {
         "name": "Ian McCall",
         "height": 65,
         "_deepnote_index_column": 38
        },
        {
         "name": "Chris Weidman",
         "height": 74,
         "_deepnote_index_column": 39
        },
        {
         "name": "Paul Bradley",
         "height": 69,
         "_deepnote_index_column": 40
        },
        {
         "name": "Tim Boetsch",
         "height": 71,
         "_deepnote_index_column": 41
        },
        {
         "name": "Ronaldo Souza",
         "height": 72,
         "_deepnote_index_column": 42
        },
        {
         "name": "Junior dos Santos",
         "height": 76,
         "_deepnote_index_column": 43
        },
        {
         "name": "Jesse Taylor",
         "height": 73,
         "_deepnote_index_column": 44
        },
        {
         "name": "Stephen Thompson",
         "height": 72,
         "_deepnote_index_column": 45
        },
        {
         "name": "Keith Jardine",
         "height": 74,
         "_deepnote_index_column": 46
        },
        {
         "name": "Dan Henderson",
         "height": 73,
         "_deepnote_index_column": 47
        },
        {
         "name": "Kevin Ferguson",
         "height": 74,
         "_deepnote_index_column": 48
        },
        {
         "name": "Ken Shamrock",
         "height": 73,
         "_deepnote_index_column": 49
        },
        {
         "name": "Anthony Johnson",
         "height": 74,
         "_deepnote_index_column": 50
        },
        {
         "name": "Antonio Rodrigo Nogueira",
         "height": 75,
         "_deepnote_index_column": 51
        },
        {
         "name": "Joe Doerksen",
         "height": 72,
         "_deepnote_index_column": 52
        },
        {
         "name": "Carlos Condit",
         "height": 73,
         "_deepnote_index_column": 53
        },
        {
         "name": "Tim Hague",
         "height": 76,
         "_deepnote_index_column": 54
        },
        {
         "name": "Houston Alexander",
         "height": 72,
         "_deepnote_index_column": 55
        },
        {
         "name": "Jared Cannonier",
         "height": 75,
         "_deepnote_index_column": 56
        },
        {
         "name": "Shamil Abdurakhimov",
         "height": 75,
         "_deepnote_index_column": 57
        },
        {
         "name": "Jeremy Horn",
         "height": 73,
         "_deepnote_index_column": 58
        },
        {
         "name": "Ilir Latifi",
         "height": 68,
         "_deepnote_index_column": 59
        },
        {
         "name": "Alexey Oleinik",
         "height": 73,
         "_deepnote_index_column": 60
        },
        {
         "name": "Darrill Schoonover",
         "height": 74,
         "_deepnote_index_column": 61
        },
        {
         "name": "Jason Lambert",
         "height": 70,
         "_deepnote_index_column": 62
        },
        {
         "name": "Jeff Monson",
         "height": 69,
         "_deepnote_index_column": 63
        },
        {
         "name": "Mike Kyle",
         "height": 75,
         "_deepnote_index_column": 64
        },
        {
         "name": "Joey Beltran",
         "height": 73,
         "_deepnote_index_column": 65
        },
        {
         "name": "Wes Combs",
         "height": 74,
         "_deepnote_index_column": 66
        },
        {
         "name": "Kyle Kingsbury",
         "height": 76,
         "_deepnote_index_column": 67
        },
        {
         "name": "Justin Levens",
         "height": 70,
         "_deepnote_index_column": 68
        },
        {
         "name": "Benson Henderson",
         "height": 69,
         "_deepnote_index_column": 69
        },
        {
         "name": "Kamal Shalorus",
         "height": 68,
         "_deepnote_index_column": 70
        },
        {
         "name": "Anthony Hamilton",
         "height": 77,
         "_deepnote_index_column": 71
        },
        {
         "name": "Clay Guida",
         "height": 67,
         "_deepnote_index_column": 72
        },
        {
         "name": "Jason High",
         "height": 69,
         "_deepnote_index_column": 73
        },
        {
         "name": "Khabib Nurmagomedov",
         "height": 70,
         "_deepnote_index_column": 74
        },
        {
         "name": "Jeremy Stephens",
         "height": 69,
         "_deepnote_index_column": 75
        },
        {
         "name": "Anthony Njokuani",
         "height": 72,
         "_deepnote_index_column": 76
        },
        {
         "name": "Robert Emerson",
         "height": 70,
         "_deepnote_index_column": 77
        },
        {
         "name": "Henry Cejudo",
         "height": 64,
         "_deepnote_index_column": 78
        },
        {
         "name": "John Dodson",
         "height": 63,
         "_deepnote_index_column": 79
        },
        {
         "name": "Chris Cariaso",
         "height": 63,
         "_deepnote_index_column": 80
        },
        {
         "name": "Ali Bagautinov",
         "height": 64,
         "_deepnote_index_column": 81
        },
        {
         "name": "Norifumi Yamamoto",
         "height": 64,
         "_deepnote_index_column": 82
        },
        {
         "name": "Damacio Page",
         "height": 66,
         "_deepnote_index_column": 83
        },
        {
         "name": "Brad Pickett",
         "height": 66,
         "_deepnote_index_column": 84
        },
        {
         "name": "Cat Zingano",
         "height": 66,
         "_deepnote_index_column": 85
        },
        {
         "name": "Alexis Davis",
         "height": 65,
         "_deepnote_index_column": 86
        },
        {
         "name": "Liz Carmouche",
         "height": 66,
         "_deepnote_index_column": 87
        },
        {
         "name": "Roy Nelson",
         "height": 72,
         "_deepnote_index_column": 88
        },
        {
         "name": "Alistair Overeem",
         "height": 77,
         "_deepnote_index_column": 89
        },
        {
         "name": "Gabriel Gonzaga",
         "height": 74,
         "_deepnote_index_column": 90
        },
        {
         "name": "Andrei Arlovski",
         "height": 76,
         "_deepnote_index_column": 91
        },
        {
         "name": "Travis Browne",
         "height": 79,
         "_deepnote_index_column": 92
        },
        {
         "name": "James Zikic",
         "height": 74,
         "_deepnote_index_column": 93
        },
        {
         "name": "Mark Hunt",
         "height": 70,
         "_deepnote_index_column": 94
        },
        {
         "name": "John Olav Einemo",
         "height": 78,
         "_deepnote_index_column": 95
        },
        {
         "name": "Kristof Midoux",
         "height": 73,
         "_deepnote_index_column": 96
        },
        {
         "name": "Antonio Silva",
         "height": 76,
         "_deepnote_index_column": 97
        },
        {
         "name": "Ebenezer Fontes Braga",
         "height": 72,
         "_deepnote_index_column": 98
        },
        {
         "name": "Valerie Letourneau",
         "height": 67,
         "_deepnote_index_column": 99
        },
        {
         "name": "Rosi Sexton",
         "height": 63,
         "_deepnote_index_column": 100
        },
        {
         "name": "Juliana Lima",
         "height": 65,
         "_deepnote_index_column": 101
        },
        {
         "name": "Claudia Gadelha",
         "height": 63,
         "_deepnote_index_column": 102
        },
        {
         "name": "Carla Esparza",
         "height": 61,
         "_deepnote_index_column": 103
        },
        {
         "name": "Johny Hendricks",
         "height": 69,
         "_deepnote_index_column": 104
        },
        {
         "name": "Jake Ellenberger",
         "height": 69,
         "_deepnote_index_column": 105
        },
        {
         "name": "Matt Brown",
         "height": 72,
         "_deepnote_index_column": 106
        },
        {
         "name": "Jessica Aguilar",
         "height": 64,
         "_deepnote_index_column": 107
        },
        {
         "name": "Renato Sobral",
         "height": 72,
         "_deepnote_index_column": 108
        },
        {
         "name": "Lorenz Larkin",
         "height": 71,
         "_deepnote_index_column": 109
        },
        {
         "name": "Rory MacDonald",
         "height": 71,
         "_deepnote_index_column": 110
        },
        {
         "name": "Adlan Amagov",
         "height": 71,
         "_deepnote_index_column": 111
        },
        {
         "name": "Bobby Voelker",
         "height": 72,
         "_deepnote_index_column": 112
        },
        {
         "name": "Jason Miller",
         "height": 72,
         "_deepnote_index_column": 113
        },
        {
         "name": "Josh Koscheck",
         "height": 70,
         "_deepnote_index_column": 114
        },
        {
         "name": "Scott Smith",
         "height": 72,
         "_deepnote_index_column": 115
        },
        {
         "name": "Matt Lindland",
         "height": 72,
         "_deepnote_index_column": 116
        },
        {
         "name": "Frank Trigg",
         "height": 68,
         "_deepnote_index_column": 117
        },
        {
         "name": "Falaniko Vitale",
         "height": 70,
         "_deepnote_index_column": 118
        },
        {
         "name": "Pete Spratt",
         "height": 69,
         "_deepnote_index_column": 119
        },
        {
         "name": "Chris Lytle",
         "height": 71,
         "_deepnote_index_column": 120
        },
        {
         "name": "Steve Berger",
         "height": 70,
         "_deepnote_index_column": 121
        },
        {
         "name": "Chris Leben",
         "height": 71,
         "_deepnote_index_column": 122
        },
        {
         "name": "Dean Lister",
         "height": 73,
         "_deepnote_index_column": 123
        },
        {
         "name": "Danillo Villefort",
         "height": 73,
         "_deepnote_index_column": 124
        },
        {
         "name": "Ronald Jhun",
         "height": 71,
         "_deepnote_index_column": 125
        },
        {
         "name": "Phil Baroni",
         "height": 69,
         "_deepnote_index_column": 126
        },
        {
         "name": "David Loiseau",
         "height": 72,
         "_deepnote_index_column": 127
        },
        {
         "name": "Jorge Santiago",
         "height": 73,
         "_deepnote_index_column": 128
        },
        {
         "name": "Tim Credeur",
         "height": 75,
         "_deepnote_index_column": 129
        },
        {
         "name": "David Terrell",
         "height": 72,
         "_deepnote_index_column": 130
        },
        {
         "name": "Julie Kedzie",
         "height": 65,
         "_deepnote_index_column": 131
        },
        {
         "name": "Seth Petruzelli",
         "height": 72,
         "_deepnote_index_column": 132
        },
        {
         "name": "Todd Medina",
         "height": 70,
         "_deepnote_index_column": 133
        },
        {
         "name": "Jorge Rivera",
         "height": 73,
         "_deepnote_index_column": 134
        },
        {
         "name": "Steven Ray",
         "height": 70,
         "_deepnote_index_column": 135
        },
        {
         "name": "Mairbek Taisumov",
         "height": 69,
         "_deepnote_index_column": 136
        },
        {
         "name": "Chan Sung Jung",
         "height": 69,
         "_deepnote_index_column": 137
        },
        {
         "name": "Ricardo Lamas",
         "height": 68,
         "_deepnote_index_column": 138
        },
        {
         "name": "Kenny Florian",
         "height": 70,
         "_deepnote_index_column": 139
        },
        {
         "name": "Frankie Edgar",
         "height": 66,
         "_deepnote_index_column": 140
        },
        {
         "name": "Manny Gamburyan",
         "height": 65,
         "_deepnote_index_column": 141
        },
        {
         "name": "Mark Hominick",
         "height": 68,
         "_deepnote_index_column": 142
        },
        {
         "name": "Phil Harris",
         "height": 65,
         "_deepnote_index_column": 143
        },
        {
         "name": "Michihiro Omigawa",
         "height": 66,
         "_deepnote_index_column": 144
        },
        {
         "name": "Cody McKenzie",
         "height": 72,
         "_deepnote_index_column": 145
        },
        {
         "name": "Darren Elkins",
         "height": 70,
         "_deepnote_index_column": 146
        },
        {
         "name": "Nik Lentz",
         "height": 68,
         "_deepnote_index_column": 147
        },
        {
         "name": "Javier Vazquez",
         "height": 67,
         "_deepnote_index_column": 148
        },
        {
         "name": "Erik Koch",
         "height": 70,
         "_deepnote_index_column": 149
        },
        {
         "name": "Steven Siler",
         "height": 71,
         "_deepnote_index_column": 150
        },
        {
         "name": "Pablo Garza",
         "height": 73,
         "_deepnote_index_column": 151
        },
        {
         "name": "Yancy Medeiros",
         "height": 70,
         "_deepnote_index_column": 152
        },
        {
         "name": "Jason Young",
         "height": 69,
         "_deepnote_index_column": 153
        },
        {
         "name": "Danny Castillo",
         "height": 69,
         "_deepnote_index_column": 154
        },
        {
         "name": "Josh Grispi",
         "height": 71,
         "_deepnote_index_column": 155
        },
        {
         "name": "Paul Felder",
         "height": 70,
         "_deepnote_index_column": 156
        },
        {
         "name": "Kyle Noke",
         "height": 73,
         "_deepnote_index_column": 157
        },
        {
         "name": "Tatsuya Kawajiri",
         "height": 67,
         "_deepnote_index_column": 158
        },
        {
         "name": "Hacran Dias",
         "height": 68,
         "_deepnote_index_column": 159
        },
        {
         "name": "Charles Rosa",
         "height": 70,
         "_deepnote_index_column": 160
        },
        {
         "name": "Ross Pearson",
         "height": 68,
         "_deepnote_index_column": 161
        },
        {
         "name": "Daron Cruickshank",
         "height": 68,
         "_deepnote_index_column": 162
        },
        {
         "name": "Diego Nunes",
         "height": 66,
         "_deepnote_index_column": 163
        },
        {
         "name": "Matt Wiman",
         "height": 70,
         "_deepnote_index_column": 164
        },
        {
         "name": "Paul Kelly",
         "height": 69,
         "_deepnote_index_column": 165
        },
        {
         "name": "Gray Maynard",
         "height": 68,
         "_deepnote_index_column": 166
        },
        {
         "name": "B.J. Penn",
         "height": 69,
         "_deepnote_index_column": 167
        },
        {
         "name": "Artem Lobov",
         "height": 69,
         "_deepnote_index_column": 168
        },
        {
         "name": "Tom Niinimaki",
         "height": 69,
         "_deepnote_index_column": 169
        },
        {
         "name": "Jimmie Rivera",
         "height": 64,
         "_deepnote_index_column": 170
        },
        {
         "name": "Cody Garbrandt",
         "height": 67,
         "_deepnote_index_column": 171
        },
        {
         "name": "Maximo Blanco",
         "height": 68,
         "_deepnote_index_column": 172
        },
        {
         "name": "Jumabieke Tuerxun",
         "height": 66,
         "_deepnote_index_column": 173
        },
        {
         "name": "Jim Hettes",
         "height": 69,
         "_deepnote_index_column": 174
        },
        {
         "name": "Stephen Bass",
         "height": 69,
         "_deepnote_index_column": 175
        },
        {
         "name": "Rose Namajunas",
         "height": 65,
         "_deepnote_index_column": 176
        },
        {
         "name": "Joanne Calderwood",
         "height": 66,
         "_deepnote_index_column": 177
        },
        {
         "name": "Paige VanZant",
         "height": 64,
         "_deepnote_index_column": 178
        },
        {
         "name": "Daniel Pineda",
         "height": 67,
         "_deepnote_index_column": 179
        },
        {
         "name": "Augusto Mendes",
         "height": 66,
         "_deepnote_index_column": 180
        },
        {
         "name": "Dennis Bermudez",
         "height": 66,
         "_deepnote_index_column": 181
        },
        {
         "name": "Iuri Alcantara",
         "height": 69,
         "_deepnote_index_column": 182
        },
        {
         "name": "Levan Makashvili",
         "height": 68,
         "_deepnote_index_column": 183
        },
        {
         "name": "Joey Gambino",
         "height": 67,
         "_deepnote_index_column": 184
        },
        {
         "name": "Brian Ortega",
         "height": 69,
         "_deepnote_index_column": 185
        },
        {
         "name": "Chas Skelly",
         "height": 71,
         "_deepnote_index_column": 186
        },
        {
         "name": "Andre Fili",
         "height": 70,
         "_deepnote_index_column": 187
        },
        {
         "name": "Clay Collard",
         "height": 71,
         "_deepnote_index_column": 188
        },
        {
         "name": "Justin Lawrence",
         "height": 68,
         "_deepnote_index_column": 189
        },
        {
         "name": "Charles Oliveira",
         "height": 71,
         "_deepnote_index_column": 190
        },
        {
         "name": "Pat Schilling",
         "height": 68,
         "_deepnote_index_column": 191
        },
        {
         "name": "Leonard Garcia",
         "height": 69,
         "_deepnote_index_column": 192
        },
        {
         "name": "Will Chope",
         "height": 76,
         "_deepnote_index_column": 193
        },
        {
         "name": "Cole Miller",
         "height": 73,
         "_deepnote_index_column": 194
        },
        {
         "name": "Norman Parke",
         "height": 71,
         "_deepnote_index_column": 195
        },
        {
         "name": "Jake Lindsey",
         "height": 71,
         "_deepnote_index_column": 196
        },
        {
         "name": "Paul Daley",
         "height": 69,
         "_deepnote_index_column": 197
        },
        {
         "name": "Ivan Jorge",
         "height": 70,
         "_deepnote_index_column": 198
        },
        {
         "name": "Abel Trujillo",
         "height": 68,
         "_deepnote_index_column": 199
        },
        {
         "name": "Tony Sims",
         "height": 71,
         "_deepnote_index_column": 200
        },
        {
         "name": "Leigh Remedios",
         "height": 67,
         "_deepnote_index_column": 201
        },
        {
         "name": "Curt Warburton",
         "height": 72,
         "_deepnote_index_column": 202
        },
        {
         "name": "Maciej Jewtuszko",
         "height": 72,
         "_deepnote_index_column": 203
        },
        {
         "name": "Joe Riggs",
         "height": 72,
         "_deepnote_index_column": 204
        },
        {
         "name": "Tito Ortiz",
         "height": 74,
         "_deepnote_index_column": 205
        },
        {
         "name": "Georges St. Pierre",
         "height": 70,
         "_deepnote_index_column": 206
        },
        {
         "name": "David Mitchell",
         "height": 72,
         "_deepnote_index_column": 207
        },
        {
         "name": "Neil Seery",
         "height": 66,
         "_deepnote_index_column": 208
        },
        {
         "name": "Patrick Holohan",
         "height": 69,
         "_deepnote_index_column": 209
        },
        {
         "name": "Chuck Liddell",
         "height": 74,
         "_deepnote_index_column": 210
        },
        {
         "name": "Ron Waterman",
         "height": 74,
         "_deepnote_index_column": 211
        },
        {
         "name": "Mike Whitehead",
         "height": 73,
         "_deepnote_index_column": 212
        },
        {
         "name": "Kazuhiro Nakamura",
         "height": 71,
         "_deepnote_index_column": 213
        },
        {
         "name": "Mirko Filipovic",
         "height": 74,
         "_deepnote_index_column": 214
        },
        {
         "name": "Pedro Rizzo",
         "height": 73,
         "_deepnote_index_column": 215
        },
        {
         "name": "Maurice Smith",
         "height": 74,
         "_deepnote_index_column": 216
        },
        {
         "name": "Josh Barnett",
         "height": 75,
         "_deepnote_index_column": 217
        },
        {
         "name": "Mario Neto",
         "height": 72,
         "_deepnote_index_column": 218
        },
        {
         "name": "Pete Williams",
         "height": 75,
         "_deepnote_index_column": 219
        },
        {
         "name": "Dan Bobish",
         "height": 73,
         "_deepnote_index_column": 220
        },
        {
         "name": "Patrick Cummins",
         "height": 74,
         "_deepnote_index_column": 221
        },
        {
         "name": "Soa Palelei",
         "height": 76,
         "_deepnote_index_column": 222
        },
        {
         "name": "James Vick",
         "height": 75,
         "_deepnote_index_column": 223
        },
        {
         "name": "Phil Davis",
         "height": 74,
         "_deepnote_index_column": 224
        },
        {
         "name": "Glaico Franca",
         "height": 72,
         "_deepnote_index_column": 225
        },
        {
         "name": "Marvin Eastman",
         "height": 69,
         "_deepnote_index_column": 226
        },
        {
         "name": "Antonio Mendes",
         "height": 75,
         "_deepnote_index_column": 227
        },
        {
         "name": "Ovince St. Preux",
         "height": 75,
         "_deepnote_index_column": 228
        },
        {
         "name": "Marcio Cruz",
         "height": 76,
         "_deepnote_index_column": 229
        },
        {
         "name": "Fabio Maldonado",
         "height": 73,
         "_deepnote_index_column": 230
        },
        {
         "name": "Rameau Thierry Sokoudjou",
         "height": 70,
         "_deepnote_index_column": 231
        },
        {
         "name": "Ricco Rodriguez",
         "height": 76,
         "_deepnote_index_column": 232
        },
        {
         "name": "Ed Herman",
         "height": 74,
         "_deepnote_index_column": 233
        },
        {
         "name": "Bryan Barberena",
         "height": 72,
         "_deepnote_index_column": 234
        },
        {
         "name": "Antonio Rogerio Nogueira",
         "height": 74,
         "_deepnote_index_column": 235
        },
        {
         "name": "Matt Horwich",
         "height": 71,
         "_deepnote_index_column": 236
        },
        {
         "name": "Chad Griggs",
         "height": 75,
         "_deepnote_index_column": 237
        },
        {
         "name": "Sage Northcutt",
         "height": 72,
         "_deepnote_index_column": 238
        },
        {
         "name": "Masio Fullen",
         "height": 70,
         "_deepnote_index_column": 239
        },
        {
         "name": "Alex Caceres",
         "height": 69,
         "_deepnote_index_column": 240
        },
        {
         "name": "Alexander Yakovlev",
         "height": 73,
         "_deepnote_index_column": 241
        },
        {
         "name": "Kevin Casey",
         "height": 71,
         "_deepnote_index_column": 242
        },
        {
         "name": "Olivier Aubin-Mercier",
         "height": 69,
         "_deepnote_index_column": 243
        },
        {
         "name": "Rafael Natal",
         "height": 72,
         "_deepnote_index_column": 244
        },
        {
         "name": "Myles Jury",
         "height": 71,
         "_deepnote_index_column": 245
        },
        {
         "name": "Matt Serra",
         "height": 66,
         "_deepnote_index_column": 246
        },
        {
         "name": "Anderson Silva",
         "height": 74,
         "_deepnote_index_column": 247
        },
        {
         "name": "Yoel Romero",
         "height": 70,
         "_deepnote_index_column": 248
        },
        {
         "name": "Luke Sanders",
         "height": 67,
         "_deepnote_index_column": 249
        }
       ],
       "rows_bottom": [
        {
         "name": "Joey Gilbert",
         "height": 65,
         "_deepnote_index_column": 1311
        },
        {
         "name": "Shane Primm",
         "height": 76,
         "_deepnote_index_column": 1312
        },
        {
         "name": "Romie Aram",
         "height": 70,
         "_deepnote_index_column": 1313
        },
        {
         "name": "Joseph Sandoval",
         "height": 66,
         "_deepnote_index_column": 1314
        },
        {
         "name": "Joey Gomez",
         "height": 68,
         "_deepnote_index_column": 1315
        },
        {
         "name": "Yaotzin Meza",
         "height": 69,
         "_deepnote_index_column": 1316
        },
        {
         "name": "Jordan Radev",
         "height": 67,
         "_deepnote_index_column": 1317
        },
        {
         "name": "Teemu Packalen",
         "height": 73,
         "_deepnote_index_column": 1318
        },
        {
         "name": "Ron Faircloth",
         "height": 69,
         "_deepnote_index_column": 1319
        },
        {
         "name": "Brendan Loughnane",
         "height": 70,
         "_deepnote_index_column": 1320
        },
        {
         "name": "Jessica Rakoczy",
         "height": 67,
         "_deepnote_index_column": 1321
        },
        {
         "name": "Kalib Starnes",
         "height": 75,
         "_deepnote_index_column": 1322
        },
        {
         "name": "Garett Whiteley",
         "height": 72,
         "_deepnote_index_column": 1323
        },
        {
         "name": "T.J. Waldburger",
         "height": 71,
         "_deepnote_index_column": 1324
        },
        {
         "name": "Josh Shockley",
         "height": 73,
         "_deepnote_index_column": 1325
        },
        {
         "name": "Henry Martinez",
         "height": 67,
         "_deepnote_index_column": 1326
        },
        {
         "name": "Aaron Brink",
         "height": 75,
         "_deepnote_index_column": 1327
        },
        {
         "name": "Niklas Backstrom",
         "height": 72,
         "_deepnote_index_column": 1328
        },
        {
         "name": "Per Eklund",
         "height": 70,
         "_deepnote_index_column": 1329
        },
        {
         "name": "Cale Yarbrough",
         "height": 74,
         "_deepnote_index_column": 1330
        },
        {
         "name": "Michael Patt",
         "height": 72,
         "_deepnote_index_column": 1331
        },
        {
         "name": "Sean Alvarez",
         "height": 72,
         "_deepnote_index_column": 1332
        },
        {
         "name": "Assuerio Silva",
         "height": 73,
         "_deepnote_index_column": 1333
        },
        {
         "name": "Mark Hughes",
         "height": 68,
         "_deepnote_index_column": 1334
        },
        {
         "name": "Gideon Ray",
         "height": 70,
         "_deepnote_index_column": 1335
        },
        {
         "name": "Jan Blachowicz",
         "height": 74,
         "_deepnote_index_column": 1336
        },
        {
         "name": "Mats Nilsson",
         "height": 73,
         "_deepnote_index_column": 1337
        },
        {
         "name": "Rick Davis",
         "height": "nan",
         "_deepnote_index_column": 1338
        },
        {
         "name": "Luke Cummo",
         "height": 72,
         "_deepnote_index_column": 1339
        },
        {
         "name": "Justin James",
         "height": 70,
         "_deepnote_index_column": 1340
        },
        {
         "name": "Nick Agallar",
         "height": "nan",
         "_deepnote_index_column": 1341
        },
        {
         "name": "Jeremy Larsen",
         "height": 70,
         "_deepnote_index_column": 1342
        },
        {
         "name": "War Machine",
         "height": 71,
         "_deepnote_index_column": 1343
        },
        {
         "name": "James Giboo",
         "height": 71,
         "_deepnote_index_column": 1344
        },
        {
         "name": "Kelly Dullanty",
         "height": 68,
         "_deepnote_index_column": 1345
        },
        {
         "name": "Rob Yundt",
         "height": "nan",
         "_deepnote_index_column": 1346
        },
        {
         "name": "Cristiano Marcello",
         "height": 70,
         "_deepnote_index_column": 1347
        },
        {
         "name": "Magomed Mustafaev",
         "height": 69,
         "_deepnote_index_column": 1348
        },
        {
         "name": "Jason Gilliam",
         "height": 72,
         "_deepnote_index_column": 1349
        },
        {
         "name": "Paul Georgieff",
         "height": "nan",
         "_deepnote_index_column": 1350
        },
        {
         "name": "Joe Vedepo",
         "height": 72,
         "_deepnote_index_column": 1351
        },
        {
         "name": "Crafton Wallace",
         "height": 72,
         "_deepnote_index_column": 1352
        },
        {
         "name": "Tom Murphy",
         "height": 74,
         "_deepnote_index_column": 1353
        },
        {
         "name": "Yusuke Kasuya",
         "height": 67,
         "_deepnote_index_column": 1354
        },
        {
         "name": "Tiki Ghosn",
         "height": 70,
         "_deepnote_index_column": 1355
        },
        {
         "name": "Brad Gumm",
         "height": 71,
         "_deepnote_index_column": 1356
        },
        {
         "name": "Andre Roberts",
         "height": 74,
         "_deepnote_index_column": 1357
        },
        {
         "name": "Dan Evensen",
         "height": "nan",
         "_deepnote_index_column": 1358
        },
        {
         "name": "Greg Soto",
         "height": 71,
         "_deepnote_index_column": 1359
        },
        {
         "name": "Ross Pointon",
         "height": 68,
         "_deepnote_index_column": 1360
        },
        {
         "name": "Paulo Santos",
         "height": "nan",
         "_deepnote_index_column": 1361
        },
        {
         "name": "Rodrigo Ruas",
         "height": "nan",
         "_deepnote_index_column": 1362
        },
        {
         "name": "Jason Tan",
         "height": 70,
         "_deepnote_index_column": 1363
        },
        {
         "name": "Tom Breese",
         "height": 75,
         "_deepnote_index_column": 1364
        },
        {
         "name": "David Hood",
         "height": 72,
         "_deepnote_index_column": 1365
        },
        {
         "name": "Bobby Southworth",
         "height": 73,
         "_deepnote_index_column": 1366
        },
        {
         "name": "Royce Gracie",
         "height": 72,
         "_deepnote_index_column": 1367
        },
        {
         "name": "Luiz Jorge Dutra Jr.",
         "height": 71,
         "_deepnote_index_column": 1368
        },
        {
         "name": "Mickey Gall",
         "height": "nan",
         "_deepnote_index_column": 1369
        },
        {
         "name": "Jules Bruchez",
         "height": 72,
         "_deepnote_index_column": 1370
        },
        {
         "name": "Jason Reinhardt",
         "height": 66,
         "_deepnote_index_column": 1371
        },
        {
         "name": "Jesse Sanders",
         "height": 73,
         "_deepnote_index_column": 1372
        },
        {
         "name": "Justin Martin",
         "height": 72,
         "_deepnote_index_column": 1373
        },
        {
         "name": "Kit Cope",
         "height": 72,
         "_deepnote_index_column": 1374
        },
        {
         "name": "Byron Bloodworth",
         "height": 69,
         "_deepnote_index_column": 1375
        },
        {
         "name": "Albert Cheng",
         "height": 71,
         "_deepnote_index_column": 1376
        },
        {
         "name": "Miguel Torres",
         "height": 69,
         "_deepnote_index_column": 1377
        },
        {
         "name": "Jianping Yang",
         "height": 68,
         "_deepnote_index_column": 1378
        },
        {
         "name": "Mostapha Al-Turk",
         "height": 74,
         "_deepnote_index_column": 1379
        },
        {
         "name": "Nate Schroeder",
         "height": 73,
         "_deepnote_index_column": 1380
        },
        {
         "name": "Matt Dwyer",
         "height": 76,
         "_deepnote_index_column": 1381
        },
        {
         "name": "Colin Robinson",
         "height": 76,
         "_deepnote_index_column": 1382
        },
        {
         "name": "Hans Stringer",
         "height": 74,
         "_deepnote_index_column": 1383
        },
        {
         "name": "Jocelyn Jones-Lybarger",
         "height": 67,
         "_deepnote_index_column": 1384
        },
        {
         "name": "Timothy Johnson",
         "height": 75,
         "_deepnote_index_column": 1385
        },
        {
         "name": "Yuri Villefort",
         "height": 71,
         "_deepnote_index_column": 1386
        },
        {
         "name": "Jason Thacker",
         "height": 72,
         "_deepnote_index_column": 1387
        },
        {
         "name": "Tom Blackledge",
         "height": 72,
         "_deepnote_index_column": 1388
        },
        {
         "name": "Rolles Gracie",
         "height": 76,
         "_deepnote_index_column": 1389
        },
        {
         "name": "Kailin Curran",
         "height": 63,
         "_deepnote_index_column": 1390
        },
        {
         "name": "Sultan Aliev",
         "height": 72,
         "_deepnote_index_column": 1391
        },
        {
         "name": "John Kolosci",
         "height": 71,
         "_deepnote_index_column": 1392
        },
        {
         "name": "Thiago de Oliveira Perpetuo",
         "height": 70,
         "_deepnote_index_column": 1393
        },
        {
         "name": "Izabela Badurek",
         "height": 64,
         "_deepnote_index_column": 1394
        },
        {
         "name": "Lauren Murphy",
         "height": 68,
         "_deepnote_index_column": 1395
        },
        {
         "name": "Bartosz Fabinski",
         "height": 72,
         "_deepnote_index_column": 1396
        },
        {
         "name": "Kelly Faszholz",
         "height": 68,
         "_deepnote_index_column": 1397
        },
        {
         "name": "Viktor Pesta",
         "height": 75,
         "_deepnote_index_column": 1398
        },
        {
         "name": "Anthony Christodoulou",
         "height": 69,
         "_deepnote_index_column": 1399
        },
        {
         "name": "Nikita Krylov",
         "height": 75,
         "_deepnote_index_column": 1400
        },
        {
         "name": "Darrell Gholar",
         "height": 68,
         "_deepnote_index_column": 1401
        },
        {
         "name": "Tedd Williams",
         "height": 72,
         "_deepnote_index_column": 1402
        },
        {
         "name": "Larissa Pacheco",
         "height": 68,
         "_deepnote_index_column": 1403
        },
        {
         "name": "Larissa Pacheco",
         "height": 68,
         "_deepnote_index_column": 1404
        },
        {
         "name": "Daniel Kelly",
         "height": 72,
         "_deepnote_index_column": 1405
        },
        {
         "name": "Scott Askham",
         "height": 75,
         "_deepnote_index_column": 1406
        },
        {
         "name": "Rex Holman",
         "height": 75,
         "_deepnote_index_column": 1407
        },
        {
         "name": "Andrew Holbrook",
         "height": 71,
         "_deepnote_index_column": 1408
        },
        {
         "name": "Joe Merritt",
         "height": 72,
         "_deepnote_index_column": 1409
        },
        {
         "name": "Wagner Prado",
         "height": 73,
         "_deepnote_index_column": 1410
        },
        {
         "name": "Nate Loughran",
         "height": 74,
         "_deepnote_index_column": 1411
        },
        {
         "name": "Adriano Santos",
         "height": "nan",
         "_deepnote_index_column": 1412
        },
        {
         "name": "Joey Roberts",
         "height": 74,
         "_deepnote_index_column": 1413
        },
        {
         "name": "Noe Hernandez",
         "height": "nan",
         "_deepnote_index_column": 1414
        },
        {
         "name": "Matt Andersen",
         "height": 74,
         "_deepnote_index_column": 1415
        },
        {
         "name": "Dieuseul Berto",
         "height": 69,
         "_deepnote_index_column": 1416
        },
        {
         "name": "Ansar Chalangov",
         "height": 69,
         "_deepnote_index_column": 1417
        },
        {
         "name": "Ivan Serati",
         "height": 73,
         "_deepnote_index_column": 1418
        },
        {
         "name": "Cory Walmsley",
         "height": 72,
         "_deepnote_index_column": 1419
        },
        {
         "name": "Andre Gusmao",
         "height": 74,
         "_deepnote_index_column": 1420
        },
        {
         "name": "Icho Larenas",
         "height": 73,
         "_deepnote_index_column": 1421
        },
        {
         "name": "Joe Pardo",
         "height": 73,
         "_deepnote_index_column": 1422
        },
        {
         "name": "Felix Mitchell",
         "height": 71,
         "_deepnote_index_column": 1423
        },
        {
         "name": "Tony Halme",
         "height": 76,
         "_deepnote_index_column": 1424
        },
        {
         "name": "Steve Judson",
         "height": 73,
         "_deepnote_index_column": 1425
        },
        {
         "name": "John Dowdy",
         "height": "nan",
         "_deepnote_index_column": 1426
        },
        {
         "name": "Chris Spang",
         "height": 74,
         "_deepnote_index_column": 1427
        },
        {
         "name": "Mike King",
         "height": 75,
         "_deepnote_index_column": 1428
        },
        {
         "name": "Todd Butler",
         "height": 73,
         "_deepnote_index_column": 1429
        },
        {
         "name": "Tai Bowden",
         "height": "nan",
         "_deepnote_index_column": 1430
        },
        {
         "name": "Harry Moskowitz",
         "height": 77,
         "_deepnote_index_column": 1431
        },
        {
         "name": "Harold Howard",
         "height": 74,
         "_deepnote_index_column": 1432
        },
        {
         "name": "Jim Mullen",
         "height": 73,
         "_deepnote_index_column": 1433
        },
        {
         "name": "Sam Fulton",
         "height": 74,
         "_deepnote_index_column": 1434
        },
        {
         "name": "Melton Bowen",
         "height": 72,
         "_deepnote_index_column": 1435
        },
        {
         "name": "Bob Gilstrap",
         "height": 75,
         "_deepnote_index_column": 1436
        },
        {
         "name": "Keith Mielke",
         "height": 69,
         "_deepnote_index_column": 1437
        },
        {
         "name": "Justin Eilers",
         "height": 73,
         "_deepnote_index_column": 1438
        },
        {
         "name": "Jeff Newton",
         "height": 74,
         "_deepnote_index_column": 1439
        },
        {
         "name": "Koji Kitao",
         "height": 79,
         "_deepnote_index_column": 1440
        },
        {
         "name": "Yuri Vaulin",
         "height": 76,
         "_deepnote_index_column": 1441
        },
        {
         "name": "Paul Herrera",
         "height": "nan",
         "_deepnote_index_column": 1442
        },
        {
         "name": "Misha Cirkunov",
         "height": 75,
         "_deepnote_index_column": 1443
        },
        {
         "name": "Nick Sanzo",
         "height": 69,
         "_deepnote_index_column": 1444
        },
        {
         "name": "Rainy Martinez",
         "height": 72,
         "_deepnote_index_column": 1445
        },
        {
         "name": "Dwayne Cason",
         "height": 70,
         "_deepnote_index_column": 1446
        },
        {
         "name": "Krzysztof Jotko",
         "height": 73,
         "_deepnote_index_column": 1447
        },
        {
         "name": "Zhikui Yao",
         "height": 67,
         "_deepnote_index_column": 1448
        },
        {
         "name": "Eliot Marshall",
         "height": 75,
         "_deepnote_index_column": 1449
        },
        {
         "name": "Jon Madsen",
         "height": 72,
         "_deepnote_index_column": 1450
        },
        {
         "name": "Lowell Anderson",
         "height": 66,
         "_deepnote_index_column": 1451
        },
        {
         "name": "Reginaldo Vieira",
         "height": 66,
         "_deepnote_index_column": 1452
        },
        {
         "name": "Jason Saggo",
         "height": 71,
         "_deepnote_index_column": 1453
        },
        {
         "name": "Marco Polo Reyes",
         "height": "nan",
         "_deepnote_index_column": 1454
        },
        {
         "name": "Edson Barboza",
         "height": 71,
         "_deepnote_index_column": 1455
        },
        {
         "name": "Steve Byrnes",
         "height": "nan",
         "_deepnote_index_column": 1456
        },
        {
         "name": "Bec Rawlings",
         "height": 66,
         "_deepnote_index_column": 1457
        },
        {
         "name": "Joaquim Silva",
         "height": 68,
         "_deepnote_index_column": 1458
        },
        {
         "name": "Darren Till",
         "height": 72,
         "_deepnote_index_column": 1459
        },
        {
         "name": "Steven Lynch",
         "height": 70,
         "_deepnote_index_column": 1460
        },
        {
         "name": "Ren&#233; van de Zande",
         "height": "nan",
         "_deepnote_index_column": 1461
        },
        {
         "name": "Lars Nor&#233;n",
         "height": "nan",
         "_deepnote_index_column": 1462
        },
        {
         "name": "Arnold Allen",
         "height": 69,
         "_deepnote_index_column": 1463
        },
        {
         "name": "Damian Stasiak",
         "height": 68,
         "_deepnote_index_column": 1464
        },
        {
         "name": "Danny Abbadi",
         "height": 71,
         "_deepnote_index_column": 1465
        },
        {
         "name": "Alan Omer",
         "height": 69,
         "_deepnote_index_column": 1466
        },
        {
         "name": "Jocelyn Jones-Lybarger",
         "height": 67,
         "_deepnote_index_column": 1467
        },
        {
         "name": "Mitch Gagnon",
         "height": 66,
         "_deepnote_index_column": 1468
        },
        {
         "name": "Daniel Barrera",
         "height": "nan",
         "_deepnote_index_column": 1469
        },
        {
         "name": "Jack Nilson",
         "height": "nan",
         "_deepnote_index_column": 1470
        },
        {
         "name": "T.J. Grant",
         "height": 70,
         "_deepnote_index_column": 1471
        },
        {
         "name": "Erick Montano",
         "height": "nan",
         "_deepnote_index_column": 1472
        },
        {
         "name": "Nate Diaz",
         "height": 70,
         "_deepnote_index_column": 1473
        },
        {
         "name": "Aleksandra Albu",
         "height": 62,
         "_deepnote_index_column": 1474
        },
        {
         "name": "Sean Gannon",
         "height": 75,
         "_deepnote_index_column": 1475
        },
        {
         "name": "Freddy Serrano",
         "height": 62,
         "_deepnote_index_column": 1476
        },
        {
         "name": "Troy Mandaloniz",
         "height": 69,
         "_deepnote_index_column": 1477
        },
        {
         "name": "Ironman 238",
         "height": "nan",
         "_deepnote_index_column": 1478
        },
        {
         "name": "Dave Galera",
         "height": 71,
         "_deepnote_index_column": 1479
        },
        {
         "name": "Mike Jackson",
         "height": 74,
         "_deepnote_index_column": 1480
        },
        {
         "name": "Matheus Nicolau Pereira",
         "height": 66,
         "_deepnote_index_column": 1481
        },
        {
         "name": "Alex Nicholson",
         "height": 76,
         "_deepnote_index_column": 1482
        },
        {
         "name": "Eric Martin",
         "height": "nan",
         "_deepnote_index_column": 1483
        },
        {
         "name": "Leonardo Morales",
         "height": 71,
         "_deepnote_index_column": 1484
        },
        {
         "name": "Anying Wang",
         "height": 72,
         "_deepnote_index_column": 1485
        },
        {
         "name": "Randy Brown",
         "height": 74,
         "_deepnote_index_column": 1486
        },
        {
         "name": "Dileno Lopes",
         "height": "nan",
         "_deepnote_index_column": 1487
        },
        {
         "name": "Alvaro Herrera",
         "height": 72,
         "_deepnote_index_column": 1488
        },
        {
         "name": "Chris Indich",
         "height": 70,
         "_deepnote_index_column": 1489
        },
        {
         "name": "Alex Torres",
         "height": 70,
         "_deepnote_index_column": 1490
        },
        {
         "name": "Lance Benoist",
         "height": 71,
         "_deepnote_index_column": 1491
        },
        {
         "name": "Daniel Omielanczuk",
         "height": 72,
         "_deepnote_index_column": 1492
        },
        {
         "name": "Luis Henrique Barbosa de Oliveira",
         "height": 75,
         "_deepnote_index_column": 1493
        },
        {
         "name": "Matt Arroyo",
         "height": 72,
         "_deepnote_index_column": 1494
        },
        {
         "name": "Christophe Leninger",
         "height": 72,
         "_deepnote_index_column": 1495
        },
        {
         "name": "Kyle Bochniak",
         "height": 69,
         "_deepnote_index_column": 1496
        },
        {
         "name": "Richie Hightower",
         "height": "nan",
         "_deepnote_index_column": 1497
        },
        {
         "name": "Chris Sanford",
         "height": 71,
         "_deepnote_index_column": 1498
        },
        {
         "name": "Derek Brunson",
         "height": 73,
         "_deepnote_index_column": 1499
        },
        {
         "name": "Diego Rivas",
         "height": "nan",
         "_deepnote_index_column": 1500
        },
        {
         "name": "Francis Ngannou",
         "height": 76,
         "_deepnote_index_column": 1501
        },
        {
         "name": "Brendan O'Reilly",
         "height": 68,
         "_deepnote_index_column": 1502
        },
        {
         "name": "Justine Kish",
         "height": 65,
         "_deepnote_index_column": 1503
        },
        {
         "name": "Jason Knight",
         "height": 71,
         "_deepnote_index_column": 1504
        },
        {
         "name": "Efrain Escudero",
         "height": 69,
         "_deepnote_index_column": 1505
        },
        {
         "name": "Ericka Almeida",
         "height": 66,
         "_deepnote_index_column": 1506
        },
        {
         "name": "Enrique Barzola",
         "height": 67,
         "_deepnote_index_column": 1507
        },
        {
         "name": "Bruno Rodrigues",
         "height": 66,
         "_deepnote_index_column": 1508
        },
        {
         "name": "Vernon Ramos",
         "height": 69,
         "_deepnote_index_column": 1509
        },
        {
         "name": "Horacio Gutierrez",
         "height": 70,
         "_deepnote_index_column": 1510
        },
        {
         "name": "Chris de la Rocha",
         "height": 75,
         "_deepnote_index_column": 1511
        },
        {
         "name": "Kyoji Horiguchi",
         "height": 65,
         "_deepnote_index_column": 1512
        },
        {
         "name": "Rocky Lee",
         "height": 69,
         "_deepnote_index_column": 1513
        },
        {
         "name": "Royston Wee",
         "height": 67,
         "_deepnote_index_column": 1514
        },
        {
         "name": "Tateki Matsuda",
         "height": 67,
         "_deepnote_index_column": 1515
        },
        {
         "name": "Humberto Brown Morrison",
         "height": 69,
         "_deepnote_index_column": 1516
        },
        {
         "name": "Matt Hobar",
         "height": 70,
         "_deepnote_index_column": 1517
        },
        {
         "name": "Ian Entwistle",
         "height": 68,
         "_deepnote_index_column": 1518
        },
        {
         "name": "Philip De Fries",
         "height": 76,
         "_deepnote_index_column": 1519
        },
        {
         "name": "Ryo Chonan",
         "height": 69,
         "_deepnote_index_column": 1520
        },
        {
         "name": "Ken Stone",
         "height": 68,
         "_deepnote_index_column": 1521
        },
        {
         "name": "Dale Hartt",
         "height": 70,
         "_deepnote_index_column": 1522
        },
        {
         "name": "Clay Harvison",
         "height": 73,
         "_deepnote_index_column": 1523
        },
        {
         "name": "Marcus Jones",
         "height": 78,
         "_deepnote_index_column": 1524
        },
        {
         "name": "Scott Adams",
         "height": 72,
         "_deepnote_index_column": 1525
        },
        {
         "name": "Chris Condo",
         "height": "nan",
         "_deepnote_index_column": 1526
        },
        {
         "name": "Paul Creighton",
         "height": 66,
         "_deepnote_index_column": 1527
        },
        {
         "name": "Sione Latu",
         "height": "nan",
         "_deepnote_index_column": 1528
        },
        {
         "name": "Townsend Saunders",
         "height": 65,
         "_deepnote_index_column": 1529
        },
        {
         "name": "Courtney Turner",
         "height": 74,
         "_deepnote_index_column": 1530
        },
        {
         "name": "Steven Graham",
         "height": 73,
         "_deepnote_index_column": 1531
        },
        {
         "name": "Alex Hunter",
         "height": 69,
         "_deepnote_index_column": 1532
        },
        {
         "name": "Saeed Hosseini",
         "height": "nan",
         "_deepnote_index_column": 1533
        },
        {
         "name": "Donnie Chappell",
         "height": "nan",
         "_deepnote_index_column": 1534
        },
        {
         "name": "Dmitri Stepanov",
         "height": "nan",
         "_deepnote_index_column": 1535
        },
        {
         "name": "Wes Albritton",
         "height": "nan",
         "_deepnote_index_column": 1536
        },
        {
         "name": "John Campetella",
         "height": 69,
         "_deepnote_index_column": 1537
        },
        {
         "name": "Reza Nasri",
         "height": 71,
         "_deepnote_index_column": 1538
        },
        {
         "name": "Scott Fiedler",
         "height": 76,
         "_deepnote_index_column": 1539
        },
        {
         "name": "Jackie Lee",
         "height": "nan",
         "_deepnote_index_column": 1540
        },
        {
         "name": "Dave Berry",
         "height": "nan",
         "_deepnote_index_column": 1541
        },
        {
         "name": "Julian Sanchez",
         "height": 75,
         "_deepnote_index_column": 1542
        },
        {
         "name": "Mark Schultz",
         "height": 70,
         "_deepnote_index_column": 1543
        },
        {
         "name": "Rafael Carino",
         "height": 80,
         "_deepnote_index_column": 1544
        },
        {
         "name": "Larry Cureton",
         "height": 74,
         "_deepnote_index_column": 1545
        },
        {
         "name": "Thomas Ramirez",
         "height": 73,
         "_deepnote_index_column": 1546
        },
        {
         "name": "Onassis Parungao",
         "height": "nan",
         "_deepnote_index_column": 1547
        },
        {
         "name": "Francesco Maturi",
         "height": 75,
         "_deepnote_index_column": 1548
        },
        {
         "name": "Roland Payne",
         "height": 69,
         "_deepnote_index_column": 1549
        },
        {
         "name": "Alberto Cerra Leon",
         "height": 68,
         "_deepnote_index_column": 1550
        },
        {
         "name": "Ernie Verdicia",
         "height": 70,
         "_deepnote_index_column": 1551
        },
        {
         "name": "He-Man Ali Gipson",
         "height": "nan",
         "_deepnote_index_column": 1552
        },
        {
         "name": "Andy Anderson",
         "height": 69,
         "_deepnote_index_column": 1553
        },
        {
         "name": "Eldo Dias Xavier",
         "height": 71,
         "_deepnote_index_column": 1554
        },
        {
         "name": "Robert Lucarelli",
         "height": 74,
         "_deepnote_index_column": 1555
        },
        {
         "name": "Thaddeus Luster",
         "height": 75,
         "_deepnote_index_column": 1556
        },
        {
         "name": "Frank Hamaker",
         "height": 74,
         "_deepnote_index_column": 1557
        },
        {
         "name": "Ryan Parker",
         "height": 75,
         "_deepnote_index_column": 1558
        },
        {
         "name": "Marcus Davis",
         "height": 68,
         "_deepnote_index_column": 1559
        },
        {
         "name": "John Alessio",
         "height": 70,
         "_deepnote_index_column": 1560
        }
       ]
      },
      "text/plain": "                    name  height\n0         Conor McGregor    68.0\n1              Jon Jones    76.0\n2             Holly Holm    68.0\n3          Dominick Cruz    68.0\n4     Demetrious Johnson    63.0\n...                  ...     ...\n1556     Thaddeus Luster    75.0\n1557       Frank Hamaker    74.0\n1558         Ryan Parker    75.0\n1559        Marcus Davis    68.0\n1560        John Alessio    70.0\n\n[1561 rows x 2 columns]",
      "text/html": "<div>\n<style scoped>\n    .dataframe tbody tr th:only-of-type {\n        vertical-align: middle;\n    }\n\n    .dataframe tbody tr th {\n        vertical-align: top;\n    }\n\n    .dataframe thead th {\n        text-align: right;\n    }\n</style>\n<table border=\"1\" class=\"dataframe\">\n  <thead>\n    <tr style=\"text-align: right;\">\n      <th></th>\n      <th>name</th>\n      <th>height</th>\n    </tr>\n  </thead>\n  <tbody>\n    <tr>\n      <th>0</th>\n      <td>Conor McGregor</td>\n      <td>68.0</td>\n    </tr>\n    <tr>\n      <th>1</th>\n      <td>Jon Jones</td>\n      <td>76.0</td>\n    </tr>\n    <tr>\n      <th>2</th>\n      <td>Holly Holm</td>\n      <td>68.0</td>\n    </tr>\n    <tr>\n      <th>3</th>\n      <td>Dominick Cruz</td>\n      <td>68.0</td>\n    </tr>\n    <tr>\n      <th>4</th>\n      <td>Demetrious Johnson</td>\n      <td>63.0</td>\n    </tr>\n    <tr>\n      <th>...</th>\n      <td>...</td>\n      <td>...</td>\n    </tr>\n    <tr>\n      <th>1556</th>\n      <td>Thaddeus Luster</td>\n      <td>75.0</td>\n    </tr>\n    <tr>\n      <th>1557</th>\n      <td>Frank Hamaker</td>\n      <td>74.0</td>\n    </tr>\n    <tr>\n      <th>1558</th>\n      <td>Ryan Parker</td>\n      <td>75.0</td>\n    </tr>\n    <tr>\n      <th>1559</th>\n      <td>Marcus Davis</td>\n      <td>68.0</td>\n    </tr>\n    <tr>\n      <th>1560</th>\n      <td>John Alessio</td>\n      <td>70.0</td>\n    </tr>\n  </tbody>\n</table>\n<p>1561 rows × 2 columns</p>\n</div>"
     },
     "metadata": {}
    }
   ]
  },
  {
   "cell_type": "code",
   "metadata": {
    "tags": [],
    "cell_id": "00003-08917fe7-0b9e-4e34-b702-1d7a6638c895",
    "deepnote_to_be_reexecuted": false,
    "source_hash": "b623e53d",
    "execution_start": 1626983549623,
    "execution_millis": 41766930,
    "deepnote_cell_type": "code"
   },
   "source": "",
   "execution_count": 3,
   "outputs": []
  },
  {
   "cell_type": "markdown",
   "source": "<a style='text-decoration:none;line-height:16px;display:flex;color:#5B5B62;padding:10px;justify-content:end;' href='https://deepnote.com?utm_source=created-in-deepnote-cell&projectId=657be62d-1fc1-4dd5-8bf1-c3b3098a89d0' target=\"_blank\">\n<img alt='Created in deepnote.com' style='display:inline;max-height:16px;margin:0px;margin-right:7.5px;' src='data:image/svg+xml;base64,PD94bWwgdmVyc2lvbj0iMS4wIiBlbmNvZGluZz0iVVRGLTgiPz4KPHN2ZyB3aWR0aD0iODBweCIgaGVpZ2h0PSI4MHB4IiB2aWV3Qm94PSIwIDAgODAgODAiIHZlcnNpb249IjEuMSIgeG1sbnM9Imh0dHA6Ly93d3cudzMub3JnLzIwMDAvc3ZnIiB4bWxuczp4bGluaz0iaHR0cDovL3d3dy53My5vcmcvMTk5OS94bGluayI+CiAgICA8IS0tIEdlbmVyYXRvcjogU2tldGNoIDU0LjEgKDc2NDkwKSAtIGh0dHBzOi8vc2tldGNoYXBwLmNvbSAtLT4KICAgIDx0aXRsZT5Hcm91cCAzPC90aXRsZT4KICAgIDxkZXNjPkNyZWF0ZWQgd2l0aCBTa2V0Y2guPC9kZXNjPgogICAgPGcgaWQ9IkxhbmRpbmciIHN0cm9rZT0ibm9uZSIgc3Ryb2tlLXdpZHRoPSIxIiBmaWxsPSJub25lIiBmaWxsLXJ1bGU9ImV2ZW5vZGQiPgogICAgICAgIDxnIGlkPSJBcnRib2FyZCIgdHJhbnNmb3JtPSJ0cmFuc2xhdGUoLTEyMzUuMDAwMDAwLCAtNzkuMDAwMDAwKSI+CiAgICAgICAgICAgIDxnIGlkPSJHcm91cC0zIiB0cmFuc2Zvcm09InRyYW5zbGF0ZSgxMjM1LjAwMDAwMCwgNzkuMDAwMDAwKSI+CiAgICAgICAgICAgICAgICA8cG9seWdvbiBpZD0iUGF0aC0yMCIgZmlsbD0iIzAyNjVCNCIgcG9pbnRzPSIyLjM3NjIzNzYyIDgwIDM4LjA0NzY2NjcgODAgNTcuODIxNzgyMiA3My44MDU3NTkyIDU3LjgyMTc4MjIgMzIuNzU5MjczOSAzOS4xNDAyMjc4IDMxLjY4MzE2ODMiPjwvcG9seWdvbj4KICAgICAgICAgICAgICAgIDxwYXRoIGQ9Ik0zNS4wMDc3MTgsODAgQzQyLjkwNjIwMDcsNzYuNDU0OTM1OCA0Ny41NjQ5MTY3LDcxLjU0MjI2NzEgNDguOTgzODY2LDY1LjI2MTk5MzkgQzUxLjExMjI4OTksNTUuODQxNTg0MiA0MS42NzcxNzk1LDQ5LjIxMjIyODQgMjUuNjIzOTg0Niw0OS4yMTIyMjg0IEMyNS40ODQ5Mjg5LDQ5LjEyNjg0NDggMjkuODI2MTI5Niw0My4yODM4MjQ4IDM4LjY0NzU4NjksMzEuNjgzMTY4MyBMNzIuODcxMjg3MSwzMi41NTQ0MjUgTDY1LjI4MDk3Myw2Ny42NzYzNDIxIEw1MS4xMTIyODk5LDc3LjM3NjE0NCBMMzUuMDA3NzE4LDgwIFoiIGlkPSJQYXRoLTIyIiBmaWxsPSIjMDAyODY4Ij48L3BhdGg+CiAgICAgICAgICAgICAgICA8cGF0aCBkPSJNMCwzNy43MzA0NDA1IEwyNy4xMTQ1MzcsMC4yNTcxMTE0MzYgQzYyLjM3MTUxMjMsLTEuOTkwNzE3MDEgODAsMTAuNTAwMzkyNyA4MCwzNy43MzA0NDA1IEM4MCw2NC45NjA0ODgyIDY0Ljc3NjUwMzgsNzkuMDUwMzQxNCAzNC4zMjk1MTEzLDgwIEM0Ny4wNTUzNDg5LDc3LjU2NzA4MDggNTMuNDE4MjY3Nyw3MC4zMTM2MTAzIDUzLjQxODI2NzcsNTguMjM5NTg4NSBDNTMuNDE4MjY3Nyw0MC4xMjg1NTU3IDM2LjMwMzk1NDQsMzcuNzMwNDQwNSAyNS4yMjc0MTcsMzcuNzMwNDQwNSBDMTcuODQzMDU4NiwzNy43MzA0NDA1IDkuNDMzOTE5NjYsMzcuNzMwNDQwNSAwLDM3LjczMDQ0MDUgWiIgaWQ9IlBhdGgtMTkiIGZpbGw9IiMzNzkzRUYiPjwvcGF0aD4KICAgICAgICAgICAgPC9nPgogICAgICAgIDwvZz4KICAgIDwvZz4KPC9zdmc+' > </img>\nCreated in <span style='font-weight:600;margin-left:4px;'>Deepnote</span></a>",
   "metadata": {
    "tags": [],
    "created_in_deepnote_cell": true,
    "deepnote_cell_type": "markdown"
   }
  }
 ],
 "nbformat": 4,
 "nbformat_minor": 2,
 "metadata": {
  "orig_nbformat": 2,
  "deepnote": {
   "is_reactive": false
  },
  "deepnote_notebook_id": "240de233-a08e-42c1-9a4b-1f23a12bb098",
  "deepnote_execution_queue": []
 }
}